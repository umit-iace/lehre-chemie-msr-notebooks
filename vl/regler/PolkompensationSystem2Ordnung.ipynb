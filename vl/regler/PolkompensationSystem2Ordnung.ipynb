{
 "cells": [
  {
   "cell_type": "code",
   "execution_count": null,
   "id": "469ec3e2-76fd-4e0f-9a96-6ca3a15e72fb",
   "metadata": {},
   "outputs": [],
   "source": [
    "%matplotlib widget\n",
    "\n",
    "import ipywidgets as widgets\n",
    "from ipywidgets import HBox, VBox, jslink, Box, Layout\n",
    "import numpy as np\n",
    "import sympy as sp\n",
    "import matplotlib.pyplot as plt\n",
    "from scipy.signal import TransferFunction, bode, lsim\n",
    "from scipy import signal\n",
    "import control.matlab as control\n",
    "from IPython.display import Math, display"
   ]
  },
  {
   "cell_type": "code",
   "execution_count": null,
   "id": "45d67877-33d7-445f-9caf-291a0bea2d9b",
   "metadata": {},
   "outputs": [],
   "source": [
    "def make_box_layout():\n",
    "     return widgets.Layout(\n",
    "        border='solid 1px black',\n",
    "        margin='0px 10px 10px 0px',\n",
    "        padding='5px 5px 5px 5px'\n",
    "     )"
   ]
  },
  {
   "cell_type": "markdown",
   "id": "93533fb2-eec0-4608-872b-b98cff356d21",
   "metadata": {},
   "source": [
    "# Vergleich Einstellregeln"
   ]
  },
  {
   "cell_type": "markdown",
   "id": "82f085bb-5e08-4cd8-b6b2-276ca1694050",
   "metadata": {},
   "source": [
    "## System 2. Ordnung\n",
    "\n",
    "\\begin{align*}\n",
    "    G_\\mathrm{S} &= \\frac{1}{(1 + 2 \\, s) \\, (1 + 0.007 \\, s)}\n",
    "\\end{align*}"
   ]
  },
  {
   "cell_type": "code",
   "execution_count": null,
   "id": "50862342-edb6-4446-aaa1-503fe2b9c1f2",
   "metadata": {},
   "outputs": [],
   "source": [
    "T1 = 2\n",
    "T2 = 0.007\n",
    "sys = signal.lti([1], [T1 * T2, T1 + T2, 1])"
   ]
  },
  {
   "cell_type": "markdown",
   "id": "961c25c4-2dbd-4309-aac4-bf70356452f4",
   "metadata": {
    "tags": []
   },
   "source": [
    "## Polkompensation"
   ]
  },
  {
   "cell_type": "code",
   "execution_count": null,
   "id": "1b8c91e8-abe9-49e5-b00d-3c89b5eac9bd",
   "metadata": {},
   "outputs": [],
   "source": [
    "TN = (T1 + T2)\n",
    "TV = T1 * T2 / (T1 + T2)\n",
    "KP = 2"
   ]
  },
  {
   "cell_type": "code",
   "execution_count": null,
   "id": "fe5a47c0-de1c-4ff1-90e3-e265a48e2436",
   "metadata": {},
   "outputs": [],
   "source": [
    "f = np.logspace(-2, 5)\n",
    "\n",
    "# Strecke\n",
    "sys = control.tf([1], [T1 * T2, T1 + T2, 1])\n",
    "mag, phase, w = control.bode(sys, f, plot = False)\n",
    "\n",
    "# Regler\n",
    "reg = control.tf([KP * T1 * T2, KP * (T1 + T2), KP], [T1 + T2, 0])\n",
    "magReg, phaseReg, wReg = control.bode(reg, f, plot = False)\n",
    "\n",
    "# Offener Kreis\n",
    "G0 = sys * reg\n",
    "magG0, phaseG0, wG0 = control.bode(G0, f, plot = False)\n",
    "\n",
    "# Geschlossener Kreis\n",
    "GW = G0 / (1 + G0)\n",
    "magGW, phaseGW, wGW = control.bode(GW, f , plot = False)"
   ]
  },
  {
   "cell_type": "code",
   "execution_count": null,
   "id": "5bcd632b-d193-4771-902c-b85e8b42b441",
   "metadata": {},
   "outputs": [],
   "source": [
    "output = widgets.Output()\n",
    "\n",
    "with output:\n",
    "    fig = plt.figure(figsize=(10, 5))\n",
    "    ax3 = plt.subplot(122)\n",
    "    ax1 = plt.subplot(221)\n",
    "    ax2 = plt.subplot(223)\n",
    "\n",
    "plt.subplots_adjust(wspace=0.2, hspace=0.1)\n",
    "fig.canvas.toolbar_visible = False\n",
    "fig.canvas.header_visible = False\n",
    "fig.canvas.footer_visible = False\n",
    "fig.subplots_adjust(bottom=0.1, top=0.93, left=0.125, right=0.9)\n",
    "\n",
    "ax1.grid() \n",
    "ax2.grid()\n",
    "ax3.grid()\n",
    "[label.set_visible(False) for label in ax1.get_xticklabels()]\n",
    "ax2.set_xlabel(r\"$y$\")\n",
    "ax3.set_xlabel(r\"$t$\")\n",
    "ax1.set_ylabel(r\"$|G(j \\omega)|_{\\mathrm{dB}}$\")\n",
    "ax2.set_ylabel(r\"$\\mathrm{arg}\\, G(j\\omega)/^{\\circ}$\")\n",
    "#ax3.set_ylim([-1.1, 1.1])\n",
    "\n",
    "ax1.semilogx(w, control.mag2db(mag), label=r'$G_\\mathrm{s}$')\n",
    "ax1.semilogx(wGW, control.mag2db(magGW), label=r'$G_\\mathrm{w}:~K_\\mathrm{p}=$' + str(KP))\n",
    "magCLPlot, = ax1.semilogx([], [], label=r'$G_\\mathrm{w}:~K_\\mathrm{p}=$' + str(KP))\n",
    "ax2.semilogx(w, np.rad2deg(phase))\n",
    "ax2.semilogx(wGW, np.rad2deg(phaseGW))\n",
    "phaseCLPlot, = ax2.semilogx([], [])\n",
    "simInputPlot, = ax3.plot([], [], label=r'$u(t)$')\n",
    "simOutputPlot, = ax3.plot([], [], label=r'$y(t)$')\n",
    "\n",
    "handlesAx, labelsAx = ax3.get_legend_handles_labels()\n",
    "fig.legend([handle for i, handle in enumerate(handlesAx)],\n",
    "           [label for i, label in enumerate(labelsAx)],\n",
    "           bbox_to_anchor=(0.5475, 0.94, 0.3525, .15), loc=3,\n",
    "           ncol=2, mode=\"expand\", borderaxespad=0., framealpha=0.5)\n",
    "\n",
    "handlesAx, labelsAx = ax1.get_legend_handles_labels()\n",
    "handelsLeg = fig.legend([handle for i, handle in enumerate(handlesAx)],\n",
    "           [label for i, label in enumerate(labelsAx)],\n",
    "           bbox_to_anchor=(0.125, 0.94, 0.3525, .15), loc=3,\n",
    "           ncol=3, mode=\"expand\", borderaxespad=0., framealpha=0.5)\n",
    "\n",
    "sliderFreq = widgets.FloatSlider(value=2,\n",
    "                                    min=0.1,\n",
    "                                    max=100,\n",
    "                                    step=0.5,\n",
    "                                    description='Kp')\n",
    "\n",
    "def calcSystem(_):\n",
    "    KP = sliderFreq.value\n",
    "    \n",
    "    reg = control.tf([KP * T1 * T2, KP * (T1 + T2), KP], [T1 + T2, 0])\n",
    "    G0 = sys * reg\n",
    "    magG0, phaseG0, wG0 = control.bode(G0, f, plot = False)\n",
    "\n",
    "    GW = G0 / (1 + G0)\n",
    "    magGW, phaseGW, wGW = control.bode(GW, f, plot = False)\n",
    "    handelsLeg.get_texts()[-1].set_text(r'$G_\\mathrm{w}:~K_\\mathrm{p}=$' + str(KP))\n",
    "    \n",
    "    magCLPlot.set_data(wGW, control.mag2db(magGW))\n",
    "    phaseCLPlot.set_data(wGW, np.rad2deg(phaseGW))\n",
    "    \n",
    "    t = np.linspace(0, 10, 1001)\n",
    "    u = np.ones(t.size)\n",
    "    tSim, ySim, xSim = control.lsim(GW, U=u, T=t)\n",
    "        \n",
    "    simInputPlot.set_data(t, u)\n",
    "    simOutputPlot.set_data(ySim, tSim)\n",
    "    ax3.set_xlim([0, t[-1]])\n",
    "    ax3.set_ylim([0, 1.25])\n",
    "    ax1.set_xlim([wGW[0], wGW[-1]])\n",
    "    ax2.set_xlim([wGW[0], wGW[-1]])\n",
    "    ax1.set_ylim([-100, 1])\n",
    "    ax2.set_ylim([-180, 0])\n",
    "    fig.canvas.draw()\n",
    "\n",
    "sliderFreq.observe(calcSystem, names='value')\n",
    "\n",
    "calcSystem(_)\n",
    "\n",
    "inputControls = Box([sliderFreq])\n",
    "inputControls.layout = make_box_layout()\n",
    "\n",
    "HBox([inputControls, output], layout=Layout(display='flex', flex_flow='row', justify_content='center', align_items='center'))#"
   ]
  },
  {
   "cell_type": "code",
   "execution_count": null,
   "id": "181aa73b-694b-4966-9645-101dc6ca0edb",
   "metadata": {},
   "outputs": [],
   "source": []
  }
 ],
 "metadata": {
  "language_info": {
   "name": "python"
  }
 },
 "nbformat": 4,
 "nbformat_minor": 5
}
