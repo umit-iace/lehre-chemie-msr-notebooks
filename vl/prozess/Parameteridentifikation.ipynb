{
 "cells": [
  {
   "cell_type": "code",
   "execution_count": null,
   "id": "0",
   "metadata": {},
   "outputs": [],
   "source": [
    "import numpy as np\n",
    "import matplotlib.pyplot as plt\n",
    "from ipywidgets import HBox, Layout, Output\n",
    "from IPython.display import display, Image, Markdown\n",
    "from scipy import interpolate\n",
    "from scipy.optimize import least_squares\n",
    "from scipy.integrate import solve_ivp, trapezoid\n",
    "import pandas as pd"
   ]
  },
  {
   "cell_type": "markdown",
   "id": "1",
   "metadata": {},
   "source": [
    "# Parameteridentifikation"
   ]
  },
  {
   "cell_type": "code",
   "execution_count": null,
   "id": "2",
   "metadata": {},
   "outputs": [],
   "source": [
    "imag = Image(\"../../images/hvac.png\", width=400)\n",
    "\n",
    "outL = Output()\n",
    "outR = Output()\n",
    "\n",
    "with outL:\n",
    "    display(imag)\n",
    "with outR:\n",
    "    display(Markdown(\"\"\"\n",
    "**Ausgangssystem**\n",
    "\\\\begin{align*}         \n",
    "    \\\\dot{x}(t;\\\\theta) & = -\\\\underbrace{\\\\Big(\\\\frac{v_{\\\\mathrm{m}}}{l} + \\\\frac{\\\\alpha_{\\\\mathrm{m}\\\\infty} A_{\\\\mathrm{M,m}}}{c_{\\\\mathrm{p,m}} V_{\\\\mathrm{m}}} \\\\Big)}_{\\\\theta_1} x(t) + \\\\underbrace{\\\\frac{\\\\beta}{c_{\\\\mathrm{p,m}} V_{\\\\mathrm{m}}}}_{\\\\theta_2} u(t) + \\\\underbrace{\\\\Big(\\\\frac{v_{\\\\mathrm{m}}}{l} + \\\\frac{\\\\alpha_{\\\\mathrm{m}\\\\infty} A_{\\\\mathrm{M,m}}}{c_{\\\\mathrm{p,m}} V_{\\\\mathrm{m}}} \\\\Big)}_{\\\\theta_1} T_{\\\\infty}\\\\\\\\\n",
    "    y(t) & = x(t)\n",
    "\\\\end{align*}\n",
    "mit den unbekannten Parametern\n",
    "\\\\begin{align*}\n",
    "    \\\\theta & = \\\\Big( \\\\theta_1, \\\\theta_2\\\\Big)\n",
    "\\\\end{align*}\n",
    "\n",
    "    \"\"\"))\n",
    "cols = HBox([outL, outR], layout=Layout(display='flex', flex_flow='row', justify_content='space-around', align_items='center'))\n",
    "display(cols)"
   ]
  },
  {
   "cell_type": "markdown",
   "id": "3",
   "metadata": {},
   "source": [
    "## Messung"
   ]
  },
  {
   "cell_type": "code",
   "execution_count": null,
   "id": "4",
   "metadata": {},
   "outputs": [],
   "source": [
    "dfData =  pd.read_csv('messungHVAC.csv')\n",
    "dfData['DateTime'] = pd.to_timedelta(dfData['time'], unit='s')\n",
    "dfData.set_index('DateTime', inplace=True)\n",
    "dfData = dfData.resample('1s').ffill()"
   ]
  },
  {
   "cell_type": "markdown",
   "id": "5",
   "metadata": {},
   "source": [
    "### Ruhelage\n",
    "\n",
    "\\begin{align*}         \n",
    "    0 & = -\\Big(\\frac{v_{\\mathrm{m}}}{l} + \\frac{\\alpha_{\\mathrm{m}\\infty} A_{\\mathrm{M,m}}}{c_{\\mathrm{p,m}} V_{\\mathrm{m}}} \\Big) \\bar{y} + \\frac{\\beta}{c_{\\mathrm{p,m}} V_{\\mathrm{m}}} \\bar{u} + \\Big(\\frac{v_{\\mathrm{m}}}{l} + \\frac{\\alpha_{\\mathrm{m}\\infty} A_{\\mathrm{M,m}}}{c_{\\mathrm{p,m}} V_{\\mathrm{m}}} \\Big) T_{\\infty}\\\\\n",
    "    \\bar{y} & = T_{\\infty} \\text{ für } \\bar{u} = 0  \n",
    "\\end{align*}\n"
   ]
  },
  {
   "cell_type": "code",
   "execution_count": null,
   "id": "6",
   "metadata": {},
   "outputs": [],
   "source": [
    "bT = dfData['Pipe-T'][0:7].mean()\n",
    "display(Markdown(rf\"\"\"\n",
    "$\\bar{{T}} = {bT}$\n",
    "\"\"\"))\n",
    "dfData['Pipe-T-Norm'] = dfData['Pipe-T'][:] - bT"
   ]
  },
  {
   "cell_type": "code",
   "execution_count": null,
   "id": "7",
   "metadata": {},
   "outputs": [],
   "source": [
    "fig = plt.figure(figsize=(10, 5))\n",
    "fig.canvas.toolbar_visible = False\n",
    "fig.canvas.header_visible = False\n",
    "fig.canvas.footer_visible = False\n",
    "fig.subplots_adjust(bottom=0.1, top=0.93, left=0.125, right=0.9)\n",
    "\n",
    "ax1 = plt.subplot(111)\n",
    "ax1.plot(dfData['time'], dfData['Pipe-T'])\n",
    "\n",
    "ax1.grid()\n",
    "ax1.set_xlabel(r'$t$ in s')\n",
    "ax1.set_ylabel(r'$y$ in °C')\n",
    "\n",
    "ax11 = ax1.twinx()\n",
    "ax11.plot(dfData['time'], dfData['Traj y'], 'C2')\n",
    "ax11.tick_params(axis='y', colors='C2')\n",
    "ax11.set_ylabel('$u$ in -', color='C2');"
   ]
  },
  {
   "cell_type": "markdown",
   "id": "8",
   "metadata": {},
   "source": [
    "## Identifikationsdaten"
   ]
  },
  {
   "cell_type": "code",
   "execution_count": null,
   "id": "9",
   "metadata": {},
   "outputs": [],
   "source": [
    "dfIdent = dfData.iloc[5:420].copy()\n",
    "dfIdent.index = dfIdent.index - dfIdent.index[0]\n",
    "dfIdent['time'] = dfIdent['time'] - dfIdent['time'].iloc[0]"
   ]
  },
  {
   "cell_type": "markdown",
   "id": "10",
   "metadata": {},
   "source": [
    "## Systemdefinition"
   ]
  },
  {
   "cell_type": "code",
   "execution_count": null,
   "id": "11",
   "metadata": {},
   "outputs": [],
   "source": [
    "def nonlinSystem(t, y, th1, th2, Ta):\n",
    "    dy = th1 * y + th2 * u(t) - th1 * Ta\n",
    "\n",
    "    return [dy]\n",
    "\n",
    "tSim = np.linspace(dfIdent['time'].iloc[0], dfIdent['time'].iloc[-1], len(dfIdent['time'].values))\n",
    "u = interpolate.interp1d(dfIdent['time'], dfIdent['Traj y'], fill_value='extrapolate')"
   ]
  },
  {
   "cell_type": "markdown",
   "id": "12",
   "metadata": {},
   "source": [
    "## 1. Variante - grafische Methode\n",
    "\n",
    "**Linearisiertes System** um die Ruhelage $(\\bar{x}, \\bar{u})$ als lineares PT$_1$-Glied\n",
    "\\begin{align*}\n",
    "    \\dot{\\tilde{y}}(t) & = a \\tilde{y}(t) + b \\tilde{u}(t) & \\Leftrightarrow && T_1 \\dot{\\tilde{y}}(t) & = \\tilde{y}(t) + K_{\\mathrm{P}} \\tilde{u}(t) \n",
    "\\end{align*}"
   ]
  },
  {
   "cell_type": "code",
   "execution_count": null,
   "id": "13",
   "metadata": {},
   "outputs": [],
   "source": [
    "KpV1 = dfIdent['Pipe-T-Norm'].iloc[-1]\n",
    "i = dfIdent['Pipe-T-Norm'][0:420].searchsorted(KpV1 * 0.63)\n",
    "T1V1 = dfIdent['time'].iloc[i]\n",
    "aV1 = - 1 / T1V1\n",
    "bV1 = - KpV1 * aV1 * 1. / 0.25 # u = [0, 0.25] = [0, 1]"
   ]
  },
  {
   "cell_type": "code",
   "execution_count": null,
   "id": "14",
   "metadata": {},
   "outputs": [],
   "source": [
    "display(Markdown(rf\"\"\"\n",
    "$K_{{\\mathrm{{p}}}} = {KpV1}$, &nbsp; $T_1 = {T1V1}$, &nbsp; $a = {aV1}$, &nbsp; $b = {bV1}$\n",
    "\"\"\"))"
   ]
  },
  {
   "cell_type": "code",
   "execution_count": null,
   "id": "15",
   "metadata": {},
   "outputs": [],
   "source": [
    "fig = plt.figure(figsize=(10, 5))\n",
    "fig.canvas.toolbar_visible = False\n",
    "fig.canvas.header_visible = False\n",
    "fig.canvas.footer_visible = False\n",
    "fig.subplots_adjust(bottom=0.1, top=0.93, left=0.125, right=0.9)\n",
    "\n",
    "ax1 = plt.subplot(111)\n",
    "ax1.axvline(T1V1, linewidth=2, color='black')\n",
    "ax1.scatter(T1V1, KpV1 * 0.63, marker='o', s=100, color='C1')\n",
    "ax1.axline((T1V1, KpV1), slope=KpV1/T1V1, color='black')\n",
    "\n",
    "ax1.plot(dfIdent['time'], dfIdent['Pipe-T-Norm'])\n",
    "\n",
    "ax1.grid()\n",
    "ax1.set_xlabel(r'$t$ in s')\n",
    "ax1.set_ylabel(r'$T-\\bar{T}$ in °C')\n",
    "\n",
    "ax11 = ax1.twinx()\n",
    "ax11.plot(dfIdent['time'], dfIdent['Traj y'], 'C2')\n",
    "ax11.tick_params(axis='y', colors='C2')\n",
    "ax11.set_ylabel('$u$ in -', color='C2');"
   ]
  },
  {
   "cell_type": "markdown",
   "id": "16",
   "metadata": {},
   "source": [
    "## 2. Variante - diskretes Least-Squares\n",
    "\n",
    "**Linearisiertes System** um die Ruhelage $(\\bar{x}, \\bar{u})$ als PT$_1$-Glied in Differenzenform\n",
    "\\begin{align*}\n",
    "    \\tilde{y}_{k+1} & = (1 + \\check{a}) \\tilde{y}_k + \\check{b} \\tilde{u}_k, &\n",
    "    \\check{a} & = \\Delta t\\, a, &\n",
    "    \\check{b} & = \\Delta t\\, b\n",
    "\\end{align*}\n",
    "als parameterlineare Darstellung\n",
    "\\begin{align*}\n",
    "    \\mathbf{A} \\theta & = \\mathbf{y}, &\n",
    "    \\mathbf{A} & = \\begin{pmatrix}\n",
    "        \\tilde{y}_0 & \\tilde{u}_0 \\\\\n",
    "        \\vdots & \\vdots \\\\\n",
    "        \\tilde{y}_{N-1} & \\tilde{u}_{N-1} \\\\\n",
    "    \\end{pmatrix}, &\n",
    "    \\mathbf{y} & = \\begin{pmatrix}\n",
    "        \\tilde{y}_{1}\\\\\n",
    "        \\vdots\\\\\n",
    "        \\tilde{y}_{N}\n",
    "    \\end{pmatrix}, &\n",
    "    \\theta & = (1 + \\check{a}, \\check{b})^{\\intercal}\n",
    "\\end{align*}\n",
    "und Lösung mittels der Pseudoinversen $\\mathbf{A}^{\\dagger} = (\\mathbf{A}^{\\intercal}\\mathbf{A})^{-1} \\mathbf{A}^{\\intercal}$ durch\n",
    "\\begin{align*}\n",
    "    \\theta & = \\mathbf{A}^{\\dagger} \\mathbf{y}\n",
    "\\end{align*}"
   ]
  },
  {
   "cell_type": "code",
   "execution_count": null,
   "id": "17",
   "metadata": {},
   "outputs": [],
   "source": [
    "yk1 = dfIdent['Pipe-T-Norm'][1:]\n",
    "yk = dfIdent['Pipe-T-Norm'][0:-1]\n",
    "uk = dfIdent['Traj y'][0:-1]"
   ]
  },
  {
   "cell_type": "code",
   "execution_count": null,
   "id": "18",
   "metadata": {},
   "outputs": [],
   "source": [
    "Y = yk1.values\n",
    "A = np.ones((len(Y), 2))\n",
    "A[:, 0] = yk.values\n",
    "A[:, 1] = uk.values"
   ]
  },
  {
   "cell_type": "code",
   "execution_count": null,
   "id": "19",
   "metadata": {},
   "outputs": [],
   "source": [
    "p = np.linalg.inv(A.T @ A) @ A.T @ Y\n",
    "aV2 = p[0] - 1\n",
    "bV2 = p[1]"
   ]
  },
  {
   "cell_type": "code",
   "execution_count": null,
   "id": "20",
   "metadata": {},
   "outputs": [],
   "source": [
    "display(Markdown(rf\"\"\"\n",
    "$a = {aV2}$, &nbsp; $b = {bV2}$\n",
    "\"\"\"))"
   ]
  },
  {
   "cell_type": "markdown",
   "id": "21",
   "metadata": {},
   "source": [
    "## 3. Variante - kontinuierliches Least-Squares\n",
    "\n",
    "Parameterlineares System\n",
    "\\begin{align*}\n",
    "    \\dot{y}(t) & = (T_{\\infty} - y(t)) \\theta_1 + u(t) \\theta_2 u(t)\n",
    "\\end{align*}\n",
    "in Darstellung\n",
    "\\begin{align*}\n",
    "    \\mathbf{y} & = \\mathbf{A} \\theta, &\n",
    "    \\mathbf{A} & = \\begin{pmatrix}\n",
    "        \\int_0^T(T_{\\infty} - y(t))^2 \\mathrm{d} t & \n",
    "        \\int_0^T(T_{\\infty} - y(t)) u(t) \\mathrm{d} t \\\\\n",
    "        \\int_0^T(T_{\\infty} - y(t)) u(t) \\mathrm{d} t & \n",
    "        \\int_0^Tu^2(t) \\mathrm{d} t\\\\\n",
    "    \\end{pmatrix}, &\n",
    "    \\mathbf{y} & = \\begin{pmatrix}\n",
    "        \\int_0^T(T_{\\infty} - y(t)) \\dot{y}(t) \\mathrm{d} t\\\\\n",
    "        \\int_0^Tu(t) \\dot{y}(t) \\mathrm{d} t\n",
    "    \\end{pmatrix}, &\n",
    "    \\theta & = (\\theta_1, \\theta_2)^{\\intercal}\n",
    "\\end{align*}\n",
    "und Lösung mittels\n",
    "\\begin{align*}\n",
    "    \\theta & = \\mathbf{A}^{-1} \\mathbf{y}\n",
    "\\end{align*}\n",
    "durch Regularisierung aller Messsignale $y_{\\varphi}=y \\star \\varphi$, $u_{\\varphi}=u \\star \\varphi$ und Schätzung der Ableitung durch $\\dot{y}_{\\varphi}=y \\star \\dot{\\varphi}$"
   ]
  },
  {
   "cell_type": "code",
   "execution_count": null,
   "id": "22",
   "metadata": {},
   "outputs": [],
   "source": [
    "_u = dfIdent['Traj y']\n",
    "_y = dfIdent['Pipe-T']\n",
    "_Ta = dfIdent['Pipe-T'].iloc[0]"
   ]
  },
  {
   "cell_type": "code",
   "execution_count": null,
   "id": "23",
   "metadata": {},
   "outputs": [],
   "source": [
    "hFilter = 10\n",
    "tFil = np.linspace(0, hFilter, hFilter + 1)\n",
    "regFunc = lambda t, h, k: (t / h) ** k * (1 - t / h) ** k\n",
    "dregFunc = lambda t, h, k: k * (t / h) ** k * ((h - t) / h) ** k * (h - 2 * t) / (t * (h -t))\n",
    "regFil = regFunc(tFil, hFilter, 2)\n",
    "dregFil = dregFunc(tFil, hFilter, 2)\n",
    "dregFil[0] = dregFil[-1] = 0"
   ]
  },
  {
   "cell_type": "code",
   "execution_count": null,
   "id": "24",
   "metadata": {},
   "outputs": [],
   "source": [
    "uFilter = np.zeros(len(tSim))\n",
    "yFilter = np.zeros(len(tSim))\n",
    "yDiffFilter = np.zeros(len(tSim))\n",
    "for idx, _t in enumerate(tSim[hFilter:-hFilter]):\n",
    "    uFilter[idx+hFilter] = trapezoid(y=_u[idx:idx+hFilter+1] * regFil,\n",
    "                                     x=tSim[idx:idx+hFilter+1]) / tSim[1] / np.sum(regFil)\n",
    "    yFilter[idx+hFilter] = trapezoid(y=_y[idx:idx+hFilter+1] * regFil,\n",
    "                                     x=tSim[idx:idx+hFilter+1]) / tSim[1] / np.sum(regFil)\n",
    "    yDiffFilter[idx+hFilter] = trapezoid(y=_y[idx:idx+hFilter+1] * dregFil,\n",
    "                                         x=tSim[idx:idx+hFilter+1]) / tSim[1] ** 2 / -np.sum(regFil)"
   ]
  },
  {
   "cell_type": "code",
   "execution_count": null,
   "id": "25",
   "metadata": {},
   "outputs": [],
   "source": [
    "S = np.array([[\n",
    "    trapezoid(y=(-_Ta + yFilter[hFilter:-hFilter]) ** 2, x=tSim[hFilter:-hFilter]),\n",
    "    trapezoid(y=(-_Ta + yFilter[hFilter:-hFilter]) * uFilter[hFilter:-hFilter], x=tSim[hFilter:-hFilter]),\n",
    "], [\n",
    "    trapezoid(y=(-_Ta + yFilter[hFilter:-hFilter]) * uFilter[hFilter:-hFilter], x=tSim[hFilter:-hFilter]),\n",
    "    trapezoid(y=uFilter[hFilter:-hFilter] ** 2, x=tSim[hFilter:-hFilter]),\n",
    "]])\n",
    "y = np.array([\n",
    "    [trapezoid(y=(-_Ta + yFilter[hFilter:-hFilter]) * yDiffFilter[hFilter:-hFilter], x=tSim[hFilter:-hFilter])],\n",
    "    [trapezoid(y=uFilter[hFilter:-hFilter] * yDiffFilter[hFilter:-hFilter], x=tSim[hFilter:-hFilter]),]\n",
    "])\n",
    "p = np.linalg.inv(S) @ y            \n",
    "aV3 = p[0, 0]\n",
    "bV3 = p[1, 0]"
   ]
  },
  {
   "cell_type": "markdown",
   "id": "26",
   "metadata": {},
   "source": [
    "## 4. Variante - Optimierung\n",
    "\n",
    "**System**\n",
    "\\begin{align*}         \n",
    "    \\dot{y}(t) & = -\\Big(\\frac{v_{\\mathrm{m}}}{l} + \\frac{\\alpha_{\\mathrm{m}\\infty} A_{\\mathrm{M,m}}}{c_{\\mathrm{p,m}} V_{\\mathrm{m}}} \\Big) y(t) + \\frac{\\beta}{c_{\\mathrm{p,m}} V_{\\mathrm{m}}} u(t) + \\Big(\\frac{v_{\\mathrm{m}}}{l} + \\frac{\\alpha_{\\mathrm{m}\\infty} A_{\\mathrm{M,m}}}{c_{\\mathrm{p,m}} V_{\\mathrm{m}}} \\Big) T_{\\infty}\\\\\n",
    "    & =  - \\theta_1 y(t) + \\theta_2 u(t) + \\theta_1 T_{\\infty}\n",
    "\\end{align*}"
   ]
  },
  {
   "cell_type": "code",
   "execution_count": null,
   "id": "27",
   "metadata": {},
   "outputs": [],
   "source": [
    "def optSys(p):\n",
    "    y0 = [dfIdent['Pipe-T'].iloc[0]]\n",
    "    res = solve_ivp(nonlinSystem,\n",
    "                    [tSim[0], tSim[-1]],\n",
    "                    y0,\n",
    "                    t_eval=tSim, \n",
    "                    args=(p[0], p[1], dfIdent['Pipe-T'].iloc[0]))\n",
    "    return dfIdent['Pipe-T'].values - res.y[0]"
   ]
  },
  {
   "cell_type": "code",
   "execution_count": null,
   "id": "28",
   "metadata": {},
   "outputs": [],
   "source": [
    "y0 = np.array([0.01, 0.01])\n",
    "resLq = least_squares(optSys, y0)\n",
    "aV4 = resLq.x[0]\n",
    "bV4 = resLq.x[1]"
   ]
  },
  {
   "cell_type": "markdown",
   "id": "29",
   "metadata": {},
   "source": [
    "## Validierung"
   ]
  },
  {
   "cell_type": "code",
   "execution_count": null,
   "id": "30",
   "metadata": {},
   "outputs": [],
   "source": [
    "display(Markdown(rf\"\"\"\n",
    "|                     | grafisch  | diskretes LQ  | kontinuierliches LQ | Optimierung |\n",
    "| :---                | :----:      | :----:      | :---:       | ---:        |\n",
    "| $a$                 | {aV1}       | {aV2}       | {aV3}       | {aV4}       |\n",
    "| $b$                 | {bV1}       | {bV2}       | {bV3}       | {bV4}       |\n",
    "\"\"\"))"
   ]
  },
  {
   "cell_type": "code",
   "execution_count": null,
   "id": "31",
   "metadata": {},
   "outputs": [],
   "source": [
    "y0 = [dfIdent['Pipe-T'].iloc[0]]\n",
    "resV1 = solve_ivp(nonlinSystem,\n",
    "                  [tSim[0], tSim[-1]],\n",
    "                  y0,\n",
    "                  t_eval=tSim, \n",
    "                  args=(aV1, bV1, dfIdent['Pipe-T'].iloc[0]))\n",
    "resV2 = solve_ivp(nonlinSystem,\n",
    "                  [tSim[0], tSim[-1]],\n",
    "                  y0,\n",
    "                  t_eval=tSim, \n",
    "                  args=(aV2, bV2, dfIdent['Pipe-T'].iloc[0]))\n",
    "resV3 = solve_ivp(nonlinSystem,\n",
    "                  [tSim[0], tSim[-1]],\n",
    "                  y0,\n",
    "                  t_eval=tSim, \n",
    "                  args=(aV3, bV3, dfIdent['Pipe-T'].iloc[0]))\n",
    "resV4 = solve_ivp(nonlinSystem,\n",
    "                  [tSim[0], tSim[-1]],\n",
    "                  y0,\n",
    "                  t_eval=tSim, \n",
    "                  args=(aV4, bV4, dfIdent['Pipe-T'].iloc[0]))"
   ]
  },
  {
   "cell_type": "code",
   "execution_count": null,
   "id": "32",
   "metadata": {},
   "outputs": [],
   "source": [
    "fig = plt.figure(figsize=(12, 6))\n",
    "fig.canvas.toolbar_visible = False\n",
    "fig.canvas.header_visible = False\n",
    "fig.canvas.footer_visible = False\n",
    "fig.subplots_adjust(bottom=0.1, top=0.93, left=0.125, right=0.9)\n",
    "ax1 = plt.subplot(111)\n",
    "ax1.plot(dfIdent['time'], dfIdent['Pipe-T'], label='Original')\n",
    "ax1.plot(resV1.t, resV1.y.T, label='grafisch')\n",
    "ax1.plot(resV2.t, resV2.y.T, '-.', label='diskretes LQ')\n",
    "ax1.plot(resV3.t, resV3.y.T, '--', label='kont. LQ')\n",
    "ax1.plot(resV4.t, resV4.y.T, ':', label='Optimierung')\n",
    "\n",
    "ax1.grid()\n",
    "ax1.set_xlabel(r'$t$ in s')\n",
    "ax1.set_ylabel(r'$y$ in °C')\n",
    "\n",
    "handlesAx1, labelsAx1 = ax1.get_legend_handles_labels()\n",
    "ax1.legend([handle for i, handle in enumerate(handlesAx1)],\n",
    "           [label for i, label in enumerate(labelsAx1)],\n",
    "           bbox_to_anchor=(0., 1.02, 1., .102), loc=3,\n",
    "           ncol=5, mode=\"expand\", borderaxespad=0., framealpha=0.5)\n",
    "\n",
    "ax11 = ax1.twinx()\n",
    "ax11.plot(dfIdent['time'], dfIdent['Traj y'], 'C2')\n",
    "ax11.tick_params(axis='y', colors='C2')\n",
    "ax11.set_ylabel(r'$u$ in -', color='C2')\n",
    "plt.show()"
   ]
  }
 ],
 "metadata": {
  "author": "y",
  "kernelspec": {
   "display_name": "Python 3 (ipykernel)",
   "language": "python",
   "name": "python3"
  },
  "language_info": {
   "codemirror_mode": {
    "name": "ipython",
    "version": 3
   },
   "file_extension": ".py",
   "mimetype": "text/x-python",
   "name": "python",
   "nbconvert_exporter": "python",
   "pygments_lexer": "ipython3",
   "version": "3.12.2"
  },
  "latex_envs": {
   "LaTeX_envs_menu_present": true,
   "autoclose": false,
   "autocomplete": true,
   "bibliofile": "sources.bib",
   "cite_by": "apalike",
   "current_citInitial": 1,
   "eqLabelWithNumbers": true,
   "eqNumInitial": 1,
   "hotkeys": {
    "equation": "Ctrl-E",
    "itemize": "Ctrl-I"
   },
   "labels_anchors": false,
   "latex_user_defs": false,
   "report_style_numbering": false,
   "user_envs_cfg": false
  }
 },
 "nbformat": 4,
 "nbformat_minor": 5
}
