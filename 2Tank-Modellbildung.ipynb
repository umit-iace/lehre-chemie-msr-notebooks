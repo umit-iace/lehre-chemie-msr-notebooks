{
 "cells": [
  {
   "cell_type": "markdown",
   "metadata": {},
   "source": [
    "# Modellbildung"
   ]
  },
  {
   "cell_type": "code",
   "execution_count": null,
   "metadata": {},
   "outputs": [],
   "source": [
    "import sys\n",
    "from IPython.display import display, Markdown\n",
    "import matplotlib.pyplot as plt\n",
    "import numpy as np\n",
    "import pandas as pd\n",
    "import math\n",
    "from IPython.display import display, Image\n",
    "from scipy.optimize import curve_fit\n",
    "from scipy.integrate import solve_ivp"
   ]
  },
  {
   "cell_type": "code",
   "execution_count": null,
   "metadata": {},
   "outputs": [],
   "source": [
    "imag = Image(\"images/zweitank.png\", width=600)\n",
    "display(imag)"
   ]
  },
  {
   "cell_type": "markdown",
   "metadata": {},
   "source": [
    "Ziel ist die Modellierung des Eingangs-Ausgangsverhaltens des bekannten 2-Tanksystems.\n",
    "Durch die Modellierung aus der Übung ist bekannt, dass es sich bei dem linearisierten Modell um ein System zweiter Ordnung\n",
    "\\begin{align*}\n",
    "    T_1T_2\\ddot{h}_2(t) + (T_1 + T_2)\\dot{h}_2(t) + h_2(t) & = K_\\text{P} u(t)\n",
    "\\end{align*}\n",
    "handelt.\n",
    "\n",
    "Nachfolgend sollen die drei parameterierte Varianten des Modells ermittelt und simuliert werden:\n",
    "\n",
    "1. auf Basis der physikalischen Parameter,\n",
    "2. ausgehend von der aufgenommenen Sprungantwort für das Gesamtsystem sind die Parameter zu bestimmen sowie\n",
    "3. Seperierung des Systems in zwei Einzeltanksysteme in Systeme erster Ordnung und Bestimmung der Parameter auf Basis der aufgenommenen Sprungangworten für die beiden Teilsysteme"
   ]
  },
  {
   "cell_type": "markdown",
   "metadata": {},
   "source": [
    "### Messdaten einlesen"
   ]
  },
  {
   "cell_type": "code",
   "execution_count": null,
   "metadata": {},
   "outputs": [],
   "source": [
    "messungTank1Tank2 = pd.read_csv('20221129_Sprungantwort_9V_Aufbau1_V12_2_0vU_V21_2_1_vU.csv')\n",
    "messungTank2 = pd.read_csv('20221129_Sprungantwort_Aufbau1_Pumpe_in_Tank2_V21_2_1vU_9V.csv')"
   ]
  },
  {
   "cell_type": "markdown",
   "metadata": {},
   "source": [
    "### 1. Physikalische Parameter\n",
    "\n",
    "Bestimmen Sie die Parameter für das linearisierte System auf Basis der gegebenen physikalischen Parameter für die Ruhelage $\\bar{u} = 9\\, \\mathrm{V}$."
   ]
  },
  {
   "cell_type": "code",
   "execution_count": null,
   "metadata": {},
   "outputs": [],
   "source": [
    "Kp_analytic = 0.1384482\n",
    "T1_analytic = 32.993533\n",
    "T2_analytic = 65.106089\n",
    "\n",
    "display(Markdown(\n",
    "   rf\"\"\"\n",
    "$K_\\text{{p}} = {Kp_analytic}$\n",
    "\n",
    "$T_1 = {T1_analytic}$\n",
    "\n",
    "$T_2 = {T2_analytic}$\n",
    "\"\"\"))\n",
    "\n",
    "pAnalytic = [Kp_analytic, T1_analytic, T2_analytic]"
   ]
  },
  {
   "cell_type": "markdown",
   "metadata": {},
   "source": [
    "### 2. Parameter des messtechnisch erfassten PT$_2$-Elements"
   ]
  },
  {
   "cell_type": "markdown",
   "metadata": {},
   "source": [
    "Um die Parameter zu bestimmen, wird die analytische Lösung des Systems zweiter Ordnung für einen Einheitssprung $\\sigma$ als Eingang verwendet:\n",
    "\\begin{align*}\n",
    "h(t) = K_\\text{P}\\left(1 - \\frac{1}{T_1-T_2}\\left(T_1 e^{-\\frac{t}{T_1}} - T_2 e^{-\\frac{t}{T_2}}\\right)\\right)\n",
    "\\end{align*}\n",
    "\n",
    "Die Parameter $T_1$, $T_2$ und $K$ werden unter Verwendung der vorangegangenen Lösung mittels eines Optimierungsverfahrens bestimmt."
   ]
  },
  {
   "cell_type": "code",
   "execution_count": null,
   "metadata": {},
   "outputs": [],
   "source": [
    "def pt2Analytic(t, Kp, T1, T2):\n",
    "    val = Kp * (1 - 1 / (T1 - T2) * (T1 * np.exp(-t/T1) - T2 * np.exp(-t/T2)))\n",
    "    for i in range(len(val)):\n",
    "        if not math.isfinite(val[i]):\n",
    "            print(val[i])\n",
    "            val[i] = 0\n",
    "    return val"
   ]
  },
  {
   "cell_type": "code",
   "execution_count": null,
   "metadata": {},
   "outputs": [],
   "source": [
    "xData = messungTank1Tank2['time']\n",
    "yData = messungTank1Tank2['HeightT2']\n",
    "\n",
    "# errorcorrect measured data (in HeightT2 some values are nan)\n",
    "for i in range(len(yData)):\n",
    "   if not math.isfinite(yData[i]):\n",
    "      try:\n",
    "         # if value is nan, use mean of prev and next value\n",
    "         yData[i] = (yData[i-1] + yData[i+1]) /2\n",
    "      except: \n",
    "         print('implement more ')\n",
    "\n",
    "# Delete part of the first second in which the pump voltage ramps up\n",
    "time = 0.2\n",
    "for i in range(len(xData)):\n",
    "   if xData[i] >= time:\n",
    "      # delete first entries, adapt indexes, set starttime = 0\n",
    "      xData = xData.iloc[i:]\n",
    "      xData.index -= i\n",
    "      xData -= time\n",
    "      # also delete corresponding height entries\n",
    "      yData = yData.iloc[i:]\n",
    "      yData.index -= i\n",
    "      break\n",
    "\n",
    "pOpt, _ = curve_fit(pt2Analytic, xdata=xData, ydata=yData, p0=pAnalytic)\n",
    "\n",
    "Kp_pt2 = pOpt[0]\n",
    "T1_pt2 = min(pOpt[1], pOpt[2])\n",
    "T2_pt2 = max(pOpt[1], pOpt[2])\n",
    "\n",
    "display(Markdown(\n",
    "   rf\"\"\"\n",
    "$K_\\text{{p}} = {Kp_pt2}$\n",
    "\n",
    "$T_1 = {T1_pt2}$\n",
    "\n",
    "$T_2 = {T2_pt2}$\n",
    "\"\"\"))"
   ]
  },
  {
   "cell_type": "markdown",
   "metadata": {},
   "source": [
    "### 3.  Parameter der messtechnisch erfassten seriell verschalteten PT$_1$-Elemente"
   ]
  },
  {
   "cell_type": "markdown",
   "metadata": {
    "hideCode": true,
    "slideshow": {
     "slide_type": "subslide"
    }
   },
   "source": [
    "Durch Aufspaltung des Systems in zwei Einzelelemente, die die Form eines Systems erster Ordnung annehmen, können durch Auswerten der Sprungantwort\n",
    "\\begin{align}\n",
    "    h(t) & = K_i \\left(1 - e^{-\\frac{t}{T_i}}\\right), & i & = 1,2\n",
    "\\end{align}\n",
    "die Zeitkonstanten bestimmt werden."
   ]
  },
  {
   "cell_type": "code",
   "execution_count": null,
   "metadata": {},
   "outputs": [],
   "source": [
    "def pt1Analytic(t, Kp, T1):\n",
    "    return Kp * (1 - np.exp(-t / T1))"
   ]
  },
  {
   "cell_type": "markdown",
   "metadata": {},
   "source": [
    "#### Tank 1"
   ]
  },
  {
   "cell_type": "code",
   "execution_count": null,
   "metadata": {},
   "outputs": [],
   "source": [
    "xDataT1 = messungTank1Tank2['time']\n",
    "yDataT1 = messungTank1Tank2['HeightT1']\n",
    "\n",
    "# curvefitting and printing the result\n",
    "pOpt, _ = curve_fit(pt1Analytic, xdata=xDataT1, ydata=yDataT1)\n",
    "\n",
    "# storing results\n",
    "K1_pt1 = pOpt[0]\n",
    "T1_1_pt1 = pOpt[1]\n",
    "\n",
    "display(Markdown(\n",
    "rf\"\"\"\n",
    "$K_1 = {K1_pt1}$\n",
    "\n",
    "$T_1 = {T1_1_pt1}$\n",
    "\"\"\"))"
   ]
  },
  {
   "cell_type": "markdown",
   "metadata": {},
   "source": [
    "#### Tank 2"
   ]
  },
  {
   "cell_type": "code",
   "execution_count": null,
   "metadata": {},
   "outputs": [],
   "source": [
    "xDataT2 = messungTank2['time']\n",
    "yDataT2 = messungTank2['HeightT2']\n",
    "\n",
    "pOpt, _ = curve_fit(pt1Analytic, xdata=xDataT2, ydata=yDataT2)\n",
    "\n",
    "# storing results\n",
    "K_2 = pOpt[0]\n",
    "T2_2_pt1 = pOpt[1]\n",
    "\n",
    "display(Markdown(\n",
    "   rf\"\"\"\n",
    "$K_2 = {K_2}$\n",
    "\n",
    "$T_2 = {T2_2_pt1}$\n",
    "\"\"\"))"
   ]
  },
  {
   "cell_type": "code",
   "execution_count": null,
   "metadata": {},
   "outputs": [],
   "source": [
    "Kp_pt1 = Kp_pt2\n",
    "T1_pt1 = min(T1_1_pt1, T2_2_pt1)\n",
    "T2_pt1 = max(T1_1_pt1, T2_2_pt1)\n",
    "\n",
    "display(Markdown(\n",
    "    rf\"\"\"\n",
    "$K_\\text{{p}} = {Kp_pt1}$\n",
    "\n",
    "$T_1 = {T1_pt1}$\n",
    "\n",
    "$T_2 = {T2_pt1}$\n",
    "\"\"\"))"
   ]
  },
  {
   "cell_type": "markdown",
   "metadata": {},
   "source": [
    "## Vergleich aller Modelle"
   ]
  },
  {
   "cell_type": "code",
   "execution_count": null,
   "metadata": {},
   "outputs": [],
   "source": [
    "params = {\n",
    "    'T1': [round(T1_analytic, 5), round(T1_pt2, 5), round(T1_pt1, 5)],\n",
    "    'T2': [round(T2_analytic, 5), round(T2_pt2, 5), round(T2_pt1, 5)],\n",
    "    'Kp': [round(Kp_analytic, 5), round(Kp_pt2, 5), round(Kp_pt1, 5)],\n",
    "}\n",
    "print (\"{:<5} {:<11} {:<9} {:<11}\".format(' ','analytisch','PT2','PT1'))\n",
    "for name, values in params.items():\n",
    "    s1, s2, s3 = values\n",
    "    print (\"{:<5} {:<11} {:<9} {:<11}\".format(name, s1, s2, s3))"
   ]
  },
  {
   "cell_type": "code",
   "execution_count": null,
   "metadata": {},
   "outputs": [],
   "source": [
    "def linSys(t, x, u, A, B):\n",
    "    return A.dot(x) +  B.dot(u)"
   ]
  },
  {
   "cell_type": "code",
   "execution_count": null,
   "metadata": {},
   "outputs": [],
   "source": [
    "A_analytic = np.array([[0, 1],\n",
    "                       [-1 / (T1_analytic * T2_analytic), - (T1_analytic + T2_analytic) / (T1_analytic * T2_analytic)]])\n",
    "B_analytic = np.array([[0],\n",
    "                       [Kp_analytic / (T1_analytic * T2_analytic)]])\n",
    "\n",
    "A_pt2 = np.array([[0, 1],\n",
    "                  [-1 / (T1_pt2 * T2_pt2), - (T1_pt2 + T2_pt2) / (T1_pt2 * T2_pt2)]])\n",
    "B_pt2 = np.array([[0],\n",
    "                  [Kp_pt2 / (T1_pt2 * T2_pt2)]])\n",
    "\n",
    "A_pt1 = np.array([[0, 1],\n",
    "                  [-1 / (T1_pt1 * T2_pt1), - (T1_pt1 + T2_pt1) / (T1_pt1 * T2_pt1)]])\n",
    "B_pt1 = np.array([[0],\n",
    "                  [Kp_pt1 / (T1_pt1 * T2_pt1)]])"
   ]
  },
  {
   "cell_type": "code",
   "execution_count": null,
   "metadata": {},
   "outputs": [],
   "source": [
    "timeDom = np.linspace(0, len(messungTank1Tank2['HeightT2']), len(messungTank1Tank2['HeightT2'])) / 10\n",
    "x0 = [0, 0]\n",
    "u = [1]\n",
    "\n",
    "solAnalytic = solve_ivp(linSys, [timeDom[0], timeDom[-1]], x0, t_eval=timeDom, args=(u, A_analytic, B_analytic))\n",
    "solPT2 = solve_ivp(linSys, [timeDom[0], timeDom[-1]], x0, t_eval=timeDom, args=(u, A_pt2, B_pt2))\n",
    "solPT1 = solve_ivp(linSys, [timeDom[0], timeDom[-1]], x0, t_eval=timeDom, args=(u, A_pt1, B_pt1))"
   ]
  },
  {
   "cell_type": "code",
   "execution_count": null,
   "metadata": {
    "hideOutput": true
   },
   "outputs": [],
   "source": [
    "plt.close()\n",
    "\n",
    "fig1, axes10 = plt.subplots(1, 1, figsize=(12,7))\n",
    "\n",
    "axes10.plot(messungTank1Tank2['time'], messungTank1Tank2['HeightT2'], label=r'Messung Tank 1 & Tank 2')\n",
    "axes10.plot(messungTank2['time'], messungTank2['HeightT2'], label=r'Messung Tank 2')\n",
    "axes10.plot(timeDom, solAnalytic.y[0], label='physikalisch')\n",
    "axes10.plot(timeDom, solPT2.y[0], label=r'PT$_2$')\n",
    "axes10.plot(timeDom, solPT1.y[0], label=r'PT$_1$')\n",
    "\n",
    "axes10.set_ylabel(r'$z_2$ [$m$]')\n",
    "axes10.set_xlabel(r'Zeit [$s$]')\n",
    "\n",
    "handlesAx1, labelsAx1 = axes10.get_legend_handles_labels()\n",
    "axes10.legend([handle for i, handle in enumerate(handlesAx1)],\n",
    "              [label for i, label in enumerate(labelsAx1)],\n",
    "              bbox_to_anchor=(0., 1.02, 1., .102), loc=3,\n",
    "              ncol=9, mode=\"expand\", borderaxespad=0., framealpha=0.5)\n",
    "\n",
    "axes10.grid()\n",
    "plt.show()"
   ]
  },
  {
   "cell_type": "code",
   "execution_count": null,
   "metadata": {},
   "outputs": [],
   "source": []
  }
 ],
 "metadata": {
  "kernelspec": {
   "display_name": "Python 3 (ipykernel)",
   "language": "python",
   "name": "python3"
  },
  "language_info": {
   "codemirror_mode": {
    "name": "ipython",
    "version": 3
   },
   "file_extension": ".py",
   "mimetype": "text/x-python",
   "name": "python",
   "nbconvert_exporter": "python",
   "pygments_lexer": "ipython3",
   "version": "3.10.6"
  },
  "latex_envs": {
   "LaTeX_envs_menu_present": true,
   "autoclose": false,
   "autocomplete": true,
   "bibliofile": "sources.bib",
   "cite_by": "apalike",
   "current_citInitial": 1,
   "eqLabelWithNumbers": true,
   "eqNumInitial": 1,
   "hotkeys": {
    "equation": "Ctrl-E",
    "itemize": "Ctrl-I"
   },
   "labels_anchors": false,
   "latex_user_defs": false,
   "report_style_numbering": false,
   "user_envs_cfg": false
  },
  "vscode": {
   "interpreter": {
    "hash": "97109904d91d64166babdadfddcabc7eb6cc9d4cd5649e713d505a2bcddce607"
   }
  }
 },
 "nbformat": 4,
 "nbformat_minor": 2
}
