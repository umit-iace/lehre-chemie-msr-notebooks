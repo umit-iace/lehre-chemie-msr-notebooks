{
 "cells": [
  {
   "cell_type": "code",
   "execution_count": null,
   "id": "8183c514-ab54-4454-87f7-016e17851ac1",
   "metadata": {},
   "outputs": [],
   "source": [
    "%matplotlib widget\n",
    "\n",
    "import ipywidgets as widgets\n",
    "from ipywidgets import HBox, VBox, jslink, Box, Layout\n",
    "import numpy as np\n",
    "import sympy as sp\n",
    "import matplotlib.pyplot as plt\n",
    "from scipy.signal import TransferFunction, bode, lsim, lti\n",
    "from scipy import signal\n",
    "import control.matlab as control\n",
    "from IPython.display import Math, display"
   ]
  },
  {
   "cell_type": "code",
   "execution_count": null,
   "id": "fadb31ef-5d3c-419a-893c-4cea2c45fd92",
   "metadata": {},
   "outputs": [],
   "source": [
    "def make_box_layout():\n",
    "     return widgets.Layout(\n",
    "        border='solid 1px black',\n",
    "        margin='0px 5px 5px 0px',\n",
    "        padding='2px 2px 2px 2px'\n",
    "     )"
   ]
  },
  {
   "cell_type": "markdown",
   "id": "b80ae611-f619-4c7a-afa6-fba30dbbc624",
   "metadata": {},
   "source": [
    "# Zweipunkt Regler"
   ]
  },
  {
   "cell_type": "code",
   "execution_count": null,
   "id": "fc2d81ca-3731-441f-8ff2-f42000432b27",
   "metadata": {},
   "outputs": [],
   "source": [
    "class Regler2Pkt:\n",
    "    def __init__(self, setPoint, hyst, minOut, maxOut):\n",
    "        self.setPoint = setPoint\n",
    "        self.hyst = hyst\n",
    "        self.minOut = minOut\n",
    "        self.maxOut = maxOut\n",
    "        self.state = None\n",
    "    \n",
    "    def reset(self):\n",
    "        self.state = None\n",
    "    \n",
    "    def regel(self, curValue):\n",
    "        if self.state is None:\n",
    "            if curValue > self.setPoint:\n",
    "                self.state = True\n",
    "            else:\n",
    "                self.state = False\n",
    "                \n",
    "        if self.state == False and curValue > self.setPoint + self.hyst:\n",
    "            self.state = True\n",
    "        elif self.state == True and curValue < self.setPoint - self.hyst:\n",
    "            self.state = False\n",
    "        \n",
    "        if self.state:\n",
    "            out = self.minOut\n",
    "        else:\n",
    "            out = self.maxOut\n",
    "            \n",
    "        return out                    "
   ]
  },
  {
   "cell_type": "markdown",
   "id": "0d89ebce-2ebf-4e18-8aec-bded6be14b5c",
   "metadata": {},
   "source": [
    "## Strecke\n",
    "\\begin{align*}\n",
    "    G_\\mathrm{S}(s) &= \\frac{K_\\mathrm{S}}{1 + T_1 \\, s} \\, e^{-T_\\mathrm{t} \\, s}\n",
    "\\end{align*}"
   ]
  },
  {
   "cell_type": "code",
   "execution_count": null,
   "id": "35f3140e-bd7d-4119-9f70-2cf9905765ce",
   "metadata": {},
   "outputs": [],
   "source": [
    "class PT1Tt:\n",
    "    def __init__(self, T, K, L, dt, x0):\n",
    "        self.T = T\n",
    "        self.K = K\n",
    "        self.L = L\n",
    "        self.dt = dt\n",
    "        self.y = x0\n",
    "        self.yHist = np.ones([int(L / dt)]) * x0\n",
    "    \n",
    "    def out(self, u):\n",
    "        \n",
    "        dtdy = 1 / self.T * (self.K * u - self.y)\n",
    "        self.y += self.dt * dtdy\n",
    "        self.yHist = np.concatenate((np.array([self.y]), self.yHist[0:-1]))\n",
    "        \n",
    "        return self.yHist[-1]\n",
    "    \n",
    "    def sim(self, u):\n",
    "        yRes = []\n",
    "        for idx, x in np.ndenumerate(u):\n",
    "            y = self.out(x)\n",
    "            yRes.append(y) \n",
    "        \n",
    "        return yRes\n",
    "    \n",
    "    def reset(self, x0):\n",
    "        self.y = x0\n",
    "        self.yHist = np.ones([int(self.L / self.dt)]) * x0"
   ]
  },
  {
   "cell_type": "markdown",
   "id": "62e36ed8-8e14-4a9f-8244-f2fe87569889",
   "metadata": {},
   "source": [
    "## Simulations Variablen"
   ]
  },
  {
   "cell_type": "code",
   "execution_count": null,
   "id": "3eff028b-05b1-46c6-bdd3-3ed777ecf002",
   "metadata": {},
   "outputs": [],
   "source": [
    "tSim = np.linspace(0, 50, 5001) # Zeitvektor\n",
    "dt = np.diff(tSim)[0] # Abtastzeit"
   ]
  },
  {
   "cell_type": "markdown",
   "id": "6a8e7ee9-af6b-4744-acc8-2ba0c6008cd6",
   "metadata": {},
   "source": [
    "## Streckenparameter"
   ]
  },
  {
   "cell_type": "code",
   "execution_count": null,
   "id": "d7821f85-dc2e-40dd-95bc-1d28cc886acf",
   "metadata": {},
   "outputs": [],
   "source": [
    "T1 = 5\n",
    "KS = 2\n",
    "Tt = 0.1\n",
    "uMax = 1\n",
    "strecke = PT1Tt(T1, KS, Tt, dt, 0)"
   ]
  },
  {
   "cell_type": "markdown",
   "id": "7a2c9fef-93b0-462d-bfe1-9cf4e56314b8",
   "metadata": {},
   "source": [
    "## Sprungantwort"
   ]
  },
  {
   "cell_type": "code",
   "execution_count": null,
   "id": "206ab1ed-3c11-42bf-8aba-6297feab124c",
   "metadata": {},
   "outputs": [],
   "source": [
    "u = np.ones(tSim.size) * uMax"
   ]
  },
  {
   "cell_type": "code",
   "execution_count": null,
   "id": "0f1e56b5-084c-4f78-b75e-2e80697454bc",
   "metadata": {},
   "outputs": [],
   "source": [
    "res = strecke.sim(u)"
   ]
  },
  {
   "cell_type": "code",
   "execution_count": null,
   "id": "243a1335-dfff-4214-96ca-aa6236ecf096",
   "metadata": {},
   "outputs": [],
   "source": [
    "plt.figure()\n",
    "plt.plot(tSim, res)\n",
    "plt.xlabel('t [s]')\n",
    "plt.ylabel('y(t)')\n",
    "plt.grid()"
   ]
  },
  {
   "cell_type": "markdown",
   "id": "b4435f1a-2443-4bc4-993d-aae0bebdec11",
   "metadata": {},
   "source": [
    "## Simulation des 2-Punkt Reglers"
   ]
  },
  {
   "cell_type": "code",
   "execution_count": null,
   "id": "eb14b05d-36ac-4a44-b0e8-18f0ecaea7e7",
   "metadata": {},
   "outputs": [],
   "source": [
    "output = widgets.Output()\n",
    "\n",
    "with output:\n",
    "    fig = plt.figure(figsize=(10, 5))\n",
    "    ax = plt.subplot(111)\n",
    "\n",
    "plt.subplots_adjust(wspace=0.2, hspace=0.3)\n",
    "fig.canvas.toolbar_visible = False\n",
    "fig.canvas.header_visible = False\n",
    "fig.canvas.footer_visible = False\n",
    "fig.subplots_adjust(bottom=0.1, top=0.93, left=0.125, right=0.9)\n",
    "\n",
    "ax.set_xlim([0, tSim[-1]]) \n",
    "ax.set_ylim([-0.05, 3.5]) \n",
    "ax.grid() \n",
    "ax.set_xlabel(r\"$t [s]$\")\n",
    "\n",
    "uSys, = ax.plot([], [], label=r'Stellgröße $u_{\\mathrm{r}}$')\n",
    "ySys, = ax.plot([], [], label=r'Prozess $y$')\n",
    "yRefSys, = ax.plot([], [], label=r'Referenz $y_{\\mathrm{r}}$')\n",
    "\n",
    "handlesAx, labelsAx = ax.get_legend_handles_labels()\n",
    "fig.legend([handle for i, handle in enumerate(handlesAx)],\n",
    "           [label for i, label in enumerate(labelsAx)],\n",
    "           bbox_to_anchor=(0.13, 0.94, 0.7675, .15), loc=3,\n",
    "           ncol=3, mode=\"expand\", borderaxespad=0., framealpha=0.5)\n",
    "\n",
    "\n",
    "\n",
    "sliderYr = widgets.FloatSlider(value=1.5,\n",
    "                               min=0,\n",
    "                               max= KS * uMax,\n",
    "                               step=0.1,\n",
    "                               description=r'$y_\\mathrm{r}$')\n",
    "checkHyst = widgets.Checkbox(value=False,\n",
    "                             description='Hysteres',\n",
    "                             disabled=False)\n",
    "sliderTt= widgets.FloatSlider(value=1,\n",
    "                              min=0,\n",
    "                              max=3,\n",
    "                              step=0.5,\n",
    "                              description=r'$T_\\mathrm{t}$')\n",
    "sliderYL = widgets.FloatSlider(value=0.1,\n",
    "                              min=0,\n",
    "                              max=1,\n",
    "                              step=0.1,\n",
    "                              description='$y_\\mathrm{L}$')\n",
    "sliderUMax = widgets.FloatSlider(value=1,\n",
    "                              min=0,\n",
    "                              max=10,\n",
    "                              step=0.5,\n",
    "                              description='$u_\\mathrm{max}$')\n",
    "sliderKS = widgets.FloatSlider(value=2,\n",
    "                              min=1,\n",
    "                              max=5,\n",
    "                              step=1,\n",
    "                              description='$K_\\mathrm{S}$')\n",
    "\n",
    "def calcSystem(_):\n",
    "    yR = sliderYr.value\n",
    "    Tt = sliderTt.value    \n",
    "    KS = sliderKS.value\n",
    "    uMax = sliderUMax.value\n",
    "    sliderYr.max = KS * uMax\n",
    "    \n",
    "    prozess = PT1Tt(T1, KS, Tt, dt, 0) # Prozess\n",
    "    \n",
    "    if checkHyst.value:\n",
    "        sliderYL.layout.visibility = 'visible'\n",
    "        yL = sliderYL.value\n",
    "    else:\n",
    "        sliderYL.layout.visibility = 'hidden'\n",
    "        yL = 0\n",
    "    \n",
    "    regler = Regler2Pkt(yR, yL, 0, uMax) # Regler\n",
    "        \n",
    "    yRes = [0]\n",
    "    uRes = []\n",
    "    prozess.reset(0)\n",
    "    regler.reset()\n",
    "    for idx, x in np.ndenumerate(tSim):\n",
    "        u = regler.regel(yRes[-1])\n",
    "        y = prozess.out(u)\n",
    "        yRes.append(y)\n",
    "        uRes.append(u)\n",
    "    \n",
    "      \n",
    "    uSys.set_data(tSim, uRes)\n",
    "    ySys.set_data(tSim, yRes[1::])\n",
    "    yRefSys.set_data(tSim[[0, -1]], np.array([yR, yR]))\n",
    "    fig.canvas.draw()\n",
    "\n",
    "sliderYr.observe(calcSystem, names='value')\n",
    "checkHyst.observe(calcSystem, names='value')\n",
    "sliderTt.observe(calcSystem, names='value')\n",
    "sliderYL.observe(calcSystem, names='value')\n",
    "sliderKS.observe(calcSystem, names='value')\n",
    "sliderUMax.observe(calcSystem, names='value')\n",
    "\n",
    "calcSystem(_)\n",
    "\n",
    "contControls = VBox([sliderYr, sliderUMax, checkHyst, sliderYL])\n",
    "contControls.layout = make_box_layout()\n",
    "sysControls = VBox([sliderKS, sliderTt])\n",
    "sysControls.layout = make_box_layout()\n",
    "\n",
    "controls = HBox([sysControls, contControls])\n",
    "VBox([controls, output], layout=Layout(display='flex', flex_flow='row', justify_content='center', align_items='center'))"
   ]
  },
  {
   "cell_type": "code",
   "execution_count": null,
   "id": "285b2874-94e5-451f-ba7a-fe2e7c60bb32",
   "metadata": {},
   "outputs": [],
   "source": []
  }
 ],
 "metadata": {
  "kernelspec": {
   "display_name": "Python 3 (ipykernel)",
   "language": "python",
   "name": "python3"
  },
  "language_info": {
   "codemirror_mode": {
    "name": "ipython",
    "version": 3
   },
   "file_extension": ".py",
   "mimetype": "text/x-python",
   "name": "python",
   "nbconvert_exporter": "python",
   "pygments_lexer": "ipython3",
   "version": "3.10.9"
  },
  "latex_envs": {
   "LaTeX_envs_menu_present": true,
   "autoclose": false,
   "autocomplete": true,
   "bibliofile": "sources.bib",
   "cite_by": "apalike",
   "current_citInitial": 1,
   "eqLabelWithNumbers": true,
   "eqNumInitial": 1,
   "hotkeys": {
    "equation": "Ctrl-E",
    "itemize": "Ctrl-I"
   },
   "labels_anchors": false,
   "latex_user_defs": false,
   "report_style_numbering": false,
   "user_envs_cfg": false
  }
 },
 "nbformat": 4,
 "nbformat_minor": 5
}
