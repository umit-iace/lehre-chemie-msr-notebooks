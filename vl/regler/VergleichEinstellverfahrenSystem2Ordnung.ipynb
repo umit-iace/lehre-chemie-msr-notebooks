{
 "cells": [
  {
   "cell_type": "code",
   "execution_count": null,
   "id": "469ec3e2-76fd-4e0f-9a96-6ca3a15e72fb",
   "metadata": {},
   "outputs": [],
   "source": [
    "%matplotlib widget\n",
    "\n",
    "import ipywidgets as widgets\n",
    "from ipywidgets import HBox, VBox, jslink, Box, Layout\n",
    "import numpy as np\n",
    "import sympy as sp\n",
    "import matplotlib.pyplot as plt\n",
    "from scipy.signal import TransferFunction, bode, lsim\n",
    "from scipy import signal\n",
    "import control.matlab as control\n",
    "from IPython.display import Math, display"
   ]
  },
  {
   "cell_type": "code",
   "execution_count": null,
   "id": "45d67877-33d7-445f-9caf-291a0bea2d9b",
   "metadata": {},
   "outputs": [],
   "source": [
    "def make_box_layout():\n",
    "     return widgets.Layout(\n",
    "        border='solid 1px black',\n",
    "        margin='0px 10px 10px 0px',\n",
    "        padding='5px 5px 5px 5px'\n",
    "     )"
   ]
  },
  {
   "cell_type": "markdown",
   "id": "93533fb2-eec0-4608-872b-b98cff356d21",
   "metadata": {},
   "source": [
    "# Vergleich Einstellregeln"
   ]
  },
  {
   "cell_type": "markdown",
   "id": "82f085bb-5e08-4cd8-b6b2-276ca1694050",
   "metadata": {},
   "source": [
    "## System 2. Ordnung\n",
    "\n",
    "\\begin{align*}\n",
    "    G_\\mathrm{S} &= \\frac{5}{(1 + 2 \\, s) \\, (1 + 0.7 \\, s)}\n",
    "\\end{align*}"
   ]
  },
  {
   "cell_type": "code",
   "execution_count": null,
   "id": "50862342-edb6-4446-aaa1-503fe2b9c1f2",
   "metadata": {},
   "outputs": [],
   "source": [
    "KS = 5\n",
    "T1 = 2\n",
    "T2 = 0.7\n",
    "sys = signal.lti([KS], [T1 * T2, T1 + T2, 1])"
   ]
  },
  {
   "cell_type": "code",
   "execution_count": null,
   "id": "c1f4ede4-a3d3-4129-ab4b-53e971698697",
   "metadata": {},
   "outputs": [],
   "source": [
    "t = np.linspace(0, 10, 1001)\n",
    "u = np.ones(t.size) * 3 "
   ]
  },
  {
   "cell_type": "markdown",
   "id": "961c25c4-2dbd-4309-aac4-bf70356452f4",
   "metadata": {
    "tags": []
   },
   "source": [
    "## Polkompensation"
   ]
  },
  {
   "cell_type": "code",
   "execution_count": null,
   "id": "1b8c91e8-abe9-49e5-b00d-3c89b5eac9bd",
   "metadata": {},
   "outputs": [],
   "source": [
    "TN = (T1 + T2)\n",
    "TV = T1 * T2 / (T1 + T2)\n",
    "KP = 1"
   ]
  },
  {
   "cell_type": "code",
   "execution_count": null,
   "id": "fe5a47c0-de1c-4ff1-90e3-e265a48e2436",
   "metadata": {},
   "outputs": [],
   "source": [
    "f = np.logspace(-2, 5)\n",
    "\n",
    "# Strecke\n",
    "sys = control.tf([KS], [T1 * T2, T1 + T2, 1])\n",
    "mag, phase, w = control.bode(sys, f, plot = False)\n",
    "\n",
    "# Regler\n",
    "reg = control.tf([KP * T1 * T2, KP * (T1 + T2), KP], [T1 + T2, 0])\n",
    "magReg, phaseReg, wReg = control.bode(reg, f, plot = False)\n",
    "\n",
    "# Offener Kreis\n",
    "G0 = sys * reg\n",
    "magG0, phaseG0, wG0 = control.bode(G0, f, plot = False)\n",
    "\n",
    "# Geschlossener Kreis\n",
    "Gw = G0 / (1 + G0)\n",
    "magGw, phaseGw, wGw = control.bode(Gw, f, plot = False)"
   ]
  },
  {
   "cell_type": "markdown",
   "id": "3a12ca0e-16de-4eab-a153-09a150db2aba",
   "metadata": {},
   "source": [
    "## Betragsoptimum\n",
    "Eine dominierende Zeitkonstate $\\Rightarrow$ PI-Regler"
   ]
  },
  {
   "cell_type": "code",
   "execution_count": null,
   "id": "f7d6d740-382a-4529-8b6c-73b78aef672b",
   "metadata": {},
   "outputs": [],
   "source": [
    "TSum = T2\n",
    "KpOpt = T1 / (2 * KS * TSum)\n",
    "regOpt = control.tf([KpOpt * T1, KpOpt], [T1, 0])"
   ]
  },
  {
   "cell_type": "code",
   "execution_count": null,
   "id": "c7c01a9c-ade9-4501-b396-fab12b4fcecb",
   "metadata": {},
   "outputs": [],
   "source": [
    "G0Opt = sys * regOpt\n",
    "GwOpt = G0Opt / (1 + G0Opt)\n",
    "magGwOpt, phaseGwOpt, wGwOpt = control.bode(GwOpt, f, plot = False)"
   ]
  },
  {
   "cell_type": "code",
   "execution_count": null,
   "id": "1bdf0415-a63d-40d6-984b-32278b7f11ba",
   "metadata": {},
   "outputs": [],
   "source": [
    "ySimOpt, tSimOpt, _ = control.lsim(GwOpt, U=u, T=t)"
   ]
  },
  {
   "cell_type": "markdown",
   "id": "512e40bb-4f9e-44c1-a4a5-98052bf03e2d",
   "metadata": {
    "tags": []
   },
   "source": [
    "## Frequenzkennlinienverfahren\n",
    "### Spezifikation\n",
    "\n",
    "\\begin{align*}\n",
    "    T_\\mathrm{r} &= 5 \\\\\n",
    "    \\Delta h & = 0,1 \\\\\n",
    "    e_\\infty &= 0~\\text{bei Sprung}\n",
    "\\end{align*}"
   ]
  },
  {
   "cell_type": "code",
   "execution_count": null,
   "id": "a4b9b35c-0b7b-4660-a6f6-c89ae51a4bb5",
   "metadata": {},
   "outputs": [],
   "source": [
    "Tr = 1.5\n",
    "dH = 0.1"
   ]
  },
  {
   "cell_type": "code",
   "execution_count": null,
   "id": "4986895a-4206-4d3f-aed7-3a84fb0956e3",
   "metadata": {},
   "outputs": [],
   "source": [
    "wc = 1.5 / Tr\n",
    "Math(r'\\omega_\\mathrm{c} =' + str(wc))"
   ]
  },
  {
   "cell_type": "code",
   "execution_count": null,
   "id": "69908325-06f2-4b20-83ed-66dc915ad526",
   "metadata": {},
   "outputs": [],
   "source": [
    "phi = 70 - 100 * dH\n",
    "Math(r'\\varphi_\\mathrm{m} = ' + str(phi))"
   ]
  },
  {
   "cell_type": "code",
   "execution_count": null,
   "id": "5dba0389-c3d0-4721-a909-3f509d4bfc4d",
   "metadata": {},
   "outputs": [],
   "source": [
    "G01Fkv = sys * control.tf([1], [1, 0])\n",
    "G01Fkv"
   ]
  },
  {
   "cell_type": "code",
   "execution_count": null,
   "id": "b4659e96-024f-4395-8c62-ea14cf30872c",
   "metadata": {},
   "outputs": [],
   "source": [
    "fig = plt.figure(figsize=(10, 5))\n",
    "magG01Fkv, phaseG01Fkv, wG01Fkv=control.bode(G01Fkv, f)"
   ]
  },
  {
   "cell_type": "markdown",
   "id": "1d4ed978-d158-4900-a569-908a881e38d3",
   "metadata": {},
   "source": [
    "### Abgelesene Werte bei $\\omega_\\mathrm{c}$"
   ]
  },
  {
   "cell_type": "code",
   "execution_count": null,
   "id": "4f278212-02d4-4ab6-af95-c84081b00e96",
   "metadata": {},
   "outputs": [],
   "source": [
    "magFkvWc, phaseFkvWc, wFkvWc = control.bode(G01Fkv, np.linspace(wc, wc, 1))"
   ]
  },
  {
   "cell_type": "code",
   "execution_count": null,
   "id": "a86c703d-8053-4944-9581-cf91a5fa600d",
   "metadata": {},
   "outputs": [],
   "source": [
    "Math(r'|G_{0,1}(j\\omega_\\mathrm{c})| = ' + str(control.mag2db(magFkvWc[0])))"
   ]
  },
  {
   "cell_type": "code",
   "execution_count": null,
   "id": "6d7e3627-956a-408c-9c75-62d5c9b9d9fc",
   "metadata": {},
   "outputs": [],
   "source": [
    "Math(r'\\arg \\, G_{0,1}(j\\omega_\\mathrm{c}) = ' + str(np.rad2deg(phaseFkvWc[0])))"
   ]
  },
  {
   "cell_type": "markdown",
   "id": "0adfff28-c02c-472b-a3e0-d3883db61238",
   "metadata": {},
   "source": [
    "### Phasenkorrektur"
   ]
  },
  {
   "cell_type": "code",
   "execution_count": null,
   "id": "770a801d-589f-41f9-a2d1-637949657fba",
   "metadata": {},
   "outputs": [],
   "source": [
    "phaseKorr = -(180 - 60) - np.rad2deg(phaseFkvWc[0])\n",
    "Math(r'\\varphi_\\mathrm{kor} = ' + str(phaseKorr))"
   ]
  },
  {
   "cell_type": "code",
   "execution_count": null,
   "id": "1a4f4257-17f8-442d-ae3a-0aa27d712e74",
   "metadata": {},
   "outputs": [],
   "source": [
    "TnFkv = 1 / wc * np.tan(phaseKorr * np.pi / 180)\n",
    "Math(r'T_\\mathrm{N} =' + str(TnFkv))"
   ]
  },
  {
   "cell_type": "code",
   "execution_count": null,
   "id": "3ed105cd-45bc-438f-a3d9-e69cdf332e8d",
   "metadata": {},
   "outputs": [],
   "source": [
    "G02Fkv = G01Fkv * control.tf([TnFkv, 1], [1])\n",
    "G02Fkv"
   ]
  },
  {
   "cell_type": "code",
   "execution_count": null,
   "id": "55bc1593-40af-4a49-b54b-90c96f1fa009",
   "metadata": {},
   "outputs": [],
   "source": [
    "magFkvWc2, phaseFkvWc2, wFkvWc2 = control.bode(G02Fkv, np.linspace(wc, wc, 1), plot = False)"
   ]
  },
  {
   "cell_type": "code",
   "execution_count": null,
   "id": "6684e45c-e067-4353-a967-179b92c09304",
   "metadata": {},
   "outputs": [],
   "source": [
    "KpFkv = 1 / (magFkvWc2[0])\n",
    "Math('K_\\mathrm{p,fkv} =' + str(KpFkv))"
   ]
  },
  {
   "cell_type": "code",
   "execution_count": null,
   "id": "0f0e79bb-c18e-4e0c-a7dc-14bc9ced7e99",
   "metadata": {},
   "outputs": [],
   "source": [
    "regFkv = KpFkv * control.tf([TnFkv, 1], [1, 0])\n"
   ]
  },
  {
   "cell_type": "code",
   "execution_count": null,
   "id": "d372b6fe-7bef-4c06-8714-d0d06835098a",
   "metadata": {},
   "outputs": [],
   "source": [
    "G0Fkv = sys * regFkv\n",
    "GwFkv = G0Fkv / (1 + G0Fkv)\n",
    "magG01Fkv, phaseG01Fkv, wG01Fkv = control.bode(G01Fkv, f, plot=False)\n",
    "magG02Fkv, phaseG02Fkv, wG02Fkv = control.bode(G02Fkv, f, plot=False)\n",
    "magG0Fkv, phaseG0Fkv, wG0Fkv = control.bode(G0Fkv, f, plot=False)"
   ]
  },
  {
   "cell_type": "code",
   "execution_count": null,
   "id": "6974ec73-069b-42df-8fc7-ebfe7eb9bb86",
   "metadata": {},
   "outputs": [],
   "source": [
    "magGwFkv, phaseGwFkv, wGwFkv = control.bode(GwFkv, f, plot=True)"
   ]
  },
  {
   "cell_type": "code",
   "execution_count": null,
   "id": "2b489d03-9559-43a4-bffd-9376b8fba62c",
   "metadata": {},
   "outputs": [],
   "source": [
    "ySimFkv, tSimFkv, _ = control.lsim(GwFkv, U=u, T=t)"
   ]
  },
  {
   "cell_type": "markdown",
   "id": "27dfc06b-ec0e-4f99-a106-96504d34f578",
   "metadata": {
    "tags": []
   },
   "source": [
    "## Verfahren nach Reinisch"
   ]
  },
  {
   "cell_type": "code",
   "execution_count": null,
   "id": "f1b4bc35-e600-42fe-8ceb-68a0c6606294",
   "metadata": {},
   "outputs": [],
   "source": [
    "avRein = 1.4\n",
    "TnRein = T1\n",
    "TSum = T2\n",
    "KpRein = TnRein / (avRein * KS * TSum)"
   ]
  },
  {
   "cell_type": "code",
   "execution_count": null,
   "id": "2ca3edd4-d00d-4603-9c47-fdc8a6663328",
   "metadata": {},
   "outputs": [],
   "source": [
    "regRein = control.tf([KpRein * TnRein, KpRein], [TnRein, 0])"
   ]
  },
  {
   "cell_type": "code",
   "execution_count": null,
   "id": "3350b408-5451-49fa-9b60-b8911017b6f7",
   "metadata": {},
   "outputs": [],
   "source": [
    "G0Rein = sys * regRein\n",
    "GwRein = G0Rein / (1 + G0Rein)\n",
    "magGwRein, phaseGwRein, wGwRein = control.bode(GwRein, f, plot = False)"
   ]
  },
  {
   "cell_type": "code",
   "execution_count": null,
   "id": "4afa5482-0ae6-4400-a678-559deb66a261",
   "metadata": {},
   "outputs": [],
   "source": [
    "ySimRein, tSimRein, _ = control.lsim(GwRein, U=u, T=t)"
   ]
  },
  {
   "cell_type": "code",
   "execution_count": null,
   "id": "977f0e93-6be6-484c-9d9c-8cf4d92a58a6",
   "metadata": {},
   "outputs": [],
   "source": [
    "KpFkv"
   ]
  },
  {
   "cell_type": "code",
   "execution_count": null,
   "id": "353f296d-0b5c-4744-b678-89d87fd83eab",
   "metadata": {},
   "outputs": [],
   "source": [
    "KpRein"
   ]
  },
  {
   "cell_type": "markdown",
   "id": "d3934776-8433-4e8e-aee4-fbc96b49c288",
   "metadata": {
    "tags": []
   },
   "source": [
    "## Vergleich"
   ]
  },
  {
   "cell_type": "code",
   "execution_count": null,
   "id": "5bcd632b-d193-4771-902c-b85e8b42b441",
   "metadata": {},
   "outputs": [],
   "source": [
    "output = widgets.Output()\n",
    "\n",
    "with output:\n",
    "    fig = plt.figure(figsize=(10, 5))\n",
    "    ax3 = plt.subplot(122)\n",
    "    ax1 = plt.subplot(221)\n",
    "    ax2 = plt.subplot(223)\n",
    "\n",
    "plt.subplots_adjust(wspace=0.2, hspace=0.1)\n",
    "fig.canvas.toolbar_visible = False\n",
    "fig.canvas.header_visible = False\n",
    "fig.canvas.footer_visible = False\n",
    "fig.subplots_adjust(bottom=0.1, top=0.93, left=0.125, right=0.9)\n",
    "\n",
    "ax1.grid() \n",
    "ax2.grid()\n",
    "ax3.grid()\n",
    "[label.set_visible(False) for label in ax1.get_xticklabels()]\n",
    "ax2.set_xlabel(r\"$y$\")\n",
    "ax3.set_xlabel(r\"$t$\")\n",
    "ax1.set_ylabel(r\"$|G(j \\omega)|_{\\mathrm{dB}}$\")\n",
    "ax2.set_ylabel(r\"$\\mathrm{arg}\\, G(j\\omega)/^{\\circ}$\")\n",
    "\n",
    "magCLPlot, = ax1.semilogx(wGw, control.mag2db(magGw), label=r'$G_\\mathrm{w}:~K_\\mathrm{p}=$' + str(KP))\n",
    "phaseCLPlot, = ax2.semilogx(wGw, np.rad2deg(phaseGw))\n",
    "magCLOptPlot, = ax1.semilogx(wGwOpt, control.mag2db(magGwOpt), label=r'opt')\n",
    "phaseCLOptPlot, = ax2.semilogx(wGwOpt, np.rad2deg(phaseGwOpt))\n",
    "magCLReinPlot, = ax1.semilogx(wGwRein, control.mag2db(magGwRein), label=r'rein')\n",
    "phaseCLReinPlot, = ax2.semilogx(wGwRein, np.rad2deg(phaseGwRein))\n",
    "magCLFkvPlot, = ax1.semilogx(wGwFkv, control.mag2db(magGwFkv), label=r'Fkv')\n",
    "phaseCLFkvPlot, = ax2.semilogx(wGwFkv, np.rad2deg(phaseGwFkv))\n",
    "\n",
    "ax1.semilogx(w, control.mag2db(mag), label=r'$G_\\mathrm{s}$')\n",
    "ax2.semilogx(w, np.rad2deg(phase))\n",
    "\n",
    "simInputPlot, = ax3.plot([], [], label=r'$w(t)$')\n",
    "simOutputPlot, = ax3.plot([], [], label=r'$y(t)$')\n",
    "simOutputOptPlot, = ax3.plot(tSimOpt, ySimOpt, '--', label=r'$opt$')\n",
    "simOutputReinPlot, = ax3.plot(tSimRein, ySimRein, label=r'$rein$')\n",
    "simOutputFkvPlot, = ax3.plot(tSimFkv, ySimFkv, label=r'$Fkv$')\n",
    "\n",
    "handlesAx, labelsAx = ax3.get_legend_handles_labels()\n",
    "fig.legend([handle for i, handle in enumerate(handlesAx)],\n",
    "           [label for i, label in enumerate(labelsAx)],\n",
    "           bbox_to_anchor=(0.5475, 0.94, 0.3525, .15), loc=3,\n",
    "           ncol=4, mode=\"expand\", borderaxespad=0., framealpha=0.5)\n",
    "\n",
    "handlesAx, labelsAx = ax1.get_legend_handles_labels()\n",
    "handelsLeg = fig.legend([handle for i, handle in enumerate(handlesAx)],\n",
    "           [label for i, label in enumerate(labelsAx)],\n",
    "           bbox_to_anchor=(0.125, 0.94, 0.3525, .15), loc=3,\n",
    "           ncol=4, mode=\"expand\", borderaxespad=0., framealpha=0.5)\n",
    "\n",
    "sliderFreq = widgets.FloatSlider(value=1,\n",
    "                                    min=0.1,\n",
    "                                    max=5,\n",
    "                                    step=0.01,\n",
    "                                    description='Kp')\n",
    "\n",
    "checkBetragOpt = widgets.Checkbox(value=False,\n",
    "                                    description='Betragsoptimum',\n",
    "                                    disabled=False)\n",
    "\n",
    "\n",
    "checkReinisch = widgets.Checkbox(value=False,\n",
    "                                    description='Reinisch',\n",
    "                                    disabled=False)\n",
    "\n",
    "checkFkv = widgets.Checkbox(value=False,\n",
    "                                    description='Fkv',\n",
    "                                    disabled=False)\n",
    "\n",
    "def calcSystem(_):\n",
    "   \n",
    "    KP = sliderFreq.value\n",
    "    \n",
    "    reg = control.tf([KP * T1 * T2, KP * (T1 + T2), KP], [T1 + T2, 0])\n",
    "    G0 = sys * reg\n",
    "    magG0, phaseG0, wG0 = control.bode(G0, f, plot = False)\n",
    "\n",
    "    Gw = G0 / (1 + G0)\n",
    "    magGw, phaseGw, wGw = control.bode(Gw, f, plot = False)\n",
    "    \n",
    "    magCLPlot.set_data(wGw, control.mag2db(magGw))\n",
    "    phaseCLPlot.set_data(wGw, np.rad2deg(phaseGw))\n",
    "    handelsLeg.get_texts()[0].set_text(r'$G_\\mathrm{w}:~K_\\mathrm{p}=$' + str(KP))\n",
    "       \n",
    "    ySim, tSim, xSim = control.lsim(Gw, U=u, T=t)\n",
    "    \n",
    "    if checkBetragOpt.value:\n",
    "        magCLOptPlot.set_alpha(1.0)\n",
    "        phaseCLOptPlot.set_alpha(1.0)\n",
    "        magCLOptPlot.set_label(r'opt')\n",
    "        handelsLeg.get_texts()[1].set_text(r'opt')\n",
    "        \n",
    "        simOutputOptPlot.set_alpha(1.0)\n",
    "    else:\n",
    "        magCLOptPlot.set_alpha(0.0)\n",
    "        phaseCLOptPlot.set_alpha(0.0)\n",
    "       # handelsLeg.get_texts()[1].set_text(r'')\n",
    "        simOutputOptPlot.set_alpha(0.0)\n",
    "    \n",
    "    if checkReinisch.value:\n",
    "        magCLReinPlot.set_alpha(1.0)\n",
    "        phaseCLReinPlot.set_alpha(1.0)\n",
    "        simOutputReinPlot.set_alpha(1.0)\n",
    "    else:\n",
    "        magCLReinPlot.set_alpha(0.0)\n",
    "        phaseCLReinPlot.set_alpha(0.0)\n",
    "        simOutputReinPlot.set_alpha(0.0)\n",
    "    \n",
    "    if checkFkv.value:\n",
    "        magCLFkvPlot.set_alpha(1.0)\n",
    "        phaseCLFkvPlot.set_alpha(1.0)\n",
    "        simOutputFkvPlot.set_alpha(1.0)\n",
    "    else:\n",
    "        magCLFkvPlot.set_alpha(0.0)\n",
    "        phaseCLFkvPlot.set_alpha(0.0)\n",
    "        simOutputFkvPlot.set_alpha(0.0)         \n",
    "\n",
    "    \n",
    "    simInputPlot.set_data(t, u)\n",
    "    simOutputPlot.set_data(tSim, ySim)\n",
    "    ax3.set_xlim([0, t[-1]])\n",
    "    ax3.set_ylim([0, 3.5])\n",
    "    ax1.set_xlim([wGw[0], wGw[-1]])\n",
    "    ax2.set_xlim([wGw[0], wGw[-1]])\n",
    "    ax1.set_ylim([-200,100])\n",
    "    ax2.set_ylim([-180, 0])\n",
    "    fig.canvas.draw()\n",
    "\n",
    "sliderFreq.observe(calcSystem, names='value')\n",
    "checkBetragOpt.observe(calcSystem, names='value')\n",
    "checkReinisch.observe(calcSystem, names='value')\n",
    "checkFkv.observe(calcSystem, names='value')\n",
    "\n",
    "calcSystem(_)\n",
    "\n",
    "inputControls = Box([sliderFreq, checkBetragOpt, checkReinisch, checkFkv])\n",
    "inputControls.layout = make_box_layout()\n",
    "\n",
    "HBox([inputControls, output], layout=Layout(display='flex', flex_flow='row', justify_content='center', align_items='center'))#"
   ]
  },
  {
   "cell_type": "code",
   "execution_count": null,
   "id": "698f9f68-ec71-42b8-958c-00a47cabeef2",
   "metadata": {},
   "outputs": [],
   "source": []
  }
 ],
 "metadata": {
  "kernelspec": {
   "display_name": "Python 3 (ipykernel)",
   "language": "python",
   "name": "python3"
  },
  "language_info": {
   "codemirror_mode": {
    "name": "ipython",
    "version": 3
   },
   "file_extension": ".py",
   "mimetype": "text/x-python",
   "name": "python",
   "nbconvert_exporter": "python",
   "pygments_lexer": "ipython3",
   "version": "3.10.9"
  },
  "latex_envs": {
   "LaTeX_envs_menu_present": true,
   "autoclose": false,
   "autocomplete": true,
   "bibliofile": "sources.bib",
   "cite_by": "apalike",
   "current_citInitial": 1,
   "eqLabelWithNumbers": true,
   "eqNumInitial": 1,
   "hotkeys": {
    "equation": "Ctrl-E",
    "itemize": "Ctrl-I"
   },
   "labels_anchors": false,
   "latex_user_defs": false,
   "report_style_numbering": false,
   "user_envs_cfg": false
  }
 },
 "nbformat": 4,
 "nbformat_minor": 5
}
