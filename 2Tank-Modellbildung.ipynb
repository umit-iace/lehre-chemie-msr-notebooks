{
 "cells": [
  {
   "cell_type": "markdown",
   "metadata": {},
   "source": [
    "# Modellbildung"
   ]
  },
  {
   "cell_type": "code",
   "execution_count": null,
   "metadata": {},
   "outputs": [],
   "source": [
    "import sys\n",
    "from IPython.display import display, Markdown\n",
    "import matplotlib.pyplot as plt\n",
    "import numpy as np\n",
    "import pandas as pd\n",
    "import math\n",
    "from scipy.optimize import curve_fit\n",
    "from scipy.integrate import solve_ivp"
   ]
  },
  {
   "cell_type": "markdown",
   "metadata": {},
   "source": [
    "Ziel ist die Modellierung des Eingangs-Ausgangsverhaltens des bekannten 2-Tanksystems.\n",
    "Dazu sollen drei verschiedene Varianten verglichen werden:\n",
    "\n",
    "1. Die Zeitkonstanten des System lassen sich aus den physikalischen Parametern und der Ruhelage bestimmen.\n",
    "2. Messung des Eingang-Ausgangsverhaltens des Gesamtsystems\n",
    "3. Aufspaltung des Systems in zwei Teilsysteme und Bestimmung der Zeitkonstanten durch getrennte Betrachtung.\n",
    "\n",
    "Aufbauend auf den analytisch gegebenen Werten und der Modellbildung aus der Übung, folgt nach Linearisierung ein System zweiter Ordnung in der Form\n",
    "\\begin{align*}\n",
    "    T_1T_2\\ddot{h}_2(t) + (T_1 + T_2)\\dot{h}_2(t) + h_2(t) & = K_\\text{P} u(t)\n",
    "\\end{align*}\n"
   ]
  },
  {
   "cell_type": "markdown",
   "metadata": {},
   "source": [
    "### 1. Physikalische Modellierung\n",
    "\n",
    "Tragen Sie hierzu in die Datei params.py die"
   ]
  },
  {
   "cell_type": "code",
   "execution_count": null,
   "metadata": {},
   "outputs": [],
   "source": [
    "param_dict = readRst.readRst(datapath='../../../Dokumentation/tables/ParameterPidV1.rst')\n",
    "\n",
    "Kp_analytic = param_dict['K']\n",
    "T1_analytic = max(param_dict['Ti'], param_dict['Ts'])\n",
    "T2_analytic = min(param_dict['Ti'], param_dict['Ts'])\n",
    "\n",
    "display(Markdown(\n",
    "   rf\"\"\"\n",
    "from the **pid_design script** the individual parameters from modelling can be read out. This results in the time constants and the amplification as follows:\n",
    "\n",
    "$K_p = {Kp_analytic}$\n",
    "\n",
    "$T_1 = {T1_analytic}$\n",
    "\n",
    "$T_2 = {T2_analytic}$\n",
    "\"\"\"))\n",
    "\n",
    "# Values from physical modeling\n",
    "p_analytic = [Kp_analytic, T1_analytic, T2_analytic]"
   ]
  },
  {
   "cell_type": "markdown",
   "metadata": {},
   "source": [
    "### 2. PT2 element from smoothed step response of the lower tank"
   ]
  },
  {
   "cell_type": "markdown",
   "metadata": {},
   "source": [
    "Step response of PT2 element - creep case (page 18 \"EinführungRegelungstechnik\" PDF):\n",
    "\\begin{align*}\n",
    "h(t) = K_\\text{P}\\left(1 - \\frac{1}{T_1-T_2}\\left(T_1 e^{-\\frac{t}{T_1}} - T_2 e^{-\\frac{t}{T_2}}\\right)\\right)\n",
    "\\end{align*}\n",
    "\n",
    "However, in this formula the input is set to 1. If the system is measured with a different input, this must be taken into account accordingly. In essence, we can simply divide the $K_p$ by $u_{in}$ and we get the corresponding $K_p$ for the set input voltage."
   ]
  },
  {
   "cell_type": "code",
   "execution_count": null,
   "metadata": {},
   "outputs": [],
   "source": [
    "# Laden der Messung\n",
    "measDataPT2 = pd.read_csv('Sprungantwort_PT2_9V.csv')"
   ]
  },
  {
   "cell_type": "code",
   "execution_count": null,
   "metadata": {},
   "outputs": [],
   "source": [
    "# Definition der Sprungantwort zur Bestimmung der Zeitkonstanten\n",
    "def pt2Analytic(t, Kp, T1, T2):\n",
    "    val = Kp * (1 - 1 / (T1 - T2) * (T1 * np.exp(-t/T1) - T2 * np.exp(-t/T2)))\n",
    "    for i in range(len(val)):\n",
    "        if not math.isfinite(val[i]):\n",
    "            print(val[i])\n",
    "            val[i] = 0\n",
    "    return val"
   ]
  },
  {
   "cell_type": "code",
   "execution_count": null,
   "metadata": {},
   "outputs": [],
   "source": [
    "x_data = measDataPT2['time']\n",
    "y_data = measDataPT2['HeightT2']\n",
    "\n",
    "# errorcorrect measured data (in HeightT2 some values are nan)\n",
    "for i in range(len(y_data)):\n",
    "   if not math.isfinite(y_data[i]):\n",
    "      try:\n",
    "         # if value is nan, use mean of prev and next value\n",
    "         y_data[i] = (y_data[i-1] + y_data[i+1]) /2\n",
    "      except: \n",
    "         print('implement more ')\n",
    "\n",
    "# Delete part of the first second in which the pump voltage ramps up\n",
    "time = 0.2\n",
    "for i in range(len(x_data)):\n",
    "   if x_data[i] >= time:\n",
    "      # delete first entries, adapt indexes, set starttime = 0\n",
    "      x_data = x_data.iloc[i:]\n",
    "      x_data.index -= i\n",
    "      x_data -= time\n",
    "      # also delete corresponding height entries\n",
    "      y_data = y_data.iloc[i:]\n",
    "      y_data.index -= i\n",
    "      break\n",
    "\n",
    "# curvefitting... giving the analytic values as start values\n",
    "p_opt, _ = curve_fit(pt2_analytic, xdata=x_data, ydata=y_data, p0=p_analytic)\n",
    "\n",
    "# store fittet params:\n",
    "Kp_pt2 = p_opt[0]\n",
    "T1_pt2 = max(p_opt[1], p_opt[2]) # T1 > T2 is convention\n",
    "T2_pt2 = min(p_opt[1], p_opt[2])\n",
    "\n",
    "display(Markdown(\n",
    "   rf\"\"\"\n",
    "**Curve Fit** returns the values as follows. This results in the amplification and time constants as follows:\n",
    "\n",
    "$K_p = {Kp_pt2}$\n",
    "\n",
    "$T_1 = {T1_pt2}$\n",
    "\n",
    "$T_2 = {T2_pt2}$\n",
    "\"\"\"))"
   ]
  },
  {
   "cell_type": "markdown",
   "metadata": {},
   "source": [
    "Vergleich der Ergebnisse mit Messung"
   ]
  },
  {
   "cell_type": "code",
   "execution_count": null,
   "metadata": {},
   "outputs": [],
   "source": [
    "plt.close()\n",
    "data.plot('time', 'HeightT2', label='measurement')\n",
    "plt.plot(data['time'], pt2_analytic(data['time'], Kp_pt2, p_analytic[1], p_analytic[2]), label='modelled parameters')\n",
    "# plt.plot(data['time'], pt2_analytic(data['time'], p_opt[0], p_opt[1], p_opt[2]), label='fitted parameters', color='r')\n",
    "\n",
    "plt.legend()\n",
    "plt.grid()\n",
    "plt.show()"
   ]
  },
  {
   "cell_type": "markdown",
   "metadata": {},
   "source": [
    "### 3. Serielle Verschaltung zweier PT$_1$ Elemente"
   ]
  },
  {
   "cell_type": "markdown",
   "metadata": {},
   "source": [
    "Step response of PT1 element (page 16 \"EinführungRegelungstechnik\" PDF):\n",
    "\n",
    "\\begin{align}\n",
    "h(t) = K_\\text{P} \\left(1 - e^{-\\frac{t}{T_1}}\\right)\n",
    "\\end{align}"
   ]
  },
  {
   "cell_type": "code",
   "execution_count": null,
   "metadata": {},
   "outputs": [],
   "source": [
    "# defining the function according to:\n",
    "# page 16 \"EinführungRegelungstechnik\" PDF\n",
    "def pt1_analytic(t, Kp, T1):\n",
    "    return Kp * (1 - np.exp(-t / T1))"
   ]
  },
  {
   "cell_type": "markdown",
   "metadata": {},
   "source": [
    "#### Tank 1"
   ]
  },
  {
   "cell_type": "code",
   "execution_count": null,
   "metadata": {},
   "outputs": [],
   "source": [
    "# Laden der Messung\n",
    "data = pd.read_csv('../../../Messungen/2Tanksystem/20221122_Sprungantwort_9V_Aufbau1_V12_2_0vU_V21_2_1_vU.csv')\n",
    "\n",
    "# curvefitting and printing the result\n",
    "p_opt, _ = curve_fit(pt1_analytic, xdata=data['time'], ydata=data['HeightT1'])\n",
    "\n",
    "# storing results\n",
    "K_p1 = p_opt[0]\n",
    "T_1 = p_opt[1]\n",
    "\n",
    "display(Markdown(\n",
    "   rf\"\"\"\n",
    "**Curve Fit** returns the values as follows. This results in the time constant and the amplification as follows:\n",
    "\n",
    "$K_p = {K_p1}$\n",
    "\n",
    "$T_1 = {T_1}$\n",
    "\"\"\"))"
   ]
  },
  {
   "cell_type": "code",
   "execution_count": null,
   "metadata": {},
   "outputs": [],
   "source": [
    "# displaying the results\n",
    "plt.close()\n",
    "\n",
    "fig, ax = plt.subplots(tight_layout=True)\n",
    "data.plot('time', 'HeightT1', ax=ax, label='measurement')\n",
    "ax.plot(data['time'], pt1_analytic(data['time'], p_opt[0], p_opt[1]), label='fit')\n",
    "\n",
    "ax.set_ylabel('Height [m]')\n",
    "ax.set_xlabel('time [s]')\n",
    "ax.legend()\n",
    "\n",
    "plt.grid()\n",
    "plt.show()"
   ]
  },
  {
   "cell_type": "markdown",
   "metadata": {},
   "source": [
    "#### Tank 2"
   ]
  },
  {
   "cell_type": "code",
   "execution_count": null,
   "metadata": {},
   "outputs": [],
   "source": [
    "# loading the data\n",
    "data = pd.read_csv('../../../Messungen/2Tanksystem/20221025_Sprungantwort_Aufbau1_Pumpe_in_Tank2_V21_2_1vU_9V.csv')\n",
    "\n",
    "# curvefitting and printing the result\n",
    "p_opt, _ = curve_fit(pt1_analytic, xdata=data['time'], ydata=data['HeightT2'])\n",
    "\n",
    "# storing results\n",
    "K_p2 = p_opt[0]\n",
    "T_2 = p_opt[1]\n",
    "\n",
    "display(Markdown(\n",
    "   rf\"\"\"\n",
    "**Curve Fit** returns the values as follows. This results in the time constant and the amplification as follows:\n",
    "\n",
    "$K_p = {K_p2}$\n",
    "\n",
    "$T_1 = {T_2}$\n",
    "\"\"\"))"
   ]
  },
  {
   "cell_type": "code",
   "execution_count": null,
   "metadata": {},
   "outputs": [],
   "source": [
    "# displaying the results\n",
    "plt.close()\n",
    "\n",
    "fig, ax = plt.subplots(tight_layout=True)\n",
    "data.plot('time', 'HeightT2', ax=ax, label='measurement')\n",
    "ax.plot(data['time'], pt1_analytic(data['time'], p_opt[0], p_opt[1]), label='fit')\n",
    "\n",
    "ax.set_ylabel('Height [m]')\n",
    "ax.set_xlabel('time [s]')\n",
    "ax.legend()\n",
    "\n",
    "plt.grid()\n",
    "plt.show()"
   ]
  },
  {
   "cell_type": "markdown",
   "metadata": {},
   "source": [
    "#### PT2 parameter from the two PT1 elements"
   ]
  },
  {
   "cell_type": "markdown",
   "metadata": {},
   "source": [
    "Kp von Gesamtsystem ist Kp2, also die Verstärkung vom zweiten Tank. Denn in der Ruhelage fließt in den ersten Tank genauso viel hinein wie hinaus. Da Kp im Grunde angibt wie sehr der Ausgang steigt, wenn man den Eingang erhöht, kann Kp2 als Kp für das gesamtsystem verwendet werden, da die Höhe des zweiten Tanks der Ausgang des Gesamtsystems ist."
   ]
  },
  {
   "cell_type": "code",
   "execution_count": null,
   "metadata": {},
   "outputs": [],
   "source": [
    "Kp_pt1 = K_p2\n",
    "T1_pt1 = max(T_1, T_2)\n",
    "T2_pt1 = min(T_1, T_2)\n",
    "\n",
    "display(Markdown(\n",
    "   rf\"\"\"\n",
    "**Curve Fit** returns the values as follows. This results in the time constants and the amplification as follows:\n",
    "\n",
    "$K_p = {Kp_pt1}$\n",
    "\n",
    "$T_1 = {T1_pt1}$\n",
    "\n",
    "$T_2 = {T2_pt1}$\n",
    "\"\"\"))"
   ]
  },
  {
   "cell_type": "markdown",
   "metadata": {},
   "source": [
    "## Vergleich aller Modelle"
   ]
  },
  {
   "cell_type": "code",
   "execution_count": null,
   "metadata": {},
   "outputs": [],
   "source": [
    "params = {\n",
    "    'T1': [round(T1_analytic, 5), round(T1_pt2, 5), round(T1_pt1, 5)],\n",
    "    'T2': [round(T2_analytic, 5), round(T2_pt2, 5), round(T2_pt1, 5)],\n",
    "    'Kp': [round(Kp_analytic, 5), round(Kp_pt2, 5), round(Kp_pt1, 5)],\n",
    "}\n",
    "print (\"{:<5} {:<11} {:<9} {:<11}\".format(' ','analytisch','PT2','PT1'))\n",
    "for name, values in params.items():\n",
    "    s1, s2, s3 = values\n",
    "    print (\"{:<5} {:<11} {:<9} {:<11}\".format(name, s1, s2, s3))"
   ]
  },
  {
   "cell_type": "code",
   "execution_count": null,
   "metadata": {},
   "outputs": [],
   "source": [
    "measDataPT2 = pd.read_csv('../../../Messungen/2Tanksystem/20221122_Sprungantwort_9V_Aufbau1_V12_2_0vU_V21_2_1vU.csv')\n",
    "measDataPT1 = pd.read_csv('../../../Messungen/2Tanksystem/20221122_Sprungantwort_9V_Aufbau1_V12_2_0vU_V21_2_1vU.csv')"
   ]
  },
  {
   "cell_type": "code",
   "execution_count": null,
   "metadata": {},
   "outputs": [],
   "source": [
    "def linSys(t, x, u, A, B):\n",
    "    return A.dot(x) +  B.dot(u)"
   ]
  },
  {
   "cell_type": "code",
   "execution_count": null,
   "metadata": {},
   "outputs": [],
   "source": [
    "A_analytic = np.array([[0, 1],\n",
    "                       [-1 / (T1_analytic * T2_analytic), - (T1_analytic + T2_analytic) / (T1_analytic * T2_analytic)]])\n",
    "B_analytic = np.array([[0],\n",
    "                       [Kp_analytic / (T1_analytic * T2_analytic)]])\n",
    "\n",
    "A_pt2 = np.array([[0, 1],\n",
    "                  [-1 / (T1_pt2 * T2_pt2), - (T1_pt2 + T2_pt2) / (T1_pt2 * T2_pt2)]])\n",
    "B_pt2 = np.array([[0],\n",
    "                  [Kp_pt2 / (T1_pt2 * T2_pt2)]])\n",
    "\n",
    "A_pt1 = np.array([[0, 1],\n",
    "                  [-1 / (T1_pt1 * T2_pt1), - (T1_pt1 + T2_pt1) / (T1_pt1 * T2_pt1)]])\n",
    "B_pt1 = np.array([[0],\n",
    "                  [Kp_pt1 / (T1_pt1 * T2_pt1)]])"
   ]
  },
  {
   "cell_type": "code",
   "execution_count": null,
   "metadata": {},
   "outputs": [],
   "source": [
    "timeDom = np.linspace(0, len(measData['HeightT2']), len(measData['HeightT2'])) / 10\n",
    "x0 = [0, 0]\n",
    "u = [1]\n",
    "\n",
    "solAnalytic = solve_ivp(linSys, [tDom[0], tDom[-1]], x0, t_eval=tDom, args=(u, A_analytic, B_analytic))\n",
    "solPT2 = solve_ivp(linSys, [tDom[0], tDom[-1]], x0, t_eval=tDom, args=(u, A_pt2, B_pt2))\n",
    "solPT1 = solve_ivp(linSys, [tDom[0], tDom[-1]], x0, t_eval=tDom, args=(u, A_pt1, B_pt1))"
   ]
  },
  {
   "cell_type": "code",
   "execution_count": null,
   "metadata": {
    "hideOutput": true
   },
   "outputs": [],
   "source": [
    "plt.close()\n",
    "\n",
    "fig1, axes10 = plt.subplots(1, 1, sharex=True, figsize=(9,7))\n",
    "\n",
    "axes10.plot(tDom, measDataPT2['HeightT2'], label=r'Messung PT$_2$')\n",
    "axes10.plot(tDom, measDataPT1['HeightT2'], label=r'Messung PT$_1$')\n",
    "axes10.plot(tDom, solAnalytisch.y[0], label='analytisch')\n",
    "axes10.plot(tDom, solPT2.y[0], label=r'PT$_2$')\n",
    "axes10.plot(tDom, solPT1.y[0], label=r'PT$_1$')\n",
    "\n",
    "axes10.set_ylabel(r'T$_2$ Height [$m$]')\n",
    "axes10.set_xlabel(r'time [$s$]')\n",
    "\n",
    "handlesAx1, labelsAx1 = axes10.get_legend_handles_labels()\n",
    "axes10.legend([handle for i, handle in enumerate(handlesAx1)],\n",
    "              [label for i, label in enumerate(labelsAx1)],\n",
    "              bbox_to_anchor=(0., 1.02, 1., .102), loc=3,\n",
    "              ncol=9, mode=\"expand\", borderaxespad=0., framealpha=0.5)\n",
    "\n",
    "axes10.grid()\n",
    "plt.show()"
   ]
  },
  {
   "cell_type": "code",
   "execution_count": null,
   "metadata": {},
   "outputs": [],
   "source": []
  }
 ],
 "metadata": {
  "kernelspec": {
   "display_name": "Python 3",
   "language": "python",
   "name": "python3"
  },
  "language_info": {
   "codemirror_mode": {
    "name": "ipython",
    "version": 3
   },
   "file_extension": ".py",
   "mimetype": "text/x-python",
   "name": "python",
   "nbconvert_exporter": "python",
   "pygments_lexer": "ipython3",
   "version": "3.10.6"
  },
  "latex_envs": {
   "LaTeX_envs_menu_present": true,
   "autoclose": false,
   "autocomplete": true,
   "bibliofile": "sources.bib",
   "cite_by": "apalike",
   "current_citInitial": 1,
   "eqLabelWithNumbers": true,
   "eqNumInitial": 1,
   "hotkeys": {
    "equation": "Ctrl-E",
    "itemize": "Ctrl-I"
   },
   "labels_anchors": false,
   "latex_user_defs": false,
   "report_style_numbering": false,
   "user_envs_cfg": false
  },
  "vscode": {
   "interpreter": {
    "hash": "97109904d91d64166babdadfddcabc7eb6cc9d4cd5649e713d505a2bcddce607"
   }
  }
 },
 "nbformat": 4,
 "nbformat_minor": 2
}
