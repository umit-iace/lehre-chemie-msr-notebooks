{
 "cells": [
  {
   "cell_type": "code",
   "execution_count": null,
   "id": "553332c3-1617-4848-b72e-a9d232e46802",
   "metadata": {},
   "outputs": [],
   "source": [
    "%matplotlib widget\n",
    "\n",
    "import ipywidgets as widgets\n",
    "from ipywidgets import HBox, VBox, jslink, Box, Layout\n",
    "import numpy as np\n",
    "import sympy as sp\n",
    "import matplotlib.pyplot as plt\n",
    "import matplotlib.dates as mdates\n",
    "from IPython.display import display, Image, Math\n",
    "from scipy.integrate import solve_ivp\n",
    "from scipy.signal import place_poles\n",
    "import control.matlab as control"
   ]
  },
  {
   "cell_type": "code",
   "execution_count": null,
   "id": "e981141b-7bcc-4c8e-8dee-bced17d9b2f5",
   "metadata": {},
   "outputs": [],
   "source": [
    "def make_box_layout():\n",
    "     return widgets.Layout(\n",
    "        border='solid 1px black',\n",
    "        margin='0px 5px 5px 0px',\n",
    "        padding='2px 2px 2px 2px'\n",
    "     )"
   ]
  },
  {
   "cell_type": "markdown",
   "id": "a779a746-c4d1-4ee2-ab44-b9a45cf4f214",
   "metadata": {},
   "source": [
    "## Lineares LTI System 2. Ordnung\n",
    "\n",
    "\\begin{align*}\n",
    "    \\dot{\\boldsymbol{x}}(t) &= \\begin{pmatrix}\n",
    "\t\t0 & 1 \\\\ -3 & -4\n",
    "\t\\end{pmatrix} \\, \\boldsymbol{x}(t) + \\begin{pmatrix}\n",
    "\t0 \\\\ 3 \n",
    "\\end{pmatrix} \\, \\boldsymbol{u}(t) \\\\\n",
    "     y(t) &= \\begin{pmatrix} 1 & 0 \\end{pmatrix} \\, \\boldsymbol{x}(t)\n",
    "\\end{align*}"
   ]
  },
  {
   "cell_type": "markdown",
   "id": "fbf983c6-3563-4cfe-b849-d77b0ecf67ed",
   "metadata": {},
   "source": [
    "## Simulationsparameter"
   ]
  },
  {
   "cell_type": "code",
   "execution_count": null,
   "id": "7b1f1754-a3ac-47ac-ade6-5a05acc460df",
   "metadata": {},
   "outputs": [],
   "source": [
    "tSim = np.linspace(0, 3, 301)\n",
    "x0 = [3, 1, 2, 0]\n",
    "A = np.array([[0, 1], [-3, -4]])\n",
    "b = np.array([[0], [3]])\n",
    "c = np.array([[1], [0]])"
   ]
  },
  {
   "cell_type": "markdown",
   "id": "2ae57d47-db9d-47ac-a93f-ee595f47613d",
   "metadata": {},
   "source": [
    "## Lineares System mit Zustandsregler ohne Vorfilter"
   ]
  },
  {
   "cell_type": "code",
   "execution_count": null,
   "id": "3913a966-7c45-49ac-980b-28fbb067dc99",
   "metadata": {},
   "outputs": [],
   "source": [
    "def linSystemStateCont(t, x, A, b, c, k, l):\n",
    "\n",
    "    xBeob = x[0:2]\n",
    "    xSys = x[2::]\n",
    "\n",
    "    u = -k @ xBeob\n",
    "\n",
    "    dxBeob = A @ xBeob + b @ u - l.T * c.T @ (xBeob - xSys)\n",
    "    dxSys = A @ xSys + b @ u\n",
    "\n",
    "    return np.concatenate([dxBeob, dxSys])"
   ]
  },
  {
   "cell_type": "markdown",
   "id": "102ff211-b65b-40f2-a3cd-66d0d5406c81",
   "metadata": {},
   "source": [
    "## Analyse Eigenwerte"
   ]
  },
  {
   "cell_type": "code",
   "execution_count": null,
   "id": "2102ee15-6d57-42ae-b419-71ea9aecd371",
   "metadata": {},
   "outputs": [],
   "source": [
    "eigA = np.linalg.eig(A)[0]\n",
    "Math(r's_1 = ' + str(eigA[0]) + r',~s_2 = ' + str(eigA[1]))"
   ]
  },
  {
   "cell_type": "markdown",
   "id": "757f05ef-5404-49a1-bfeb-7fe146b630a2",
   "metadata": {},
   "source": [
    "## Überprüfen Steuerbarkeit"
   ]
  },
  {
   "cell_type": "code",
   "execution_count": null,
   "id": "8cc184b0-763c-4628-89d2-09e1010aa593",
   "metadata": {},
   "outputs": [],
   "source": [
    "S = control.ctrb(A, b)\n",
    "Math(r'S = ' + sp.latex(sp.Matrix(S)))"
   ]
  },
  {
   "cell_type": "code",
   "execution_count": null,
   "id": "f4a16572-bfda-4473-86c8-af208b9efb47",
   "metadata": {},
   "outputs": [],
   "source": [
    "rank = np.linalg.matrix_rank(S)\n",
    "Math(r'\\mathrm{rang}(\\mathcal{S}) = ' + str(rank)) "
   ]
  },
  {
   "cell_type": "markdown",
   "id": "8706c1df-5a09-4f66-8b62-9429f1c78d27",
   "metadata": {},
   "source": [
    "## Reglerentwurf"
   ]
  },
  {
   "cell_type": "code",
   "execution_count": null,
   "id": "56e28c14-fa8e-45ef-9694-bcd95ac602c5",
   "metadata": {},
   "outputs": [],
   "source": [
    "poles = np.array([-3, -6])\n",
    "pp = place_poles(A, b, poles)\n",
    "k = pp.gain_matrix[0].reshape((1,2))\n",
    "Math(r'\\boldsymbol{k}=' + sp.latex(sp.Matrix(k)))"
   ]
  },
  {
   "cell_type": "markdown",
   "id": "05f08d93-74e7-4e02-a3ac-469f61fc4fc2",
   "metadata": {
    "tags": []
   },
   "source": [
    "### Kontrolle"
   ]
  },
  {
   "cell_type": "code",
   "execution_count": null,
   "id": "4ca31316-b1fc-43cc-a9a7-aef1a27159af",
   "metadata": {},
   "outputs": [],
   "source": [
    "np.linalg.eig(A - b @ k)[0]"
   ]
  },
  {
   "cell_type": "markdown",
   "id": "4ee2f6ce-1251-4df9-8759-b4cac9d969b5",
   "metadata": {},
   "source": [
    "## Überprüfen Beobachtbarkeit"
   ]
  },
  {
   "cell_type": "code",
   "execution_count": null,
   "id": "02bc6698-fb37-40a3-a305-b533ff651e90",
   "metadata": {},
   "outputs": [],
   "source": [
    "O = control.obsv(A, c.T)\n",
    "Math(r'O = ' + sp.latex(sp.Matrix(O)))"
   ]
  },
  {
   "cell_type": "code",
   "execution_count": null,
   "id": "7f49ce7f-c61d-40e8-8e4a-54b7d84b5ec0",
   "metadata": {},
   "outputs": [],
   "source": [
    "rank = np.linalg.matrix_rank(S)\n",
    "Math(r'\\mathrm{rang}(\\mathcal{O}) = ' + str(rank)) "
   ]
  },
  {
   "cell_type": "markdown",
   "id": "31e2fdd4-854b-4ca8-baed-bb64c045024d",
   "metadata": {},
   "source": [
    "## Beobachterentwurf"
   ]
  },
  {
   "cell_type": "code",
   "execution_count": null,
   "id": "471d163e-2f64-448d-a713-88fda926d614",
   "metadata": {},
   "outputs": [],
   "source": [
    "poles = np.array([-15, -20])\n",
    "pp = place_poles(A.T, c, poles)\n",
    "l = pp.gain_matrix[0].reshape((1,2))\n",
    "Math(r'\\boldsymbol{l}=' + sp.latex(sp.Matrix(l)))"
   ]
  },
  {
   "cell_type": "markdown",
   "id": "1d1225f3-1197-4540-9d21-ad00b82e5f60",
   "metadata": {
    "tags": []
   },
   "source": [
    "### Kontrolle"
   ]
  },
  {
   "cell_type": "code",
   "execution_count": null,
   "id": "c3f5889f-06d4-4a91-84d1-7ab89573b846",
   "metadata": {},
   "outputs": [],
   "source": [
    "np.linalg.eig(A - l.T @ c.T)[0]"
   ]
  },
  {
   "cell_type": "markdown",
   "id": "7ef7c201-66dd-4214-9a94-6fa7b24d03dc",
   "metadata": {},
   "source": [
    "## Simulation"
   ]
  },
  {
   "cell_type": "code",
   "execution_count": null,
   "id": "a7ba7aec-d05e-48b7-a1c2-fce825875e7e",
   "metadata": {},
   "outputs": [],
   "source": [
    "res = solve_ivp(linSystemStateCont, [tSim[0], tSim[-1]], x0,\n",
    "                       t_eval=tSim, args=(A, b, c, k, l))"
   ]
  },
  {
   "cell_type": "code",
   "execution_count": null,
   "id": "5e054744-a53a-49e7-9f6e-1faab383b079",
   "metadata": {},
   "outputs": [],
   "source": [
    "plt.figure()\n",
    "plt.plot(res.t, res.y[0, :], '--')\n",
    "plt.plot(res.t, res.y[1, :], '--')\n",
    "plt.plot(res.t, res.y[2, :])\n",
    "plt.plot(res.t, res.y[3, :])\n",
    "plt.grid()\n",
    "plt.xlabel('t [s]')\n",
    "plt.ylabel('y(t)')"
   ]
  },
  {
   "cell_type": "markdown",
   "id": "c34296ce-8d7f-481a-80b2-edc836f01408",
   "metadata": {},
   "source": [
    "## Lineares System mit Zustandsregler mit Vorfilter und Beobachter"
   ]
  },
  {
   "cell_type": "code",
   "execution_count": null,
   "id": "22b49d95-2f49-4c80-b91d-74d94b78c0bc",
   "metadata": {},
   "outputs": [],
   "source": [
    "def linSystemStateContFactor(t, x, yRef, A, b, c, k, l):\n",
    "\n",
    "    xBeob = x[0:2]\n",
    "    xSys = x[2::]\n",
    "    V = 1 / (c.T @ np.linalg.inv(b @ k - A) @ b)\n",
    "\n",
    "    u = V[0] * yRef - k @ xSys\n",
    "\n",
    "    dxBeob = A @ xBeob + b @ u - l.T * c.T @ (xBeob - xSys)\n",
    "    dxSys = A @ xSys + b @ u\n",
    "\n",
    "    return np.concatenate([dxBeob, dxSys])"
   ]
  },
  {
   "cell_type": "code",
   "execution_count": null,
   "id": "cb418da9-0c6b-457a-a3e6-d14959290e75",
   "metadata": {},
   "outputs": [],
   "source": [
    "output = widgets.Output()\n",
    "\n",
    "with output:\n",
    "    fig, (ax1, ax2, ax3) = plt.subplots(3, 1, figsize=(10, 6), sharex=True, gridspec_kw={'height_ratios': [1, 1, 1]})\n",
    "\n",
    "plt.subplots_adjust(wspace=0.2, hspace=0.07)\n",
    "fig.canvas.toolbar_visible = False\n",
    "fig.canvas.header_visible = False\n",
    "fig.canvas.footer_visible = False\n",
    "fig.subplots_adjust(bottom=0.1, top=0.93, left=0.125, right=0.9)\n",
    "\n",
    "ax1.set_xlim([0, tSim[-1]])\n",
    "ax2.set_xlim([0, tSim[-1]])\n",
    "ax3.set_xlim([0, tSim[-1]])\n",
    "ax1.set_ylim([-0.05, 3.55])\n",
    "ax2.set_ylim([-2, 2])\n",
    "ax3.set_ylim([-2, 2])\n",
    "ax1.grid()\n",
    "ax2.grid()\n",
    "ax3.grid()\n",
    "ax1.set_ylabel(r\"$y$\")\n",
    "ax2.set_ylabel(r\"$e$\")\n",
    "ax3.set_ylabel(r\"$u$\")\n",
    "ax3.set_xlabel(r\"$t$\")\n",
    "\n",
    "ySys, = ax1.plot([], [], 'C0', label=r'Prozess $y = x_1$')\n",
    "x2Sys, = ax1.plot([], [], 'C3', label=r'Zustand 2 $x_2$')\n",
    "yObs, = ax1.plot([], [], 'C0', linestyle='dashed', label=r'Beobachter $y = \\hat{x}_1$')\n",
    "x2Obs, = ax1.plot([], [], 'C3', linestyle='dashed', label=r'Beobachter $\\hat{x}_2$')\n",
    "yRefSys, = ax1.plot([], [], 'C1', label=r'Referenz $y_\\mathrm{r}$')\n",
    "eSys, = ax2.plot([], [], 'C0', label=r'Fehler $e$')\n",
    "uFBSys, = ax3.plot([], [], 'C2', label=r'Regler $u$')\n",
    "\n",
    "handlesAx, labelsAx = ax1.get_legend_handles_labels()\n",
    "\n",
    "fig.legend([handle for i, handle in enumerate(handlesAx)],\n",
    "           [label for i, label in enumerate(labelsAx)],\n",
    "           bbox_to_anchor=(0.13, 0.94, 0.7675, .15), loc=3,\n",
    "           ncol=6, mode=\"expand\", borderaxespad=0., framealpha=0.5)\n",
    "\n",
    "sliderYr = widgets.FloatSlider(value=2,\n",
    "                               min=0,\n",
    "                               max=5,\n",
    "                               step=0.5,\n",
    "                               description=r'$y_{\\mathrm{r}}$')\n",
    "sliderEig1 = widgets.FloatSlider(value=-3,\n",
    "                               min=-20,\n",
    "                               max=-0.01,\n",
    "                               step=0.1,\n",
    "                               description=r'$s_1$')\n",
    "sliderEig2 = widgets.FloatSlider(value=-6,\n",
    "                               min=-20,\n",
    "                               max=-0.01,\n",
    "                               step=0.1,\n",
    "                               description=r'$s_2$')\n",
    "sliderEigObs1 = widgets.FloatSlider(value=-3,\n",
    "                               min=-20,\n",
    "                               max=-0.01,\n",
    "                               step=0.1,\n",
    "                               description=r'$\\hat{s}_1$')\n",
    "sliderEigObs2 = widgets.FloatSlider(value=-6,\n",
    "                               min=-20,\n",
    "                               max=-0.01,\n",
    "                               step=0.1,\n",
    "                               description=r'$\\hat{s}_2$')\n",
    "sliderX01 = widgets.FloatSlider(value=0,\n",
    "                               min=-10,\n",
    "                               max=10,\n",
    "                               step=0.1,\n",
    "                               description=r'$x_1(0)$')\n",
    "sliderX02 = widgets.FloatSlider(value=0,\n",
    "                               min=-10,\n",
    "                               max=10,\n",
    "                               step=0.1,\n",
    "                               description=r'$x_2(0)$')\n",
    "sliderX01Obs = widgets.FloatSlider(value=0,\n",
    "                               min=-10,\n",
    "                               max=10,\n",
    "                               step=0.1,\n",
    "                               description=r'$\\hat{x}_1(0)$')\n",
    "sliderX02Obs = widgets.FloatSlider(value=0,\n",
    "                               min=-10,\n",
    "                               max=10,\n",
    "                               step=0.1,\n",
    "                               description=r'$\\hat{x}_2(0)$')\n",
    "\n",
    "def calcSystem(_):\n",
    "    yr = sliderYr.value\n",
    "    \n",
    "    pp = place_poles(A, b, np.array([sliderEig1.value, sliderEig2.value]))\n",
    "    k = pp.gain_matrix[0].reshape((1,2))\n",
    "    \n",
    "    pp = place_poles(A.T, c, np.array([sliderEigObs1.value, sliderEigObs2.value]))\n",
    "    l = pp.gain_matrix[0].reshape((1,2))\n",
    "    \n",
    "    x0 = [sliderX01Obs.value, sliderX02Obs.value, sliderX01.value, sliderX02.value]\n",
    "    res = solve_ivp(linSystemStateContFactor,\n",
    "                    [tSim[0], tSim[-1]],\n",
    "                    x0,\n",
    "                    t_eval=tSim, args=(yr, A, b, c, k, l))\n",
    "    \n",
    "    V = 1 / (c.T @ np.linalg.inv(b @ k - A) @ b)\n",
    "           \n",
    "    sigFB = [V * yr - k @ res.y.T[idx + 1, 0:2] for idx, t in enumerate(tSim[1:])]\n",
    "    sigE = yr - res.y.T[:, 0]\n",
    "    uFBSys.set_data(tSim[1:], sigFB)\n",
    "    ySys.set_data(tSim, res.y.T[:, 2])\n",
    "    x2Sys.set_data(tSim, res.y.T[:, 3])\n",
    "    yObs.set_data(tSim, res.y.T[:, 0])\n",
    "    x2Obs.set_data(tSim, res.y.T[:, 1])\n",
    "    yRefSys.set_data(tSim[[0, -1]], np.array([yr, yr]))\n",
    "    eSys.set_data(tSim, sigE)\n",
    "    \n",
    "    uMax = np.max(sigFB)\n",
    "    ax1.set_ylim(np.min(res.y) - 0.5, np.max(res.y) + 0.5)\n",
    "    ax2.set_ylim([(np.min(sigE) - 0.2), (np.max(sigE) + 0.2)]) \n",
    "    ax3.set_ylim([-(uMax + 1), (uMax + 1)]) \n",
    "    \n",
    "    fig.canvas.draw()\n",
    "\n",
    "sliderYr.observe(calcSystem, names='value')\n",
    "sliderEig1.observe(calcSystem, names='value')\n",
    "sliderEig2.observe(calcSystem, names='value')\n",
    "sliderEigObs1.observe(calcSystem, names='value')\n",
    "sliderEigObs2.observe(calcSystem, names='value')\n",
    "sliderX01.observe(calcSystem, names='value')\n",
    "sliderX02.observe(calcSystem, names='value')\n",
    "sliderX01Obs.observe(calcSystem, names='value')\n",
    "sliderX02Obs.observe(calcSystem, names='value')\n",
    "\n",
    "calcSystem(_)\n",
    "\n",
    "stateContControls = VBox([sliderYr, sliderEig1, sliderEig2])\n",
    "stateContControls.layout = make_box_layout()\n",
    "obsControls = VBox([sliderEigObs1, sliderEigObs2, sliderX01Obs, sliderX02Obs])\n",
    "obsControls.layout = make_box_layout()\n",
    "sysControls = VBox([sliderX01, sliderX02])\n",
    "sysControls.layout = make_box_layout()\n",
    "\n",
    "\n",
    "controls = HBox([sysControls, stateContControls, obsControls])\n",
    "VBox([controls, output], layout=Layout(display='flex', flex_flow='row', justify_content='center', align_items='center'))"
   ]
  },
  {
   "cell_type": "code",
   "execution_count": null,
   "id": "89e286dc-dccd-4053-88cb-36bcc8e0d042",
   "metadata": {},
   "outputs": [],
   "source": []
  }
 ],
 "metadata": {
  "kernelspec": {
   "display_name": "Python 3 (ipykernel)",
   "language": "python",
   "name": "python3"
  },
  "language_info": {
   "codemirror_mode": {
    "name": "ipython",
    "version": 3
   },
   "file_extension": ".py",
   "mimetype": "text/x-python",
   "name": "python",
   "nbconvert_exporter": "python",
   "pygments_lexer": "ipython3",
   "version": "3.10.9"
  },
  "latex_envs": {
   "LaTeX_envs_menu_present": true,
   "autoclose": false,
   "autocomplete": true,
   "bibliofile": "sources.bib",
   "cite_by": "apalike",
   "current_citInitial": 1,
   "eqLabelWithNumbers": true,
   "eqNumInitial": 1,
   "hotkeys": {
    "equation": "Ctrl-E",
    "itemize": "Ctrl-I"
   },
   "labels_anchors": false,
   "latex_user_defs": false,
   "report_style_numbering": false,
   "user_envs_cfg": false
  }
 },
 "nbformat": 4,
 "nbformat_minor": 5
}
