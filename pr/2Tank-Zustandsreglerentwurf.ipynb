{
 "cells": [
  {
   "cell_type": "markdown",
   "metadata": {
    "hideCode": false,
    "hidePrompt": false
   },
   "source": [
    "# Zustandsreglerentwurf"
   ]
  },
  {
   "cell_type": "code",
   "execution_count": null,
   "metadata": {
    "hideCode": false,
    "hidePrompt": false
   },
   "outputs": [],
   "source": [
    "import matplotlib.pyplot as plt\n",
    "import numpy as np\n",
    "import sympy as sp\n",
    "from IPython.display import display, Image, Latex, Markdown\n",
    "from scipy.integrate import solve_ivp\n",
    "import control\n",
    "\n",
    "# user imports\n",
    "from models import linSys, nonLinSys\n",
    "from controller import ZustandsRegler\n",
    "from feedforward import Steuerung\n",
    "from simulate import simu_nlin_noFF, simu_lin_noFF, simu_lin_withFF, simu_nlin_withFF\n",
    "from plotting import three_stack_plot, three_stack_plot_FF"
   ]
  },
  {
   "cell_type": "code",
   "execution_count": null,
   "metadata": {
    "hideCode": true,
    "hidePrompt": true
   },
   "outputs": [],
   "source": [
    "imag = Image(\"../images/feedback.png\", width=600)\n",
    "display(imag)"
   ]
  },
  {
   "cell_type": "markdown",
   "metadata": {
    "hideCode": true,
    "hidePrompt": true
   },
   "source": [
    "Ziel ist der Entwurf eines Zustandsreglers auf Basis des linearisierten Modells des Zweitanksystems.\n",
    "Dazu wird eine Zustandsrückführung in der Form durchgeführt, dass\n",
    "\\begin{align*}\n",
    "    u_{\\text{R}}(t) & = -\\mathbf{k}^{\\intercal} \\mathbf{e}(t)\n",
    "\\end{align*}\n",
    "mit der Zustandsverstärkung $\\mathbf{k}$ und dem Fehler $\\mathbf{e}$ der sich aus dem entsprechenden Zustandskomponenten ergibt.\n",
    "\n",
    "Es werden im Folgenden zwei Methoden unterschieden.\n",
    "1. Eingangs-Ausgangsbeziehung mit dem Zustand\n",
    "   \\begin{align*}\n",
    "       \\mathbf{x} = \\begin{pmatrix}x_1 \\\\ x_2 \\end{pmatrix} = \\begin{pmatrix}y \\\\ \\dot{y} \\end{pmatrix}\n",
    "   \\end{align*}\n",
    "   auf Basis der gemessenen Größe $y$\n",
    "2. Regelungsnormalform mit dem Zustand\n",
    "   \\begin{align*}\n",
    "       \\mathbf{x} = \\begin{pmatrix}x_1 \\\\ x_2 \\end{pmatrix} = \\begin{pmatrix}\\eta \\\\ \\dot{\\eta} \\end{pmatrix}\n",
    "   \\end{align*}\n",
    "   auf Basis des flachen Ausgangs $\\eta$"
   ]
  },
  {
   "cell_type": "markdown",
   "metadata": {
    "hideCode": true,
    "hidePrompt": true
   },
   "source": [
    "### 1. Eintragen der notwendigen Systemparameter"
   ]
  },
  {
   "cell_type": "code",
   "execution_count": null,
   "metadata": {
    "hideCode": true,
    "hidePrompt": true
   },
   "outputs": [],
   "source": [
    "buA = 9\n",
    "# Physikalisch EA-Darstellung\n",
    "KPhy = 0.147763421835044\n",
    "T1Phy = 34.567259359529\n",
    "T2Phy = 68.2115206317666\n",
    "bz1Phy = 0.0423458650804235\n",
    "bz2Phy = 0.137092448385557\n",
    "# Messung EA-Darstellung\n",
    "KMessung = 0.05335540886113588\n",
    "T1Messung = 11.796537856412515\n",
    "T2Messung = 80.74097989401139\n",
    "bz1Phy = 0.0423458650804235\n",
    "bz2Messung = 0.13238994944989588\n",
    "# Messung allgemeine Darstellung\n",
    "a11 = -0.0847706345855032\n",
    "a21 = 0.14656849835105779\n",
    "a22 = -0.01238528441582823\n",
    "b1 = 0.00038219872357851876"
   ]
  },
  {
   "cell_type": "code",
   "execution_count": null,
   "metadata": {},
   "outputs": [],
   "source": [
    "APhyLin = np.array([[0, 1],\n",
    "                    [-1 / (T1Phy * T2Phy), -(T1Phy + T2Phy) / (T1Phy * T2Phy)]])\n",
    "BPhyLin = np.array([[0],\n",
    "                    [KPhy / (T1Phy * T2Phy)]])\n",
    "\n",
    "AEAMessung = np.array([[0, 1],\n",
    "                       [-1 / (T1Messung * T2Messung), -(T1Messung + T2Messung) / (T1Messung * T2Messung)]])\n",
    "BEAMessung = np.array([[0],\n",
    "                       [KMessung / (T1Messung * T2Messung)]])\n",
    "\n",
    "AGenMessung = np.array([[a11, 0],\n",
    "                        [a21, a22]])\n",
    "BGenMessung = np.array([[b1],\n",
    "                        [0]])"
   ]
  },
  {
   "attachments": {},
   "cell_type": "markdown",
   "metadata": {
    "hideCode": true,
    "hidePrompt": true
   },
   "source": [
    "### 2. Setup simulation parameters"
   ]
  },
  {
   "cell_type": "code",
   "execution_count": null,
   "metadata": {},
   "outputs": [],
   "source": [
    "timeDom = np.linspace(0, 500, 5001)\n",
    "z2Soll = 0.15\n",
    "dt = 150"
   ]
  },
  {
   "cell_type": "markdown",
   "metadata": {
    "hideCode": true,
    "hidePrompt": true
   },
   "source": [
    "### 3. Zustandsregler über Eingangs-Ausgangsbeziehung"
   ]
  },
  {
   "cell_type": "code",
   "execution_count": null,
   "metadata": {},
   "outputs": [],
   "source": [
    "a0EA = 1 / (T1Messung * T2Messung)\n",
    "a1EA = (T1Messung + T2Messung) / (T1Messung * T2Messung)\n",
    "bEA = KMessung / (T1Messung * T2Messung)\n",
    "\n",
    "x0 = 0 - bz2Messung\n",
    "x1 = z2Soll - bz2Messung\n",
    "\n",
    "kEA = np.array([20, 40])\n",
    "TEA = np.array([[1, 0],\n",
    "                [0, 1]])"
   ]
  },
  {
   "cell_type": "code",
   "execution_count": null,
   "metadata": {},
   "outputs": [],
   "source": [
    "regler = ZustandsRegler(kEA, TEA, 0 - buA, 12 - buA, timeDom[1])\n",
    "steuerung = Steuerung(x0, x1, 0, dt, a0EA, a1EA, bEA)"
   ]
  },
  {
   "attachments": {},
   "cell_type": "markdown",
   "metadata": {},
   "source": [
    "#### Regler ohne Steuerung"
   ]
  },
  {
   "cell_type": "code",
   "execution_count": null,
   "metadata": {},
   "outputs": [],
   "source": [
    "setPoint = np.array([bz2Phy, bz1Phy])\n",
    "z0 = [0, 0]\n",
    "zNLin, uNLin = simu_nlin_noFF(regler, timeDom, z0, setPoint)"
   ]
  },
  {
   "cell_type": "code",
   "execution_count": null,
   "metadata": {},
   "outputs": [],
   "source": [
    "setPoint = np.array([0, 0])\n",
    "z0 = [0, 0] - np.array([bz2Phy, 0])\n",
    "zLinPhy, uLinPhy = simu_lin_noFF(regler, timeDom, z0, setPoint, APhyLin, BPhyLin)"
   ]
  },
  {
   "cell_type": "code",
   "execution_count": null,
   "metadata": {},
   "outputs": [],
   "source": [
    "setPoint = np.array([0, 0])\n",
    "z0 = [0, 0] - np.array([bz2Messung, 0])\n",
    "zLinMes, uLinMes = simu_lin_noFF(regler, timeDom, z0, setPoint, AEAMessung, BEAMessung)"
   ]
  },
  {
   "cell_type": "code",
   "execution_count": null,
   "metadata": {},
   "outputs": [],
   "source": [
    "three_stack_plot(timeDom, zNLin, uNLin, zLinPhy, uLinPhy, bz2Phy, zLinMes, uLinMes, bz2Messung, refLine=z2Soll)"
   ]
  },
  {
   "attachments": {},
   "cell_type": "markdown",
   "metadata": {},
   "source": [
    "das nichtlineare Modell ist stationär auch nicht auf dem richtigen Wert. Um das zu beheben, könnte man entweder einen PI-Zustandsregler implementieren oder einen Vorfaktor miteinbringen."
   ]
  },
  {
   "attachments": {},
   "cell_type": "markdown",
   "metadata": {},
   "source": [
    "#### Regler mit Steuerung"
   ]
  },
  {
   "cell_type": "code",
   "execution_count": null,
   "metadata": {},
   "outputs": [],
   "source": [
    "z0 = [0, 0]\n",
    "zNLin, z2NLinFF, uNLin = simu_nlin_withFF(regler, steuerung, timeDom, z0, bz2Messung)"
   ]
  },
  {
   "cell_type": "code",
   "execution_count": null,
   "metadata": {},
   "outputs": [],
   "source": [
    "z0 = [0, 0 ]- np.array([bz2Phy, 0])\n",
    "zLinPhy, z2LinPhyFF, uLinPhy = simu_lin_withFF(regler, steuerung, timeDom, z0, APhyLin, BPhyLin)"
   ]
  },
  {
   "cell_type": "code",
   "execution_count": null,
   "metadata": {},
   "outputs": [],
   "source": [
    "z0 = [0, 0 ]- np.array([bz2Messung, 0])\n",
    "zLinMes, z2LinMesFF, uLinMes = simu_lin_withFF(regler, steuerung, timeDom, z0, AEAMessung, BEAMessung)"
   ]
  },
  {
   "cell_type": "code",
   "execution_count": null,
   "metadata": {},
   "outputs": [],
   "source": [
    "three_stack_plot_FF(timeDom, zNLin, z2NLinFF, uNLin, zLinPhy, z2LinPhyFF, uLinPhy, bz2Phy, zLinMes, z2LinMesFF, uLinMes, bz2Messung)"
   ]
  },
  {
   "cell_type": "markdown",
   "metadata": {
    "hideCode": true,
    "hidePrompt": true
   },
   "source": [
    "### 4. Zustandsregler über Regelungsnormalform"
   ]
  },
  {
   "attachments": {},
   "cell_type": "markdown",
   "metadata": {},
   "source": [
    "Ziel ist der Entwurf eines Zustandsreglers auf Basis des linearisierten Modells des Zweitanksystems.\n",
    "\n",
    "Dabei wird eine Zustandsrückführung durchgeführt. Diese kann wie folgt entworfen werden:\n",
    "\n",
    "1. Berechnung der Zustandstransformation:\n",
    "    \n",
    "    a) Berechnung der Kalmanschen Steuerbarkeitsmatrix\n",
    "\n",
    "    \\begin{align*}\n",
    "        S = \\left(\\mathbf{b}, A\\mathbf{b}, \\dots, A^{n-1}\\mathbf{b} \\right)\n",
    "    \\end{align*}\n",
    "\n",
    "    b) $\\mathbf{q}_1^T$ ist die letzte Zeile der inversen von $S$\n",
    "\n",
    "    c) Berechnung der Transformationsmatrix $Q$\n",
    "\n",
    "\\begin{align*} Q = \n",
    "\\begin{pmatrix} \n",
    "q^T\\\\\n",
    "q^T A \\\\\n",
    "\\vdots \\\\\n",
    "q^T A^{n-1}\n",
    "\\end{pmatrix}\n",
    "\\end{align*}\n",
    "\n",
    "2. Berechnung der Zustandsrückführung\n",
    "\\begin{align*}\n",
    "    u_{\\text{R}}(t) & = -\\mathbf{k}^{\\intercal} \\mathbf{e}(t)\n",
    "\\end{align*}\n",
    "\n",
    "Die Verstärkungen $\\mathbf{k}^{\\intercal}$ kann über die Ackermannformel berechnet werden."
   ]
  },
  {
   "cell_type": "code",
   "execution_count": null,
   "metadata": {},
   "outputs": [],
   "source": [
    "A = AGenMessung\n",
    "B = BGenMessung\n",
    "c = np.array([0, 1])"
   ]
  },
  {
   "cell_type": "code",
   "execution_count": null,
   "metadata": {},
   "outputs": [],
   "source": [
    "# Berechnung der Steuerbarkeitsmatrix\n",
    "S = np.hstack([B, A.dot(B)])\n",
    "\n",
    "# Berechnung des Vektors\n",
    "qT = np.linalg.inv(S)[-1, :]\n",
    "\n",
    "# Berechnung der Transformationsmatrix Q (in die RNF)\n",
    "Q = np.array([[qT], [qT.dot(A)]]).reshape(2,2)\n",
    "\n",
    "# Transformation des Systems in RNF\n",
    "ARNF = Q.dot(A).dot(np.linalg.inv(Q))\n",
    "bRNF = Q.dot(B)\n",
    "cRNF = c.dot(np.linalg.inv(Q))"
   ]
  },
  {
   "cell_type": "code",
   "execution_count": null,
   "metadata": {},
   "outputs": [],
   "source": [
    "x0 = (0 - bz2Messung) / cRNF[0]\n",
    "x1 = (z2Soll - bz2Messung) / cRNF[0]\n",
    "\n",
    "poles = [-0.5, -1]\n",
    "kRNF = control.acker(ARNF, bRNF, poles)"
   ]
  },
  {
   "cell_type": "code",
   "execution_count": null,
   "metadata": {},
   "outputs": [],
   "source": [
    "regler = ZustandsRegler(kRNF, Q, 0 - buA, 12 - buA, timeDom[1])\n",
    "steuerung = Steuerung(x0, x1, 0, dt, -ARNF[1, 0], -ARNF[1, 1], bRNF[1])"
   ]
  },
  {
   "attachments": {},
   "cell_type": "markdown",
   "metadata": {},
   "source": [
    "#### Regler ohne Steuerung"
   ]
  },
  {
   "cell_type": "code",
   "execution_count": null,
   "metadata": {},
   "outputs": [],
   "source": [
    "# nichtlineares System\n",
    "setPoint = np.array([bz2Phy, bz1Phy])\n",
    "z0 = [0, 0]\n",
    "zNLin, uNLin = simu_nlin_noFF(regler, timeDom, z0, setPoint)"
   ]
  },
  {
   "cell_type": "code",
   "execution_count": null,
   "metadata": {},
   "outputs": [],
   "source": [
    "# lineares System mit physikalischen Parametern\n",
    "setPoint = np.array([0, 0])\n",
    "z0 = [0, 0] - np.array([bz2Phy, 0])\n",
    "zLinPhy, uLinPhy = simu_lin_noFF(regler, timeDom, z0, setPoint, APhyLin, BPhyLin)"
   ]
  },
  {
   "cell_type": "code",
   "execution_count": null,
   "metadata": {},
   "outputs": [],
   "source": [
    "# lineares System mit gemessenen Parametern\n",
    "setPoint = np.array([0, 0])\n",
    "z0 = [0, 0] - np.array([bz2Messung, 0])\n",
    "zLinMes, uLinMes = simu_lin_noFF(regler, timeDom, z0, setPoint, AEAMessung, BEAMessung)"
   ]
  },
  {
   "cell_type": "code",
   "execution_count": null,
   "metadata": {},
   "outputs": [],
   "source": [
    "three_stack_plot(timeDom, zNLin, uNLin, zLinPhy, uLinPhy, bz2Phy, zLinMes, uLinMes, bz2Messung, refLine=z2Soll)"
   ]
  },
  {
   "attachments": {},
   "cell_type": "markdown",
   "metadata": {},
   "source": [
    "#### Regler mit Steuerung"
   ]
  },
  {
   "attachments": {},
   "cell_type": "markdown",
   "metadata": {},
   "source": [
    "Um den Zustandsregler mit der flachheitsbasierten Steuerung zu realisieren, brauchen wir einen Beobachter für das System, weil der flache Ausgang die Höhe des zweiten Tanks ist und im Zustand dementsprechend auch die Ableitung davon vorkommt. Diese Zustandsgröße wird nicht gemessen, weshalb ein Beobachter entworfen werden muss."
   ]
  },
  {
   "cell_type": "code",
   "execution_count": null,
   "metadata": {},
   "outputs": [],
   "source": [
    "regler = ZustandsRegler(kRNF, Q, 0 - buA, 12 - buA, timeDom[1])\n",
    "steuerung = Steuerung(x0, x1, 0, dt, -ARNF[1, 0], -ARNF[1, 1], bRNF[1])"
   ]
  },
  {
   "cell_type": "code",
   "execution_count": null,
   "metadata": {},
   "outputs": [],
   "source": [
    "# nichtlinears System\n",
    "z0 = [0, 0]\n",
    "zNLin, z2NLinFF, uNLin = simu_nlin_withFF(regler, steuerung, timeDom, z0, bz2Messung)"
   ]
  },
  {
   "cell_type": "code",
   "execution_count": null,
   "metadata": {},
   "outputs": [],
   "source": [
    "# # lineares System mit physikalischen Parametern\n",
    "# z0 = [0, 0 ]- np.array([bz2Phy, 0])\n",
    "zLinPhy, z2LinPhyFF, uLinPhy = simu_lin_withFF(regler, steuerung, timeDom, z0, APhyLin, BPhyLin)"
   ]
  },
  {
   "cell_type": "code",
   "execution_count": null,
   "metadata": {},
   "outputs": [],
   "source": [
    "# lineares System mit gemessenen Parametern\n",
    "z0 = [0, 0 ]- np.array([bz2Messung, 0])\n",
    "zLinMes, z2LinMesFF, uLinMes = simu_lin_withFF(regler, steuerung, timeDom, z0, AEAMessung, BEAMessung)"
   ]
  },
  {
   "cell_type": "code",
   "execution_count": null,
   "metadata": {},
   "outputs": [],
   "source": [
    "# three_stack_plot(timeDom, zNLin, uNLin, zLinPhy, uLinPhy, bz2Phy, zLinMes, uLinMes, bz2Messung, refLine=z2Soll)\n",
    "three_stack_plot_FF(timeDom, zNLin, z2NLinFF, uNLin, zLinPhy, z2LinPhyFF, uLinPhy, bz2Phy, zLinMes, z2LinMesFF, uLinMes, bz2Messung)"
   ]
  }
 ],
 "metadata": {
  "celltoolbar": "Hide code",
  "hide_code_all_hidden": true,
  "kernelspec": {
   "display_name": "Python 3",
   "language": "python",
   "name": "python3"
  },
  "language_info": {
   "codemirror_mode": {
    "name": "ipython",
    "version": 3
   },
   "file_extension": ".py",
   "mimetype": "text/x-python",
   "name": "python",
   "nbconvert_exporter": "python",
   "pygments_lexer": "ipython3",
   "version": "3.9.16"
  },
  "latex_envs": {
   "LaTeX_envs_menu_present": true,
   "autoclose": false,
   "autocomplete": true,
   "bibliofile": "sources.bib",
   "cite_by": "apalike",
   "current_citInitial": 1,
   "eqLabelWithNumbers": true,
   "eqNumInitial": 1,
   "hotkeys": {
    "equation": "Ctrl-E",
    "itemize": "Ctrl-I"
   },
   "labels_anchors": false,
   "latex_user_defs": false,
   "report_style_numbering": false,
   "user_envs_cfg": false
  },
  "vscode": {
   "interpreter": {
    "hash": "39e0aab28808e6e7151859c4e32aabe1c5b5c776557383a337ae81208d1db476"
   }
  }
 },
 "nbformat": 4,
 "nbformat_minor": 2
}
