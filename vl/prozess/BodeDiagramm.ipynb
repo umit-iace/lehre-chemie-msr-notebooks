{
 "cells": [
  {
   "cell_type": "code",
   "execution_count": null,
   "id": "f5758f2c",
   "metadata": {},
   "outputs": [],
   "source": [
    "%matplotlib widget\n",
    "\n",
    "import ipywidgets as widgets\n",
    "from ipywidgets import HBox, VBox, jslink, Box, Layout\n",
    "import numpy as np\n",
    "import matplotlib.pyplot as plt\n",
    "from scipy.signal import TransferFunction, bode, lsim\n",
    "from scipy import signal"
   ]
  },
  {
   "cell_type": "code",
   "execution_count": null,
   "id": "a814545e",
   "metadata": {},
   "outputs": [],
   "source": [
    "def make_box_layout():\n",
    "     return widgets.Layout(\n",
    "        border='solid 1px black',\n",
    "        margin='0px 10px 10px 0px',\n",
    "        padding='5px 5px 5px 5px'\n",
    "     )"
   ]
  },
  {
   "cell_type": "markdown",
   "id": "f0a5dc33",
   "metadata": {},
   "source": [
    "# Bode-Diagramm\n",
    "\n",
    "## System erster Ordnung\n",
    "\n",
    "\\begin{align*}\n",
    "    \\dot{y}(t) + a y(t) & = b u(t)\n",
    "\\end{align*}\n",
    "mit $a = b = \\frac{1}{100}$ und dem Eingangssignal\n",
    "\\begin{align*}\n",
    "    u(t) & = \\sin(2 \\pi f_{\\mathrm{u}} t), & f_{\\mathrm{u}} & = \\frac{\\omega_{\\mathrm{u}}}{2\\pi}\n",
    "\\end{align*}"
   ]
  },
  {
   "cell_type": "markdown",
   "id": "8e43559c",
   "metadata": {},
   "source": [
    "__Definition System__"
   ]
  },
  {
   "cell_type": "code",
   "execution_count": null,
   "id": "594c1ed4",
   "metadata": {},
   "outputs": [],
   "source": [
    "f = np.logspace(-2, 5)\n",
    "sys = TransferFunction([1], [0.01, 1])\n",
    "w, mag, phase = bode(sys, f)"
   ]
  },
  {
   "cell_type": "markdown",
   "id": "1c7771a4",
   "metadata": {},
   "source": [
    "__Simulation__"
   ]
  },
  {
   "cell_type": "code",
   "execution_count": null,
   "id": "eed4a819",
   "metadata": {},
   "outputs": [],
   "source": [
    "output = widgets.Output()\n",
    "\n",
    "with output:\n",
    "    fig = plt.figure(figsize=(10, 5))\n",
    "    ax3 = plt.subplot(122)\n",
    "    ax1 = plt.subplot(221)\n",
    "    ax2 = plt.subplot(223)\n",
    "\n",
    "plt.subplots_adjust(wspace=0.2, hspace=0.1)\n",
    "fig.canvas.toolbar_visible = False\n",
    "fig.canvas.header_visible = False\n",
    "fig.canvas.footer_visible = False\n",
    "fig.subplots_adjust(bottom=0.1, top=0.93, left=0.125, right=0.9)\n",
    "\n",
    "ax1.grid() \n",
    "ax2.grid()\n",
    "ax3.grid()\n",
    "[label.set_visible(False) for label in ax1.get_xticklabels()]\n",
    "ax2.set_xlabel(r\"$\\omega$\")\n",
    "ax3.set_xlabel(r\"$t$\")\n",
    "ax1.set_ylabel(r\"$|G(j \\omega)|_{\\mathrm{dB}}$\")\n",
    "ax2.set_ylabel(r\"$\\mathrm{arg}\\, G(j\\omega)/^{\\circ}$\")\n",
    "ax3.set_ylim([-1.1, 1.1])\n",
    "\n",
    "ax1.semilogx(w, mag)\n",
    "ax2.semilogx(w, phase)\n",
    "simInputPlot, = ax3.plot([], [], label=r'$u(t)$')\n",
    "simOutputPlot, = ax3.plot([], [], label=r'$y(t)$')\n",
    "\n",
    "magLine = ax1.axvline(x = 0, color = 'r', alpha=0.5)\n",
    "phaseLine = ax2.axvline(x = 0, color = 'r', alpha=0.5)\n",
    "\n",
    "handlesAx, labelsAx = ax3.get_legend_handles_labels()\n",
    "fig.legend([handle for i, handle in enumerate(handlesAx)],\n",
    "           [label for i, label in enumerate(labelsAx)],\n",
    "           bbox_to_anchor=(0.5475, 0.94, 0.3525, .15), loc=3,\n",
    "           ncol=2, mode=\"expand\", borderaxespad=0., framealpha=0.5)\n",
    "\n",
    "sliderFreq = widgets.FloatLogSlider(value=0.01,\n",
    "                                    min=-2,\n",
    "                                    max=4,\n",
    "                                    step=0.5,\n",
    "                                    description='Freq')\n",
    "\n",
    "def calcSystem(_):\n",
    "    fU = sliderFreq.value\n",
    "    wU = 2 * np.pi * fU\n",
    "    \n",
    "    t = np.linspace(0, 4. / fU, 1001)\n",
    "    u = np.sin(wU * t)\n",
    "    tSim, ySim, xSim = lsim(sys, U=u, T=t)\n",
    "\n",
    "    magLine.set_xdata(np.array([wU]))\n",
    "    phaseLine.set_xdata(np.array([wU]))\n",
    "    \n",
    "    simInputPlot.set_data(tSim, u)\n",
    "    simOutputPlot.set_data(tSim, ySim)\n",
    "    ax3.set_xlim([0, t[-1]])\n",
    "    fig.canvas.draw()\n",
    "\n",
    "sliderFreq.observe(calcSystem, names='value')\n",
    "\n",
    "calcSystem(_)\n",
    "\n",
    "inputControls = Box([sliderFreq])\n",
    "inputControls.layout = make_box_layout()\n",
    "\n",
    "HBox([inputControls, output], layout=Layout(display='flex', flex_flow='row', justify_content='center', align_items='center'))"
   ]
  },
  {
   "cell_type": "code",
   "execution_count": null,
   "id": "5c146031",
   "metadata": {},
   "outputs": [],
   "source": []
  }
 ],
 "metadata": {
  "kernelspec": {
   "display_name": "Python 3 (ipykernel)",
   "language": "python",
   "name": "python3"
  },
  "language_info": {
   "codemirror_mode": {
    "name": "ipython",
    "version": 3
   },
   "file_extension": ".py",
   "mimetype": "text/x-python",
   "name": "python",
   "nbconvert_exporter": "python",
   "pygments_lexer": "ipython3",
   "version": "3.11.5"
  },
  "latex_envs": {
   "LaTeX_envs_menu_present": true,
   "autoclose": false,
   "autocomplete": true,
   "bibliofile": "sources.bib",
   "cite_by": "apalike",
   "current_citInitial": 1,
   "eqLabelWithNumbers": true,
   "eqNumInitial": 1,
   "hotkeys": {
    "equation": "Ctrl-E",
    "itemize": "Ctrl-I"
   },
   "labels_anchors": false,
   "latex_user_defs": false,
   "report_style_numbering": false,
   "user_envs_cfg": false
  }
 },
 "nbformat": 4,
 "nbformat_minor": 5
}
