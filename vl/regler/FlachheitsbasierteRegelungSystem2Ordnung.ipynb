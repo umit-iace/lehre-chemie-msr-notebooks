{
 "cells": [
  {
   "cell_type": "code",
   "execution_count": null,
   "id": "0",
   "metadata": {},
   "outputs": [],
   "source": [
    "import ipywidgets as widgets\n",
    "from ipywidgets import HBox, VBox, jslink, Box, Layout\n",
    "import numpy as np\n",
    "import sympy as sp\n",
    "from sympy import lambdify\n",
    "import matplotlib.pyplot as plt\n",
    "import matplotlib.dates as mdates\n",
    "from IPython.display import display, Latex, Markdown, Image, Math\n",
    "from scipy.integrate import solve_ivp\n",
    "from scipy.signal import place_poles\n",
    "import sympy as sp"
   ]
  },
  {
   "cell_type": "code",
   "execution_count": null,
   "id": "1",
   "metadata": {},
   "outputs": [],
   "source": [
    "imag = Image(\"../../images/twoTank.png\", width=800)\n",
    "display(imag)"
   ]
  },
  {
   "cell_type": "markdown",
   "id": "2",
   "metadata": {},
   "source": [
    "__System__"
   ]
  },
  {
   "cell_type": "code",
   "execution_count": null,
   "id": "3",
   "metadata": {},
   "outputs": [],
   "source": [
    "_t, s, yf, dyf, ddyf = sp.symbols('t s yf dyf ddyf')"
   ]
  },
  {
   "cell_type": "code",
   "execution_count": null,
   "id": "4",
   "metadata": {},
   "outputs": [],
   "source": [
    "z1 = sp.Function('z_1')\n",
    "z2 = sp.Function('z_2')\n",
    "uA = sp.Function('u_A')\n",
    "y = sp.Function('y')\n",
    "z = sp.Matrix([[z1(_t)], [z2(_t)]])"
   ]
  },
  {
   "cell_type": "code",
   "execution_count": null,
   "id": "5",
   "metadata": {},
   "outputs": [],
   "source": [
    "dz1 = 0.00216625315586689 * uA(_t) - 0.0127646468529449 * np.sqrt(2) * sp.sqrt(z1(_t))\n",
    "dz2 = 0.0127646468529449 * np.sqrt(2) * sp.sqrt(z1(_t)) - 0.00908683019582126 * np.sqrt(2) * sp.sqrt(z2(_t))\n",
    "\n",
    "dz = sp.Matrix([[dz1], [dz2]])\n",
    "display(Latex(\"$\\\\dot{{\\\\mathbf{{z}}}} = {}$\".format(sp.latex(dz))))"
   ]
  },
  {
   "cell_type": "markdown",
   "id": "6",
   "metadata": {},
   "source": [
    "__Flacher Ausgang__"
   ]
  },
  {
   "cell_type": "code",
   "execution_count": null,
   "id": "7",
   "metadata": {},
   "outputs": [],
   "source": [
    "display(Latex(\"$y(t) = z_2(t)$\"))\n",
    "dy = dz[1]\n",
    "display(Latex(\"$\\\\dot{{y}}(t) = \\\\dot{{z}}_2(t) = {}$\".format(sp.latex(dy))))\n",
    "ddy = sp.simplify(dz[1].diff(_t).subs({z1(_t).diff(_t): dz1, z2(_t).diff(_t): dz2}))\n",
    "display(Latex(\"$\\\\ddot{{y}}(t) = \\\\ddot{{z}}_2(t) = {}$\".format(sp.latex(ddy))))"
   ]
  },
  {
   "cell_type": "code",
   "execution_count": null,
   "id": "8",
   "metadata": {},
   "outputs": [],
   "source": [
    "_z1 = sp.solve(dy.subs({z2(_t): y(_t)}) - y(_t).diff(_t), z1(_t))[0]\n",
    "display(Latex(\"$z_1(t) = {}$\".format(_z1)))\n",
    "z1Sym = lambdify((yf, dyf), _z1.subs({y(_t): yf, y(_t).diff(_t): dyf}))"
   ]
  },
  {
   "cell_type": "code",
   "execution_count": null,
   "id": "9",
   "metadata": {},
   "outputs": [],
   "source": [
    "display(Latex(\"$\\\\dot{{y}}(t) = \\\\dot{{z}}_2(t) = {}$\".format(sp.latex(sp.simplify(dy.subs({\n",
    "    z1(_t): _z1,\n",
    "    z2(_t): y(_t)\n",
    "}))))))\n",
    "display(Latex(\"$\\\\ddot{{y}}(t) = \\\\ddot{{z}}_2(t) = {}$\".format(sp.latex(sp.simplify(ddy.subs({\n",
    "    z1(_t): _z1,\n",
    "    z2(_t): y(_t)\n",
    "}))))))"
   ]
  },
  {
   "cell_type": "code",
   "execution_count": null,
   "id": "10",
   "metadata": {},
   "outputs": [],
   "source": [
    "_uA = sp.simplify(sp.solve(ddy.subs({z1(_t): _z1, z2(_t): y(_t)}) - y(_t).diff(_t, 2), uA(_t))[0])\n",
    "display(Latex(\"$u_{{\\\\mathrm{{A}}}}(t) = {}$\".format(sp.latex(_uA))))"
   ]
  },
  {
   "cell_type": "code",
   "execution_count": null,
   "id": "11",
   "metadata": {},
   "outputs": [],
   "source": [
    "u = lambdify((yf, dyf, ddyf), _uA.subs({y(_t): yf, y(_t).diff(_t): dyf, y(_t).diff(_t,2): ddyf}))"
   ]
  },
  {
   "cell_type": "markdown",
   "id": "12",
   "metadata": {},
   "source": [
    "__Definition Parammeter__"
   ]
  },
  {
   "cell_type": "code",
   "execution_count": null,
   "id": "13",
   "metadata": {},
   "outputs": [],
   "source": [
    "tSim = np.linspace(0, 500, 501)"
   ]
  },
  {
   "cell_type": "code",
   "execution_count": null,
   "id": "14",
   "metadata": {},
   "outputs": [],
   "source": [
    "x0 = [0.0, 0.0]\n",
    "t0 = 0\n",
    "yd = 0.2\n",
    "dt = 250"
   ]
  },
  {
   "cell_type": "code",
   "execution_count": null,
   "id": "15",
   "metadata": {},
   "outputs": [],
   "source": [
    "yr = lambda t: yd * (10 * (t - t0) ** 3 / dt ** 3 - 15 * (t - t0) ** 4 / dt ** 4 + 6 * (t - t0) ** 5 / dt ** 5) if t0 <= t <= t0 + dt else 0 if t < t0 else yd \n",
    "dyr = lambda t: yd * (30 * (t - t0) ** 2 / dt ** 3 - 60 * (t - t0) ** 3 / dt ** 4 + 30 * (t - t0) ** 4 / dt ** 5) if t0 < t < t0 + dt else 0\n",
    "ddyr = lambda t: yd * (60 * (t - t0) / dt ** 3 - 180 * (t - t0) ** 2 / dt ** 4 + 120 * (t - t0) ** 3 / dt ** 5) if t0 < t < t0 + dt else 0"
   ]
  },
  {
   "cell_type": "markdown",
   "id": "16",
   "metadata": {},
   "source": [
    "## Steuerung"
   ]
  },
  {
   "cell_type": "code",
   "execution_count": null,
   "id": "17",
   "metadata": {},
   "outputs": [],
   "source": [
    "def prozessFF(_t, x, u):\n",
    "    z1 = x[0]\n",
    "    z2 = x[1]\n",
    "    \n",
    "    uA = u(_t)\n",
    "    if np.isnan(uA):\n",
    "        uA = 0.0\n",
    "        \n",
    "    if z1 <= 1e-6:\n",
    "        z1 = 0\n",
    "\n",
    "    if z2 <= 1e-6:\n",
    "        z2 = 0\n",
    "        \n",
    "    dx = np.zeros(2)\n",
    "    dx[0] = 0.00216625315586689 * uA - 0.0127646468529449 * np.sqrt(2) * np.sqrt(z1)\n",
    "    dx[1] = 0.0127646468529449 * np.sqrt(2) * np.sqrt(z1) - 0.00908683019582126 * np.sqrt(2) * np.sqrt(z2)\n",
    "\n",
    "    return dx"
   ]
  },
  {
   "cell_type": "code",
   "execution_count": null,
   "id": "18",
   "metadata": {},
   "outputs": [],
   "source": [
    "uAt = lambda t: u(yr(t), dyr(t), ddyr(t))\n",
    "\n",
    "resFF = solve_ivp(prozessFF, [tSim[0], tSim[-1]], x0,\n",
    "                t_eval=tSim, args=(uAt, ))"
   ]
  },
  {
   "cell_type": "code",
   "execution_count": null,
   "id": "19",
   "metadata": {},
   "outputs": [],
   "source": [
    "uAt = lambda t: u(yr(tSim[-1]), dyr(tSim[-1]), ddyr(tSim[-1]))\n",
    "\n",
    "res = solve_ivp(prozessFF, [tSim[0], tSim[-1]], x0,\n",
    "                t_eval=tSim, args=(uAt, ))"
   ]
  },
  {
   "cell_type": "code",
   "execution_count": null,
   "id": "20",
   "metadata": {},
   "outputs": [],
   "source": [
    "plt.close()\n",
    "\n",
    "fig, axes10 = plt.subplots(1, 1, figsize=(10,6))\n",
    "fig.canvas.toolbar_visible = False\n",
    "fig.canvas.header_visible = False\n",
    "fig.canvas.footer_visible = False\n",
    "\n",
    "axes10.plot(resFF.t, resFF.y[0], 'C0', label=r\"$z_1$\", alpha=0.5)\n",
    "axes10.plot(res.t, res.y[0], 'C1', label=r\"Sprung $z_1$\")\n",
    "axes10.plot(resFF.t, resFF.y[1], 'C2', label=r\"$z_2$\", alpha=0.5)\n",
    "axes10.plot(res.t, res.y[1], 'C3', label=r\"Sprung $z_2$\")\n",
    "axes10.plot(tSim, [z1Sym(yr(t), dyr(t)) for t in tSim], 'C1--', label=r\"$z_{1,\\text{r}}$\")\n",
    "axes10.plot(tSim, [yr(t) for t in tSim], 'C2--', label=r\"$z_{2,\\text{r}}$\")\n",
    "\n",
    "axes11 = axes10.twinx()\n",
    "axes11.plot(tSim, [u(yr(t), dyr(t), ddyr(t)) for t in tSim], 'C4')\n",
    "axes11.set_ylabel(r\"$u_{\\mathrm{A}}$ in V\", color='C4')\n",
    "axes11.tick_params(axis='y', colors='C4')\n",
    "\n",
    "axes10.set_xlabel(r\"$t$ in s\")\n",
    "axes10.set_ylabel(r\"$z_{\\bullet}$ in m\")\n",
    "\n",
    "axes10.grid() \n",
    "\n",
    "handlesAx, labelsAx = axes10.get_legend_handles_labels()\n",
    "fig.legend([handle for i, handle in enumerate(handlesAx)],\n",
    "           [label for i, label in enumerate(labelsAx)],\n",
    "           bbox_to_anchor=(0.125, 0.90, 0.775, .15), loc=3,\n",
    "           ncol=6, mode=\"expand\", borderaxespad=0., framealpha=0.5)\n",
    "plt.show()"
   ]
  },
  {
   "cell_type": "markdown",
   "id": "21",
   "metadata": {},
   "source": [
    "## Regelung"
   ]
  },
  {
   "cell_type": "markdown",
   "id": "22",
   "metadata": {},
   "source": [
    "- Einführung Fehler\n",
    "  \\begin{align*}\n",
    "      \\ddot{e}(t) + K_1 \\dot{e}(t) + K_0 e(t) & = 0, & e(t) & = y(t) - y_{\\text{r}}(t), & K_0, K_1 & > 0\n",
    "  \\end{align*}\n",
    "- Stellgesetz\n",
    "  \\begin{align*}\n",
    "      \\ddot{y}(t) & = \\ddot{y}_{\\text{r}}(t) - K_1 \\dot{e}(t) - K_0 e(t)\n",
    "  \\end{align*}"
   ]
  },
  {
   "cell_type": "code",
   "execution_count": null,
   "id": "23",
   "metadata": {},
   "outputs": [],
   "source": [
    "def prozessCtrl(_t, x, u, yr, dyr, ddyr, K0, K1, inError):\n",
    "    z1 = x[0]\n",
    "    z2 = x[1]\n",
    "\n",
    "    if z1 <= 1e-6:\n",
    "        z1 = 0\n",
    "\n",
    "    if z2 <= 1e-6:\n",
    "        z2 = 0\n",
    "\n",
    "    yrObs = z2\n",
    "    dyrObs = 0.0127646468529449 * np.sqrt(2) * np.sqrt(z1) - 0.00908683019582126 * np.sqrt(2) * np.sqrt(z2)\n",
    "\n",
    "    e = yrObs - yr(_t)\n",
    "    de = dyrObs - dyr(_t)\n",
    "                                                                                                                                                       \n",
    "    v = ddyr(_t) - K1 * de - K0 * e\n",
    "    \n",
    "    uA = u(yr(_t), dyr(_t), v) + inError\n",
    "\n",
    "    if np.isnan(uA):\n",
    "        uA = 0.0\n",
    "\n",
    "    dx = np.zeros(2)\n",
    "    dx[0] = 0.00216625315586689 * uA - 0.0127646468529449 * np.sqrt(2) * np.sqrt(z1)\n",
    "    dx[1] = 0.0127646468529449 * np.sqrt(2) * np.sqrt(z1) - 0.00908683019582126 * np.sqrt(2) * np.sqrt(z2)\n",
    "\n",
    "    return dx"
   ]
  },
  {
   "cell_type": "code",
   "execution_count": null,
   "id": "24",
   "metadata": {},
   "outputs": [],
   "source": [
    "x0 = [0.075, 0.05]\n",
    "K1 = 4e-4\n",
    "K0 = 7e-3\n",
    "inError = 0.075\n",
    "\n",
    "resCtrl = solve_ivp(prozessCtrl, [tSim[0], tSim[-1]], x0,\n",
    "                    t_eval=tSim, args=(u, yr, dyr, ddyr, K0, K1, inError))"
   ]
  },
  {
   "cell_type": "code",
   "execution_count": null,
   "id": "25",
   "metadata": {},
   "outputs": [],
   "source": [
    "uCtrl = np.zeros(len(tSim))\n",
    "for idx, t in enumerate(tSim):\n",
    "    z1Ctrl = resCtrl.y[0, idx]\n",
    "    z2Ctrl = resCtrl.y[1, idx]\n",
    "    yrObs = z2Ctrl\n",
    "    dyrObs = 0.0127646468529449 * np.sqrt(2) * np.sqrt(z1Ctrl) - 0.00908683019582126 * np.sqrt(2) * np.sqrt(z2Ctrl)\n",
    "\n",
    "    e = yrObs - yr(t)\n",
    "    de = dyrObs - dyr(t)\n",
    "                                                                                                                                                       \n",
    "    v = ddyr(t) - K1 * de - K0 * e\n",
    "    uACtrl = u(yr(t), dyr(t), v) + inError\n",
    "    if np.isnan(uACtrl):\n",
    "        uACtrl = 0\n",
    "    \n",
    "    uCtrl[idx] = uACtrl"
   ]
  },
  {
   "cell_type": "code",
   "execution_count": null,
   "id": "26",
   "metadata": {},
   "outputs": [],
   "source": [
    "plt.close()\n",
    "\n",
    "fig, axes10 = plt.subplots(1, 1, figsize=(10,6))\n",
    "fig.canvas.toolbar_visible = False\n",
    "fig.canvas.header_visible = False\n",
    "fig.canvas.footer_visible = False\n",
    "\n",
    "axes10.plot(resCtrl.t, resCtrl.y[0], 'C0', label=r\"$z_1$\", alpha=0.5)\n",
    "axes10.plot(resCtrl.t, resCtrl.y[1], 'C2', label=r\"$z_2$\", alpha=0.5)\n",
    "axes10.plot(tSim, [z1Sym(yr(t), dyr(t)) for t in tSim], 'C0--', label=r\"$z_{1,\\text{r}}$\")\n",
    "axes10.plot(tSim, [yr(t) for t in tSim], 'C2--', label=r\"$z_{2,\\text{r}}$\")\n",
    "\n",
    "axes11 = axes10.twinx()\n",
    "axes11.plot(tSim, [u(yr(t), dyr(t), ddyr(t)) for t in tSim], 'C4')\n",
    "axes11.plot(tSim, uCtrl, 'C4--')\n",
    "axes11.set_ylabel(r\"$u_{\\mathrm{A}}$ in V\", color='C4')\n",
    "axes11.tick_params(axis='y', colors='C4')\n",
    "\n",
    "axes10.set_xlabel(r\"$t$ in s\")\n",
    "axes10.set_ylabel(r\"$z_{\\bullet}$ in m\")\n",
    "\n",
    "axes10.grid() \n",
    "\n",
    "handlesAx, labelsAx = axes10.get_legend_handles_labels()\n",
    "fig.legend([handle for i, handle in enumerate(handlesAx)],\n",
    "           [label for i, label in enumerate(labelsAx)],\n",
    "           bbox_to_anchor=(0.125, 0.90, 0.775, .15), loc=3,\n",
    "           ncol=6, mode=\"expand\", borderaxespad=0., framealpha=0.5)\n",
    "plt.show()"
   ]
  },
  {
   "cell_type": "markdown",
   "id": "27",
   "metadata": {},
   "source": [
    "## Vergleich mit linearen Zustandsregler"
   ]
  },
  {
   "cell_type": "markdown",
   "id": "28",
   "metadata": {},
   "source": [
    "- Ruhelage"
   ]
  },
  {
   "cell_type": "code",
   "execution_count": null,
   "id": "29",
   "metadata": {},
   "outputs": [],
   "source": [
    "barz2 = yr(tSim[-1])\n",
    "barz1 = z1Sym(yr(tSim[-1]), dyr(tSim[-1]))\n",
    "baruA = u(yr(tSim[-1]), dyr(tSim[-1]), ddyr(tSim[-1]))"
   ]
  },
  {
   "cell_type": "markdown",
   "id": "30",
   "metadata": {},
   "source": [
    "- System- und Transformationsmatrix"
   ]
  },
  {
   "cell_type": "code",
   "execution_count": null,
   "id": "31",
   "metadata": {},
   "outputs": [],
   "source": [
    "A = np.array(dz.jacobian(sp.Matrix([[z1(_t)], [z2(_t)]])).subs({\n",
    "    z1(_t): barz1,\n",
    "    z2(_t): barz2\n",
    "})).astype(np.float64)\n",
    "b = np.array(dz.jacobian(sp.Matrix([uA(_t)]))).astype(np.float64)"
   ]
  },
  {
   "cell_type": "code",
   "execution_count": null,
   "id": "32",
   "metadata": {},
   "outputs": [],
   "source": [
    "S = np.hstack((b, A.dot(b)))\n",
    "q = np.array([0, 1]) @ np.linalg.inv(S)\n",
    "T = np.vstack((q, q @ A))\n",
    "ctrlA = T @ A @ np.linalg.inv(T)\n",
    "ctrlC = np.array([0, 1]) @ np.linalg.inv(T)"
   ]
  },
  {
   "cell_type": "markdown",
   "id": "33",
   "metadata": {},
   "source": [
    "- Reglerverstärkung"
   ]
  },
  {
   "cell_type": "code",
   "execution_count": null,
   "id": "34",
   "metadata": {},
   "outputs": [],
   "source": [
    "poles = np.array([-0.05, -0.06])\n",
    "pp = place_poles(A, b, poles)\n",
    "k = pp.gain_matrix[0].reshape((1,2))"
   ]
  },
  {
   "cell_type": "markdown",
   "id": "35",
   "metadata": {},
   "source": [
    "- Steuerung"
   ]
  },
  {
   "cell_type": "code",
   "execution_count": null,
   "id": "36",
   "metadata": {},
   "outputs": [],
   "source": [
    "yrSS = lambda t: -barz2 / ctrlC[0] + (barz2 / ctrlC[0]) * (10 * (t - t0) ** 3 / dt ** 3 - 15 * (t - t0) ** 4 / dt ** 4 + 6 * (t - t0) ** 5 / dt ** 5) if t0 <= t <= t0 + dt else -barz2 / ctrlC0 if t < t0 else 0\n",
    "dyrSS = lambda t: (barz2 / ctrlC[0]) * (30 * (t - t0) ** 2 / dt ** 3 - 60 * (t - t0) ** 3 / dt ** 4 + 30 * (t - t0) ** 4 / dt ** 5) if t0 < t < t0 + dt else 0\n",
    "ddyrSS = lambda t: (barz2 / ctrlC[0]) * (60 * (t - t0) / dt ** 3 - 180 * (t - t0) ** 2 / dt ** 4 + 120 * (t - t0) ** 3 / dt ** 5) if t0 < t < t0 + dt else 0"
   ]
  },
  {
   "cell_type": "code",
   "execution_count": null,
   "id": "37",
   "metadata": {},
   "outputs": [],
   "source": [
    "def prozessSSCtrl(t, x, yr, dyr, ddyr, k, ctrlA, T, barz1, barz2, baru, inError):\n",
    "    z1 = x[0]\n",
    "    z2 = x[1]\n",
    "\n",
    "    if z1 <= 1e-6:\n",
    "        z1 = 0\n",
    "\n",
    "    if z2 <= 1e-6:\n",
    "        z2 = 0\n",
    "\n",
    "    uRef = ddyr(t) - ctrlA[-1, 1] * dyr(t) - ctrlA[-1, 0] * yr(t)\n",
    "    zRef = np.linalg.inv(T).dot(np.array([yr(t), dyr(t)]))\n",
    "\n",
    "    e = k @ (zRef - (np.array([z1, z2]) - np.array([barz1, barz2])))\n",
    "    uA = (uRef + e + baru + inError)[0]\n",
    "\n",
    "    dx = np.zeros(2)\n",
    "    dx[0] = 0.00216625315586689 * uA - 0.0127646468529449 * np.sqrt(2) * np.sqrt(z1)\n",
    "    dx[1] = 0.0127646468529449 * np.sqrt(2) * np.sqrt(z1) - 0.00908683019582126 * np.sqrt(2) * np.sqrt(z2)\n",
    "\n",
    "    return dx"
   ]
  },
  {
   "cell_type": "code",
   "execution_count": null,
   "id": "38",
   "metadata": {},
   "outputs": [],
   "source": [
    "resSSCtrl = solve_ivp(prozessSSCtrl, [tSim[0], tSim[-1]], x0,\n",
    "                      t_eval=tSim, args=(yrSS, dyrSS, ddyrSS, k, ctrlA, T, barz1, barz2, baruA, inError))"
   ]
  },
  {
   "cell_type": "code",
   "execution_count": null,
   "id": "39",
   "metadata": {},
   "outputs": [],
   "source": [
    "uCtrlSS = np.zeros(len(tSim))\n",
    "for idx, t in enumerate(tSim):\n",
    "\n",
    "    uRef = ddyrSS(t) - ctrlA[-1, 1] * dyrSS(t) - ctrlA[-1, 0] * yrSS(t)\n",
    "    uCtrlSS[idx] = uRef + baruA"
   ]
  },
  {
   "cell_type": "code",
   "execution_count": null,
   "id": "40",
   "metadata": {},
   "outputs": [],
   "source": [
    "plt.close()\n",
    "\n",
    "fig, axes10 = plt.subplots(1, 1, figsize=(10,6))\n",
    "fig.canvas.toolbar_visible = False\n",
    "fig.canvas.header_visible = False\n",
    "fig.canvas.footer_visible = False\n",
    "\n",
    "axes10.plot(resCtrl.t, resCtrl.y[0], 'C0', label=r\"$z_{1,\\text{Flach}}$\", alpha=0.5)\n",
    "axes10.plot(resCtrl.t, resCtrl.y[1], 'C2', label=r\"$z_{2,\\text{Flach}}$\", alpha=0.5)\n",
    "axes10.plot(resSSCtrl.t, resSSCtrl.y[0], 'C0--', label=r\"$z_{1,\\text{Zustand}}$\")\n",
    "axes10.plot(resSSCtrl.t, resSSCtrl.y[1], 'C2--', label=r\"$z_{2,\\text{Zustand}}$\")\n",
    "axes10.plot(tSim, [z1Sym(yr(t), dyr(t)) for t in tSim], 'C0-.', label=r\"$z_{1,\\text{r}}$\")\n",
    "axes10.plot(tSim, [yr(t) for t in tSim], 'C2-.', label=r\"$z_{2,\\text{r}}$\")\n",
    "\n",
    "axes11 = axes10.twinx()\n",
    "axes11.plot(tSim, uCtrl, 'C4', alpha=0.5)\n",
    "axes11.plot(tSim, uCtrlSS, 'C4--')\n",
    "axes11.set_ylabel(r\"$u_{\\mathrm{A}}$ in V\", color='C4')\n",
    "axes11.tick_params(axis='y', colors='C4')\n",
    "\n",
    "axes10.set_xlabel(r\"$t$ in s\")\n",
    "axes10.set_ylabel(r\"$z_{\\bullet}$ in m\")\n",
    "\n",
    "axes10.grid() \n",
    "\n",
    "handlesAx, labelsAx = axes10.get_legend_handles_labels()\n",
    "fig.legend([handle for i, handle in enumerate(handlesAx)],\n",
    "           [label for i, label in enumerate(labelsAx)],\n",
    "           bbox_to_anchor=(0.125, 0.90, 0.775, .15), loc=3,\n",
    "           ncol=6, mode=\"expand\", borderaxespad=0., framealpha=0.5)\n",
    "plt.show()"
   ]
  }
 ],
 "metadata": {
  "kernelspec": {
   "display_name": "Python 3 (ipykernel)",
   "language": "python",
   "name": "python3"
  },
  "language_info": {
   "codemirror_mode": {
    "name": "ipython",
    "version": 3
   },
   "file_extension": ".py",
   "mimetype": "text/x-python",
   "name": "python",
   "nbconvert_exporter": "python",
   "pygments_lexer": "ipython3",
   "version": "3.12.9"
  },
  "latex_envs": {
   "LaTeX_envs_menu_present": true,
   "autoclose": false,
   "autocomplete": true,
   "bibliofile": "sources.bib",
   "cite_by": "apalike",
   "current_citInitial": 1,
   "eqLabelWithNumbers": true,
   "eqNumInitial": 1,
   "hotkeys": {
    "equation": "Ctrl-E",
    "itemize": "Ctrl-I"
   },
   "labels_anchors": false,
   "latex_user_defs": false,
   "report_style_numbering": false,
   "user_envs_cfg": false
  }
 },
 "nbformat": 4,
 "nbformat_minor": 5
}
