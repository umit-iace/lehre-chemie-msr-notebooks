{
 "cells": [
  {
   "cell_type": "code",
   "execution_count": null,
   "id": "469ec3e2-76fd-4e0f-9a96-6ca3a15e72fb",
   "metadata": {},
   "outputs": [],
   "source": [
    "import matplotlib.pyplot as plt\n",
    "import ipywidgets as widgets\n",
    "import numpy as np\n",
    "import sympy as sp\n",
    "from scipy.signal import TransferFunction, bode, lsim\n",
    "from scipy import signal\n",
    "import control as control\n",
    "from IPython.display import Math, display, Image, Markdown, Latex"
   ]
  },
  {
   "cell_type": "markdown",
   "id": "2bb9fdc1",
   "metadata": {},
   "source": [
    "# Vergleich Einstellverfahren"
   ]
  },
  {
   "cell_type": "code",
   "execution_count": null,
   "id": "ee469cec",
   "metadata": {},
   "outputs": [],
   "source": [
    "imag = Image(\"../../images/zweitank.png\", width=800)\n",
    "display(imag)"
   ]
  },
  {
   "cell_type": "markdown",
   "id": "82f085bb-5e08-4cd8-b6b2-276ca1694050",
   "metadata": {},
   "source": [
    "## 2-Tanksystem\n",
    "\n",
    "- lineares Modell im Zeitbereich\n",
    "    \\begin{align*}\n",
    "        \\dot{\\tilde{z}}_1(t) & = a_{11} \\tilde{z}_1(t) + b \\tilde{u}_{\\text{A}}(t)\\\\\n",
    "        \\dot{\\tilde{z}}_2(t) & = a_{21} \\tilde{z}_1(t) + a_{22} \\tilde{z}_2(t) \n",
    "    \\end{align*}\n",
    "    mit Ausgang $y(t) = z_2(t)$ bzw.\n",
    "    \\begin{align*}\n",
    "        T_1T_2\\ddot{\\tilde{z}}_2(t) + (T_1 + T_2)\\dot{\\tilde{z}}_2(t) + \\tilde{z}_2(t) & = K \\tilde{u}_{\\text{A}}(t)\n",
    "    \\end{align*}\n",
    "- lineares Modell im Bildbereich\n",
    "    \\begin{align*}\n",
    "        P(s) &= \\frac{K_\\mathrm{S}}{(1 + T_1 s) (1 + T_2 s)} = \\frac{0.15}{(1 + 68.21 s) (1 + 34.57 s)}\n",
    "    \\end{align*}"
   ]
  },
  {
   "cell_type": "code",
   "execution_count": null,
   "id": "1c4979b1",
   "metadata": {},
   "outputs": [],
   "source": [
    "f = np.logspace(-5, 1)\n",
    "time = np.linspace(0, 750, 751)"
   ]
  },
  {
   "cell_type": "code",
   "execution_count": null,
   "id": "50862342-edb6-4446-aaa1-503fe2b9c1f2",
   "metadata": {},
   "outputs": [],
   "source": [
    "T1 = 68.21\n",
    "T2 = 34.57\n",
    "KS = 0.15\n",
    "sys = control.TransferFunction([KS], [T1 * T2, T1 + T2, 1])\n",
    "wSys, magSys, phaseSys = bode(sys.returnScipySignalLTI()[0][0], f)"
   ]
  },
  {
   "cell_type": "markdown",
   "id": "20a10da8",
   "metadata": {},
   "source": [
    "- Sprungangwort"
   ]
  },
  {
   "cell_type": "code",
   "execution_count": null,
   "id": "7492a143",
   "metadata": {},
   "outputs": [],
   "source": [
    "u = np.ones(len(time)) * 6\n",
    "tSimSys, ySimSys, _ = signal.lsim(sys.returnScipySignalLTI()[0][0], U=u, T=time)"
   ]
  },
  {
   "cell_type": "markdown",
   "id": "d4d04722",
   "metadata": {},
   "source": [
    "## Regler\n",
    "\n",
    "* da System 2.Ordnung $\\Rightarrow$ PI-Regler\n",
    "\\begin{align*}\n",
    "    R(s) & = K_{\\mathrm{R}} \\frac{1 + T_{\\mathrm{N}} s}{T_{\\mathrm{N}} s}\n",
    "\\end{align*}\n",
    "\n",
    "* offener Kreis\n",
    "\\begin{align*}\n",
    "    G_0(s) & = R(s) P(s) = K_{\\mathrm{R}} \\frac{1 + T_{\\mathrm{N}} s}{T_{\\mathrm{N}} s}\\frac{K_\\mathrm{S}}{(1 + T_1 s) (1 + T_2 s)}\n",
    "\\end{align*}\n"
   ]
  },
  {
   "cell_type": "markdown",
   "id": "961c25c4-2dbd-4309-aac4-bf70356452f4",
   "metadata": {
    "tags": []
   },
   "source": [
    "### Verfahren nach Reinisch"
   ]
  },
  {
   "cell_type": "code",
   "execution_count": null,
   "id": "1b8c91e8-abe9-49e5-b00d-3c89b5eac9bd",
   "metadata": {},
   "outputs": [],
   "source": [
    "a = 2\n",
    "Tn = T1\n",
    "TSum = T2\n",
    "KP = Tn / (a * KS * TSum)\n",
    "display(Markdown(rf\"\"\"\n",
    "$K_\\mathrm{{P}} = {KP},\\quad T_\\mathrm{{N}} = {Tn},\\quad T_\\mathrm{{\\sum}} = {TSum}$\n",
    "\"\"\"))"
   ]
  },
  {
   "cell_type": "code",
   "execution_count": null,
   "id": "fe5a47c0-de1c-4ff1-90e3-e265a48e2436",
   "metadata": {},
   "outputs": [],
   "source": [
    "ctrlReinisch = control.TransferFunction([KP * Tn, KP],[Tn, 0])\n",
    "wCtrlReinisch, magCtrlReinisch, phaseCtrlReinisch = bode(ctrlReinisch.returnScipySignalLTI()[0][0], f)\n",
    "display(Latex(\"$R(s) = $\"))\n",
    "ctrlReinisch"
   ]
  },
  {
   "cell_type": "code",
   "execution_count": null,
   "id": "9bae73e7",
   "metadata": {},
   "outputs": [],
   "source": [
    "G0Reinisch = (ctrlReinisch * sys).minreal()\n",
    "wG0Reinisch, magG0Reinisch, phaseG0Reinisch = bode(G0Reinisch.returnScipySignalLTI()[0][0], f)\n",
    "display(Latex(\"$G_0(s) = R(s) P(s) = $\"))\n",
    "G0Reinisch"
   ]
  },
  {
   "cell_type": "code",
   "execution_count": null,
   "id": "be166952",
   "metadata": {},
   "outputs": [],
   "source": [
    "GReinisch = (G0Reinisch / (1 + G0Reinisch)).minreal()\n",
    "wGReinisch, magGReinisch, phaseGReinisch = bode(GReinisch.returnScipySignalLTI()[0][0], f)\n",
    "display(Latex(\"$G(s) = \\\\frac{G_0(s)}{1 + G_0(s)} = \\\\frac{R(s) P(s)}{1 + R(s) P(s)} = $\"))\n",
    "GReinisch"
   ]
  },
  {
   "cell_type": "code",
   "execution_count": null,
   "id": "d4f1efe6",
   "metadata": {},
   "outputs": [],
   "source": [
    "plt.close()\n",
    "\n",
    "fig1, (axes10, axes20) = plt.subplots(2, 1, figsize=(12,7))\n",
    "\n",
    "axes10.semilogx(wSys, magSys, label='Prozess')\n",
    "axes10.semilogx(wCtrlReinisch, magCtrlReinisch, label='Regler')\n",
    "axes10.semilogx(wG0Reinisch, magG0Reinisch, label='offener Kreis')\n",
    "axes10.semilogx(wGReinisch, magGReinisch, label='geschlossener Kreis')\n",
    "axes20.semilogx(wSys, phaseSys)\n",
    "axes20.semilogx(wCtrlReinisch, phaseCtrlReinisch)\n",
    "axes20.semilogx(wG0Reinisch, phaseG0Reinisch)\n",
    "axes20.semilogx(wGReinisch, phaseGReinisch)\n",
    "\n",
    "axes20.set_xlabel(r\"$\\omega$\")\n",
    "axes10.set_ylabel(r\"$|G(j \\omega)|_{\\mathrm{dB}}$\")\n",
    "axes20.set_ylabel(r\"$\\mathrm{arg}\\, G(j\\omega)/^{\\circ}$\")\n",
    "\n",
    "axes10.grid() \n",
    "axes20.grid()\n",
    "\n",
    "handlesAx, labelsAx = axes10.get_legend_handles_labels()\n",
    "fig1.legend([handle for i, handle in enumerate(handlesAx)],\n",
    "            [label for i, label in enumerate(labelsAx)],\n",
    "            bbox_to_anchor=(0.125, 0.90, 0.775, .15), loc=3,\n",
    "            ncol=4, mode=\"expand\", borderaxespad=0., framealpha=0.5)\n",
    "plt.show()"
   ]
  },
  {
   "cell_type": "markdown",
   "id": "3a12ca0e-16de-4eab-a153-09a150db2aba",
   "metadata": {},
   "source": [
    "### Symmetrisches Optimum"
   ]
  },
  {
   "cell_type": "code",
   "execution_count": null,
   "id": "5f97b1b3",
   "metadata": {},
   "outputs": [],
   "source": [
    "a = 2\n",
    "TSum = T2\n",
    "Tn = a ** 2 * TSum\n",
    "KP = Tn / (a * KS * TSum)\n",
    "display(Markdown(rf\"\"\"\n",
    "$K_\\mathrm{{P}} = {KP},\\quad T_\\mathrm{{N}} = {Tn},\\quad T_\\mathrm{{\\sum}} = {TSum}$\n",
    "\"\"\"))"
   ]
  },
  {
   "cell_type": "code",
   "execution_count": null,
   "id": "e4e7d88c",
   "metadata": {},
   "outputs": [],
   "source": [
    "ctrlSym = control.TransferFunction([KP * Tn, KP],[Tn, 0])\n",
    "wCtrlSym, magCtrlSym, phaseCtrlSym = bode(ctrlSym.returnScipySignalLTI()[0][0], f)\n",
    "display(Latex(\"$R(s) = $\"))\n",
    "ctrlSym"
   ]
  },
  {
   "cell_type": "code",
   "execution_count": null,
   "id": "104ccda4",
   "metadata": {},
   "outputs": [],
   "source": [
    "G0Sym = (ctrlSym * sys).minreal()\n",
    "wG0Sym, magG0Sym, phaseG0Sym = bode(G0Sym.returnScipySignalLTI()[0][0], f)\n",
    "display(Latex(\"$G_0(s) = R(s) P(s) = $\"))\n",
    "G0Sym"
   ]
  },
  {
   "cell_type": "code",
   "execution_count": null,
   "id": "459f0f7b",
   "metadata": {},
   "outputs": [],
   "source": [
    "GSym = (G0Sym / (1 + G0Sym)).minreal()\n",
    "wGSym, magGSym, phaseGSym = bode(GSym.returnScipySignalLTI()[0][0], f)\n",
    "display(Latex(\"$G(s) = \\\\frac{G_0(s)}{1 + G_0(s)} = \\\\frac{R(s) P(s)}{1 + R(s) P(s)} = $\"))\n",
    "GSym"
   ]
  },
  {
   "cell_type": "code",
   "execution_count": null,
   "id": "3015cf0c",
   "metadata": {},
   "outputs": [],
   "source": [
    "plt.close()\n",
    "\n",
    "fig1, (axes10, axes20) = plt.subplots(2, 1, figsize=(12,7))\n",
    "\n",
    "axes10.semilogx(wSys, magSys, label='Prozess')\n",
    "axes10.semilogx(wCtrlSym, magCtrlSym, label='Regler')\n",
    "axes10.semilogx(wG0Sym, magG0Sym, label='offener Kreis')\n",
    "axes10.semilogx(wGSym, magGSym, label='geschlossener Kreis')\n",
    "axes20.semilogx(wSys, phaseSys)\n",
    "axes20.semilogx(wCtrlSym, phaseCtrlSym)\n",
    "axes20.semilogx(wG0Sym, phaseG0Sym)\n",
    "axes20.semilogx(wGSym, phaseGSym)\n",
    "\n",
    "axes20.set_xlabel(r\"$\\omega$\")\n",
    "axes10.set_ylabel(r\"$|G(j \\omega)|_{\\mathrm{dB}}$\")\n",
    "axes20.set_ylabel(r\"$\\mathrm{arg}\\, G(j\\omega)/^{\\circ}$\")\n",
    "\n",
    "axes10.grid() \n",
    "axes20.grid()\n",
    "\n",
    "handlesAx, labelsAx = axes10.get_legend_handles_labels()\n",
    "fig1.legend([handle for i, handle in enumerate(handlesAx)],\n",
    "            [label for i, label in enumerate(labelsAx)],\n",
    "            bbox_to_anchor=(0.125, 0.90, 0.775, .15), loc=3,\n",
    "            ncol=4, mode=\"expand\", borderaxespad=0., framealpha=0.5)\n",
    "plt.show()"
   ]
  },
  {
   "cell_type": "markdown",
   "id": "fa348eae",
   "metadata": {},
   "source": [
    "## Vergleich"
   ]
  },
  {
   "cell_type": "code",
   "execution_count": null,
   "id": "85dc0598",
   "metadata": {},
   "outputs": [],
   "source": [
    "tSimCtrlReinisch, ySimCtrlReinisch, _ = signal.lsim(GReinisch.returnScipySignalLTI()[0][0], U=np.ones(len(time)) * 0.9, T=time)\n",
    "tSimCtrlSym, ySimCtrlSym, _ = signal.lsim(GSym.returnScipySignalLTI()[0][0], U=np.ones(len(time)) * 0.9, T=time)"
   ]
  },
  {
   "cell_type": "code",
   "execution_count": null,
   "id": "c2b18358",
   "metadata": {},
   "outputs": [],
   "source": [
    "plt.close()\n",
    "\n",
    "fig1, axes10 = plt.subplots(1, 1, figsize=(12,7))\n",
    "\n",
    "axes10.plot(time, np.ones(len(time)) * 0.9, label='Sollwert')\n",
    "axes10.plot(tSimSys, ySimSys, label='Prozess')\n",
    "axes10.plot(tSimCtrlReinisch, ySimCtrlReinisch, label='Reinisch')\n",
    "axes10.plot(tSimCtrlSym, ySimCtrlSym, label='Symmetrisches Optimum')\n",
    "\n",
    "axes11 = axes10.twinx() \n",
    "\n",
    "axes11.plot(time, u, color='C4')\n",
    "axes11.tick_params(axis='y', labelcolor='C4')\n",
    "\n",
    "axes10.set_ylabel(r'$\\tilde{z}_2$ in m')\n",
    "axes11.set_ylabel(r'$\\tilde{u}_{\\mathrm{A}}$ in V', color='C4')\n",
    "axes10.set_xlabel(r'$t$ in s')\n",
    "\n",
    "handlesAx1, labelsAx1 = axes10.get_legend_handles_labels()\n",
    "axes10.legend([handle for i, handle in enumerate(handlesAx1)],\n",
    "              [label for i, label in enumerate(labelsAx1)],\n",
    "              bbox_to_anchor=(0., 1.02, 1., .102), loc=3,\n",
    "              ncol=9, mode=\"expand\", borderaxespad=0., framealpha=0.5)\n",
    "\n",
    "axes10.grid()\n",
    "plt.show()"
   ]
  },
  {
   "cell_type": "code",
   "execution_count": null,
   "id": "698f9f68-ec71-42b8-958c-00a47cabeef2",
   "metadata": {},
   "outputs": [],
   "source": []
  }
 ],
 "metadata": {
  "kernelspec": {
   "display_name": "Python 3 (ipykernel)",
   "language": "python",
   "name": "python3"
  },
  "language_info": {
   "codemirror_mode": {
    "name": "ipython",
    "version": 3
   },
   "file_extension": ".py",
   "mimetype": "text/x-python",
   "name": "python",
   "nbconvert_exporter": "python",
   "pygments_lexer": "ipython3",
   "version": "3.10.9"
  },
  "latex_envs": {
   "LaTeX_envs_menu_present": true,
   "autoclose": false,
   "autocomplete": true,
   "bibliofile": "sources.bib",
   "cite_by": "apalike",
   "current_citInitial": 1,
   "eqLabelWithNumbers": true,
   "eqNumInitial": 1,
   "hotkeys": {
    "equation": "Ctrl-E",
    "itemize": "Ctrl-I"
   },
   "labels_anchors": false,
   "latex_user_defs": false,
   "report_style_numbering": false,
   "user_envs_cfg": false
  }
 },
 "nbformat": 4,
 "nbformat_minor": 5
}
