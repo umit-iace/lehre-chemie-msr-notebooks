{
 "cells": [
  {
   "cell_type": "code",
   "execution_count": null,
   "id": "553332c3-1617-4848-b72e-a9d232e46802",
   "metadata": {},
   "outputs": [],
   "source": [
    "import ipywidgets as widgets\n",
    "from ipywidgets import HBox, VBox, jslink, Box, Layout\n",
    "import numpy as np\n",
    "import sympy as sp\n",
    "from sympy import lambdify\n",
    "import matplotlib.pyplot as plt\n",
    "import matplotlib.dates as mdates\n",
    "from IPython.display import display, Latex, Markdown, Image, Math\n",
    "from scipy.integrate import solve_ivp\n",
    "from scipy.signal import place_poles\n",
    "import sympy as sp"
   ]
  },
  {
   "cell_type": "code",
   "execution_count": null,
   "id": "8ad00e96",
   "metadata": {},
   "outputs": [],
   "source": [
    "imag = Image(\"../../images/zweitank.png\", width=800)\n",
    "display(imag)"
   ]
  },
  {
   "cell_type": "markdown",
   "id": "45c700df",
   "metadata": {},
   "source": [
    "__System__"
   ]
  },
  {
   "cell_type": "code",
   "execution_count": null,
   "id": "34582c66",
   "metadata": {},
   "outputs": [],
   "source": [
    "_t, s, yf, dyf, ddyf = sp.symbols('t s yf dyf ddyf')"
   ]
  },
  {
   "cell_type": "code",
   "execution_count": null,
   "id": "e9e1416c",
   "metadata": {},
   "outputs": [],
   "source": [
    "z1 = sp.Function('z_1')\n",
    "z2 = sp.Function('z_2')\n",
    "uA = sp.Function('u_A')\n",
    "y = sp.Function('y')\n",
    "z = sp.Matrix([[z1(_t)], [z2(_t)]])"
   ]
  },
  {
   "cell_type": "code",
   "execution_count": null,
   "id": "b3d935ee",
   "metadata": {},
   "outputs": [],
   "source": [
    "dz1 = 0.00216625315586689 * uA(_t) - 0.0127646468529449 * np.sqrt(2) * sp.sqrt(z1(_t) + 0.055)\n",
    "dz2 = 0.0127646468529449 * np.sqrt(2) * sp.sqrt(z1(_t) + 0.055) - 0.00908683019582126 * np.sqrt(2) * sp.sqrt(z2(_t) + 0.055)\n",
    "\n",
    "dz = sp.Matrix([[dz1], [dz2]])\n",
    "display(Latex(\"$\\\\dot{{\\\\mathbf{{z}}}} = {}$\".format(sp.latex(dz))))"
   ]
  },
  {
   "cell_type": "markdown",
   "id": "cdfc2354",
   "metadata": {},
   "source": [
    "__Flacher Ausgang__"
   ]
  },
  {
   "cell_type": "code",
   "execution_count": null,
   "id": "8a2a0b4f",
   "metadata": {},
   "outputs": [],
   "source": [
    "display(Latex(\"$y(t) = z_2(t)$\"))\n",
    "dy = dz[1]\n",
    "display(Latex(\"$\\\\dot{{y}}(t) = \\\\dot{{z}}_2(t) = {}$\".format(sp.latex(dy))))\n",
    "ddy = sp.simplify(dz[1].diff(_t).subs({z1(_t).diff(_t): dz1, z2(_t).diff(_t): dz2}))\n",
    "display(Latex(\"$\\\\ddot{{y}}(t) = \\\\ddot{{z}}_2(t) = {}$\".format(sp.latex(ddy))))"
   ]
  },
  {
   "cell_type": "code",
   "execution_count": null,
   "id": "56fbf3dc",
   "metadata": {},
   "outputs": [],
   "source": [
    "_z1 = sp.solve(dy.subs({z2(_t): y(_t)}) - y(_t).diff(_t), z1(_t))[0]\n",
    "display(Latex(\"$z_1(t) = {}$\".format(sp.simplify(_z1))))"
   ]
  },
  {
   "cell_type": "code",
   "execution_count": null,
   "id": "b37fa6da",
   "metadata": {},
   "outputs": [],
   "source": [
    "display(Latex(\"$\\\\dot{{y}}(t) = \\\\dot{{z}}_2(t) = {}$\".format(sp.latex(sp.simplify(dy.subs({\n",
    "    z1(_t): _z1,\n",
    "    z2(_t): y(_t)\n",
    "}))))))\n",
    "display(Latex(\"$\\\\ddot{{y}}(t) = \\\\ddot{{z}}_2(t) = {}$\".format(sp.latex(sp.simplify(ddy.subs({\n",
    "    z1(_t): _z1,\n",
    "    z2(_t): y(_t)\n",
    "}))))))"
   ]
  },
  {
   "cell_type": "code",
   "execution_count": null,
   "id": "474db696",
   "metadata": {},
   "outputs": [],
   "source": [
    "_uA = sp.simplify(sp.solve(ddy.subs({z1(_t): _z1, z2(_t): y(_t)}) - y(_t).diff(_t, 2), uA(_t))[0])\n",
    "display(Latex(\"$u_{{\\\\mathrm{{A}}}}(t) = {}$\".format(sp.latex(_uA))))"
   ]
  },
  {
   "cell_type": "code",
   "execution_count": null,
   "id": "c1e2507f",
   "metadata": {},
   "outputs": [],
   "source": [
    "u = lambdify((yf, dyf, ddyf), _uA.subs({y(_t): yf, y(_t).diff(_t): dyf, y(_t).diff(_t,2): ddyf}))"
   ]
  },
  {
   "cell_type": "markdown",
   "id": "f4e0ca36",
   "metadata": {},
   "source": [
    "__Definition Parammeter__"
   ]
  },
  {
   "cell_type": "code",
   "execution_count": null,
   "id": "27362077",
   "metadata": {},
   "outputs": [],
   "source": [
    "tSim = np.linspace(0, 800, 801)"
   ]
  },
  {
   "cell_type": "code",
   "execution_count": null,
   "id": "ff0e4a1c",
   "metadata": {},
   "outputs": [],
   "source": [
    "x0 = [0.0, 0.0]\n",
    "t0 = 0\n",
    "yd = 0.2\n",
    "dt = 250"
   ]
  },
  {
   "cell_type": "code",
   "execution_count": null,
   "id": "e3ac3dc2",
   "metadata": {},
   "outputs": [],
   "source": [
    "yr = lambda t: yd * (10 * (t - t0) ** 3 / dt ** 3 - 15 * (t - t0) ** 4 / dt ** 4 + 6 * (t - t0) ** 5 / dt ** 5) if t0 <= t <= t0 + dt else 0 if t < t0 else yd \n",
    "dyr = lambda t: yd * (30 * (t - t0) ** 2 / dt ** 3 - 60 * (t - t0) ** 3 / dt ** 4 + 30 * (t - t0) ** 4 / dt ** 5) if t0 < t < t0 + dt else 0\n",
    "ddyr = lambda t: yd * (60 * (t - t0) / dt ** 3 - 180 * (t - t0) ** 2 / dt ** 4 + 120 * (t - t0) ** 3 / dt ** 5) if t0 < t < t0 + dt else 0"
   ]
  },
  {
   "cell_type": "markdown",
   "id": "a779a746-c4d1-4ee2-ab44-b9a45cf4f214",
   "metadata": {},
   "source": [
    "## Simulation"
   ]
  },
  {
   "cell_type": "code",
   "execution_count": null,
   "id": "25e0fd94",
   "metadata": {},
   "outputs": [],
   "source": [
    "def prozessFF(_t, x, u):\n",
    "    z1 = x[0]\n",
    "    z2 = x[1]\n",
    "    \n",
    "    uA = u(yr(_t), dyr(_t), ddyr(_t))\n",
    "        \n",
    "    if z1 <= 1e-6:\n",
    "        hV1 = 0.0\n",
    "        z1 = 0\n",
    "    else:\n",
    "        hV1 = 0.055\n",
    "\n",
    "    if z2 <= 1e-6:\n",
    "        hV2 = 0.0\n",
    "        z2 = 0\n",
    "    else:\n",
    "        hV2 = 0.055\n",
    "        \n",
    "    dx = np.zeros(2)\n",
    "    dx[0] = 0.00216625315586689 * uA - 0.0127646468529449 * np.sqrt(2) * np.sqrt(hV1 + z1)\n",
    "    dx[1] = 0.0127646468529449 * np.sqrt(2) * np.sqrt(hV1 + z1) - 0.00908683019582126 * np.sqrt(2) * np.sqrt(hV2 + z2)\n",
    "\n",
    "    return dx"
   ]
  },
  {
   "cell_type": "code",
   "execution_count": null,
   "id": "8225b74f",
   "metadata": {},
   "outputs": [],
   "source": [
    "def prozess(_t, x, uA):\n",
    "    z1 = x[0]\n",
    "    z2 = x[1]\n",
    "            \n",
    "    if z1 <= 1e-6:\n",
    "        hV1 = 0.0\n",
    "        z1 = 0\n",
    "    else:\n",
    "        hV1 = 0.055\n",
    "\n",
    "    if z2 <= 1e-6:\n",
    "        hV2 = 0.0\n",
    "        z2 = 0\n",
    "    else:\n",
    "        hV2 = 0.055\n",
    "        \n",
    "    dx = np.zeros(2)\n",
    "    dx[0] = 0.00216625315586689 * uA - 0.0127646468529449 * np.sqrt(2) * np.sqrt(hV1 + z1)\n",
    "    dx[1] = 0.0127646468529449 * np.sqrt(2) * np.sqrt(hV1 + z1) - 0.00908683019582126 * np.sqrt(2) * np.sqrt(hV2 + z2)\n",
    "\n",
    "    return dx"
   ]
  },
  {
   "cell_type": "code",
   "execution_count": null,
   "id": "27c94027",
   "metadata": {},
   "outputs": [],
   "source": [
    "resFF = solve_ivp(prozessFF, [tSim[0], tSim[-1]], x0,\n",
    "                t_eval=tSim, args=(u, ))\n",
    "res = solve_ivp(prozess, [tSim[0], tSim[-1]], x0,\n",
    "                t_eval=tSim, args=(3, ))"
   ]
  },
  {
   "cell_type": "code",
   "execution_count": null,
   "id": "ec73e6d8",
   "metadata": {},
   "outputs": [],
   "source": [
    "plt.close()\n",
    "\n",
    "fig, axes10 = plt.subplots(1, 1, figsize=(10,6))\n",
    "fig.canvas.toolbar_visible = False\n",
    "fig.canvas.header_visible = False\n",
    "fig.canvas.footer_visible = False\n",
    "\n",
    "axes10.plot(resFF.t, resFF.y[0], label=r\"Höhe $z_1$\")\n",
    "axes10.plot(resFF.t, resFF.y[1], label=r\"Höhe $z_2$\")\n",
    "axes10.plot(tSim, [yr(t) for t in tSim], label=r\"$z_{2,\\text{r}}$\")\n",
    "axes10.plot(resFF.t, res.y[0], label=r\"Höhe $z_1$\")\n",
    "axes10.plot(resFF.t, res.y[1], label=r\"Höhe $z_2$\")\n",
    "\n",
    "axes11 = axes10.twinx()\n",
    "axes11.plot(tSim, [u(yr(t), dyr(t), ddyr(t)) for t in tSim], 'C4')\n",
    "axes11.set_ylabel(r\"$u_{\\mathrm{A}}$ in V\", color='C4')\n",
    "axes11.tick_params(axis='y', colors='C4')\n",
    "\n",
    "axes10.set_xlabel(r\"$t$ in s\")\n",
    "axes10.set_ylabel(r\"$z_{\\bullet}$ in m\")\n",
    "\n",
    "axes10.grid() \n",
    "\n",
    "handlesAx, labelsAx = axes10.get_legend_handles_labels()\n",
    "fig.legend([handle for i, handle in enumerate(handlesAx)],\n",
    "           [label for i, label in enumerate(labelsAx)],\n",
    "           bbox_to_anchor=(0.125, 0.90, 0.775, .15), loc=3,\n",
    "           ncol=5, mode=\"expand\", borderaxespad=0., framealpha=0.5)\n",
    "plt.show()"
   ]
  },
  {
   "cell_type": "code",
   "execution_count": null,
   "id": "d9dc6e60",
   "metadata": {},
   "outputs": [],
   "source": []
  }
 ],
 "metadata": {
  "kernelspec": {
   "display_name": "Python 3 (ipykernel)",
   "language": "python",
   "name": "python3"
  },
  "language_info": {
   "codemirror_mode": {
    "name": "ipython",
    "version": 3
   },
   "file_extension": ".py",
   "mimetype": "text/x-python",
   "name": "python",
   "nbconvert_exporter": "python",
   "pygments_lexer": "ipython3",
   "version": "3.11.5"
  },
  "latex_envs": {
   "LaTeX_envs_menu_present": true,
   "autoclose": false,
   "autocomplete": true,
   "bibliofile": "sources.bib",
   "cite_by": "apalike",
   "current_citInitial": 1,
   "eqLabelWithNumbers": true,
   "eqNumInitial": 1,
   "hotkeys": {
    "equation": "Ctrl-E",
    "itemize": "Ctrl-I"
   },
   "labels_anchors": false,
   "latex_user_defs": false,
   "report_style_numbering": false,
   "user_envs_cfg": false
  }
 },
 "nbformat": 4,
 "nbformat_minor": 5
}
