{
 "cells": [
  {
   "cell_type": "code",
   "execution_count": null,
   "id": "8183c514-ab54-4454-87f7-016e17851ac1",
   "metadata": {},
   "outputs": [],
   "source": [
    "%matplotlib widget\n",
    "\n",
    "import ipywidgets as widgets\n",
    "from ipywidgets import HBox, VBox, jslink, Box, Layout\n",
    "import numpy as np\n",
    "import sympy as sp\n",
    "import matplotlib.pyplot as plt\n",
    "from scipy.signal import TransferFunction, bode, lsim, lti\n",
    "from scipy import signal\n",
    "from scipy.integrate import solve_ivp\n",
    "from IPython.display import display, Latex, Markdown, Image, Math"
   ]
  },
  {
   "cell_type": "markdown",
   "id": "b80ae611-f619-4c7a-afa6-fba30dbbc624",
   "metadata": {},
   "source": [
    "## Kaskadenregelung"
   ]
  },
  {
   "cell_type": "code",
   "execution_count": null,
   "id": "1f75ae20",
   "metadata": {},
   "outputs": [],
   "source": [
    "imag = Image(\"../../images/zweitank.png\", width=800)\n",
    "display(imag)"
   ]
  },
  {
   "cell_type": "markdown",
   "id": "13889d16",
   "metadata": {},
   "source": [
    "## 2-Tanksystem\n",
    "\n",
    "- lineares Modell im Zeitbereich\n",
    "    \\begin{align*}\n",
    "        \\dot{\\tilde{z}}_1(t) & = a_{11} \\tilde{z}_1(t) + b \\tilde{u}_{\\text{A}}(t)\\\\\n",
    "        \\dot{\\tilde{z}}_2(t) & = a_{21} \\tilde{z}_1(t) + a_{22} \\tilde{z}_2(t) \n",
    "    \\end{align*}\n",
    "    mit Messungen $(y_1(t), y_2(t)) = (z_1(t),z_2(t))$\n",
    "- lineares Modell im Bildbereich\n",
    "    \\begin{align*}\n",
    "        P(s) &= \\frac{\\tilde{Z}_2(s)}{\\tilde{U}_{\\text{A}}(s)} = P_1(s) P_2(s)\n",
    "    \\end{align*}\n",
    "    mit\n",
    "    \\begin{align*}\n",
    "        P_1(s) & = \\frac{K_1}{(1 + T_1 s)} = \\frac{0.1059}{(1 + 68.21 s)}, &\n",
    "        P_2(s) & = \\frac{K_2}{(1 + T_2 s)} = \\frac{2.7907}{(1 + 34.57 s)}, &\n",
    "    \\end{align*}\n",
    "- PI-Regler für Folgeregler ($R_1$) zur Kompensation der Zeitkonstante von $P_1$\n",
    "- PI-Regler für Führungsregler ($R_2$) für stationäre Genauigkeit"
   ]
  },
  {
   "cell_type": "code",
   "execution_count": null,
   "id": "25574c72",
   "metadata": {},
   "outputs": [],
   "source": [
    "imag = Image(\"../../images/tankKaskade.png\", width=800)\n",
    "display(imag)"
   ]
  },
  {
   "cell_type": "markdown",
   "id": "08730750",
   "metadata": {},
   "source": [
    "__Definition Parammeter__"
   ]
  },
  {
   "cell_type": "code",
   "execution_count": null,
   "id": "5075a8ac",
   "metadata": {},
   "outputs": [],
   "source": [
    "tSim = np.linspace(0, 500, 501)"
   ]
  },
  {
   "cell_type": "code",
   "execution_count": null,
   "id": "2da4c7cf",
   "metadata": {},
   "outputs": [],
   "source": [
    "x0SS = [0., 0.]\n",
    "x0Kas = [0., 0., 0., 0.]\n",
    "yRef = 0.2"
   ]
  },
  {
   "cell_type": "code",
   "execution_count": null,
   "id": "6a749fec",
   "metadata": {},
   "outputs": [],
   "source": [
    "A = np.array([[-0.0289, 0], [0.0289, -0.0146]])\n",
    "b = np.array([[0.0021], [0]])\n",
    "c = np.array([[0], [1]])"
   ]
  },
  {
   "cell_type": "code",
   "execution_count": null,
   "id": "bb98c3d2",
   "metadata": {},
   "outputs": [],
   "source": [
    "k = np.array([[31.6666666666666, 26.4814631735047]])\n",
    "Kp1 = 29.5\n",
    "Ki1 = 1 / 34.56729\n",
    "Kp2 = 2\n",
    "Ki2 = 1 / 18.75"
   ]
  },
  {
   "cell_type": "markdown",
   "id": "b4435f1a-2443-4bc4-993d-aae0bebdec11",
   "metadata": {},
   "source": [
    "## Simulation"
   ]
  },
  {
   "cell_type": "code",
   "execution_count": null,
   "id": "7810a594",
   "metadata": {},
   "outputs": [],
   "source": [
    "def prozessKaskade(t, x, yRef, A, b, Kp1, Kp2, Ki1, Ki2):\n",
    "    e2 = yRef - x[1]\n",
    "    u2 = Kp2 * e2 + x[3]\n",
    "    \n",
    "    e1 = u2 - x[0]\n",
    "    u1 = np.array([Kp1 * e1 + x[2]])\n",
    "    \n",
    "    dx = np.zeros(4)\n",
    "    dx[0:2] = A @ x[0:2] + b @ u1\n",
    "    dx[2] = Ki1 * e1\n",
    "    dx[3] = Ki2 * e2\n",
    "    \n",
    "    return dx"
   ]
  },
  {
   "cell_type": "code",
   "execution_count": null,
   "id": "a12a12dd",
   "metadata": {},
   "outputs": [],
   "source": [
    "def prozessVorfilter(t, x, yRef, A, b, c, k):\n",
    "    V = 1 / (c.T @ np.linalg.inv(b @ k - A) @ b)\n",
    "    u = V[0] * yRef - k @ x\n",
    "    dx = A @ x + b @ u\n",
    "\n",
    "    return dx"
   ]
  },
  {
   "cell_type": "code",
   "execution_count": null,
   "id": "30f17ad0",
   "metadata": {},
   "outputs": [],
   "source": [
    "resSS = solve_ivp(prozessVorfilter, [tSim[0], tSim[-1]], x0SS, t_eval=tSim, args=(yRef, A, b, c, k))"
   ]
  },
  {
   "cell_type": "code",
   "execution_count": null,
   "id": "a8e59d11",
   "metadata": {},
   "outputs": [],
   "source": [
    "resKas = solve_ivp(prozessKaskade, [tSim[0], tSim[-1]], x0Kas, t_eval=tSim, args=(yRef, A, b, Kp1, Kp2, Ki1, Ki2))"
   ]
  },
  {
   "cell_type": "code",
   "execution_count": null,
   "id": "bab91544",
   "metadata": {},
   "outputs": [],
   "source": [
    "plt.close()\n",
    "\n",
    "fig, axes10 = plt.subplots(1, 1, figsize=(10,6))\n",
    "fig.canvas.toolbar_visible = False\n",
    "fig.canvas.header_visible = False\n",
    "fig.canvas.footer_visible = False\n",
    "\n",
    "axes10.plot(resSS.t, resSS.y[0], 'C0',label=r\"Höhe $\\tilde{z}_1$ - Zustand\")\n",
    "axes10.plot(resSS.t, resSS.y[1], 'C1', label=r\"Höhe $\\tilde{z}_2$ - Zustand\")\n",
    "axes10.plot(resKas.t, resKas.y[0], 'C0--', label=r\"Höhe $\\tilde{z}_1$- Kaskade\")\n",
    "axes10.plot(resKas.t, resKas.y[1], 'C1--', label=r\"Höhe $\\tilde{z}_2$- Kaskade\")\n",
    "\n",
    "axes11 = axes10.twinx()\n",
    "axes11.plot(resSS.t, (k @ resSS.y).T, 'C4')\n",
    "axes11.plot(resKas.t, Kp1 * ((Kp2 * (yRef - resKas.y[1]) + resKas.y[3]) - resKas.y[0]) + resKas.y[2], 'C4--')\n",
    "axes11.set_ylabel(r\"$\\tilde{u}_{\\mathrm{A}}$ in V\", color='C4')\n",
    "axes11.tick_params(axis='y', colors='C4')\n",
    "\n",
    "axes10.set_xlabel(r\"$t$ in s\")\n",
    "axes10.set_ylabel(r\"$\\tilde{z}_{\\bullet}$ in m\")\n",
    "\n",
    "axes10.grid() \n",
    "\n",
    "handlesAx, labelsAx = axes10.get_legend_handles_labels()\n",
    "fig.legend([handle for i, handle in enumerate(handlesAx)],\n",
    "           [label for i, label in enumerate(labelsAx)],\n",
    "           bbox_to_anchor=(0.125, 0.90, 0.775, .15), loc=3,\n",
    "           ncol=4, mode=\"expand\", borderaxespad=0., framealpha=0.5)\n",
    "plt.show()"
   ]
  },
  {
   "cell_type": "code",
   "execution_count": null,
   "id": "57730d90",
   "metadata": {},
   "outputs": [],
   "source": []
  }
 ],
 "metadata": {
  "kernelspec": {
   "display_name": "Python 3 (ipykernel)",
   "language": "python",
   "name": "python3"
  },
  "language_info": {
   "codemirror_mode": {
    "name": "ipython",
    "version": 3
   },
   "file_extension": ".py",
   "mimetype": "text/x-python",
   "name": "python",
   "nbconvert_exporter": "python",
   "pygments_lexer": "ipython3",
   "version": "3.11.5"
  },
  "latex_envs": {
   "LaTeX_envs_menu_present": true,
   "autoclose": false,
   "autocomplete": true,
   "bibliofile": "sources.bib",
   "cite_by": "apalike",
   "current_citInitial": 1,
   "eqLabelWithNumbers": true,
   "eqNumInitial": 1,
   "hotkeys": {
    "equation": "Ctrl-E",
    "itemize": "Ctrl-I"
   },
   "labels_anchors": false,
   "latex_user_defs": false,
   "report_style_numbering": false,
   "user_envs_cfg": false
  }
 },
 "nbformat": 4,
 "nbformat_minor": 5
}
