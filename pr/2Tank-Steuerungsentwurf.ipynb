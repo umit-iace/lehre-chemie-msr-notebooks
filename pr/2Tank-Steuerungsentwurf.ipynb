{
 "cells": [
  {
   "cell_type": "markdown",
   "metadata": {},
   "source": [
    "# Steuerungsentwurf"
   ]
  },
  {
   "cell_type": "code",
   "execution_count": null,
   "metadata": {},
   "outputs": [],
   "source": [
    "import matplotlib.pyplot as plt\n",
    "import numpy as np\n",
    "import sympy as sp\n",
    "from IPython.display import display, Image, Latex\n",
    "from scipy.integrate import solve_ivp"
   ]
  },
  {
   "cell_type": "code",
   "execution_count": null,
   "metadata": {},
   "outputs": [],
   "source": [
    "def make_patch_spines_invisible(ax):\n",
    "    ax.set_frame_on(True)\n",
    "    ax.patch.set_visible(False)\n",
    "    for sp in ax.spines.values():\n",
    "        sp.set_visible(False)"
   ]
  },
  {
   "cell_type": "code",
   "execution_count": null,
   "metadata": {},
   "outputs": [],
   "source": [
    "imag = Image(\"../images/feedforward.png\", width=600)\n",
    "display(imag)"
   ]
  },
  {
   "cell_type": "markdown",
   "metadata": {},
   "source": [
    "Ziel ist der Entwurf einer Steuerung auf Basis des linearisierten Modells des Zweitanksystems\n",
    "\\begin{align*}\n",
    "    T_1 T_2 \\ddot{\\tilde{z}}_2(t) + (T_1 + T_2)\\dot{\\tilde{z}}_2(t) + \\tilde{z}_2(t) & = K \\tilde{u}_{\\mathrm{A}}(t)\n",
    "\\end{align*}\n",
    "um die Füllstandshöhe des zweiten Tanks von $z_{2,0} = 0\\, \\mathrm{m}$ auf $z_{2,1} = 0.15\\, \\mathrm{m}$ mittels der Funktion\n",
    "\\begin{align*}\n",
    "    z_{2,\\mathrm{r}}(t) & = \\begin{cases}\n",
    "         z_{2,0} & t \\leq 0 \\\\\n",
    "         z_{2,0} + (z_{2,1} - z_{2,0}) \\varphi\\left(\\frac{t}{\\Delta t}\\right) & 0 < t < \\Delta t \\\\\n",
    "         z_{2,1} & t \\geq \\Delta t \\\\\n",
    "    \\end{cases}\n",
    "\\end{align*}\n",
    "in der vorgegebenen Zeit $\\Delta t = 150\\, \\mathrm{s}$ zu überführen.\n",
    "Dazu ist eine $n$-mal stetig differenzierbaren Trajektorie $\\tau \\mapsto \\varphi(\\tau)$ zu bestimmen aus der das Referenzeingangssignal $t \\mapsto u_{\\mathrm{A,r}}(t)$ berechnet werden kann."
   ]
  },
  {
   "cell_type": "markdown",
   "metadata": {},
   "source": [
    "### 1. Eintragen der notwendigen Systemparameter"
   ]
  },
  {
   "cell_type": "code",
   "execution_count": null,
   "metadata": {},
   "outputs": [],
   "source": [
    "buA = 9\n",
    "# Physikalisch\n",
    "KPhy = 0.147763421835044\n",
    "T1Phy = 34.567259359529\n",
    "T2Phy = 68.2115206317666\n",
    "bz2Phy = 0.137092448385557\n",
    "# Messung\n",
    "KMessung = 0.05335540886113588\n",
    "T1Messung = 11.796537856412515\n",
    "T2Messung = 80.74097989401139\n",
    "bz2Messung = 0.13238994944989588"
   ]
  },
  {
   "cell_type": "markdown",
   "metadata": {},
   "source": [
    "### 2. Bestimmung der Trajektorie"
   ]
  },
  {
   "cell_type": "code",
   "execution_count": null,
   "metadata": {},
   "outputs": [],
   "source": [
    "# Ordnung des Systems\n",
    "n = 2\n",
    "# Grad der Trajektorie\n",
    "q = 2 * n + 1\n",
    "# Definition der benötigten Symbole\n",
    "t, delta, tau, yd0, yd1 = sp.symbols('t \\\\Delta \\\\tau y_{d0} y_{d1}')\n",
    "bc = sp.symbols('c0:%d' % (q + 1))\n",
    "phi = []\n",
    "\n",
    "phi.append(sum(bc_*tau**i for i, bc_ in enumerate(bc)))\n",
    "display(Latex(\"$\\\\varphi(\\\\tau) = {}$\".format(sp.latex(phi[0]))))\n",
    "\n",
    "for i in range(n):\n",
    "    phi.append(phi[i].diff(tau))\n",
    "    display(Latex(\"$\\\\varphi^{{({})}}(\\\\tau) = {}$\".format(i + 1, sp.latex(phi[i+1]))))"
   ]
  },
  {
   "cell_type": "code",
   "execution_count": null,
   "metadata": {},
   "outputs": [],
   "source": [
    "sys = []\n",
    "for i in range(n + 1):\n",
    "    sys.append(phi[i].subs({tau: 0}))\n",
    "    sys.append(phi[i].subs({tau: 1}))\n",
    "    if i == 0:\n",
    "        sys[-1] -= 1\n",
    "        \n",
    "res = sp.solve(sys, bc)\n",
    "bcNum = [list(res.items())[i][1] for i in range(q + 1)]\n",
    "for i in range(q + 1):\n",
    "    display(Latex(\"${} = {}$\".format(sp.latex(list(res.items())[i][0]), sp.latex(list(res.items())[i][1]))))"
   ]
  },
  {
   "cell_type": "code",
   "execution_count": null,
   "metadata": {},
   "outputs": [],
   "source": [
    "phiNum = [phi[i].subs(zip(list(bc), bcNum)) for i in range(n + 1)]\n",
    "for i in range(n + 1):\n",
    "    display(Latex(\"$\\\\varphi^{{({})}}(\\\\tau) = {}$\".format(i, sp.latex(phiNum[i]))))"
   ]
  },
  {
   "cell_type": "markdown",
   "metadata": {},
   "source": [
    "Implementierung der Trajektorie $z_{2,\\mathrm{r}}$ und deren Ableitung mit dem Referenzeingang $u_{\\mathrm{A,r}}$"
   ]
  },
  {
   "cell_type": "code",
   "execution_count": null,
   "metadata": {},
   "outputs": [],
   "source": [
    "dtNum = 150\n",
    "\n",
    "z20 = 0 - bz2Messung\n",
    "z21 = 0.15 - bz2Messung\n",
    "\n",
    "a0 = 1 / (T1Messung * T2Messung)\n",
    "a1 = (T1Messung + T2Messung) / (T1Messung * T2Messung)\n",
    "b = KMessung / (T1Messung * T2Messung)\n",
    "display(Latex(\"$a_{{0}} = {},\\quad a_{{1}} = {},\\quad b = {}$\".format(sp.latex(a0), sp.latex(a1), sp.latex(b))))\n",
    "\n",
    "z2r = lambda t: z20 + (z21 - z20) * phiNum[0].subs({tau: t / dtNum}) if 0 <= t <= dtNum else z20 if t < 0 else z21 \n",
    "dz2r = lambda t: (z21 - z20) * phiNum[1].subs({tau: t / dtNum}) / dtNum if 0 < t < dtNum else 0\n",
    "ddz2r = lambda t: (z21 - z20) * phiNum[2].subs({tau: t / dtNum}) / dtNum ** 2 if 0 < t < dtNum else 0\n",
    "uAr = lambda t: 1/ b * (ddz2r(t) + a1 * dz2r(t) + a0 * z2r(t)) + buA"
   ]
  },
  {
   "cell_type": "code",
   "execution_count": null,
   "metadata": {},
   "outputs": [],
   "source": [
    "timeDom = np.linspace(0, 150, 151)\n",
    "plt.close()\n",
    "\n",
    "fig1, axes10 = plt.subplots(1, 1, figsize=(12,7))\n",
    "\n",
    "axes10.plot(timeDom, [z2r(t) for t in timeDom], label='$z_{\\mathrm{2,r}}$', color='C0')\n",
    "axes10.tick_params(axis='y', labelcolor='C0')\n",
    "\n",
    "axes101 = axes10.twinx()\n",
    "axes102 = axes10.twinx()\n",
    "axes11 = axes10.twinx() \n",
    "\n",
    "axes101.spines[\"left\"].set_position((\"axes\", -0.1))\n",
    "axes102.spines[\"left\"].set_position((\"axes\", -0.2))\n",
    "\n",
    "make_patch_spines_invisible(axes101)\n",
    "make_patch_spines_invisible(axes102)\n",
    "\n",
    "axes101.spines[\"left\"].set_visible(True)\n",
    "axes101.yaxis.set_label_position('left')\n",
    "axes101.yaxis.set_ticks_position('left')\n",
    "axes101.plot(timeDom, [dz2r(t) for t in timeDom], label='$\\dot{z}_{\\mathrm{2,r}}$', color='C1')\n",
    "axes101.tick_params(axis='y', labelcolor='C1')\n",
    "\n",
    "axes102.spines[\"left\"].set_visible(True)\n",
    "axes102.yaxis.set_label_position('left')\n",
    "axes102.yaxis.set_ticks_position('left')\n",
    "axes102.plot(timeDom, [ddz2r(t) for t in timeDom], label='$\\ddot{z}_{\\mathrm{2,r}}$', color='C2')\n",
    "axes102.tick_params(axis='y', labelcolor='C2')\n",
    "\n",
    "axes11.plot(timeDom, [uAr(t) for t in timeDom], color='C4')\n",
    "axes11.tick_params(axis='y', labelcolor='C4')\n",
    "\n",
    "axes10.set_ylabel(r'$z_{\\mathrm{2,r}}$ in m', color='C0')\n",
    "axes101.set_ylabel(r'$\\dot{z}_{\\mathrm{2,r}}$ in m/s', color='C1')\n",
    "axes102.set_ylabel(r'$\\ddot{z}_{\\mathrm{2,r}}$ in m/s$^2$', color='C2')\n",
    "axes11.set_ylabel(r'$u_{\\mathrm{A}}$ in V', color='C4')\n",
    "axes10.set_xlabel(r'$t$ in s')\n",
    "\n",
    "axes10.grid()\n",
    "plt.show()"
   ]
  },
  {
   "cell_type": "markdown",
   "metadata": {},
   "source": [
    "### 3. Vergleich der Steuerung an den Modellen\n",
    "\n",
    "Definition nichtlineares Modell"
   ]
  },
  {
   "cell_type": "code",
   "execution_count": null,
   "metadata": {},
   "outputs": [],
   "source": [
    "def nonLinSys(t, z, uA):\n",
    "    z1 = z[0]\n",
    "    z2 = z[1]\n",
    "        \n",
    "    hV1 = 0.055\n",
    "    hV2 = 0.055\n",
    "    \n",
    "    dz = np.zeros(2)\n",
    "    dz[0] = 0.00216625315586689 * (uA(t) - 6.4) - 0.0127646468529449 * np.sqrt(2) * np.sqrt(hV1 + z1)\n",
    "    dz[1] = 0.0127646468529449 * np.sqrt(2) * np.sqrt(hV1 + z1) - 0.00908683019582126 * np.sqrt(2) * np.sqrt(hV2 + z2)\n",
    "\n",
    "    return dz"
   ]
  },
  {
   "cell_type": "markdown",
   "metadata": {},
   "source": [
    "Definition linearisiertes Modell"
   ]
  },
  {
   "cell_type": "code",
   "execution_count": null,
   "metadata": {},
   "outputs": [],
   "source": [
    "def linSys(t, x, uA, T1Sys, T2Sys, KSys, buA):\n",
    "    A = np.array([[0, 1],\n",
    "                  [-1 / (T1Sys * T2Sys), -(T1Sys + T2Sys) / (T1Sys * T2Sys)]])\n",
    "    B = np.array([[0],\n",
    "                  [KSys / (T1Sys * T2Sys)]])\n",
    "    return A.dot(x) + B.dot(np.array([uA(t) - buA]))"
   ]
  },
  {
   "cell_type": "markdown",
   "metadata": {},
   "source": [
    "Simulation"
   ]
  },
  {
   "cell_type": "code",
   "execution_count": null,
   "metadata": {},
   "outputs": [],
   "source": [
    "timeDom = np.linspace(0, 200, 2000)\n",
    "z0 = [0, 0]\n",
    "\n",
    "resPhyLin = solve_ivp(linSys, [timeDom[0], timeDom[-1]], z0 - np.array([bz2Phy, 0]), t_eval=timeDom, args=(uAr, T1Phy, T2Phy, KPhy, buA))\n",
    "resPhyNichtLin = solve_ivp(nonLinSys, [timeDom[0], timeDom[-1]], z0, t_eval=timeDom, args=(uAr, ))\n",
    "resMessung = solve_ivp(linSys, [timeDom[0], timeDom[-1]], z0 - np.array([bz2Messung, 0]), t_eval=timeDom, args=(uAr, T1Messung, T2Messung, KMessung, buA))"
   ]
  },
  {
   "cell_type": "markdown",
   "metadata": {},
   "source": [
    "Visualisierung"
   ]
  },
  {
   "cell_type": "code",
   "execution_count": null,
   "metadata": {},
   "outputs": [],
   "source": [
    "plt.close()\n",
    "\n",
    "fig1, axes10 = plt.subplots(1, 1, figsize=(12,7))\n",
    "\n",
    "axes10.plot(timeDom, resPhyNichtLin.y[1], label='physikalisch nichtlinear')\n",
    "axes10.plot(timeDom, resPhyLin.y[0] + bz2Phy, label='physikalisch linearisiert')\n",
    "axes10.plot(timeDom, resMessung.y[0] + bz2Messung, label=r'identifiziert')\n",
    "\n",
    "axes11 = axes10.twinx() \n",
    "\n",
    "axes11.plot(timeDom, [uAr(t) for t in timeDom], color='C4')\n",
    "axes11.tick_params(axis='y', labelcolor='C4')\n",
    "\n",
    "axes10.set_ylabel(r'$z_2$ in m')\n",
    "axes11.set_ylabel(r'$u_{\\mathrm{A}}$ in V', color='C4')\n",
    "axes10.set_xlabel(r'$t$ in s')\n",
    "\n",
    "handlesAx1, labelsAx1 = axes10.get_legend_handles_labels()\n",
    "axes10.legend([handle for i, handle in enumerate(handlesAx1)],\n",
    "              [label for i, label in enumerate(labelsAx1)],\n",
    "              bbox_to_anchor=(0., 1.02, 1., .102), loc=3,\n",
    "              ncol=9, mode=\"expand\", borderaxespad=0., framealpha=0.5)\n",
    "\n",
    "axes10.grid()\n",
    "plt.show()"
   ]
  },
  {
   "cell_type": "code",
   "execution_count": null,
   "metadata": {},
   "outputs": [],
   "source": []
  }
 ],
 "metadata": {
  "kernelspec": {
   "display_name": "Python 3 (ipykernel)",
   "language": "python",
   "name": "python3"
  },
  "language_info": {
   "codemirror_mode": {
    "name": "ipython",
    "version": 3
   },
   "file_extension": ".py",
   "mimetype": "text/x-python",
   "name": "python",
   "nbconvert_exporter": "python",
   "pygments_lexer": "ipython3",
   "version": "3.11.6"
  },
  "latex_envs": {
   "LaTeX_envs_menu_present": true,
   "autoclose": false,
   "autocomplete": true,
   "bibliofile": "sources.bib",
   "cite_by": "apalike",
   "current_citInitial": 1,
   "eqLabelWithNumbers": true,
   "eqNumInitial": 1,
   "hotkeys": {
    "equation": "Ctrl-E",
    "itemize": "Ctrl-I"
   },
   "labels_anchors": false,
   "latex_user_defs": false,
   "report_style_numbering": false,
   "user_envs_cfg": false
  }
 },
 "nbformat": 4,
 "nbformat_minor": 4
}
