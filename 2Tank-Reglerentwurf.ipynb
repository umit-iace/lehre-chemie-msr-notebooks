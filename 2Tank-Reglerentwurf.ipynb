{
 "cells": [
  {
   "cell_type": "markdown",
   "metadata": {},
   "source": [
    "# Reglerentwurf"
   ]
  },
  {
   "cell_type": "code",
   "execution_count": null,
   "metadata": {},
   "outputs": [],
   "source": [
    "# system imports\n",
    "import sys\n",
    "\n",
    "# 3rd party imports\n",
    "from IPython.display import display, Markdown\n",
    "import matplotlib.pyplot as plt\n",
    "import numpy as np\n",
    "import pandas as pd\n",
    "import math\n",
    "from scipy.optimize import curve_fit\n",
    "from scipy.integrate import solve_ivp\n",
    "\n",
    "# user imports\n",
    "import readRst\n",
    "\n",
    "sys.path.append('../')"
   ]
  },
  {
   "cell_type": "markdown",
   "metadata": {},
   "source": [
    "We want to implement a control for the tank system. For this we have different approaches to model the tank system:\n",
    "1. physical modeling\n",
    "2. PT2 element from smoothed step response of the lower tank\n",
    "3. series connection of two PT1 elements, whose parameters are obtained from two different step responses\n",
    "4. Reinisch and Ziegler Nichols"
   ]
  },
  {
   "cell_type": "markdown",
   "metadata": {},
   "source": [
    "TODO:\n",
    "Bild mit Struktur, wie soll gesamtsystem aussehen, ein bisschen theorie"
   ]
  },
  {
   "cell_type": "markdown",
   "metadata": {},
   "source": [
    "__Aufbau auswählen__"
   ]
  },
  {
   "cell_type": "code",
   "execution_count": null,
   "metadata": {},
   "outputs": [],
   "source": [
    "aufbau = 1"
   ]
  },
  {
   "cell_type": "markdown",
   "metadata": {},
   "source": [
    "## Verfahren"
   ]
  },
  {
   "cell_type": "markdown",
   "metadata": {},
   "source": [
    "- Kurze Übersicht über die Verfahren\n",
    "- Warum schwingen vermeiden -> kurze erläuterung\n",
    "- welche verfahren bleiben"
   ]
  },
  {
   "cell_type": "markdown",
   "metadata": {},
   "source": [
    "### 4. Reinisch and Ziegler Nichols"
   ]
  },
  {
   "cell_type": "code",
   "execution_count": null,
   "metadata": {},
   "outputs": [],
   "source": [
    "# dataloading\n",
    "data = pd.read_csv('../../../Messungen/2Tanksystem/20221011_Schwingung_Digitalregler_Aufbau1_V12_2_0_vU_V21_2_1vU.csv')\n",
    "\n",
    "# display results\n",
    "plt.close()\n",
    "\n",
    "# creating the subplots\n",
    "fig, axes = plt.subplots(2, 1, sharex=True, figsize=(8,7))\n",
    "\n",
    "# plotting the values\n",
    "data.plot('time', 'HeightT2', ax=axes[0])\n",
    "data.plot('time', 'CtrlOutput', ax=axes[1])\n",
    "\n",
    "# grid on for all axes\n",
    "for ax in axes:\n",
    "    ax.grid()\n",
    "\n",
    "# setting x and y label\n",
    "axes[1].set_xlabel('time [s]')\n",
    "axes[0].set_ylabel('Height [m]')\n",
    "axes[1].set_ylabel('Voltage [V]')\n",
    "\n",
    "plt.show()"
   ]
  },
  {
   "cell_type": "markdown",
   "metadata": {},
   "source": [
    "Unfortunately, harmonic oscillation is not possible due to regulation value limitation. Accordingly, this method is discarded."
   ]
  },
  {
   "cell_type": "markdown",
   "metadata": {},
   "source": [
    "### 5. Comparison"
   ]
  },
  {
   "cell_type": "code",
   "execution_count": null,
   "metadata": {},
   "outputs": [],
   "source": [
    "dp = 5 # decimal places\n",
    "d = {   'KP': [round(Kp_analytic,dp), round(Kp_pt2,dp), round(Kp_pt1,dp)],\n",
    "        'T1': [round(T1_analytic,dp), round(T1_pt2,dp), round(T1_pt1,dp)],\n",
    "        'T2': [round(T2_analytic,dp), round(T2_pt2,dp), round(T2_pt1,dp)],}\n",
    "print (\"{:<5} {:<11} {:<9} {:<11}\".format(' ','modelling','PT2','PT1'))\n",
    "for name, values in d.items():\n",
    "    s1, s2, s3 = values\n",
    "    print (\"{:<5} {:<11} {:<9} {:<11}\".format(name, s1, s2, s3))"
   ]
  },
  {
   "cell_type": "markdown",
   "metadata": {},
   "source": [
    "### 6. Control Parameters"
   ]
  },
  {
   "cell_type": "markdown",
   "metadata": {},
   "source": [
    "Symmetric optimum was rejected because there is no dominant time constant. The criterion $T_1 \\gg a^2 \\cdot T_2$ does not hold."
   ]
  },
  {
   "cell_type": "markdown",
   "metadata": {},
   "source": [
    "#### optimum criteria (page 37 \"EinführungRegelungstechnik\" PDF)"
   ]
  },
  {
   "cell_type": "code",
   "execution_count": null,
   "metadata": {},
   "outputs": [],
   "source": [
    "# with modelled parameters\n",
    "Kp_sym_analytic = T1_analytic / (2*Kp_analytic*T2_analytic)\n",
    "Ki_sym_analytic = Kp_sym_analytic / T1_analytic\n",
    "\n",
    "# with parameters of pt2 measurement\n",
    "Kp_sym_pt2 = T1_pt2 / (2*Kp_pt2*T2_pt2)\n",
    "Ki_sym_pt2 = Kp_sym_pt2 / T1_pt2\n",
    "\n",
    "# with parameters of pt1 measurements\n",
    "Kp_sym_pt1 = T1_pt1 / (2*Kp_pt1*T2_pt1)\n",
    "Ki_sym_pt1 = Kp_sym_pt1 / T1_pt1\n",
    "\n",
    "# print results\n",
    "dp = 5 # decimal places\n",
    "d = {   'KP': [round(Kp_sym_analytic,dp), round(Kp_sym_pt2,dp), round(Kp_sym_pt1,dp)],\n",
    "        'KI': [round(Ki_sym_analytic,dp), round(Ki_sym_pt2,dp), round(Ki_sym_pt1,dp)],}\n",
    "print (\"{:<5} {:<11} {:<9} {:<11}\".format(' ','modelling','PT2','PT1'))\n",
    "for name, values in d.items():\n",
    "    s1, s2, s3 = values\n",
    "    print (\"{:<5} {:<11} {:<9} {:<11}\".format(name, s1, s2, s3))"
   ]
  },
  {
   "cell_type": "markdown",
   "metadata": {},
   "source": [
    "# Compare models"
   ]
  }
 ],
 "metadata": {
  "kernelspec": {
   "display_name": "Python 3",
   "language": "python",
   "name": "python3"
  },
  "language_info": {
   "codemirror_mode": {
    "name": "ipython",
    "version": 3
   },
   "file_extension": ".py",
   "mimetype": "text/x-python",
   "name": "python",
   "nbconvert_exporter": "python",
   "pygments_lexer": "ipython3",
   "version": "3.10.8"
  },
  "vscode": {
   "interpreter": {
    "hash": "97109904d91d64166babdadfddcabc7eb6cc9d4cd5649e713d505a2bcddce607"
   }
  }
 },
 "nbformat": 4,
 "nbformat_minor": 2
}
