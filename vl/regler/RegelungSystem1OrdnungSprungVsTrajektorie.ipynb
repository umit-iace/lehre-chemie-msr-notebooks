{
 "cells": [
  {
   "cell_type": "code",
   "execution_count": 2,
   "id": "af71674a",
   "metadata": {},
   "outputs": [],
   "source": [
    "%matplotlib widget\n",
    "\n",
    "import ipywidgets as widgets\n",
    "from ipywidgets import HBox, VBox, jslink, Box, Layout\n",
    "import numpy as np\n",
    "import matplotlib.pyplot as plt\n",
    "import matplotlib.dates as mdates\n",
    "from IPython.display import display, Image\n",
    "from scipy.integrate import solve_ivp"
   ]
  },
  {
   "cell_type": "code",
   "execution_count": 3,
   "id": "98c340a4",
   "metadata": {},
   "outputs": [],
   "source": [
    "def make_box_layout():\n",
    "     return widgets.Layout(\n",
    "        border='solid 1px black',\n",
    "        margin='0px 5px 5px 0px',\n",
    "        padding='2px 2px 2px 2px'\n",
    "     )"
   ]
  },
  {
   "cell_type": "markdown",
   "id": "ea9ebdf9",
   "metadata": {},
   "source": [
    "# Regelung eines Systems 1. Ordnung: Vergleich Sprung vs. Trajektorie"
   ]
  },
  {
   "cell_type": "code",
   "execution_count": 4,
   "id": "e9b6871f",
   "metadata": {},
   "outputs": [
    {
     "data": {
      "image/png": "[encoded data removed]",
      "text/plain": [
       "<IPython.core.display.Image object>"
      ]
     },
     "metadata": {
      "image/png": {
       "width": 600
      }
     },
     "output_type": "display_data"
    }
   ],
   "source": [
    "imag = Image(\"../../images/feedback.png\", width=600)\n",
    "display(imag)"
   ]
  },
  {
   "cell_type": "markdown",
   "id": "e8c6100b",
   "metadata": {},
   "source": [
    "## System erster Ordnung\n",
    "\n",
    "\\begin{align*}\n",
    "    \\dot{y}(t) + (a + \\Delta a) y(t) & = b u(t)\n",
    "\\end{align*}\n",
    "mit Ausgang $y$, der Steuerung\n",
    "\\begin{align*}\n",
    "    u_{\\mathrm{S}}(t) & = \\frac{1}{b}\\left(\\dot{y}_{\\mathrm{r}}(t) + a y_{\\mathrm{r}}(t) \\right)\n",
    "\\end{align*}\n",
    "und Regelung\n",
    "\\begin{align*}\n",
    "    u_{\\mathrm{R}}(t) & = K_{\\mathrm{P}} e(t) + \\int_{t_0}^{t} e(\\tau) \\text{d} \\tau\n",
    "\\end{align*}"
   ]
  },
  {
   "cell_type": "markdown",
   "id": "c7068adf",
   "metadata": {},
   "source": [
    "__Defintion Parameter__"
   ]
  },
  {
   "cell_type": "code",
   "execution_count": null,
   "id": "fa4ac6b8",
   "metadata": {},
   "outputs": [],
   "source": [
    "tSim = np.linspace(0, 5, 1001)\n",
    "x0 = [0, 0]\n",
    "t0 = 1"
   ]
  },
  {
   "cell_type": "markdown",
   "id": "b2bd4cf9",
   "metadata": {},
   "source": [
    "**Simulation**"
   ]
  },
  {
   "cell_type": "code",
   "execution_count": null,
   "id": "e955b65e",
   "metadata": {},
   "outputs": [],
   "source": [
    "output = widgets.Output()\n",
    "\n",
    "with output:\n",
    "    fig, (ax1, ax2, ax3) = plt.subplots(3, 1, figsize=(10, 6), sharex=True, gridspec_kw={'height_ratios': [1, 1, 1]})\n",
    "\n",
    "plt.subplots_adjust(wspace=0.2, hspace=0.07)\n",
    "fig.canvas.toolbar_visible = False\n",
    "fig.canvas.header_visible = False\n",
    "fig.canvas.footer_visible = False\n",
    "fig.subplots_adjust(bottom=0.1, top=0.93, left=0.125, right=0.9)\n",
    "\n",
    "ax1.set_xlim([0, tSim[-1]]) \n",
    "ax2.set_xlim([0, tSim[-1]]) \n",
    "ax3.set_xlim([0, tSim[-1]]) \n",
    "ax1.set_ylim([-0.05, 3.55]) \n",
    "ax2.set_ylim([-2, 2]) \n",
    "ax3.set_ylim([-2, 2]) \n",
    "ax1.grid()\n",
    "ax2.grid()\n",
    "ax3.grid()\n",
    "ax1.set_ylabel(r\"$y$\")\n",
    "ax2.set_ylabel(r\"$e$\")\n",
    "ax3.set_ylabel(r\"$u$\")\n",
    "ax3.set_xlabel(r\"$t$\")\n",
    "\n",
    "ySys, = ax1.plot([], [], 'C0', label=r'Prozess')\n",
    "yRefSys, = ax1.plot([], [], 'C1', label=r'Referenz')\n",
    "eSys, = ax2.plot([], [], 'C0', label=r'Fehler $e$')\n",
    "uFFSys, = ax3.plot([], [], 'C1', label=r'Steuerung $u_{\\mathrm{S}}$')\n",
    "uFBSys, = ax3.plot([], [], 'C2', label=r'Regler')\n",
    "\n",
    "handlesAx1, labelsAx1 = ax1.get_legend_handles_labels()\n",
    "handlesAx3, labelsAx3 = ax3.get_legend_handles_labels()\n",
    "\n",
    "handlesAx = handlesAx1 + handlesAx3\n",
    "labelsAx = labelsAx1 + labelsAx3\n",
    "axOrder = [0, 1, 3]\n",
    "\n",
    "fig.legend([handlesAx[idx] for idx in axOrder],\n",
    "           [labelsAx[idx] for idx in axOrder],\n",
    "           bbox_to_anchor=(0.13, 0.94, 0.7675, .15), loc=3,\n",
    "           ncol=3, mode=\"expand\", borderaxespad=0., framealpha=0.5)\n",
    "\n",
    "radioU = widgets.RadioButtons(options=['Sprung', 'Trajektorie'],\n",
    "                              description='Eingang:',\n",
    "                              disabled=False)\n",
    "radioCtrl = widgets.RadioButtons(options=['Steuerung + PI', 'PI'],\n",
    "                                 description='Regler:',\n",
    "                                 disabled=False)\n",
    "sliderDt = widgets.FloatSlider(value=3,\n",
    "                               min=1,\n",
    "                               max=4,\n",
    "                               step=1,\n",
    "                               description=r'$\\Delta t$')\n",
    "sliderYd = widgets.FloatSlider(value=2,\n",
    "                               min=0.5,\n",
    "                               max=2.5,\n",
    "                               step=0.5,\n",
    "                               description=r'$y_{\\mathrm{d}}$')\n",
    "sliderA = widgets.FloatSlider(value=3,\n",
    "                              min=1,\n",
    "                              max=4,\n",
    "                              step=1,\n",
    "                              description='a')\n",
    "sliderDa = widgets.FloatSlider(value=0,\n",
    "                               min=0,\n",
    "                               max=1,\n",
    "                               step=0.2,\n",
    "                               description=r'$\\Delta a$')\n",
    "sliderB = widgets.FloatSlider(value=4,\n",
    "                              min=3,\n",
    "                              max=5,\n",
    "                              step=1,\n",
    "                              description='b')\n",
    "sliderKp = widgets.FloatSlider(value=0,\n",
    "                               min=0,\n",
    "                               max=20,\n",
    "                               step=1,\n",
    "                               description=r'$K_\\mathrm{P}$')\n",
    "sliderKi = widgets.FloatSlider(value=0,\n",
    "                               min=0,\n",
    "                               max=20,\n",
    "                               step=0.1,\n",
    "                               description=r'$K_\\mathrm{I}$')\n",
    "\n",
    "\n",
    "def calcSystem(_):\n",
    "    dt = sliderDt.value\n",
    "    yd = sliderYd.value\n",
    "\n",
    "    a = sliderA.value\n",
    "    da = sliderDa.value\n",
    "    b = sliderB.value\n",
    "    Kp = sliderKp.value\n",
    "    Ki = sliderKi.value\n",
    "\n",
    "    def prozess(t, x, uTraj, a, da, b, Kp, Ki, opt):\n",
    "        e = yr(t) - x[0]\n",
    "        \n",
    "        if opt == 'Steuerung + PI':\n",
    "            uCtrl = Kp * e + Ki * x[1]\n",
    "            u = uTraj(t) + uCtrl \n",
    "        else: # PI\n",
    "            uCtrl = Kp * e + Ki * x[1]\n",
    "            u = uCtrl\n",
    "        \n",
    "        dx = np.zeros(2)\n",
    "        dx[0] = -(a + da) * x[0] + b * u\n",
    "        dx[1] = e\n",
    "        return dx\n",
    "        \n",
    "    if radioU.value == 'Sprung':\n",
    "        yr = lambda t: yd if t > t0 else 0\n",
    "        uTraj = lambda t: yd * a / b if t > t0 else 0\n",
    "    else:\n",
    "        yr = lambda t: yd * (3 * (t - t0) ** 2 / dt ** 2 - 2 * (t - t0) ** 3 / dt ** 3) if t0 <= t <= t0 + dt else 0 if t < t0 else yd \n",
    "        dyr = lambda t: yd * (6 * (t - t0) / dt ** 2 - 6 * (t - t0) ** 2 / dt ** 3) if t0 < t < t0 + dt else 0\n",
    "        uTraj = lambda t: 1 / b * (dyr(t) + a * yr(t))\n",
    "    \n",
    "    res = solve_ivp(prozess,\n",
    "                    [tSim[0], tSim[-1]],\n",
    "                    x0,\n",
    "                    t_eval=tSim, args=(uTraj, a, da, b, Kp, Ki, radioCtrl.value))\n",
    "    \n",
    "    sigFB = [Kp * (yr(t) - res.y.T[idx, 0]) + Ki * res.y.T[idx, 1] for idx, t in enumerate(tSim)]\n",
    "    sigE = [yr(t) - res.y.T[idx, 0] for idx, t in enumerate(tSim)]\n",
    "    uFBSys.set_data(tSim, sigFB)\n",
    "    uFFSys.set_data(tSim, [uTraj(t) for t in tSim])\n",
    "    ySys.set_data(tSim, res.y.T[:, 0])\n",
    "    yRefSys.set_data(tSim, [yr(t) for t in tSim])\n",
    "    eSys.set_data(tSim, sigE)\n",
    "    \n",
    "    uMax = np.max([np.max(sigFB), np.max([uTraj(t) for t in tSim])])\n",
    "    ax2.set_ylim([-(np.max(sigE) + 0.2), (np.max(sigE) + 0.2)]) \n",
    "    ax3.set_ylim([-(uMax + 1), (uMax + 1)]) \n",
    "    \n",
    "    fig.canvas.draw()\n",
    "\n",
    "sliderA.observe(calcSystem, names='value')\n",
    "sliderDa.observe(calcSystem, names='value')\n",
    "sliderB.observe(calcSystem, names='value')\n",
    "\n",
    "sliderDt.observe(calcSystem, names='value')\n",
    "sliderYd.observe(calcSystem, names='value')\n",
    "sliderKp.observe(calcSystem, names='value')\n",
    "sliderKi.observe(calcSystem, names='value')\n",
    "\n",
    "radioU.observe(calcSystem, names='value')\n",
    "radioCtrl.observe(calcSystem, names='value')\n",
    "\n",
    "calcSystem(_)\n",
    "\n",
    "ffControls = VBox([sliderYd, sliderDt, sliderKp, sliderKi])\n",
    "ffControls.layout = make_box_layout()\n",
    "sysControls = VBox([sliderA, sliderDa, sliderB])\n",
    "sysControls.layout = make_box_layout()\n",
    "inputControls = VBox([radioU, radioCtrl])\n",
    "inputControls.layout = make_box_layout()\n",
    "\n",
    "controls = HBox([sysControls, inputControls, ffControls])\n",
    "VBox([controls, output], layout=Layout(display='flex', flex_flow='row', justify_content='center', align_items='center'))"
   ]
  }
 ],
 "metadata": {
  "kernelspec": {
   "display_name": "Python 3 (ipykernel)",
   "language": "python",
   "name": "python3"
  },
  "language_info": {
   "codemirror_mode": {
    "name": "ipython",
    "version": 3
   },
   "file_extension": ".py",
   "mimetype": "text/x-python",
   "name": "python",
   "nbconvert_exporter": "python",
   "pygments_lexer": "ipython3",
   "version": "3.10.5"
  },
  "latex_envs": {
   "LaTeX_envs_menu_present": true,
   "autoclose": false,
   "autocomplete": true,
   "bibliofile": "sources.bib",
   "cite_by": "apalike",
   "current_citInitial": 1,
   "eqLabelWithNumbers": true,
   "eqNumInitial": 1,
   "hotkeys": {
    "equation": "Ctrl-E",
    "itemize": "Ctrl-I"
   },
   "labels_anchors": false,
   "latex_user_defs": false,
   "report_style_numbering": false,
   "user_envs_cfg": false
  }
 },
 "nbformat": 4,
 "nbformat_minor": 5
}
