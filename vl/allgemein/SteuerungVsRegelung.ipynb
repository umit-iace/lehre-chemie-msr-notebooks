{
 "cells": [
  {
   "cell_type": "code",
   "execution_count": null,
   "id": "0f2d7687",
   "metadata": {},
   "outputs": [],
   "source": [
    "%matplotlib widget\n",
    "\n",
    "import ipywidgets as widgets\n",
    "from ipywidgets import HBox, VBox, jslink, Box\n",
    "import numpy as np\n",
    "import matplotlib.pyplot as plt\n",
    "import matplotlib.dates as mdates\n",
    "from IPython.display import display, Image\n",
    "from scipy.integrate import solve_ivp\n",
    "from scipy.linalg import expm\n",
    "from datetime import datetime"
   ]
  },
  {
   "cell_type": "markdown",
   "id": "ae3a2100",
   "metadata": {
    "pycharm": {
     "name": "#%% md\n"
    }
   },
   "source": [
    "# Steuerung versus Regelung"
   ]
  },
  {
   "cell_type": "markdown",
   "id": "212d8637",
   "metadata": {
    "pycharm": {
     "name": "#%% md\n"
    }
   },
   "source": [
    "## Hausklimatisierung\n",
    "\n",
    "In einem Raum soll mittels einer Klimaanlage eine konstante Temperatur gehalten werden.\n",
    "Beeinflußt wird das thermische Verhalten durch\n",
    "* Solarstrahlung $\\dot{Q}_{\\mathrm{S}}$, die die Raumluft als auch die Wand erhitzt,\n",
    "* Belegung $\\dot{Q}_{\\mathrm{P}}$, die nur die Raumluft beeinflußt,\n",
    "* Außentemperatur $\\vartheta_{\\infty}$.\n",
    "\n",
    "Um die gewünschte Temperatur einstellen zu können, ist eine Klimaanlage zur Kühlung sowie zur Beheizung verbaut, die den Wärmestrom $\\dot{Q}_{\\mathrm{V}}$ induziert und als Stellglied aufgefasst wird.\n",
    "\n",
    "Das Beispiel stellt das Verhalten ohne Steuerung und Regelung, mit Steuerung ohne Regelung und mit Regler gegenüber.\n",
    "Die Steuerung kompensiert hierbei die Außentemperatur und den Eintrag der solaren Strahlung.\n",
    "\n",
    "Allgemein lässt sich das Verhalten der Raumluft durch das Modell\n",
    "\\begin{align*}\n",
    "    \\dot{\\vartheta}_{\\mathrm{m}}(t) & = -\\frac{\\alpha_{\\mathrm{LW}} + \\alpha_{\\mathrm{L}\\infty}}{c_{\\mathrm{p,L}}} \\vartheta_{\\mathrm{m}}(t) + \\frac{alphaLW}{c_{\\mathrm{p,L}}}\\vartheta_{\\mathrm{w}}(t) + \\frac{\\alpha_{\\mathrm{L}\\infty}}{c_{\\mathrm{p,L}}} \\vartheta_{\\infty}(t) + \\frac{1}{c_{\\mathrm{p,L}}} \\dot{Q}_{\\mathrm{P}}(t) + \\frac{A_{\\mathrm{W}}(1 - p)}{c_{\\mathrm{p,L}}} \\dot{Q}_{\\mathrm{S}}(t) + \\frac{1}{c_{\\mathrm{p,L}}} \\dot{Q}_{\\mathrm{V}}(t)\\\\\n",
    "    \\dot{\\vartheta}_{\\mathrm{w}}(t) & = \\frac{\\alpha_{\\mathrm{LW}}}{c_{\\mathrm{p,W}}} \\vartheta_{\\mathrm{m}}(t) - \\frac{\\alpha_{\\mathrm{LW}}}{c_{\\mathrm{p,W}}} \\vartheta_{\\mathrm{w}}(t) + \\frac{A_{\\mathrm{W}}\\, p}{c_{\\mathrm{p,W}}} \\dot{Q}_{\\mathrm{S}}(t)\\\\\n",
    "\\end{align*}\n",
    "abbilden."
   ]
  },
  {
   "cell_type": "code",
   "execution_count": null,
   "id": "e6674e8e",
   "metadata": {},
   "outputs": [],
   "source": [
    "imag = Image(\"../../images/house.png\", width=800)\n",
    "display(imag)"
   ]
  },
  {
   "cell_type": "markdown",
   "id": "dd25cdec",
   "metadata": {
    "pycharm": {
     "name": "#%% md\n"
    }
   },
   "source": [
    "### Vergleich"
   ]
  },
  {
   "cell_type": "code",
   "execution_count": null,
   "id": "4f4cb707",
   "metadata": {},
   "outputs": [],
   "source": [
    "# Simulation von 06:00 bis 18:00\n",
    "tSim = np.linspace(0, 43200, 4321)\n",
    "time = np.array([datetime.fromtimestamp(item + 21600) for item in tSim])"
   ]
  },
  {
   "cell_type": "code",
   "execution_count": null,
   "id": "e5d574df",
   "metadata": {},
   "outputs": [],
   "source": [
    "cpL = 1183 # J / K - Wärmekapazität Luft\n",
    "cpW = 4005 # J / K - Wärmekapazität Wand\n",
    "alphaLW = 2.74 # W / K - Wärmewiderstand Luft-Wand\n",
    "alphaLA = 0.456 # W / K - Wärmewiderstand Luft-Umgebung\n",
    "Aw = 2.866 # m2 - Fensterfläche\n",
    "p = 0.08 # - Fensterflächenanteil, der die Wand beeinflusst\n",
    "\n",
    "A = np.array([[-alphaLW / cpL - alphaLA / cpL, alphaLW / cpL],\n",
    "              [alphaLW / cpW ,  - alphaLW / cpW]])\n",
    "B = np.array([[alphaLA / cpL, 1 / cpL, Aw * (1 - p) / cpL, 1 / cpL],\n",
    "              [0, 0, Aw * p / cpW , 0]])"
   ]
  },
  {
   "cell_type": "code",
   "execution_count": null,
   "id": "3b0f2f1b",
   "metadata": {},
   "outputs": [],
   "source": [
    "class ReglerPID:\n",
    "    def __init__(self, setPoint, P, I, D, outMin, outMax, sampleTime):\n",
    "        self.P = P\n",
    "        self.I = I\n",
    "        self.D = D\n",
    "        self.setPoint = setPoint\n",
    "        self.outMin = outMin\n",
    "        self.outMax = outMax\n",
    "        self.sampleTime = sampleTime\n",
    "        self.e = 0\n",
    "        self.int = 0\n",
    "\n",
    "    def regel(self, curValue):\n",
    "        e = self.setPoint - curValue\n",
    "\n",
    "        intStep = (e + self.e) * self.sampleTime\n",
    "        diffStep = (e - self.e) / self.sampleTime\n",
    "\n",
    "        out = (self.P * e +\n",
    "               self.I * (self.int + intStep) / 2.0 +\n",
    "               self.D * diffStep)\n",
    "\n",
    "        if out < self.outMin:\n",
    "            out = self.outMin\n",
    "        elif out > self.outMax:\n",
    "            out = self.outMax\n",
    "        else:\n",
    "            self.int += intStep\n",
    "\n",
    "        self.e = e\n",
    "\n",
    "        return out"
   ]
  },
  {
   "cell_type": "code",
   "execution_count": null,
   "id": "a90fe2d9",
   "metadata": {},
   "outputs": [],
   "source": [
    "x0 = [23, 23]\n",
    "Ta=23.; QP=1.; QS=0.5; QV=0.\n",
    "thetaLSoll = 23\n",
    "u = lambda t: [Ta, \n",
    "               0.7 * QP if 25200 < t < 32400 else 0,\n",
    "               np.sin(np.pi * t / tSim[-1]) * QS, \n",
    "               QV]"
   ]
  },
  {
   "cell_type": "code",
   "execution_count": null,
   "id": "2f7d1e64",
   "metadata": {},
   "outputs": [],
   "source": [
    "output = widgets.Output()\n",
    "\n",
    "with output:\n",
    "    fig, (ax1, ax2, ax3, ax4) = plt.subplots(4, 1, figsize=(9, 6), sharex=True, gridspec_kw={'height_ratios': [3, 1, 1, 1]})\n",
    "\n",
    "fig.canvas.toolbar_visible = False\n",
    "fig.canvas.header_visible = False\n",
    "fig.canvas.footer_visible = False\n",
    "\n",
    "ax1.set_xlim([time[0], time[-1]]); ax2.set_xlim([time[0], time[-1]]); ax3.set_xlim([time[0], time[-1]]); ax4.set_xlim([time[0], time[-1]]);\n",
    "ax1.set_ylim([20, 30]); ax2.set_ylim([0, 1.2]); ax3.set_ylim([0, 1]); ax4.set_ylim([-5, 1])\n",
    "ax1.grid(); ax2.grid(); ax3.grid(); ax4.grid()\n",
    "ax4.set_xlabel(r\"$t$\")\n",
    "ax1.set_ylabel(r\"$\\vartheta_{\\mathrm{L}}$ in °C\")\n",
    "ax2.set_ylabel(r\"$\\dot{Q}_{\\mathrm{S}}$ in W\")\n",
    "ax3.set_ylabel(r\"$\\dot{Q}_{\\mathrm{P}}$ in W\")\n",
    "ax4.set_ylabel(r\"$\\dot{Q}_{\\mathrm{V}}$ in W\")\n",
    "ax1.plot(time, np.ones(len(tSim)) * thetaLSoll, label=r'Sollwert', c='r')\n",
    "lineLOhne, = ax1.plot([], [], label=r'ohne')\n",
    "lineLSteuerung, = ax1.plot([], [], label=r'gesteuert')\n",
    "lineLRegler, = ax1.plot([], [], linestyle='dashed', label=r'gereglet')\n",
    "lineQS, = ax2.plot([], [])\n",
    "lineQP, = ax3.plot([], [])\n",
    "lineQVOhne, = ax4.plot([], [])\n",
    "lineQVSteuerung, = ax4.plot([], [])\n",
    "lineQVRegler, = ax4.plot([], [])\n",
    "ax4.xaxis.set_major_formatter(mdates.DateFormatter('%H:%M'))\n",
    "\n",
    "handlesAx, labelsAx = ax1.get_legend_handles_labels()\n",
    "fig.legend([handle for i, handle in enumerate(handlesAx)],\n",
    "           [label for i, label in enumerate(labelsAx)],\n",
    "           bbox_to_anchor=(0.13, 0.9, 0.7675, .15), loc=3,\n",
    "           ncol=4, mode=\"expand\", borderaxespad=0., framealpha=0.5)\n",
    "\n",
    "playB = widgets.Play(value=0,\n",
    "                     min=0, \n",
    "                     max=len(tSim),\n",
    "                     step=10)\n",
    "sliderB = widgets.IntSlider(value=0,\n",
    "                            min=0,\n",
    "                            max=len(tSim),\n",
    "                            step=10)\n",
    "                                         \n",
    "def updateOhne(_):\n",
    "    global resOhne\n",
    "    \n",
    "    def Haus(t, x, u, A, B):\n",
    "        return A @ x + B @ u(t)\n",
    "    \n",
    "    resOhne = solve_ivp(Haus,\n",
    "                        [tSim[0], tSim[-1]],\n",
    "                        x0,\n",
    "                        t_eval=tSim, args=(u, A, B))\n",
    "\n",
    "def updateSteuerung(_):\n",
    "    global resSteuerung\n",
    "    global QVSteuerung\n",
    "    \n",
    "    def Haus(t, x, u, A, B):\n",
    "        return A @ x + B @ u(t)\n",
    "    \n",
    "    uSteuerung = lambda t: [Ta, \n",
    "                            0.7 * QP if 25200 < t < 32400 else 0,\n",
    "                            np.sin(np.pi * t / tSim[-1]) * QS, \n",
    "                            alphaLA * thetaLSoll -  alphaLA * Ta \n",
    "                            - Aw * np.sin(np.pi * t / tSim[-1]) * QS]\n",
    "    QVSteuerung = [uSteuerung(_t)[3] for _t in tSim]\n",
    "    resSteuerung = solve_ivp(Haus,\n",
    "                             [tSim[0], tSim[-1]],\n",
    "                             x0,\n",
    "                             t_eval=tSim, args=(uSteuerung, A, B))\n",
    "\n",
    "def updateRegler(_):\n",
    "    global x0\n",
    "    global thetaRegler\n",
    "    global QVRegler\n",
    "    \n",
    "    def Haus(t, x, u, A, B):\n",
    "        \n",
    "        return A @ x + B @ u(t)\n",
    "    \n",
    "    QVRegler = np.zeros(len(tSim))\n",
    "    thetaRegler = np.zeros((2, len(tSim)))\n",
    "    thetaRegler[:, 0] = x0\n",
    "    regler = ReglerPID(thetaLSoll, 20, 0.5, 0, -20, 20, tSim[1])\n",
    "\n",
    "    for idx, _t in enumerate(tSim[1:]):\n",
    "        x0 = thetaRegler[:, idx]\n",
    "        QVRegler[idx] = regler.regel(x0[0])\n",
    "        uRegler = lambda t: [Ta,\n",
    "                             0.7 * QP if 25200 < t < 32400 else 0,\n",
    "                             np.sin(np.pi * t / tSim[-1]) * QS, \n",
    "                             QVRegler[idx]]\n",
    "        res = solve_ivp(Haus,\n",
    "                        [tSim[idx], tSim[idx + 1]],\n",
    "                        x0,\n",
    "                        args=(uRegler, A, B))\n",
    "        thetaRegler[0, idx + 1] = res.y.T[-1, 0]\n",
    "        thetaRegler[1, idx + 1] = res.y.T[-1, 1]\n",
    "\n",
    "def updatePlot(change):\n",
    "    idx = change['new']\n",
    "\n",
    "    lineLOhne.set_data(time[:idx], resOhne.y.T[:idx, 0])\n",
    "    lineLSteuerung.set_data(time[:idx], resSteuerung.y.T[:idx, 0])\n",
    "    lineLRegler.set_data(time[:idx], thetaRegler[0, :idx])\n",
    "    lineQP.set_data(time[:idx], [u(_t)[1] for _t in tSim[:idx]])\n",
    "    lineQS.set_data(time[:idx], [u(_t)[2] for _t in tSim[:idx]])\n",
    "    lineQVOhne.set_data(time[:idx], [u(_t)[3] for _t in tSim[:idx]])\n",
    "    lineQVSteuerung.set_data(time[:idx], QVSteuerung[:idx])\n",
    "    lineQVRegler.set_data(time[:idx], QVRegler[:idx])\n",
    "\n",
    "    fig.canvas.draw()    \n",
    "\n",
    "sliderB.observe(updatePlot, names='value')\n",
    "\n",
    "updateOhne(_)\n",
    "updateSteuerung(_)\n",
    "updateRegler(_)\n",
    "\n",
    "jslink((playB, 'value'), (sliderB, 'value'))\n",
    "HBox([playB, sliderB])"
   ]
  },
  {
   "cell_type": "code",
   "execution_count": null,
   "id": "a133b73c-4d00-4a0a-ba9a-c18f39c20055",
   "metadata": {},
   "outputs": [],
   "source": []
  }
 ],
 "metadata": {
  "kernelspec": {
   "display_name": "Python 3 (ipykernel)",
   "language": "python",
   "name": "python3"
  },
  "language_info": {
   "codemirror_mode": {
    "name": "ipython",
    "version": 3
   },
   "file_extension": ".py",
   "mimetype": "text/x-python",
   "name": "python",
   "nbconvert_exporter": "python",
   "pygments_lexer": "ipython3",
   "version": "3.10.9"
  },
  "latex_envs": {
   "LaTeX_envs_menu_present": true,
   "autoclose": false,
   "autocomplete": true,
   "bibliofile": "sources.bib",
   "cite_by": "apalike",
   "current_citInitial": 1,
   "eqLabelWithNumbers": true,
   "eqNumInitial": 1,
   "hotkeys": {
    "equation": "Ctrl-E",
    "itemize": "Ctrl-I"
   },
   "labels_anchors": false,
   "latex_user_defs": false,
   "report_style_numbering": false,
   "user_envs_cfg": false
  }
 },
 "nbformat": 4,
 "nbformat_minor": 5
}
