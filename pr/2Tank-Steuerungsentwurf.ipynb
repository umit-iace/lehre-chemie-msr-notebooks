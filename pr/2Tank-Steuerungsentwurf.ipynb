{
 "cells": [
  {
   "cell_type": "markdown",
   "metadata": {},
   "source": [
    "# Steuerungsentwurf"
   ]
  },
  {
   "cell_type": "code",
   "execution_count": null,
   "metadata": {},
   "outputs": [],
   "source": [
    "import matplotlib.pyplot as plt\n",
    "import numpy as np\n",
    "import sympy as sp\n",
    "from IPython.display import display, Image, Latex\n",
    "from scipy.integrate import solve_ivp"
   ]
  },
  {
   "cell_type": "code",
   "execution_count": null,
   "metadata": {},
   "outputs": [],
   "source": [
    "imag = Image(\"../images/feedforward.png\", width=600)\n",
    "display(imag)"
   ]
  },
  {
   "cell_type": "markdown",
   "metadata": {},
   "source": [
    "Ziel ist der Entwurf einer Steuerung auf Basis des linearisierten Modells des Zweitanksystems\n",
    "\\begin{align*}\n",
    "    T_1 T_2 \\ddot{\\tilde{z}}_2(t) + (T_1 + T_2)\\dot{\\tilde{z}}_2(t) + \\tilde{z}_2(t) & = \\tilde{u}_{\\mathrm{A}}(t)\n",
    "\\end{align*}\n",
    "um die Füllstandshöhe des zweiten Tanks\n",
    "\\begin{align*}\n",
    "    z_{2,\\mathrm{r}}(t) & = \\begin{cases}\n",
    "         0\\, \\mathrm{m} & t \\leq 0 \\\\\n",
    "         \\varphi(t) & 0 < t < \\Delta t \\\\\n",
    "         0,15\\, \\mathrm{m} & t \\geq \\Delta t \\\\\n",
    "    \\end{cases}\n",
    "\\end{align*}\n",
    "in einer vorgegebenen Zeit $\\Delta t = 50\\, \\mathrm{s}$ von einer Höhe auf eine andere Höhe zu überführen.\n",
    "Dazu ist eine $n$-mal stetig differenzierbaren Trajektorie $t \\mapsto \\varphi(t)$ zu bestimmen aus der das Referenzeingangssignal $t \\mapsto u_{\\mathrm{A,r}}(t)$ berechnet wird."
   ]
  },
  {
   "cell_type": "markdown",
   "metadata": {},
   "source": [
    "### 1. Eintragen der notwendigen Systemparameter"
   ]
  },
  {
   "cell_type": "code",
   "execution_count": null,
   "metadata": {},
   "outputs": [],
   "source": [
    "buA = 9\n",
    "# Physikalisch\n",
    "KPhy = 0.147763421835044\n",
    "T1Phy = 34.567259359529\n",
    "T2Phy = 68.2115206317666\n",
    "bz2Phy = 0.137092448385557\n",
    "# Messung\n",
    "KMessung = 0.05335540886113588\n",
    "T1Messung = 11.796537856412515\n",
    "T2Messung = 80.74097989401139\n",
    "bz2Messung = 0.13238994944989588"
   ]
  },
  {
   "cell_type": "markdown",
   "metadata": {},
   "source": [
    "### 2. Bestimmung der Trajektorie"
   ]
  },
  {
   "cell_type": "code",
   "execution_count": null,
   "metadata": {},
   "outputs": [],
   "source": [
    "# Ordnung des Systems\n",
    "n = 2\n",
    "# Grad der Trajektorie\n",
    "q = 2 * n + 1\n",
    "# Definition der benötigten Symbole\n",
    "t, dt, yd0, yd1 = sp.symbols('t \\\\Delta y_{d0} y_{d1}')\n",
    "bc = sp.symbols('c0:%d' % (q + 1))\n",
    "phi = []\n",
    "# Definition der numerischen Werte\n",
    "dtNum = 150\n",
    "yd0Num = 0. - bz2Messung\n",
    "yd1Num = 0.15 - bz2Messung\n",
    "\n",
    "phi.append(sum(bc_*t**i for i, bc_ in enumerate(bc)))\n",
    "display(Latex(\"$\\\\varphi(t) = {}$\".format(sp.latex(phi[0]))))\n",
    "\n",
    "for i in range(n):\n",
    "    phi.append(phi[i].diff(t))\n",
    "    display(Latex(\"$\\\\varphi^{{({})}}(t) = {}$\".format(i + 1, sp.latex(phi[i+1]))))"
   ]
  },
  {
   "cell_type": "code",
   "execution_count": null,
   "metadata": {},
   "outputs": [],
   "source": [
    "sys = []\n",
    "for i in range(n + 1):\n",
    "    sys.append(phi[i].subs({t: 0}))\n",
    "    sys.append(phi[i].subs({t: dt}))\n",
    "    if i == 0:\n",
    "        sys[-2] -= yd0\n",
    "        sys[-1] -= yd1\n",
    "        \n",
    "res = sp.solve(sys, bc)\n",
    "bcNum = [list(res.items())[i][1].subs({yd0: yd0Num, yd1: yd1Num, dt: dtNum}) for i in range(q + 1)]\n",
    "for i in range(q + 1):\n",
    "    display(Latex(\"${} = {} = {}$\".format(sp.latex(list(res.items())[i][0]), sp.latex(list(res.items())[i][1]), bcNum[i])))"
   ]
  },
  {
   "cell_type": "markdown",
   "metadata": {},
   "source": [
    "Implementierung der eigentlichen Trajektorie mit Referenzeingang"
   ]
  },
  {
   "cell_type": "code",
   "execution_count": null,
   "metadata": {},
   "outputs": [],
   "source": [
    "a0 = 1 / (T1Messung * T2Messung)\n",
    "a1 = (T1Messung + T2Messung) / (T1Messung * T2Messung)\n",
    "b = KMessung / (T1Messung * T2Messung)\n",
    "(c0, c1, c2, c3, c4, c5) = bcNum\n",
    "\n",
    "yr = lambda t: c0 + c1 * t + c2 * t ** 2 + c3 * t ** 3 + c4 * t ** 4 + c5 * t ** 5 if 0 <= t <= dtNum else yd0Num if t < 0 else yd1Num \n",
    "dyr = lambda t: c1 + 2 * c2 * t + 3 * c3 * t ** 2 + 4 * c4 * t ** 3 + 5 * c5 * t ** 4 if 0 < t < dtNum else 0\n",
    "ddyr = lambda t: 2 * c2 + 6 * c3 * t + 12 * c4 * t ** 2 + 20 * c5 * t ** 3 if 0 < t < dtNum else 0\n",
    "uAr = lambda t: 1 / b * (ddyr(t) + a1 * dyr(t) + a0 * yr(t)) + buA"
   ]
  },
  {
   "cell_type": "markdown",
   "metadata": {},
   "source": [
    "### 3. Vergleich der Steuerung an den Modellen\n",
    "\n",
    "__Simulation__\n",
    "\n",
    "Definition nichtlineares Modell"
   ]
  },
  {
   "cell_type": "code",
   "execution_count": null,
   "metadata": {},
   "outputs": [],
   "source": [
    "def nonLinSys(t, z, uA):\n",
    "    z1 = z[0]\n",
    "    z2 = z[1]\n",
    "        \n",
    "    hV1 = 0.055\n",
    "    hV2 = 0.055\n",
    "    \n",
    "    dz = np.zeros(2)\n",
    "    dz[0] = 0.00216625315586689 * (uA(t) - 6.4) - 0.0127646468529449 * np.sqrt(2) * np.sqrt(hV1 + z1)\n",
    "    dz[1] = 0.0127646468529449 * np.sqrt(2) * np.sqrt(hV1 + z1) - 0.00908683019582126 * np.sqrt(2) * np.sqrt(hV2 + z2)\n",
    "\n",
    "    return dz"
   ]
  },
  {
   "cell_type": "markdown",
   "metadata": {},
   "source": [
    "Definition linearisiertes Modell"
   ]
  },
  {
   "cell_type": "code",
   "execution_count": null,
   "metadata": {},
   "outputs": [],
   "source": [
    "def linSys(t, x, uA, T1Sys, T2Sys, KSys, buA):\n",
    "    A = np.array([[0, 1],\n",
    "                  [-1 / (T1Sys * T2Sys), -(T1Sys + T2Sys) / (T1Sys * T2Sys)]])\n",
    "    B = np.array([[0],\n",
    "                  [KSys / (T1Sys * T2Sys)]])\n",
    "    return A.dot(x) + B.dot(np.array([uA(t) - buA]))"
   ]
  },
  {
   "cell_type": "code",
   "execution_count": null,
   "metadata": {},
   "outputs": [],
   "source": [
    "timeDom = np.linspace(0, 200, 2000)\n",
    "z0 = [0, 0]\n",
    "\n",
    "resPhyLin = solve_ivp(linSys, [timeDom[0], timeDom[-1]], z0 - np.array([bz2Phy, 0]), t_eval=timeDom, args=(uAr, T1Phy, T2Phy, KPhy, buA))\n",
    "resPhyNichtLin = solve_ivp(nonLinSys, [timeDom[0], timeDom[-1]], z0, t_eval=timeDom, args=(uAr, ))\n",
    "resMessung = solve_ivp(linSys, [timeDom[0], timeDom[-1]], z0 - np.array([bz2Messung, 0]), t_eval=timeDom, args=(uAr, T1Messung, T2Messung, KMessung, buA))"
   ]
  },
  {
   "cell_type": "code",
   "execution_count": null,
   "metadata": {},
   "outputs": [],
   "source": [
    "plt.close()\n",
    "\n",
    "fig1, axes10 = plt.subplots(1, 1, figsize=(12,7))\n",
    "\n",
    "axes10.plot(timeDom, resPhyNichtLin.y[1], label='physikalisch nichtlinear')\n",
    "axes10.plot(timeDom, resPhyLin.y[0] + bz2Phy, label='physikalisch linearisiert')\n",
    "axes10.plot(timeDom, resMessung.y[0] + bz2Messung, label=r'identifiziert')\n",
    "\n",
    "axes11 = axes10.twinx() \n",
    "\n",
    "axes11.plot(timeDom, [uAr(t) for t in timeDom], color='C4')\n",
    "axes11.tick_params(axis='y', labelcolor='C4')\n",
    "\n",
    "axes10.set_ylabel(r'$z_2$ / $m$]')\n",
    "axes11.set_ylabel(r'$u_{\\mathrm{A}}$ / $V$', color='C4')\n",
    "axes10.set_xlabel(r'Zeit / $s$')\n",
    "\n",
    "handlesAx1, labelsAx1 = axes10.get_legend_handles_labels()\n",
    "axes10.legend([handle for i, handle in enumerate(handlesAx1)],\n",
    "              [label for i, label in enumerate(labelsAx1)],\n",
    "              bbox_to_anchor=(0., 1.02, 1., .102), loc=3,\n",
    "              ncol=9, mode=\"expand\", borderaxespad=0., framealpha=0.5)\n",
    "\n",
    "axes10.grid()\n",
    "plt.show()"
   ]
  },
  {
   "cell_type": "code",
   "execution_count": null,
   "metadata": {},
   "outputs": [],
   "source": []
  }
 ],
 "metadata": {
  "kernelspec": {
   "display_name": "Python 3 (ipykernel)",
   "language": "python",
   "name": "python3"
  },
  "language_info": {
   "codemirror_mode": {
    "name": "ipython",
    "version": 3
   },
   "file_extension": ".py",
   "mimetype": "text/x-python",
   "name": "python",
   "nbconvert_exporter": "python",
   "pygments_lexer": "ipython3",
   "version": "3.10.6"
  },
  "latex_envs": {
   "LaTeX_envs_menu_present": true,
   "autoclose": false,
   "autocomplete": true,
   "bibliofile": "sources.bib",
   "cite_by": "apalike",
   "current_citInitial": 1,
   "eqLabelWithNumbers": true,
   "eqNumInitial": 1,
   "hotkeys": {
    "equation": "Ctrl-E",
    "itemize": "Ctrl-I"
   },
   "labels_anchors": false,
   "latex_user_defs": false,
   "report_style_numbering": false,
   "user_envs_cfg": false
  },
  "vscode": {
   "interpreter": {
    "hash": "97109904d91d64166babdadfddcabc7eb6cc9d4cd5649e713d505a2bcddce607"
   }
  }
 },
 "nbformat": 4,
 "nbformat_minor": 2
}
