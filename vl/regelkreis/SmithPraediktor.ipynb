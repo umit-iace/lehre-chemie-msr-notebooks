{
 "cells": [
  {
   "cell_type": "code",
   "execution_count": null,
   "id": "0",
   "metadata": {},
   "outputs": [],
   "source": [
    "%matplotlib widget\n",
    "\n",
    "import ipywidgets as widgets\n",
    "from ipywidgets import HBox, VBox, jslink, Box, Layout\n",
    "import numpy as np\n",
    "import sympy as sp\n",
    "import matplotlib.pyplot as plt\n",
    "from scipy.signal import TransferFunction, bode, lsim, lti\n",
    "from scipy import signal\n",
    "from scipy.integrate import solve_ivp\n",
    "import control as control\n",
    "from IPython.display import display, Latex, Markdown, Image, Math"
   ]
  },
  {
   "cell_type": "code",
   "execution_count": null,
   "id": "1",
   "metadata": {},
   "outputs": [],
   "source": [
    "def make_box_layout():\n",
    "     return widgets.Layout(\n",
    "        border='solid 1px black',\n",
    "        margin='0px 5px 5px 0px',\n",
    "        padding='2px 2px 2px 2px'\n",
    "     )"
   ]
  },
  {
   "cell_type": "markdown",
   "id": "2",
   "metadata": {},
   "source": [
    "## Smith-Prädiktor"
   ]
  },
  {
   "cell_type": "markdown",
   "id": "3",
   "metadata": {},
   "source": [
    "- lineares zeitverzögertes System im Zeitbereich\n",
    "  \\begin{align*}\n",
    "      \\dot{x}(t) & = \\frac{1}{T} x(t) + \\frac{K_\\text{S}}{T} u(t - T_\\text{t})\n",
    "  \\end{align*}\n",
    "- Darstellung im Bildbereich\n",
    "  \\begin{align*}\n",
    "      G(s) & = \\frac{K_\\text{S}}{1 + T s} e^{-s T_\\text{t}}\n",
    "  \\end{align*}\n",
    "- Regelung mittels Smith-Prädiktor zur Kompensation der Totzeit"
   ]
  },
  {
   "cell_type": "code",
   "execution_count": null,
   "id": "4",
   "metadata": {},
   "outputs": [],
   "source": [
    "imag = Image(\"../../images/smith.png\", width=800)\n",
    "display(imag)"
   ]
  },
  {
   "cell_type": "markdown",
   "id": "5",
   "metadata": {},
   "source": [
    "__Definition Parammeter__"
   ]
  },
  {
   "cell_type": "code",
   "execution_count": null,
   "id": "6",
   "metadata": {},
   "outputs": [],
   "source": [
    "tSim = np.linspace(0, 500, 501)"
   ]
  },
  {
   "cell_type": "code",
   "execution_count": null,
   "id": "7",
   "metadata": {},
   "outputs": [],
   "source": [
    "T = 68.21\n",
    "Tt = 100.0\n",
    "KS = 0.15"
   ]
  },
  {
   "cell_type": "markdown",
   "id": "8",
   "metadata": {},
   "source": [
    "## Simulation offener Kreis"
   ]
  },
  {
   "cell_type": "code",
   "execution_count": null,
   "id": "9",
   "metadata": {},
   "outputs": [],
   "source": [
    "x0 = [0]\n",
    "u = lambda t: 1 if t >= 0 else 0"
   ]
  },
  {
   "cell_type": "code",
   "execution_count": null,
   "id": "10",
   "metadata": {},
   "outputs": [],
   "source": [
    "def process(t, x, u, KS, T):\n",
    "    dx = -1/ T * x[0] + KS / T * u(t)\n",
    "    return dx"
   ]
  },
  {
   "cell_type": "code",
   "execution_count": null,
   "id": "11",
   "metadata": {},
   "outputs": [],
   "source": [
    "def processDelay(t, x, u, KS, T, Tt):\n",
    "    dx = -1/ T * x[0] + KS / T * u(t - Tt)\n",
    "    return dx"
   ]
  },
  {
   "cell_type": "code",
   "execution_count": null,
   "id": "12",
   "metadata": {},
   "outputs": [],
   "source": [
    "res = solve_ivp(process,\n",
    "                [tSim[0], tSim[-1]],\n",
    "                x0,\n",
    "                t_eval=tSim, args=(u, KS, T))"
   ]
  },
  {
   "cell_type": "code",
   "execution_count": null,
   "id": "13",
   "metadata": {},
   "outputs": [],
   "source": [
    "resDelay = solve_ivp(processDelay,\n",
    "                     [tSim[0], tSim[-1]],\n",
    "                     x0,\n",
    "                     t_eval=tSim, args=(u, KS, T, Tt))"
   ]
  },
  {
   "cell_type": "code",
   "execution_count": null,
   "id": "14",
   "metadata": {},
   "outputs": [],
   "source": [
    "plt.close()\n",
    "\n",
    "fig, axes10 = plt.subplots(1, 1, figsize=(10,6))\n",
    "fig.canvas.toolbar_visible = False\n",
    "fig.canvas.header_visible = False\n",
    "fig.canvas.footer_visible = False\n",
    "\n",
    "axes10.plot(res.t, res.y[0, :], 'C0', label=r\"unverzögerte Strecke\")\n",
    "axes10.plot(resDelay.t, resDelay.y[0, :], 'C0--', label=r\"verzögert Strecke\")\n",
    "\n",
    "axes11 = axes10.twinx()\n",
    "axes11.plot(tSim, [u(t) for t in tSim], 'C4')\n",
    "axes11.plot(tSim, [u(t - Tt) for t in tSim], 'C4--')\n",
    "axes11.set_ylabel(r\"$\\tilde{u}_{\\mathrm{A}}$ in V\", color='C4')\n",
    "axes11.tick_params(axis='y', colors='C4')\n",
    "\n",
    "axes10.set_xlabel(r\"$t$ in s\")\n",
    "axes10.set_ylabel(r\"$y$\")\n",
    "\n",
    "axes10.grid() \n",
    "\n",
    "handlesAx, labelsAx = axes10.get_legend_handles_labels()\n",
    "fig.legend([handle for i, handle in enumerate(handlesAx)],\n",
    "           [label for i, label in enumerate(labelsAx)],\n",
    "           bbox_to_anchor=(0.125, 0.90, 0.775, .15), loc=3,\n",
    "           ncol=4, mode=\"expand\", borderaxespad=0., framealpha=0.5)\n",
    "plt.show()"
   ]
  },
  {
   "cell_type": "markdown",
   "id": "15",
   "metadata": {},
   "source": [
    "## Simulation geschlossener Kreis"
   ]
  },
  {
   "cell_type": "code",
   "execution_count": null,
   "id": "16",
   "metadata": {},
   "outputs": [],
   "source": [
    "yRef = 0.15\n",
    "Kp = 14\n",
    "Ki = 0.45"
   ]
  },
  {
   "cell_type": "code",
   "execution_count": null,
   "id": "17",
   "metadata": {},
   "outputs": [],
   "source": [
    "def processCtrl(t, x, yRef, KS, T, Kp, Ki):\n",
    "    e = yRef - x[0]\n",
    "    u = Kp * e + Ki * x[1]\n",
    "\n",
    "    dx = np.zeros(2)\n",
    "    dx[0] = -1/ T * x[0] + KS / T * u\n",
    "    dx[1] = Ki * e\n",
    "\n",
    "    return dx"
   ]
  },
  {
   "cell_type": "code",
   "execution_count": null,
   "id": "18",
   "metadata": {},
   "outputs": [],
   "source": [
    "def processDelayCtrl(t, x, KS, T, Tt, tSim, uAll):\n",
    "    u = np.interp(t - Tt, tSim, uAll)\n",
    "\n",
    "    dx = -1/ T * x[0] + KS / T * u\n",
    "    \n",
    "    return dx"
   ]
  },
  {
   "cell_type": "code",
   "execution_count": null,
   "id": "19",
   "metadata": {},
   "outputs": [],
   "source": [
    "def processDelaySmith(t, x, yRef, KS, T, Tt, Ki, tSim, uAll):\n",
    "    u = np.interp(t - Tt, tSim, uAll)\n",
    "    uDF = np.interp(t, tSim, uAll)\n",
    "    \n",
    "    dx = np.zeros(2)\n",
    "    dx[0] = -1/ T * x[0] + KS / T * u\n",
    "    dx[1] = -1/ T * x[1] + KS / T * uDF\n",
    "    \n",
    "    return dx"
   ]
  },
  {
   "cell_type": "code",
   "execution_count": null,
   "id": "20",
   "metadata": {},
   "outputs": [],
   "source": [
    "output = widgets.Output()\n",
    "\n",
    "with output:\n",
    "    fig, (ax1, ax2) = plt.subplots(2, 1, figsize=(10, 6), sharex=True, gridspec_kw={'height_ratios': [1, 1]})\n",
    "\n",
    "plt.subplots_adjust(wspace=0.2, hspace=0.07)\n",
    "fig.canvas.toolbar_visible = False\n",
    "fig.canvas.header_visible = False\n",
    "fig.canvas.footer_visible = False\n",
    "fig.subplots_adjust(bottom=0.1, top=0.93, left=0.125, right=0.9)\n",
    "\n",
    "ax1.set_xlim([0, tSim[-1]])\n",
    "ax2.set_xlim([0, tSim[-1]])\n",
    "ax1.set_ylim([-0.01, 0.40]) \n",
    "ax2.set_ylim([-0.25, 0.25]) \n",
    "ax1.grid()\n",
    "ax2.grid()\n",
    "ax1.set_ylabel(r\"$y$\")\n",
    "ax2.set_ylabel(r\"$u$\")\n",
    "ax2.set_xlabel(r\"$t$ in s\")\n",
    "\n",
    "yRefSys, = ax1.plot([], [], 'C0', label=r'Referenz')\n",
    "ySys, = ax1.plot([], [], 'C1', label=r'unverzögert', alpha=0.5)\n",
    "ySysD, = ax1.plot([], [], 'C2', label=r'verzögert')\n",
    "uSys, = ax2.plot([], [], 'C1', linestyle='dashed', label=r'unverzögert', alpha=0.5)\n",
    "uSysD, = ax2.plot([], [], 'C2', linestyle='dashed', label=r'verzögert')\n",
    "\n",
    "handlesAx, labelsAx = ax1.get_legend_handles_labels()\n",
    "\n",
    "fig.legend([handle for i, handle in enumerate(handlesAx)],\n",
    "           [label for i, label in enumerate(labelsAx)],\n",
    "           bbox_to_anchor=(0.13, 0.94, 0.7675, .15), loc=3,\n",
    "           ncol=6, mode=\"expand\", borderaxespad=0., framealpha=0.5)\n",
    "\n",
    "sliderKp = widgets.FloatSlider(value=14,\n",
    "                               min=1,\n",
    "                               max=20,\n",
    "                               step=1,\n",
    "                               description=r'$K_{\\mathrm{P}}$')\n",
    "sliderKi = widgets.FloatSlider(value=0.45,\n",
    "                               min=0.05,\n",
    "                               max=1,\n",
    "                               step=0.05,\n",
    "                               description=r'$K_{\\mathrm{I}}$')\n",
    "checkSmith = widgets.Checkbox(value=False,\n",
    "                              description='Smith Prädiktor',\n",
    "                              disabled=False)\n",
    "\n",
    "def calcSys(yRef, Kp, Ki):\n",
    "    x0 = [0, 0]\n",
    "    resCtrl = solve_ivp(processCtrl,\n",
    "                        [tSim[0], tSim[-1]],\n",
    "                        x0,\n",
    "                        t_eval=tSim, args=(yRef, KS, T, Kp, Ki))\n",
    "    u = Kp * (yRef - resCtrl.y[0, :]) + Ki * resCtrl.y[1, :]\n",
    "    return resCtrl.t, resCtrl.y[0, :], u\n",
    "\n",
    "def calcDelay(yRef, Kp, Ki):\n",
    "    yDelayCtrl = np.zeros(len(tSim))\n",
    "    uDelayCtrl = np.zeros(len(tSim))\n",
    "    eSum = 0\n",
    "    dt = tSim[1] - tSim[0]\n",
    "    x0 = [0]\n",
    "\n",
    "    for idx, x in enumerate(tSim[:-1]):\n",
    "        resDelayCtrl = solve_ivp(processDelayCtrl,\n",
    "                                 [tSim[idx], tSim[idx+1]],\n",
    "                                 x0,\n",
    "                                 args=(KS, T, Tt, tSim[:idx+1], uDelayCtrl[:idx+1]))\n",
    "        x0 = resDelayCtrl.y.T[-1, :]\n",
    "        y = resDelayCtrl.y.T[-1, 0]\n",
    "\n",
    "        e = yRef - y\n",
    "        eSum += e * dt\n",
    "        u = Kp * e + Ki * eSum\n",
    "\n",
    "        yDelayCtrl[idx + 1] = y\n",
    "        uDelayCtrl[idx + 1] = u\n",
    "    \n",
    "    return tSim, yDelayCtrl, uDelayCtrl\n",
    "\n",
    "def calcSmith(yRef, Kp, Ki):\n",
    "    yDelaySmith = np.zeros(len(tSim))\n",
    "    yDelaySmithDF = np.zeros(len(tSim))\n",
    "    uDelaySmith = np.zeros(len(tSim))\n",
    "\n",
    "    eSum = 0\n",
    "    dt = tSim[1] - tSim[0]\n",
    "    x0 = [0, 0]\n",
    "\n",
    "    for idx, x in enumerate(tSim[:-1]):\n",
    "        resDelaySmith = solve_ivp(processDelaySmith,\n",
    "                                  [tSim[idx], tSim[idx+1]],\n",
    "                                  x0,\n",
    "                                  args=(yRef, KS, T, Tt, Ki, tSim[:idx+1], uDelaySmith[:idx+1]))\n",
    "        x0 = resDelaySmith.y.T[-1, :]\n",
    "        y = resDelaySmith.y.T[-1, 0]\n",
    "        yDF = resDelaySmith.y.T[-1, 1]\n",
    "        yDelaySmith[idx + 1] = y\n",
    "        yDelaySmithDF[idx + 1] = yDF\n",
    "\n",
    "        eDF = y - np.interp(tSim[idx+1] - Tt, tSim[:idx+2], yDelaySmithDF[:idx+2])\n",
    "        e = yRef - (yDF + eDF)\n",
    "        eSum += e * dt\n",
    "        u = Kp * e + Ki * eSum\n",
    "\n",
    "        yDelaySmith[idx + 1] = y\n",
    "        uDelaySmith[idx + 1] = u\n",
    "\n",
    "    return tSim, yDelaySmith, uDelaySmith\n",
    "\n",
    "\n",
    "def calcSystem(_):\n",
    "    Kp = sliderKp.value\n",
    "    Ki = sliderKi.value\n",
    "    yRef = 0.15\n",
    "\n",
    "    if checkSmith.value:\n",
    "        tSysD, resYSysD, resUSysD = calcSmith(yRef, Kp, Ki)\n",
    "    else:\n",
    "        tSysD, resYSysD, resUSysD = calcDelay(yRef, Kp, Ki)\n",
    "\n",
    "    tSys, resYSys, resUSys = calcSys(yRef, Kp, Ki)\n",
    "    \n",
    "    yRefSys.set_data(tSim, np.ones(len(tSim)) * yRef)\n",
    "    ySys.set_data(tSys, resYSys)\n",
    "    ySysD.set_data(tSysD, resYSysD)\n",
    "    uSys.set_data(tSys, resUSys)\n",
    "    uSysD.set_data(tSysD, resUSysD)\n",
    "\n",
    "    ax1.set_ylim([np.min(resYSysD) - 0.05, (np.max(resYSysD) + 0.2)]) \n",
    "    ax2.set_ylim([np.min(resUSysD) - 1, (np.max(resUSysD) + 2)]) \n",
    "\n",
    "    fig.canvas.draw()\n",
    "\n",
    "sliderKp.observe(calcSystem, names='value')\n",
    "sliderKi.observe(calcSystem, names='value')\n",
    "checkSmith.observe(calcSystem, names='value')\n",
    "\n",
    "calcSystem(_)\n",
    "\n",
    "sysControls = HBox([sliderKp, sliderKi, checkSmith])\n",
    "sysControls.layout = make_box_layout()\n",
    "\n",
    "\n",
    "controls = HBox([sysControls])\n",
    "VBox([controls, output], layout=Layout(display='flex', flex_flow='row', justify_content='center', align_items='center'))"
   ]
  },
  {
   "cell_type": "code",
   "execution_count": null,
   "id": "21",
   "metadata": {},
   "outputs": [],
   "source": []
  }
 ],
 "metadata": {
  "kernelspec": {
   "display_name": "Python 3 (ipykernel)",
   "language": "python",
   "name": "python3"
  },
  "language_info": {
   "codemirror_mode": {
    "name": "ipython",
    "version": 3
   },
   "file_extension": ".py",
   "mimetype": "text/x-python",
   "name": "python",
   "nbconvert_exporter": "python",
   "pygments_lexer": "ipython3",
   "version": "3.11.5"
  },
  "latex_envs": {
   "LaTeX_envs_menu_present": true,
   "autoclose": false,
   "autocomplete": true,
   "bibliofile": "sources.bib",
   "cite_by": "apalike",
   "current_citInitial": 1,
   "eqLabelWithNumbers": true,
   "eqNumInitial": 1,
   "hotkeys": {
    "equation": "Ctrl-E",
    "itemize": "Ctrl-I"
   },
   "labels_anchors": false,
   "latex_user_defs": false,
   "report_style_numbering": false,
   "user_envs_cfg": false
  }
 },
 "nbformat": 4,
 "nbformat_minor": 5
}
