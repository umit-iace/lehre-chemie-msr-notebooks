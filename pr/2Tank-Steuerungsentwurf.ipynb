{
 "cells": [
  {
   "cell_type": "markdown",
   "metadata": {},
   "source": [
    "# Steuerungsentwurf"
   ]
  },
  {
   "cell_type": "code",
   "execution_count": null,
   "metadata": {},
   "outputs": [],
   "source": [
    "import sys\n",
    "from IPython.display import display, Markdown\n",
    "import matplotlib.pyplot as plt\n",
    "import numpy as np\n",
    "import pandas as pd\n",
    "import math\n",
    "from scipy.optimize import curve_fit\n",
    "from scipy.integrate import solve_ivp"
   ]
  },
  {
   "cell_type": "markdown",
   "metadata": {},
   "source": [
    "Entwurf einer Steuerung für das Modell\n",
    "\\begin{align*}\n",
    "    T_1 T_2 \\ddot{\\tilde{z}}_2(t) + (T_1 + T_2)\\dot{\\tilde{z}}_2(t) + \\tilde{z}_2(t) & = \\tilde{u}_{\\mathrm{A}}(t)\n",
    "\\end{align*}\n",
    "mittels einer $n$-mal stetig differenzierbaren Trajektroie\n",
    "\\begin{align*}\n",
    "    z_{2,\\mathrm{r}}(t) & = \\begin{cases}\n",
    "         z_{2,a} & t < t_a \\\\\n",
    "         z_{2,a} & t < t_a \\\\\n",
    "         z_{2,a} & t < t_a \\\\\n",
    "    \\end{cases}\n",
    "\\end{align*}"
   ]
  },
  {
   "cell_type": "markdown",
   "metadata": {},
   "source": [
    "## Bestimmung der Koeffizienten"
   ]
  },
  {
   "cell_type": "markdown",
   "metadata": {},
   "source": [
    "## Vergleich der Steuerung an den Modellen"
   ]
  },
  {
   "cell_type": "code",
   "execution_count": null,
   "metadata": {},
   "outputs": [],
   "source": [
    "measData = pd.read_csv('../../../Messungen/2Tanksystem/20221122_Sprungantwort_9V_Aufbau1_V12_2_0vU_V21_2_1vU.csv')"
   ]
  },
  {
   "cell_type": "code",
   "execution_count": null,
   "metadata": {},
   "outputs": [],
   "source": [
    "params = {\n",
    "    'T1': [round(T1_analytic, 5), round(T1_pt2, 5), round(T1_pt1, 5)],\n",
    "    'T2': [round(T2_analytic, 5), round(T2_pt2, 5), round(T2_pt1, 5)],\n",
    "    'Kp': [round(Kp_analytic, 5), round(Kp_pt2, 5), round(Kp_pt1, 5)],\n",
    "}\n",
    "print (\"{:<5} {:<11} {:<9} {:<11}\".format(' ','analytisch','PT2','PT1'))\n",
    "for name, values in params.items():\n",
    "    s1, s2, s3 = values\n",
    "    print (\"{:<5} {:<11} {:<9} {:<11}\".format(name, s1, s2, s3))"
   ]
  },
  {
   "cell_type": "code",
   "execution_count": null,
   "metadata": {},
   "outputs": [],
   "source": [
    "def linSys(t, x, u, A, B):\n",
    "    return A.dot(x) +  B.dot(u)"
   ]
  },
  {
   "cell_type": "code",
   "execution_count": null,
   "metadata": {},
   "outputs": [],
   "source": [
    "A_analytic = np.array([[0, 1],\n",
    "                       [-1 / (T1_analytic * T2_analytic), - (T1_analytic + T2_analytic) / (T1_analytic * T2_analytic)]])\n",
    "B_analytic = np.array([[0],\n",
    "                       [Kp_analytic / (T1_analytic * T2_analytic)]])\n",
    "\n",
    "A_pt2 = np.array([[0, 1],\n",
    "                  [-1 / (T1_pt2 * T2_pt2), - (T1_pt2 + T2_pt2) / (T1_pt2 * T2_pt2)]])\n",
    "B_pt2 = np.array([[0],\n",
    "                  [Kp_pt2 / (T1_pt2 * T2_pt2)]])\n",
    "\n",
    "A_pt1 = np.array([[0, 1],\n",
    "                  [-1 / (T1_pt1 * T2_pt1), - (T1_pt1 + T2_pt1) / (T1_pt1 * T2_pt1)]])\n",
    "B_pt1 = np.array([[0],\n",
    "                  [Kp_pt1 / (T1_pt1 * T2_pt1)]])"
   ]
  },
  {
   "cell_type": "code",
   "execution_count": null,
   "metadata": {},
   "outputs": [],
   "source": [
    "tDom = np.linspace(0, len(measData['HeightT2']), len(measData['HeightT2'])) / 10\n",
    "x0 = [0, 0]\n",
    "u = [1]\n",
    "\n",
    "sol_analytic = solve_ivp(linSys, [tDom[0], tDom[-1]], x0, t_eval=tDom, args=(u, A_analytic, B_analytic))\n",
    "sol_pt2 = solve_ivp(linSys, [tDom[0], tDom[-1]], x0, t_eval=tDom, args=(u, A_pt2, B_pt2))\n",
    "sol_pt1 = solve_ivp(linSys, [tDom[0], tDom[-1]], x0, t_eval=tDom, args=(u, A_pt1, B_pt1))"
   ]
  },
  {
   "cell_type": "code",
   "execution_count": null,
   "metadata": {},
   "outputs": [],
   "source": [
    "plt.close()\n",
    "\n",
    "fig1, axes10 = plt.subplots(1, 1, sharex=True, figsize=(9,7))\n",
    "\n",
    "axes10.plot(tDom, measData['HeightT2'], label='meas analytisch')\n",
    "axes10.plot(tDom, sol_analytic.y[0], label='analytisch')\n",
    "axes10.plot(tDom, sol_pt2.y[0], label='PT2')\n",
    "axes10.plot(tDom, sol_pt1.y[0], label='PT1')\n",
    "\n",
    "axes10.set_ylabel('T1 Height [m]')\n",
    "axes10.set_xlabel('time [s]')\n",
    "\n",
    "handlesAx1, labelsAx1 = axes10.get_legend_handles_labels()\n",
    "axes10.legend([handle for i, handle in enumerate(handlesAx1)],\n",
    "              [label for i, label in enumerate(labelsAx1)],\n",
    "              bbox_to_anchor=(0., 1.02, 1., .102), loc=3,\n",
    "              ncol=9, mode=\"expand\", borderaxespad=0., framealpha=0.5)\n",
    "\n",
    "axes10.grid()\n",
    "plt.show()"
   ]
  },
  {
   "cell_type": "code",
   "execution_count": null,
   "metadata": {},
   "outputs": [],
   "source": []
  }
 ],
 "metadata": {
  "kernelspec": {
   "display_name": "Python 3",
   "language": "python",
   "name": "python3"
  },
  "language_info": {
   "codemirror_mode": {
    "name": "ipython",
    "version": 3
   },
   "file_extension": ".py",
   "mimetype": "text/x-python",
   "name": "python",
   "nbconvert_exporter": "python",
   "pygments_lexer": "ipython3",
   "version": "3.10.8"
  },
  "latex_envs": {
   "LaTeX_envs_menu_present": true,
   "autoclose": false,
   "autocomplete": true,
   "bibliofile": "sources.bib",
   "cite_by": "apalike",
   "current_citInitial": 1,
   "eqLabelWithNumbers": true,
   "eqNumInitial": 1,
   "hotkeys": {
    "equation": "Ctrl-E",
    "itemize": "Ctrl-I"
   },
   "labels_anchors": false,
   "latex_user_defs": false,
   "report_style_numbering": false,
   "user_envs_cfg": false
  },
  "vscode": {
   "interpreter": {
    "hash": "97109904d91d64166babdadfddcabc7eb6cc9d4cd5649e713d505a2bcddce607"
   }
  }
 },
 "nbformat": 4,
 "nbformat_minor": 2
}
