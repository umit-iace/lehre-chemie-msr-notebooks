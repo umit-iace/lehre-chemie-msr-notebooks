{
 "cells": [
  {
   "cell_type": "code",
   "execution_count": null,
   "id": "0",
   "metadata": {},
   "outputs": [],
   "source": [
    "%matplotlib widget\n",
    "\n",
    "import ipywidgets as widgets\n",
    "from ipywidgets import HBox, VBox, jslink, Box, Layout\n",
    "import numpy as np\n",
    "import sympy as sp\n",
    "import matplotlib.pyplot as plt\n",
    "import matplotlib.dates as mdates\n",
    "from IPython.display import display, Latex, Markdown, Image, Math\n",
    "from scipy.integrate import solve_ivp\n",
    "from scipy.signal import place_poles\n",
    "import control.matlab as control"
   ]
  },
  {
   "cell_type": "code",
   "execution_count": null,
   "id": "1",
   "metadata": {},
   "outputs": [],
   "source": [
    "def make_box_layout():\n",
    "     return widgets.Layout(\n",
    "        border='solid 1px black',\n",
    "        margin='0px 5px 5px 0px',\n",
    "        padding='2px 2px 2px 2px'\n",
    "     )"
   ]
  },
  {
   "cell_type": "markdown",
   "id": "2",
   "metadata": {},
   "source": [
    "## LQ-Zustandsregler"
   ]
  },
  {
   "cell_type": "code",
   "execution_count": null,
   "id": "3",
   "metadata": {},
   "outputs": [],
   "source": [
    "imag = Image(\"../../images/zweitank.png\", width=800)\n",
    "display(imag)"
   ]
  },
  {
   "cell_type": "markdown",
   "id": "4",
   "metadata": {},
   "source": [
    "## 2-Tanksystem\n",
    "\n",
    "- lineares Modell in der Form\n",
    "    \\begin{align*}\n",
    "        \\dot{\\tilde{z}}_1(t) & = a_{11} \\tilde{z}_1(t) + b \\tilde{u}_{\\text{A}}(t)\\\\\n",
    "        \\dot{\\tilde{z}}_2(t) & = a_{21} \\tilde{z}_1(t) + a_{22} \\tilde{z}_2(t) \n",
    "    \\end{align*}\n",
    "    mit Ausgang $y(t) = z_2(t)$\n",
    "- Zustandsdarstellung\n",
    "    \\begin{align*}\n",
    "        \\dot{\\mathbf{z}}(t) & = \\begin{pmatrix} a_{11} & 0 \\\\ a_{21} & a_{22} \\end{pmatrix} \\mathbf{z}(t) + \\begin{pmatrix} b\\\\0 \\end{pmatrix} u(t) \\\\\n",
    "        y(t) & = \\begin{pmatrix} 0 & 1 \\end{pmatrix} \\mathbf{z}(t)\n",
    "    \\end{align*}\n",
    "    mit Zustand $\\mathbf{z} = \\begin{pmatrix} \\tilde{z}_1 & \\tilde{z}_2 \\end{pmatrix}^{\\intercal}$ und Eingang $u = \\tilde{u}_{\\text{A}}(t)$"
   ]
  },
  {
   "cell_type": "markdown",
   "id": "5",
   "metadata": {},
   "source": [
    "__Definition Parammeter__"
   ]
  },
  {
   "cell_type": "code",
   "execution_count": null,
   "id": "6",
   "metadata": {},
   "outputs": [],
   "source": [
    "tSim = np.linspace(0, 300, 301)"
   ]
  },
  {
   "cell_type": "code",
   "execution_count": null,
   "id": "7",
   "metadata": {},
   "outputs": [],
   "source": [
    "x0 = [0.2, 0.15]\n",
    "A = np.array([[-0.0289, 0], [0.0289, -0.0146]])\n",
    "b = np.array([[0.0021], [0]])\n",
    "c = np.array([[0], [1]])"
   ]
  },
  {
   "cell_type": "markdown",
   "id": "8",
   "metadata": {},
   "source": [
    "## Steuerbarkeit"
   ]
  },
  {
   "cell_type": "code",
   "execution_count": null,
   "id": "9",
   "metadata": {},
   "outputs": [],
   "source": [
    "S = np.hstack((b, A.dot(b)))\n",
    "display(Latex(\"$\\\\mathrm{{rang}}\\\\mathcal{{S}} = \\\\mathrm{{rang}}{} = {}$\".format(sp.latex(sp.Matrix(S)), sp.latex(np.linalg.matrix_rank(S)))))"
   ]
  },
  {
   "cell_type": "markdown",
   "id": "10",
   "metadata": {},
   "source": [
    "## Systemeigenwerte"
   ]
  },
  {
   "cell_type": "code",
   "execution_count": null,
   "id": "11",
   "metadata": {},
   "outputs": [],
   "source": [
    "eigA = np.linalg.eig(A)[0]\n",
    "Math(r's_1 = ' + str(eigA[0]) + r',~s_2 = ' + str(eigA[1]))"
   ]
  },
  {
   "cell_type": "markdown",
   "id": "12",
   "metadata": {},
   "source": [
    "## Reglerentwurf"
   ]
  },
  {
   "cell_type": "code",
   "execution_count": null,
   "id": "13",
   "metadata": {},
   "outputs": [],
   "source": [
    "Q = np.diag([7.5, 50])\n",
    "R = np.array([0.05])"
   ]
  },
  {
   "cell_type": "code",
   "execution_count": null,
   "id": "14",
   "metadata": {},
   "outputs": [],
   "source": [
    "k, P, EigCL = control.lqr(A, b, Q, R)\n",
    "k = np.array(k)\n",
    "Math(r'\\boldsymbol{k}=' + sp.latex(sp.Matrix(k)) + r' \\quad ' \n",
    "      + r'\\boldsymbol{P}='+ sp.latex(sp.Matrix(P)) + r' \\quad ' \n",
    "      + r'\\boldsymbol{\\lambda}=' + sp.latex(sp.Matrix(EigCL)))"
   ]
  },
  {
   "cell_type": "markdown",
   "id": "15",
   "metadata": {},
   "source": [
    "## Simulation"
   ]
  },
  {
   "cell_type": "code",
   "execution_count": null,
   "id": "16",
   "metadata": {},
   "outputs": [],
   "source": [
    "def prozess(t, x, A, b, k):\n",
    "    u = -k @ x\n",
    "    dx = A @ x + b @ u\n",
    "\n",
    "    return dx"
   ]
  },
  {
   "cell_type": "code",
   "execution_count": null,
   "id": "17",
   "metadata": {},
   "outputs": [],
   "source": [
    "def prozessVorfilter(t, x, yRef, A, b, c, k):\n",
    "    V = 1 / (c.T @ np.linalg.inv(b @ k - A) @ b)\n",
    "    u = V[0] * yRef - k @ x\n",
    "    dx = A @ x + b @ u\n",
    "\n",
    "    return dx"
   ]
  },
  {
   "cell_type": "code",
   "execution_count": null,
   "id": "18",
   "metadata": {},
   "outputs": [],
   "source": [
    "res = solve_ivp(prozess, [tSim[0], tSim[-1]], x0,\n",
    "                t_eval=tSim, args=(A, b, k))"
   ]
  },
  {
   "cell_type": "code",
   "execution_count": null,
   "id": "19",
   "metadata": {},
   "outputs": [],
   "source": [
    "plt.close()\n",
    "\n",
    "fig, axes10 = plt.subplots(1, 1, figsize=(10,6))\n",
    "fig.canvas.toolbar_visible = False\n",
    "fig.canvas.header_visible = False\n",
    "fig.canvas.footer_visible = False\n",
    "\n",
    "axes10.plot(res.t, res.y[0], label=r\"Höhe $\\tilde{z}_1$\")\n",
    "axes10.plot(res.t, res.y[1], label=r\"Höhe $\\tilde{z}_2$\")\n",
    "\n",
    "axes11 = axes10.twinx()\n",
    "axes11.plot(res.t, (k @ res.y).T, 'C4')\n",
    "axes11.set_ylabel(r\"$\\tilde{u}_{\\mathrm{A}}$ in V\", color='C4')\n",
    "axes11.tick_params(axis='y', colors='C4')\n",
    "\n",
    "axes10.set_xlabel(r\"$t$ in s\")\n",
    "axes10.set_ylabel(r\"$\\tilde{z}_{\\bullet}$ in m\")\n",
    "\n",
    "axes10.grid() \n",
    "\n",
    "handlesAx, labelsAx = axes10.get_legend_handles_labels()\n",
    "fig.legend([handle for i, handle in enumerate(handlesAx)],\n",
    "           [label for i, label in enumerate(labelsAx)],\n",
    "           bbox_to_anchor=(0.125, 0.90, 0.775, .15), loc=3,\n",
    "           ncol=2, mode=\"expand\", borderaxespad=0., framealpha=0.5)\n",
    "plt.show()"
   ]
  },
  {
   "cell_type": "markdown",
   "id": "20",
   "metadata": {},
   "source": [
    "## Stabilisierung beliebiger Arbeitspunkte"
   ]
  },
  {
   "cell_type": "code",
   "execution_count": null,
   "id": "21",
   "metadata": {},
   "outputs": [],
   "source": [
    "output = widgets.Output()\n",
    "\n",
    "with output:\n",
    "    fig, (ax1, ax2, ax3) = plt.subplots(3, 1, figsize=(10, 6), sharex=True, gridspec_kw={'height_ratios': [1, 1, 1]})\n",
    "\n",
    "plt.subplots_adjust(wspace=0.2, hspace=0.07)\n",
    "fig.canvas.toolbar_visible = False\n",
    "fig.canvas.header_visible = False\n",
    "fig.canvas.footer_visible = False\n",
    "fig.subplots_adjust(bottom=0.1, top=0.93, left=0.125, right=0.9)\n",
    "\n",
    "ax1.set_xlim([0, tSim[-1]]) \n",
    "ax2.set_xlim([0, tSim[-1]])\n",
    "ax3.set_xlim([0, tSim[-1]]) \n",
    "ax1.set_ylim([-0.01, 0.40]) \n",
    "ax2.set_ylim([-0.25, 0.25]) \n",
    "ax3.set_ylim([-1, 15]) \n",
    "ax1.grid()\n",
    "ax2.grid()\n",
    "ax3.grid()\n",
    "ax1.set_ylabel(r\"$\\tilde{z}_{\\bullet}$ in m\")\n",
    "ax2.set_ylabel(r\"$e$ in m\")\n",
    "ax3.set_ylabel(r\"$\\tilde{u}_{\\mathrm{A}}$ in V\")\n",
    "ax3.set_xlabel(r\"$t$ in s\")\n",
    "\n",
    "ySys, = ax1.plot([], [], 'C0', label=r'Höhe $\\tilde{z}_{1}$')\n",
    "x2Sys, = ax1.plot([], [], 'C3', label=r'Höhe $\\tilde{z}_{2}$')\n",
    "yRefSys, = ax1.plot([], [], 'C1', label=r'Referenz $y_\\mathrm{r} = \\tilde{z}_{2,r}$')\n",
    "eSys, = ax2.plot([], [], 'C0', label=r'Fehler $e$')\n",
    "uFBSys, = ax3.plot([], [], 'C2', label=r'Regler $u$')\n",
    "\n",
    "handlesAx, labelsAx = ax1.get_legend_handles_labels()\n",
    "\n",
    "fig.legend([handle for i, handle in enumerate(handlesAx)],\n",
    "           [label for i, label in enumerate(labelsAx)],\n",
    "           bbox_to_anchor=(0.13, 0.94, 0.7675, .15), loc=3,\n",
    "           ncol=3, mode=\"expand\", borderaxespad=0., framealpha=0.5)\n",
    "\n",
    "sliderYr = widgets.FloatSlider(value=0.2,\n",
    "                               min=0,\n",
    "                               max=0.3,\n",
    "                               step=0.05,\n",
    "                               description=r'$\\tilde{z}_{2,\\mathrm{r}}$')\n",
    "sliderQ1 = widgets.FloatSlider(value=10,\n",
    "                               min=1,\n",
    "                               max=100,\n",
    "                               step=1,\n",
    "                               description=r'$q_{11}$')\n",
    "sliderQ2 = widgets.FloatSlider(value=1,\n",
    "                               min=1,\n",
    "                               max=100,\n",
    "                               step=1,\n",
    "                               description=r'$q_{22}$')\n",
    "sliderR = widgets.FloatSlider(value=1,\n",
    "                               min=0.001,\n",
    "                               max=1,\n",
    "                               step=0.0005,\n",
    "                               description=r'$R$')\n",
    "sliderX01 = widgets.FloatSlider(value=0,\n",
    "                                min=-0,\n",
    "                                max=0.3,\n",
    "                                step=0.05,\n",
    "                                description=r'$\\tilde{z}_1(0)$')\n",
    "sliderX02 = widgets.FloatSlider(value=0,\n",
    "                                min=0,\n",
    "                                max=0.3,\n",
    "                                step=0.05,\n",
    "                                description=r'$\\tilde{z}_2(0)$')\n",
    "\n",
    "def calcSystem(_):\n",
    "    yr = sliderYr.value\n",
    "    \n",
    "    Q = np.diag([sliderQ1.value, sliderQ2.value])\n",
    "    R = np.array([sliderR.value])\n",
    "    k, _, _  = control.lqr(A, b, Q, R)\n",
    "    k = np.array(k)\n",
    "    \n",
    "    x0 = [sliderX01.value, sliderX02.value]\n",
    "    res = solve_ivp(prozessVorfilter,\n",
    "                    [tSim[0], tSim[-1]],\n",
    "                    x0,\n",
    "                    t_eval=tSim, args=(yr, A, b, c, k))\n",
    "    \n",
    "    V = 1 / (c.T @ np.linalg.inv(b @ k - A) @ b)\n",
    "           \n",
    "    sigFB = [V * yr - k @ res.y.T[idx + 1, :] for idx, t in enumerate(tSim[1:])]\n",
    "    sigE = yr - res.y.T[:, 0]\n",
    "    uFBSys.set_data(tSim[1:], sigFB)\n",
    "    ySys.set_data(tSim, res.y.T[:, 0])\n",
    "    x2Sys.set_data(tSim, res.y.T[:, 1])\n",
    "    yRefSys.set_data(tSim[[0, -1]], np.array([yr, yr]))\n",
    "    eSys.set_data(tSim, sigE)\n",
    "    \n",
    "    fig.canvas.draw()\n",
    "\n",
    "sliderYr.observe(calcSystem, names='value')\n",
    "sliderQ1.observe(calcSystem, names='value')\n",
    "sliderQ2.observe(calcSystem, names='value')\n",
    "sliderR.observe(calcSystem, names='value')\n",
    "sliderX01.observe(calcSystem, names='value')\n",
    "sliderX02.observe(calcSystem, names='value')\n",
    "\n",
    "calcSystem(_)\n",
    "\n",
    "stateContControls = VBox([sliderYr, sliderQ1, sliderQ2, sliderR])\n",
    "stateContControls.layout = make_box_layout()\n",
    "sysControls = VBox([sliderX01, sliderX02])\n",
    "sysControls.layout = make_box_layout()\n",
    "\n",
    "controls = HBox([sysControls, stateContControls])\n",
    "VBox([controls, output], layout=Layout(display='flex', flex_flow='row', justify_content='center', align_items='center'))"
   ]
  },
  {
   "cell_type": "code",
   "execution_count": null,
   "id": "22",
   "metadata": {},
   "outputs": [],
   "source": []
  }
 ],
 "metadata": {
  "kernelspec": {
   "display_name": "Python 3 (ipykernel)",
   "language": "python",
   "name": "python3"
  },
  "language_info": {
   "codemirror_mode": {
    "name": "ipython",
    "version": 3
   },
   "file_extension": ".py",
   "mimetype": "text/x-python",
   "name": "python",
   "nbconvert_exporter": "python",
   "pygments_lexer": "ipython3",
   "version": "3.12.7"
  },
  "latex_envs": {
   "LaTeX_envs_menu_present": true,
   "autoclose": false,
   "autocomplete": true,
   "bibliofile": "sources.bib",
   "cite_by": "apalike",
   "current_citInitial": 1,
   "eqLabelWithNumbers": true,
   "eqNumInitial": 1,
   "hotkeys": {
    "equation": "Ctrl-E",
    "itemize": "Ctrl-I"
   },
   "labels_anchors": false,
   "latex_user_defs": false,
   "report_style_numbering": false,
   "user_envs_cfg": false
  }
 },
 "nbformat": 4,
 "nbformat_minor": 5
}
