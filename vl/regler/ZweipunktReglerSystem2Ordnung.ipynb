{
 "cells": [
  {
   "cell_type": "code",
   "execution_count": null,
   "id": "0",
   "metadata": {},
   "outputs": [],
   "source": [
    "%matplotlib widget\n",
    "\n",
    "import ipywidgets as widgets\n",
    "from ipywidgets import HBox, VBox, jslink, Box, Layout\n",
    "import numpy as np\n",
    "import sympy as sp\n",
    "import matplotlib.pyplot as plt\n",
    "from scipy.signal import TransferFunction, bode, lsim, lti\n",
    "from scipy import signal\n",
    "from scipy.integrate import solve_ivp\n",
    "from IPython.display import display, Latex, Markdown, Image, Math"
   ]
  },
  {
   "cell_type": "code",
   "execution_count": null,
   "id": "1",
   "metadata": {},
   "outputs": [],
   "source": [
    "def make_box_layout():\n",
    "     return widgets.Layout(\n",
    "        border='solid 1px black',\n",
    "        margin='0px 5px 5px 0px',\n",
    "        padding='2px 2px 2px 2px'\n",
    "     )"
   ]
  },
  {
   "cell_type": "code",
   "execution_count": null,
   "id": "2",
   "metadata": {},
   "outputs": [],
   "source": [
    "class Regler2Pkt:\n",
    "    def __init__(self, setPoint, hyst, minOut, maxOut):\n",
    "        self.setPoint = setPoint\n",
    "        self.hyst = hyst\n",
    "        self.minOut = minOut\n",
    "        self.maxOut = maxOut\n",
    "        self.state = None\n",
    "    \n",
    "    def reset(self):\n",
    "        self.state = None\n",
    "    \n",
    "    def regel(self, curValue):\n",
    "        if self.state is None:\n",
    "            if curValue > self.setPoint:\n",
    "                self.state = True\n",
    "            else:\n",
    "                self.state = False\n",
    "                \n",
    "        if self.state == False and curValue > self.setPoint + self.hyst:\n",
    "            self.state = True\n",
    "        elif self.state == True and curValue < self.setPoint - self.hyst:\n",
    "            self.state = False\n",
    "        \n",
    "        if self.state:\n",
    "            out = self.minOut\n",
    "        else:\n",
    "            out = self.maxOut\n",
    "            \n",
    "        return out   "
   ]
  },
  {
   "cell_type": "markdown",
   "id": "3",
   "metadata": {},
   "source": [
    "## Zweipunktregler"
   ]
  },
  {
   "cell_type": "code",
   "execution_count": null,
   "id": "4",
   "metadata": {},
   "outputs": [],
   "source": [
    "imag = Image(\"../../images/twoTank.png\", width=800)\n",
    "display(imag)"
   ]
  },
  {
   "cell_type": "markdown",
   "id": "5",
   "metadata": {},
   "source": [
    "## 2-Tanksystem\n",
    "\n",
    "- lineares Modell im Zeitbereich\n",
    "    \\begin{align*}\n",
    "        \\dot{\\tilde{z}}_1(t) & = a_{11} \\tilde{z}_1(t) + b \\tilde{u}_{\\text{A}}(t)\\\\\n",
    "        \\dot{\\tilde{z}}_2(t) & = a_{21} \\tilde{z}_1(t) + a_{22} \\tilde{z}_2(t) \n",
    "    \\end{align*}\n",
    "    mit Ausgang $y(t) = \\tilde{z}_2(t)$ bzw.\n",
    "    \\begin{align*}\n",
    "        T_1T_2\\ddot{\\tilde{z}}_2(t) + (T_1 + T_2)\\dot{\\tilde{z}}_2(t) + \\tilde{z}_2(t) & = K \\tilde{u}_{\\text{A}}(t)\n",
    "    \\end{align*}\n",
    "- lineares Modell im Bildbereich\n",
    "    \\begin{align*}\n",
    "        P(s) &= \\frac{\\tilde{Z}_2(s)}{\\tilde{U}_{\\text{A}}(s)} = \\frac{K_\\mathrm{S}}{(1 + T_1 s) (1 + T_2 s)} = \\frac{0.15}{(1 + 68.21 s) (1 + 34.57 s)}\n",
    "    \\end{align*}"
   ]
  },
  {
   "cell_type": "markdown",
   "id": "6",
   "metadata": {},
   "source": [
    "__Definition Parammeter__"
   ]
  },
  {
   "cell_type": "code",
   "execution_count": null,
   "id": "7",
   "metadata": {},
   "outputs": [],
   "source": [
    "tSim = np.linspace(0, 1000, 1001)"
   ]
  },
  {
   "cell_type": "code",
   "execution_count": null,
   "id": "8",
   "metadata": {},
   "outputs": [],
   "source": [
    "A = np.array([[-0.0289, 0], [0.0289, -0.0146]])\n",
    "b = np.array([[0.0021], [0]])\n",
    "c = np.array([[0], [1]])\n",
    "KS = 0.15"
   ]
  },
  {
   "cell_type": "markdown",
   "id": "9",
   "metadata": {},
   "source": [
    "## Simulation"
   ]
  },
  {
   "cell_type": "code",
   "execution_count": null,
   "id": "10",
   "metadata": {},
   "outputs": [],
   "source": [
    "def prozess(t, x, A, b, u):\n",
    "    dx = A @ x + (b * u).flatten()\n",
    "\n",
    "    return dx"
   ]
  },
  {
   "cell_type": "code",
   "execution_count": null,
   "id": "11",
   "metadata": {},
   "outputs": [],
   "source": [
    "output = widgets.Output()\n",
    "\n",
    "with output:\n",
    "    fig, (ax1, ax2) = plt.subplots(2, 1, figsize=(10, 6), sharex=True, gridspec_kw={'height_ratios': [2, 1]})\n",
    "\n",
    "plt.subplots_adjust(wspace=0.2, hspace=0.07)\n",
    "fig.canvas.toolbar_visible = False\n",
    "fig.canvas.header_visible = False\n",
    "fig.canvas.footer_visible = False\n",
    "fig.subplots_adjust(bottom=0.1, top=0.93, left=0.125, right=0.9)\n",
    "\n",
    "ax1.set_xlim([0, tSim[-1]]) \n",
    "ax2.set_xlim([0, tSim[-1]])\n",
    "ax1.set_ylim([-0.01, 0.40])\n",
    "ax2.set_ylim([-1, 13]) \n",
    "ax1.grid() \n",
    "ax2.grid()\n",
    "ax1.set_ylabel(r\"$\\tilde{z}_{\\bullet}$ in m\")\n",
    "ax2.set_ylabel(r\"$\\tilde{u}_{\\mathrm{A}}$ in V\")\n",
    "ax2.set_xlabel(r\"$t$ in s\")\n",
    "\n",
    "ySys, = ax1.plot([], [], label=r'Höhe $\\tilde{z}_{2}$')\n",
    "yRefSys, = ax1.plot([], [], 'C1', label=r'Referenz $y_\\mathrm{r} = \\tilde{z}_{2,r}$')\n",
    "uSys, = ax2.plot([], [], label=r'Regler $u_{\\mathrm{r}}$')\n",
    "\n",
    "handlesAx, labelsAx = ax1.get_legend_handles_labels()\n",
    "fig.legend([handle for i, handle in enumerate(handlesAx)],\n",
    "           [label for i, label in enumerate(labelsAx)],\n",
    "           bbox_to_anchor=(0.13, 0.94, 0.7675, .15), loc=3,\n",
    "           ncol=3, mode=\"expand\", borderaxespad=0., framealpha=0.5)\n",
    "\n",
    "sliderYr = widgets.FloatSlider(value=0.2,\n",
    "                               min=0,\n",
    "                               max=0.3,\n",
    "                               step=0.05,\n",
    "                               description=r'$\\tilde{z}_{2,\\mathrm{r}}$')\n",
    "checkHyst = widgets.Checkbox(value=False,\n",
    "                             description=r'Hysterese',\n",
    "                             disabled=False)\n",
    "sliderYL = widgets.FloatSlider(value=0.01,\n",
    "                               min=0,\n",
    "                               max=0.1,\n",
    "                               step=0.01,\n",
    "                               description=r'$y_\\mathrm{Hyst}$')\n",
    "sliderUMax = widgets.FloatSlider(value=2,\n",
    "                                 min=0,\n",
    "                                 max=12,\n",
    "                                 step=0.5,\n",
    "                                 description=r'$u_\\mathrm{max}$')\n",
    "\n",
    "def calcSystem(_):\n",
    "    yR = sliderYr.value\n",
    "    uMax = sliderUMax.value\n",
    "    sliderYr.max = KS * uMax\n",
    "    \n",
    "    if checkHyst.value:\n",
    "        sliderYL.layout.visibility = 'visible'\n",
    "        yL = sliderYL.value\n",
    "    else:\n",
    "        sliderYL.layout.visibility = 'hidden'\n",
    "        yL = 0\n",
    "    \n",
    "    regler = Regler2Pkt(yR, yL, 0, uMax)\n",
    "        \n",
    "    x0 = np.array([0, 0])\n",
    "    yRes = [0]\n",
    "    uRes = []\n",
    "    regler.reset()\n",
    "    for idx, x in enumerate(tSim[1:]):\n",
    "        u = regler.regel(yRes[-1])\n",
    "        res = solve_ivp(prozess,\n",
    "                    [tSim[idx], tSim[idx+1]],\n",
    "                    x0,\n",
    "                    args=(A, b, u))\n",
    "        x0 = res.y.T[-1, :]\n",
    "        y = res.y.T[-1, 1]\n",
    "        yRes.append(y)\n",
    "        uRes.append(u)\n",
    "\n",
    "    uSys.set_data(tSim[:-1], uRes)\n",
    "    ySys.set_data(tSim, yRes)\n",
    "    yRefSys.set_data(tSim[[0, -1]], np.array([yR, yR]))\n",
    "\n",
    "    fig.canvas.draw()\n",
    "\n",
    "sliderYr.observe(calcSystem, names='value')\n",
    "checkHyst.observe(calcSystem, names='value')\n",
    "sliderYL.observe(calcSystem, names='value')\n",
    "sliderUMax.observe(calcSystem, names='value')\n",
    "\n",
    "calcSystem(_)\n",
    "\n",
    "contControls = HBox([sliderYr, sliderUMax, checkHyst, sliderYL])\n",
    "contControls.layout = make_box_layout()\n",
    "\n",
    "controls = HBox([contControls])\n",
    "VBox([controls, output], layout=Layout(display='flex', flex_flow='row', justify_content='center', align_items='center'))"
   ]
  },
  {
   "cell_type": "code",
   "execution_count": null,
   "id": "12",
   "metadata": {},
   "outputs": [],
   "source": []
  }
 ],
 "metadata": {
  "kernelspec": {
   "display_name": "Python 3 (ipykernel)",
   "language": "python",
   "name": "python3"
  },
  "language_info": {
   "codemirror_mode": {
    "name": "ipython",
    "version": 3
   },
   "file_extension": ".py",
   "mimetype": "text/x-python",
   "name": "python",
   "nbconvert_exporter": "python",
   "pygments_lexer": "ipython3",
   "version": "3.12.9"
  },
  "latex_envs": {
   "LaTeX_envs_menu_present": true,
   "autoclose": false,
   "autocomplete": true,
   "bibliofile": "sources.bib",
   "cite_by": "apalike",
   "current_citInitial": 1,
   "eqLabelWithNumbers": true,
   "eqNumInitial": 1,
   "hotkeys": {
    "equation": "Ctrl-E",
    "itemize": "Ctrl-I"
   },
   "labels_anchors": false,
   "latex_user_defs": false,
   "report_style_numbering": false,
   "user_envs_cfg": false
  }
 },
 "nbformat": 4,
 "nbformat_minor": 5
}
