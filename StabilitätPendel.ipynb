{
 "cells": [
  {
   "cell_type": "code",
   "execution_count": null,
   "metadata": {},
   "outputs": [],
   "source": [
    "%matplotlib widget\n",
    "\n",
    "import ipywidgets as widgets\n",
    "from ipywidgets import HBox, VBox, jslink, Box, Layout\n",
    "import numpy as np\n",
    "import matplotlib.pyplot as plt\n",
    "from IPython.display import display, Image\n",
    "from scipy.integrate import solve_ivp"
   ]
  },
  {
   "cell_type": "code",
   "execution_count": null,
   "metadata": {},
   "outputs": [],
   "source": [
    "def make_box_layout():\n",
    "     return widgets.Layout(\n",
    "        border='solid 1px black',\n",
    "        margin='0px 10px 10px 0px',\n",
    "        padding='5px 5px 5px 5px'\n",
    "     )"
   ]
  },
  {
   "cell_type": "markdown",
   "metadata": {
    "pycharm": {
     "name": "#%% md\n"
    }
   },
   "source": [
    "# Stabilitätsanalyse für Ruhelagen"
   ]
  },
  {
   "cell_type": "markdown",
   "metadata": {
    "pycharm": {
     "name": "#%% md\n"
    }
   },
   "source": [
    "## Pendel"
   ]
  },
  {
   "cell_type": "code",
   "execution_count": null,
   "metadata": {},
   "outputs": [],
   "source": [
    "imag = Image(\"images/pendulum.png\", width=600)\n",
    "display(imag)"
   ]
  },
  {
   "cell_type": "markdown",
   "metadata": {},
   "source": [
    "### Mathematische Beschreibung\n",
    "- __mathematisches Pendel__ mit Dämpfung $k$ in Aufhängung\n",
    "- nichtlineares Modell\n",
    "  \\begin{align*}\n",
    "      m\\, l^2\\ddot{\\varphi}(t) + k \\dot{\\varphi}(t) + m\\,g\\, l \\sin(\\varphi(t)) & = 0, & \\varphi(0) & = \\varphi_0, & \\dot{\\varphi}(0) & = \\dot{\\varphi}_0\n",
    "  \\end{align*}\n",
    "- Ruhelagen nichtlineares Modell\n",
    "  \\begin{align*}\n",
    "      \\sin(\\bar{\\varphi}(t)) & = 0 & \\bar{\\varphi}_i & = i \\pi, & i & = 0, 1, 2, \\ldots\n",
    "  \\end{align*}\n",
    "- linearisiertes Modell mit $\\tilde{\\varphi} = \\varphi - \\bar{\\varphi}$\n",
    "  \\begin{align*}\n",
    "      \\ddot{\\tilde{\\varphi}}(t) + \\frac{k}{m\\, l^2} \\dot{\\tilde{\\varphi}}(t) + \\frac{g}{l} \\varphi(t) & = 0\n",
    "  \\end{align*}\n",
    "- Zustandsdarstellung mit $x_1 = \\tilde{\\varphi}$, $x_2 = \\dot{\\tilde{\\varphi}}$\n",
    "  \\begin{align*}\n",
    "      \\begin{pmatrix}\\dot{x}_1(t)\\\\\\dot{x}_2(t) \\end{pmatrix} & = \\underbrace{\\begin{pmatrix} 0 & 1\\\\ -\\frac{g}{l} & -\\frac{k}{m\\, l^2}\\end{pmatrix}}_{\\boldsymbol{A}} \\begin{pmatrix} x_1(t) \\\\  x_2(t)\\end{pmatrix}, & \\begin{pmatrix} x_1(0) \\\\  x_2(0)\\end{pmatrix} & = \\begin{pmatrix} x_{10} \\\\  x_{20}\\end{pmatrix}\n",
    "  \\end{align*}\n",
    "- Ruhelagen linearisiertes Modell aus Matrix $\\boldsymbol{A}$ mit $\\det(\\boldsymbol{A}) = \\frac{g}{l} \\neq 0$\n"
   ]
  },
  {
   "cell_type": "markdown",
   "metadata": {},
   "source": [
    "__System- und Simulationsparameter__"
   ]
  },
  {
   "cell_type": "code",
   "execution_count": null,
   "metadata": {},
   "outputs": [],
   "source": [
    "l = 1\n",
    "m = 1\n",
    "g = 9.81"
   ]
  },
  {
   "cell_type": "code",
   "execution_count": null,
   "metadata": {},
   "outputs": [],
   "source": [
    "tSim = np.linspace(0, 10, 1001)\n",
    "\n",
    "x0 = [0, 0.]\n",
    "k0 = 0"
   ]
  },
  {
   "cell_type": "markdown",
   "metadata": {},
   "source": [
    "__Simulation__"
   ]
  },
  {
   "cell_type": "code",
   "execution_count": null,
   "metadata": {},
   "outputs": [],
   "source": [
    "output = widgets.Output()\n",
    "\n",
    "with output:\n",
    "    fig = plt.figure(figsize=(10, 5))\n",
    "    ax3 = plt.subplot(122)\n",
    "    ax1 = plt.subplot(221)\n",
    "    ax2 = plt.subplot(223)\n",
    "\n",
    "plt.subplots_adjust(wspace=0.2, hspace=0.3)\n",
    "fig.canvas.toolbar_visible = False\n",
    "fig.canvas.header_visible = False\n",
    "fig.canvas.footer_visible = False\n",
    "fig.subplots_adjust(bottom=0.1, top=0.93, left=0.125, right=0.9)\n",
    "\n",
    "ax1.set_xlim([0, tSim[-1]]) \n",
    "ax1.set_ylim([-200, 650]) \n",
    "ax2.set_xlim([-2*np.pi, 2*np.pi]) \n",
    "ax2.set_ylim([-10, 10]) \n",
    "ax1.grid() \n",
    "ax2.grid()\n",
    "ax3.set_xlim(-l * 1.2, l * 1.2)\n",
    "ax3.set_ylim(-l * 1.2, l * 1.2)\n",
    "ax3.set_xticks([])\n",
    "ax3.set_yticks([])\n",
    "ax1.set_xlabel(r\"$t$\")\n",
    "ax1.set_ylabel(r\"$\\varphi$\")\n",
    "ax2.set_xlabel(r\"$\\varphi$\")\n",
    "ax2.set_ylabel(r\"$\\dot{\\varphi}$\")\n",
    "\n",
    "lineLinSys, = ax1.plot([], [], label='linear')\n",
    "lineLinTraj, = ax2.plot([], [])\n",
    "lineNlSys, = ax1.plot([], [], label='nichtlinear')\n",
    "lineNlTraj, = ax2.plot([], [])\n",
    "\n",
    "lineAniLin, = ax3.plot([0, l * np.sin(x0[0])], [0, -l * np.cos(x0[0])], lw=3, c='k')\n",
    "circleAniLin = ax3.add_patch(plt.Circle((l * np.sin(x0[0]), -l * np.cos(x0[0])), 0.08, fc='blue', zorder=3))\n",
    "lineAniNl, = ax3.plot([0, l * np.sin(x0[0])], [0, -l * np.cos(x0[0])], lw=3, c='k', alpha=0.5)\n",
    "circleAniNl = ax3.add_patch(plt.Circle((l * np.sin(x0[0]), -l * np.cos(x0[0])), 0.08, fc='orange', zorder=3))\n",
    "\n",
    "handlesAx, labelsAx = ax1.get_legend_handles_labels()\n",
    "fig.legend([handle for i, handle in enumerate(handlesAx)],\n",
    "           [label for i, label in enumerate(labelsAx)],\n",
    "           bbox_to_anchor=(0.13, 0.94, 0.7675, .15), loc=3,\n",
    "           ncol=2, mode=\"expand\", borderaxespad=0., framealpha=0.5)\n",
    "\n",
    "playB = widgets.Play(value=0,\n",
    "                     min=0, \n",
    "                     max=len(tSim),\n",
    "                     step=10)\n",
    "sliderB = widgets.IntSlider(value=0,\n",
    "                            min=0,\n",
    "                            max=len(tSim),\n",
    "                            step=10)\n",
    "sliderK = widgets.FloatSlider(value=k0,\n",
    "                              min=-1,\n",
    "                              max=1,\n",
    "                              step=0.25,\n",
    "                              description='k')\n",
    "sliderX00 = widgets.FloatSlider(value=x0[0],\n",
    "                                min=-np.pi,\n",
    "                                max=np.pi,\n",
    "                                step=np.pi / 4,\n",
    "                                description='x00')\n",
    "sliderX01 = widgets.FloatSlider(value=x0[1],\n",
    "                                min=-1,\n",
    "                                max=1,\n",
    "                                step=0.1,\n",
    "                                description='x01')\n",
    "                                         \n",
    "def updateLinOde(_):\n",
    "    k = sliderK.value\n",
    "    x0 = [sliderX00.value, sliderX01.value]\n",
    "    global resLin\n",
    "    \n",
    "    def linPendel(t, x, k):\n",
    "        dx = np.zeros(2)\n",
    "        dx[0] = x[1]\n",
    "        dx[1] = - g / l * x[0] - k / (m * l ** 2) * x[1]\n",
    "\n",
    "        return dx\n",
    "    \n",
    "    resLin = solve_ivp(linPendel,\n",
    "                       [tSim[0], tSim[-1]],\n",
    "                       x0,\n",
    "                       t_eval=tSim, args=(k, ))\n",
    "\n",
    "def updateNlOde(_):\n",
    "    k = sliderK.value\n",
    "    x0 = [sliderX00.value, sliderX01.value]\n",
    "    global resNl\n",
    "\n",
    "    def nlPendel(t, x, k):\n",
    "        dx = np.zeros(2)\n",
    "        dx[0] = x[1]\n",
    "        dx[1] = - g / l * np.sin(x[0]) - k / (m * l ** 2) * x[1]\n",
    "\n",
    "        return dx\n",
    "    \n",
    "    resNl = solve_ivp(nlPendel,\n",
    "                      [tSim[0], tSim[-1]],\n",
    "                      x0,\n",
    "                      t_eval=tSim, args=(k, ))\n",
    "\n",
    "def updatePlot(change):\n",
    "    idx = change['new']\n",
    "    lineLinSys.set_data(tSim[:idx], np.rad2deg(resLin.y.T[:idx, 0]))\n",
    "    lineNlSys.set_data(tSim[:idx], np.rad2deg(resNl.y.T[:idx, 0]))\n",
    "    lineLinTraj.set_data(resLin.y.T[:idx, 0], resLin.y.T[:idx, 1])\n",
    "    lineNlTraj.set_data(resNl.y.T[:idx, 0], resNl.y.T[:idx, 1])\n",
    "    \n",
    "    phiLin = resLin.y.T[idx, 0]\n",
    "    xLin = l * np.sin(phiLin)\n",
    "    yLin = -l * np.cos(phiLin)\n",
    "    lineAniLin.set_data([0, xLin], [0, yLin])\n",
    "    circleAniLin.set_center((xLin, yLin))\n",
    "\n",
    "    phiNl = resNl.y.T[idx, 0]\n",
    "    xNl = l * np.sin(phiNl)\n",
    "    yNl = -l * np.cos(phiNl)\n",
    "    lineAniNl.set_data([0, xNl], [0, yNl])\n",
    "    circleAniNl.set_center((xNl, yNl))\n",
    "\n",
    "    fig.canvas.draw()    \n",
    "\n",
    "sliderB.observe(updatePlot, names='value')\n",
    "sliderK.observe(updateNlOde, names='value')\n",
    "sliderK.observe(updateLinOde, names='value')\n",
    "sliderX00.observe(updateNlOde)\n",
    "sliderX00.observe(updateLinOde)\n",
    "sliderX01.observe(updateNlOde)\n",
    "sliderX01.observe(updateLinOde)\n",
    "\n",
    "updateNlOde(_)\n",
    "updateLinOde(_)\n",
    "\n",
    "odeControls = VBox([sliderK, sliderX00, sliderX01])\n",
    "odeControls.layout = make_box_layout()\n",
    "jslink((playB, 'value'), (sliderB, 'value'))\n",
    "videoControls = VBox([HBox([playB, sliderB]), output])\n",
    "videoControls.layout = make_box_layout()\n",
    "\n",
    "HBox([odeControls, Box([videoControls])], layout=Layout(display='flex', flex_flow='row', justify_content='center', align_items='center'))"
   ]
  },
  {
   "cell_type": "code",
   "execution_count": null,
   "metadata": {},
   "outputs": [],
   "source": []
  }
 ],
 "metadata": {
  "kernelspec": {
   "display_name": "Python 3 (ipykernel)",
   "language": "python",
   "name": "python3"
  },
  "language_info": {
   "codemirror_mode": {
    "name": "ipython",
    "version": 3
   },
   "file_extension": ".py",
   "mimetype": "text/x-python",
   "name": "python",
   "nbconvert_exporter": "python",
   "pygments_lexer": "ipython3",
   "version": "3.10.6"
  },
  "latex_envs": {
   "LaTeX_envs_menu_present": true,
   "autoclose": false,
   "autocomplete": true,
   "bibliofile": "sources.bib",
   "cite_by": "apalike",
   "current_citInitial": 1,
   "eqLabelWithNumbers": true,
   "eqNumInitial": 1,
   "hotkeys": {
    "equation": "Ctrl-E",
    "itemize": "Ctrl-I"
   },
   "labels_anchors": false,
   "latex_user_defs": false,
   "report_style_numbering": false,
   "user_envs_cfg": false
  }
 },
 "nbformat": 4,
 "nbformat_minor": 1
}
