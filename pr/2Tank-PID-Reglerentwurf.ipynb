{
 "cells": [
  {
   "cell_type": "markdown",
   "metadata": {},
   "source": [
    "# PID-Reglerentwurf"
   ]
  },
  {
   "cell_type": "code",
   "execution_count": null,
   "metadata": {},
   "outputs": [],
   "source": [
    "import matplotlib.pyplot as plt\n",
    "import numpy as np\n",
    "import sympy as sp\n",
    "from IPython.display import display, Image, Latex, Markdown\n",
    "from scipy.integrate import solve_ivp"
   ]
  },
  {
   "cell_type": "code",
   "execution_count": null,
   "metadata": {},
   "outputs": [],
   "source": [
    "imag = Image(\"../images/feedback.png\", width=600)\n",
    "display(imag)"
   ]
  },
  {
   "cell_type": "markdown",
   "metadata": {},
   "source": [
    "Ziel ist der Entwurf eines PI-Reglers auf Basis des linearisierten Modells des Zweitanksystems\n",
    "\\begin{align*}\n",
    "    T_1 T_2 \\ddot{\\tilde{z}}_2(t) + (T_1 + T_2)\\dot{\\tilde{z}}_2(t) + \\tilde{z}_2(t) & = K \\tilde{u}_{\\mathrm{A}}(t)\n",
    "\\end{align*}\n",
    "unter Verwendung des Betragsoptimumsverfahrens zum Einstellen der Reglerparameter.\n",
    "Bei dieser Methode wird\n",
    "\\begin{align*}\n",
    "    |G(j\\omega)| & = 1 & \\Leftrightarrow && |G(j \\omega)|_{\\textrm{dB}} & = 0, & \\forall \\omega & \\ge 0\n",
    "\\end{align*}\n",
    "gefordert.\n",
    "Es wird mittels der Integratorzeitkonstante $T_{\\mathrm{I}}$ des Reglers die größte Zeitkonstante der Strecke kompensiert und durch die Verstärkung $K_{\\mathrm{P}}$ die voran gestellte Forderung eingehalten."
   ]
  },
  {
   "cell_type": "markdown",
   "metadata": {},
   "source": [
    "### 1. Eintragen der notwendigen Systemparameter"
   ]
  },
  {
   "cell_type": "code",
   "execution_count": null,
   "metadata": {},
   "outputs": [],
   "source": [
    "buA = 9\n",
    "# Physikalisch\n",
    "KPhy = 0.147763421835044\n",
    "T1Phy = 34.567259359529\n",
    "T2Phy = 68.2115206317666\n",
    "bz2Phy = 0.137092448385557\n",
    "# Messung\n",
    "KMessung = 0.05335540886113588\n",
    "T1Messung = 11.796537856412515\n",
    "T2Messung = 80.74097989401139\n",
    "bz2Messung = 0.13238994944989588"
   ]
  },
  {
   "cell_type": "markdown",
   "metadata": {},
   "source": [
    "### 2. Bestimmung der Reglerparameter mittels Betragsoptimums\n",
    "\n",
    "Um die Methodik anwenden zu können, ist für das linearisierte Zweitankmodell aus\n",
    "\\begin{align*}\n",
    "    G(s) & = \\frac{\\tilde{Z}_2(s)}{\\tilde{U}_{\\mathrm{A}}} = \\frac{b}{s^2 + a_1 s + a_0} = \\frac{K}{(1+ T_1 s)(1 + T_2 s)}\n",
    "\\end{align*}\n",
    "mit\n",
    "\\begin{align*}\n",
    "    a_0 & = \\frac{1}{T_1 T_2}, & a_1 & = \\frac{T_1 + T_2}{T_1 T_2}, & b & = \\frac{K}{T_1 T_2}\n",
    "\\end{align*}\n",
    "ein PI-Regler mit\n",
    "\\begin{align*}\n",
    "    G_{\\mathrm{R}}(s) & = K_{\\mathrm{P}}\\left(1 + \\frac{1}{T_{\\mathrm{I}}s}\\right) = K_{\\mathrm{P}} \\frac{1 + T_{\\mathrm{I}} s}{T_{\\mathrm{I}} s}\n",
    "\\end{align*}\n",
    "anzusetzen.\n",
    "Die dominiertende Zeitkonstante der Strecke $T_{\\mathrm{I}} = T_1$ wird zur Zeitkonstante des Integratorteils des Regler.\n",
    "Die Reglerverstärkung lässt sich anhand von\n",
    "\\begin{align*}\n",
    "    K_{\\mathrm{P}} & = \\frac{T_1}{2 K T_{\\mathrm{2}}}\n",
    "\\end{align*}\n",
    "bestimmen. Für den offenen Kreis resultiert damit\n",
    "\\begin{align*}\n",
    "    G_0(s) & = G_{\\mathrm{R}}(s) G(s)\\\\\n",
    "    & = \\frac{T_1}{2 K T_{\\mathrm{2}}} \\frac{1 + T_1 s}{T_1 s} \\frac{K}{(1+ T_1 s)(1 + T_2 s)} \\\\\n",
    "    & = \\frac{1}{2 T_2 s (1 + T_2 s)}\n",
    "\\end{align*}\n",
    "\n",
    "Für die Implementierung wird der PI-Regler in der Form\n",
    "\\begin{align*}\n",
    "    u(t) & = K_{\\mathrm{P}} \\left( e(t) + \\frac{1}{T_{\\mathrm{I}}}\\int_0^t e(\\tau) \\mathrm{d} \\tau\\right) \\\\\n",
    "    & = K_{\\mathrm{P}} e(t) + K_{\\mathrm{I}} \\int_0^t e(\\tau) \\mathrm{d} \\tau\n",
    "\\end{align*}\n",
    "mit $K_{\\mathrm{I}} = \\frac{K_{\\mathrm{P}}}{T_{\\mathrm{I}}}$ umgeschrieben."
   ]
  },
  {
   "cell_type": "code",
   "execution_count": null,
   "metadata": {},
   "outputs": [],
   "source": [
    "KpMessung = T1Messung / (2 * KMessung * T2Messung)\n",
    "TiMessung = T1Messung\n",
    "KiMessung = KpMessung / TiMessung\n",
    "\n",
    "KpPhy = T1Phy / (2 * KPhy * T2Phy)\n",
    "TiPhy = T1Phy\n",
    "KiPhy = KpPhy / TiPhy\n",
    "\n",
    "\n",
    "display(Markdown(rf\"\"\"\n",
    "|                         | Messung     | Physikalisch  |\n",
    "| :---                    |    :----:   |          ---: |\n",
    "| $K_{{\\mathrm{{P}}}}$    | {KpMessung} | {KpPhy}       |\n",
    "| $T_{{\\mathrm{{I}}}}$    | {TiMessung} | {TiPhy}       |\n",
    "| $K_{{\\mathrm{{I}}}}$    | {KiMessung} | {KiPhy}       |\n",
    "\"\"\"))"
   ]
  },
  {
   "cell_type": "markdown",
   "metadata": {},
   "source": [
    "### 3. Vergleich der Regelung an den Modellen\n",
    "\n",
    "__Simulation__\n",
    "\n",
    "Definition nichtlineares Modell"
   ]
  },
  {
   "cell_type": "code",
   "execution_count": null,
   "metadata": {},
   "outputs": [],
   "source": [
    "def nonLinSys(t, z, uA):\n",
    "    z1 = z[0]\n",
    "    z2 = z[1]\n",
    "        \n",
    "    hV1 = 0.055\n",
    "    hV2 = 0.055\n",
    "    \n",
    "    dz = np.zeros(2)\n",
    "    dz[0] = 0.00216625315586689 * (uA - 6.4) - 0.0127646468529449 * np.sqrt(2) * np.sqrt(hV1 + z1)\n",
    "    dz[1] = 0.0127646468529449 * np.sqrt(2) * np.sqrt(hV1 + z1) - 0.00908683019582126 * np.sqrt(2) * np.sqrt(hV2 + z2)\n",
    "\n",
    "    return dz"
   ]
  },
  {
   "cell_type": "markdown",
   "metadata": {},
   "source": [
    "Definition linearisiertes Modell"
   ]
  },
  {
   "cell_type": "code",
   "execution_count": null,
   "metadata": {},
   "outputs": [],
   "source": [
    "def linSys(t, x, uA, T1Sys, T2Sys, KSys, buA):\n",
    "    A = np.array([[0, 1],\n",
    "                  [-1 / (T1Sys * T2Sys), -(T1Sys + T2Sys) / (T1Sys * T2Sys)]])\n",
    "    B = np.array([[0],\n",
    "                  [KSys / (T1Sys * T2Sys)]])\n",
    "    return A.dot(x) + B.dot(np.array([uA - buA]))"
   ]
  },
  {
   "cell_type": "markdown",
   "metadata": {},
   "source": [
    "Definition Regler"
   ]
  },
  {
   "cell_type": "code",
   "execution_count": null,
   "metadata": {},
   "outputs": [],
   "source": [
    "class ReglerPI:\n",
    "    def __init__(self, KP, KI, outMin, outMax, sampleTime):\n",
    "        self.KP = KP\n",
    "        self.KI = KI\n",
    "        self.outMin = outMin\n",
    "        self.outMax = outMax\n",
    "        self.sampleTime = sampleTime\n",
    "        self.e = 0\n",
    "        self.int = 0\n",
    "\n",
    "    def run(self, setPoint, curValue):\n",
    "        e = setPoint - curValue\n",
    "\n",
    "        intStep = (e + self.e) * self.sampleTime\n",
    "        diffStep = (e - self.e) / self.sampleTime\n",
    "\n",
    "        out = self.KP * e + self.KI * (self.int + intStep) / 2.0\n",
    "\n",
    "        if out < self.outMin:\n",
    "            out = self.outMin\n",
    "        elif out > self.outMax:\n",
    "            out = self.outMax\n",
    "        else:\n",
    "            self.int += intStep\n",
    "\n",
    "        self.e = e\n",
    "\n",
    "        return out\n",
    "\n",
    "    def reset(self):\n",
    "        self.e = 0\n",
    "        self.int = 0"
   ]
  },
  {
   "cell_type": "markdown",
   "metadata": {},
   "source": [
    "Definition Steuerung"
   ]
  },
  {
   "cell_type": "code",
   "execution_count": null,
   "metadata": {},
   "outputs": [],
   "source": [
    "class Steuerung:\n",
    "    def __init__(self, z20, z21, t0, t1, T1, T2, K):\n",
    "        self.z20 = z20\n",
    "        self.z21 = z21\n",
    "        self.t0 = t0\n",
    "        self.t1 = t1\n",
    "        self.dt = t1 - t0\n",
    "        self.a0 = 1 / (T1 * T2)\n",
    "        self.a1 = (T1 + T2) / (T1 * T2)\n",
    "        self.b = K / (T1 * T2)\n",
    "\n",
    "        tau = sp.symbols('\\\\tau')\n",
    "        self.phi = 6 * tau ** 5 - 15 * tau ** 4 + 10 * tau ** 3\n",
    "        self.dphi = self.phi.diff(tau)\n",
    "        self.ddphi = self.phi.diff(tau, 2)\n",
    "        \n",
    "        self.z2r = lambda t: self.z20 + (self.z21 - self.z20) * self.phi.subs({tau: t / self.dt}) if 0 <= t <= self.dt else z20 if t < 0 else self.z21 \n",
    "        self.dz2r = lambda t: (self.z21 - self.z20) * self.dphi.subs({tau: t / self.dt}) / self.dt if 0 < t < self.dt else 0\n",
    "        self.ddz2r = lambda t: (self.z21 - self.z20) * self.ddphi.subs({tau: t / self.dt}) / self.dt ** 2 if 0 < t < self.dt else 0\n",
    "        self.uAr = lambda t: 1/ self.b * (self.ddz2r(t) + self.a1 * self.dz2r(t) + self.a0 * self.z2r(t))\n",
    "\n",
    "    def run(self, t):\n",
    "        return self.z2r(t), self.uAr(t)    "
   ]
  },
  {
   "cell_type": "code",
   "execution_count": null,
   "metadata": {},
   "outputs": [],
   "source": [
    "timeDom = np.linspace(0, 1000, 10001)\n",
    "z0 = [0, 0]\n",
    "z2Soll = 0.15\n",
    "dt = 150\n",
    "\n",
    "regler = ReglerPI(KpMessung, KiMessung, 0 - buA, 12 - buA, timeDom[1])\n",
    "steuerung = Steuerung(0 - bz2Messung, z2Soll - bz2Messung, 0, dt, T1Messung, T2Messung, KMessung)"
   ]
  },
  {
   "cell_type": "markdown",
   "metadata": {},
   "source": [
    "**Regler ohne Steuerung**"
   ]
  },
  {
   "cell_type": "code",
   "execution_count": null,
   "metadata": {},
   "outputs": [],
   "source": [
    "regler.reset()\n",
    "\n",
    "zPhyLin = np.zeros((2, len(timeDom)))\n",
    "zPhyLin[:, 0] = z0 - np.array([bz2Phy, 0])\n",
    "uPhyLin = np.zeros((len(timeDom),))\n",
    "                   \n",
    "for idx, _t in enumerate(timeDom[1:]):\n",
    "    z0PhyLin = zPhyLin[:, idx]\n",
    "    uPhyLin[idx] = regler.run(z2Soll - bz2Messung, z0PhyLin[0]) + buA\n",
    "\n",
    "    resPhyLin = solve_ivp(linSys,\n",
    "                          [timeDom[idx], timeDom[idx + 1]],\n",
    "                          z0PhyLin,\n",
    "                          args=(uPhyLin[idx], T1Phy, T2Phy, KPhy, buA))\n",
    "    zPhyLin[:, idx + 1] = resPhyLin.y.T[-1, :]"
   ]
  },
  {
   "cell_type": "code",
   "execution_count": null,
   "metadata": {},
   "outputs": [],
   "source": [
    "regler.reset()\n",
    "\n",
    "zPhyNichtLin = np.zeros((2, len(timeDom)))\n",
    "uPhyNichtLin = np.zeros((len(timeDom),))\n",
    "                   \n",
    "for idx, _t in enumerate(timeDom[1:]):\n",
    "    z0PhyNichtLin = zPhyNichtLin[:, idx]\n",
    "    uPhyNichtLin[idx] = regler.run(z2Soll, z0PhyNichtLin[0]) + buA\n",
    "\n",
    "    resPhyNichtLin = solve_ivp(nonLinSys,\n",
    "                               [timeDom[idx], timeDom[idx + 1]],\n",
    "                               z0PhyNichtLin,\n",
    "                               args=(uPhyNichtLin[idx], ))\n",
    "    zPhyNichtLin[:, idx + 1] = resPhyNichtLin.y.T[-1, :]"
   ]
  },
  {
   "cell_type": "code",
   "execution_count": null,
   "metadata": {},
   "outputs": [],
   "source": [
    "regler.reset()\n",
    "\n",
    "zMessung = np.zeros((2, len(timeDom)))\n",
    "zMessung[:, 0] = z0 - np.array([bz2Messung, 0])\n",
    "uMessung = np.zeros((len(timeDom),))\n",
    "                   \n",
    "for idx, _t in enumerate(timeDom[1:]):\n",
    "    z0Messung = zMessung[:, idx]\n",
    "    uMessung[idx] = regler.run(z2Soll - bz2Messung, z0Messung[0]) + buA\n",
    "\n",
    "    resMessung = solve_ivp(linSys,\n",
    "                           [timeDom[idx], timeDom[idx + 1]],\n",
    "                           z0Messung,\n",
    "                           args=(uMessung[idx], T1Messung, T2Messung, KMessung, buA))\n",
    "    zMessung[:, idx + 1] = resMessung.y.T[-1, :]"
   ]
  },
  {
   "cell_type": "code",
   "execution_count": null,
   "metadata": {},
   "outputs": [],
   "source": [
    "plt.close()\n",
    "\n",
    "fig1, (axes10, axes20, axes30) = plt.subplots(3, 1, figsize=(12,7), sharex=True)\n",
    "\n",
    "axes10.plot(timeDom, zPhyNichtLin[0, :], label='physikalisch nichtlinear')\n",
    "axes10.plot(timeDom, np.ones(len(timeDom)) * z2Soll, color='r', linewidth=0.8)\n",
    "axes20.plot(timeDom, zPhyLin[0, :] + bz2Phy, label='physikalisch linearisiert')\n",
    "axes20.plot(timeDom, np.ones(len(timeDom)) * z2Soll, color='r', linewidth=0.8)\n",
    "axes30.plot(timeDom, zMessung[0, :] + bz2Messung, label='identifiziert')\n",
    "axes30.plot(timeDom, np.ones(len(timeDom)) * z2Soll, color='r', linewidth=0.8)\n",
    "\n",
    "axes11 = axes10.twinx()\n",
    "axes21 = axes20.twinx()\n",
    "axes31 = axes30.twinx()\n",
    "\n",
    "axes11.plot(timeDom[:-1:], uPhyNichtLin[:-1:], color='C4')\n",
    "axes11.tick_params(axis='y', labelcolor='C4')\n",
    "\n",
    "axes21.plot(timeDom[:-1:], uPhyLin[:-1:], color='C4')\n",
    "axes21.tick_params(axis='y', labelcolor='C4')\n",
    "\n",
    "axes31.plot(timeDom[:-1:], uMessung[:-1:], color='C4')\n",
    "axes31.tick_params(axis='y', labelcolor='C4')\n",
    "\n",
    "axes10.set_ylabel(r'$z_2$ in m')\n",
    "axes11.set_ylabel(r'$u_{\\mathrm{A}}$ in V', color='C4')\n",
    "axes20.set_ylabel(r'$z_2$ in m')\n",
    "axes21.set_ylabel(r'$u_{\\mathrm{A}}$ in , color='C4')', color='C4')\n",
    "axes30.set_ylabel(r'$z_2$ in m')\n",
    "axes31.set_ylabel(r'$u_{\\mathrm{A}}$ in V', color='C4')\n",
    "axes30.set_xlabel(r'$t$ in s')\n",
    "\n",
    "axes10.title.set_text('physikalisch nichtlinear')\n",
    "axes20.title.set_text('physikalisch linearisiert')\n",
    "axes30.title.set_text('identifiziert')\n",
    "\n",
    "axes10.grid()\n",
    "axes20.grid()\n",
    "axes30.grid()\n",
    "plt.show()"
   ]
  },
  {
   "cell_type": "markdown",
   "metadata": {},
   "source": [
    "**Regler mit Steuerung**"
   ]
  },
  {
   "cell_type": "code",
   "execution_count": null,
   "metadata": {},
   "outputs": [],
   "source": [
    "regler.reset()\n",
    "\n",
    "zPhyLin = np.zeros((2, len(timeDom)))\n",
    "zPhyLin[:, 0] = z0 - np.array([bz2Phy, 0])\n",
    "uPhyLin = np.zeros((len(timeDom),))\n",
    "                   \n",
    "for idx, _t in enumerate(timeDom[1:]):\n",
    "    z0PhyLin = zPhyLin[:, idx]\n",
    "    z2r, uSteuerung = steuerung.run(_t)\n",
    "    uRegler = regler.run(z2r, z0PhyLin[0])\n",
    "    uPhyLin[idx] = uSteuerung + uRegler + buA\n",
    "    \n",
    "    resPhyLin = solve_ivp(linSys,\n",
    "                          [timeDom[idx], timeDom[idx + 1]],\n",
    "                          z0PhyLin,\n",
    "                          args=(uPhyLin[idx], T1Phy, T2Phy, KPhy, buA))\n",
    "    zPhyLin[:, idx + 1] = resPhyLin.y.T[-1, :]"
   ]
  },
  {
   "cell_type": "code",
   "execution_count": null,
   "metadata": {},
   "outputs": [],
   "source": [
    "regler.reset()\n",
    "\n",
    "zPhyNichtLin = np.zeros((2, len(timeDom)))\n",
    "uPhyNichtLin = np.zeros((len(timeDom),))\n",
    "                   \n",
    "for idx, _t in enumerate(timeDom[1:]):\n",
    "    z0PhyNichtLin = zPhyNichtLin[:, idx]\n",
    "    z2r, uSteuerung = steuerung.run(_t)\n",
    "    uRegler = regler.run(z2r, z0PhyNichtLin[0] - bz2Messung)\n",
    "    uPhyNichtLin[idx] = uSteuerung + uRegler + buA\n",
    "\n",
    "    resPhyNichtLin = solve_ivp(nonLinSys,\n",
    "                               [timeDom[idx], timeDom[idx + 1]],\n",
    "                               z0PhyNichtLin,\n",
    "                               args=(uPhyNichtLin[idx], ))\n",
    "    zPhyNichtLin[:, idx + 1] = resPhyNichtLin.y.T[-1, :]"
   ]
  },
  {
   "cell_type": "code",
   "execution_count": null,
   "metadata": {},
   "outputs": [],
   "source": [
    "regler.reset()\n",
    "\n",
    "zMessung = np.zeros((2, len(timeDom)))\n",
    "zMessung[:, 0] = z0 - np.array([bz2Messung, 0])\n",
    "uMessung = np.zeros((len(timeDom),))\n",
    "                   \n",
    "for idx, _t in enumerate(timeDom[1:]):\n",
    "    z0Messung = zMessung[:, idx]\n",
    "    z2r, uSteuerung = steuerung.run(_t)\n",
    "    uRegler = regler.run(z2r, z0Messung[0])\n",
    "    uMessung[idx] = uSteuerung + uRegler + buA\n",
    "\n",
    "    resMessung = solve_ivp(linSys,\n",
    "                           [timeDom[idx], timeDom[idx + 1]],\n",
    "                           z0Messung,\n",
    "                           args=(uMessung[idx], T1Messung, T2Messung, KMessung, buA))\n",
    "    zMessung[:, idx + 1] = resMessung.y.T[-1, :]"
   ]
  },
  {
   "cell_type": "code",
   "execution_count": null,
   "metadata": {},
   "outputs": [],
   "source": [
    "plt.close()\n",
    "\n",
    "fig1, (axes10, axes20, axes30) = plt.subplots(3, 1, figsize=(12,7), sharex=True)\n",
    "\n",
    "axes10.plot(timeDom, zPhyNichtLin[0, :], label='physikalisch nichtlinear')\n",
    "axes10.plot(timeDom, np.ones(len(timeDom)) * z2Soll, color='r', linewidth=0.8)\n",
    "axes20.plot(timeDom, zPhyLin[0, :] + bz2Phy, label='physikalisch linearisiert')\n",
    "axes20.plot(timeDom, np.ones(len(timeDom)) * z2Soll, color='r', linewidth=0.8)\n",
    "axes30.plot(timeDom, zMessung[0, :] + bz2Messung, label='identifiziert')\n",
    "axes30.plot(timeDom, np.ones(len(timeDom)) * z2Soll, color='r', linewidth=0.8)\n",
    "\n",
    "axes11 = axes10.twinx()\n",
    "axes21 = axes20.twinx()\n",
    "axes31 = axes30.twinx()\n",
    "\n",
    "axes11.plot(timeDom[:-1:], uPhyNichtLin[:-1:], color='C4')\n",
    "axes11.tick_params(axis='y', labelcolor='C4')\n",
    "\n",
    "axes21.plot(timeDom[:-1:], uPhyLin[:-1:], color='C4')\n",
    "axes21.tick_params(axis='y', labelcolor='C4')\n",
    "\n",
    "axes31.plot(timeDom[:-1:], uMessung[:-1:], color='C4')\n",
    "axes31.tick_params(axis='y', labelcolor='C4')\n",
    "\n",
    "axes10.set_ylabel(r'$z_2$ in m')\n",
    "axes11.set_ylabel(r'$u_{\\mathrm{A}}$ in V', color='C4')\n",
    "axes20.set_ylabel(r'$z_2$ in m')\n",
    "axes21.set_ylabel(r'$u_{\\mathrm{A}}$ in V', color='C4')\n",
    "axes30.set_ylabel(r'$z_2$ in m')\n",
    "axes31.set_ylabel(r'$u_{\\mathrm{A}}$ in V', color='C4')\n",
    "axes30.set_xlabel(r'$t$ in s')\n",
    "\n",
    "axes10.title.set_text('physikalisch nichtlinear')\n",
    "axes20.title.set_text('physikalisch linearisiert')\n",
    "axes30.title.set_text('identifiziert')\n",
    "\n",
    "axes10.grid()\n",
    "axes20.grid()\n",
    "axes30.grid()\n",
    "plt.show()"
   ]
  }
 ],
 "metadata": {
  "kernelspec": {
   "display_name": "Python 3 (ipykernel)",
   "language": "python",
   "name": "python3"
  },
  "language_info": {
   "codemirror_mode": {
    "name": "ipython",
    "version": 3
   },
   "file_extension": ".py",
   "mimetype": "text/x-python",
   "name": "python",
   "nbconvert_exporter": "python",
   "pygments_lexer": "ipython3",
   "version": "3.11.6"
  },
  "latex_envs": {
   "LaTeX_envs_menu_present": true,
   "autoclose": false,
   "autocomplete": true,
   "bibliofile": "sources.bib",
   "cite_by": "apalike",
   "current_citInitial": 1,
   "eqLabelWithNumbers": true,
   "eqNumInitial": 1,
   "hotkeys": {
    "equation": "Ctrl-E",
    "itemize": "Ctrl-I"
   },
   "labels_anchors": false,
   "latex_user_defs": false,
   "report_style_numbering": false,
   "user_envs_cfg": false
  }
 },
 "nbformat": 4,
 "nbformat_minor": 4
}
