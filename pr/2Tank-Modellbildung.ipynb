{
 "cells": [
  {
   "cell_type": "markdown",
   "metadata": {},
   "source": [
    "# Modellbildung"
   ]
  },
  {
   "cell_type": "code",
   "execution_count": null,
   "metadata": {},
   "outputs": [],
   "source": [
    "import matplotlib.pyplot as plt\n",
    "import numpy as np\n",
    "import pandas as pd\n",
    "from IPython.display import display, Image, Markdown\n",
    "from scipy.optimize import leastsq\n",
    "from scipy.integrate import solve_ivp\n",
    "from scipy.interpolate import interp1d"
   ]
  },
  {
   "cell_type": "code",
   "execution_count": null,
   "metadata": {},
   "outputs": [],
   "source": [
    "imag = Image(\"../images/zweitank.png\", width=600)\n",
    "display(imag)"
   ]
  },
  {
   "cell_type": "markdown",
   "metadata": {},
   "source": [
    "Ziel ist die Erarbeitung eines linearen Modells, welches das Eingangs-Ausgangsverhaltens für den verwendeten Prüfstand abbildet um dann für den Steuerungs- und Reglerentwurf als Basis zu dienen.\n",
    "Aus der Übung ist das Systemverhalten für den nichtlinearen Tanksystem bekannt.\n",
    "Ebenso wurde das linearisierte Modell des Tanksystems als System zweiter Ordnung der Form\n",
    "\\begin{align*}\n",
    "    T_1T_2\\ddot{\\tilde{z}}_2(t) + (T_1 + T_2)\\dot{\\tilde{z}}_2(t) + \\tilde{z}_2(t) & = K \\tilde{u}_{\\text{A}}(t)\n",
    "\\end{align*}\n",
    "identifiziert.\n",
    "\n",
    "Nachfolgend sollen nun die Zeitkonstanten $T_1$, $T_2$, die Verstärkung $K$ und die Ruhelagenhöhe $\\bar{z}_2$ für die Ruhelagenspannung $\\bar{u}_{\\text{A}} = 9\\, \\text{V}$ aus einer Messung ermittelt werden."
   ]
  },
  {
   "cell_type": "markdown",
   "metadata": {},
   "source": [
    "### Messdaten einlesen"
   ]
  },
  {
   "cell_type": "code",
   "execution_count": null,
   "metadata": {},
   "outputs": [],
   "source": [
    "messung = pd.read_csv('../../python/data/aufbau1_tank1tank2.csv')\n",
    "messung.bfill(inplace=True)"
   ]
  },
  {
   "cell_type": "code",
   "execution_count": null,
   "metadata": {},
   "outputs": [],
   "source": [
    "plt.close()\n",
    "\n",
    "fig1, axes10 = plt.subplots(1, 1, figsize=(12,7))\n",
    "\n",
    "axes10.plot(messung['time'], messung['HeightT1'], label=r'Tank 1')\n",
    "axes10.plot(messung['time'], messung['HeightT2'], label=r'Tank 2')\n",
    "\n",
    "axes11 = axes10.twinx() \n",
    "\n",
    "axes11.plot(messung['time'], messung['Traj y'], color='C4')\n",
    "axes11.tick_params(axis='y', labelcolor='C4')\n",
    "\n",
    "axes10.set_ylabel(r'$z$ in m')\n",
    "axes11.set_ylabel(r'$u_{\\mathrm{A}}$ in V', color='C4')\n",
    "axes10.set_xlabel(r'$t$ in s')\n",
    "\n",
    "handlesAx1, labelsAx1 = axes10.get_legend_handles_labels()\n",
    "axes10.legend([handle for i, handle in enumerate(handlesAx1)],\n",
    "              [label for i, label in enumerate(labelsAx1)],\n",
    "              bbox_to_anchor=(0., 1.02, 1., .102), loc=3,\n",
    "              ncol=9, mode=\"expand\", borderaxespad=0., framealpha=0.5)\n",
    "\n",
    "axes10.grid()\n",
    "plt.show()"
   ]
  },
  {
   "cell_type": "markdown",
   "metadata": {},
   "source": [
    "### 1. Bestimmung Ruhelagenhöhe für Tank 1 und Tank 2\n",
    "\n",
    "* Auswahl des Zeitfensters in Zehntelsekunden"
   ]
  },
  {
   "cell_type": "code",
   "execution_count": null,
   "metadata": {},
   "outputs": [],
   "source": [
    "dt = messung['time'][2] - messung['time'][1]"
   ]
  },
  {
   "cell_type": "code",
   "execution_count": null,
   "metadata": {},
   "outputs": [],
   "source": [
    "startZeit = 400\n",
    "endZeit = 475\n",
    "startIdx = int(startZeit / dt)\n",
    "endIdx = int(endZeit / dt)\n",
    "rlZeit = messung['time'][startIdx:endIdx]\n",
    "rlHoeheT1 = messung['HeightT1'][startIdx:endIdx]\n",
    "rlHoeheT2 = messung['HeightT2'][startIdx:endIdx]\n",
    "rlUa = messung['Traj y'][startIdx:endIdx]"
   ]
  },
  {
   "cell_type": "code",
   "execution_count": null,
   "metadata": {},
   "outputs": [],
   "source": [
    "buAMessung = np.mean(rlUa)\n",
    "bz1Messung = np.mean(rlHoeheT1)\n",
    "bz2Messung = np.mean(rlHoeheT2)\n",
    "\n",
    "display(Markdown(rf\"\"\"\n",
    "$\\bar{{u}}_\\text{{A}} = {buAMessung}$, &nbsp; $\\bar{{z}}_{{1}} = {bz1Messung}$, &nbsp; $\\bar{{z}}_{{2}} = {bz2Messung}$\n",
    "\"\"\"))"
   ]
  },
  {
   "cell_type": "markdown",
   "metadata": {},
   "source": [
    "### 2. Bestimmung der Zeitkonstanten $T_1$ und $T_2$\n",
    "\n",
    "* Auswahl des Zeitfensters in Zehntelsekunden\n",
    "* Bestimmung der Zeitkonstanten aus Übergang $z_2=0\\, \\text{m}$ auf $z_2 = \\bar{z}_2$ als Anfangswertüberführung:\n",
    "  \\begin{align*}\n",
    "      z_2(t) & = \\left(\\frac{T_1}{T_1 - T_2} e^{-\\frac{t}{T_1}} - \\frac{T_2}{T_1 - T_2} e^{-\\frac{t}{T_2}}\\right) z_{2,0} + \\frac{T_1 T_2}{T_1 - T_2} \\left(e^{-\\frac{t}{T_1}} - e^{-\\frac{t}{T_2}} \\right) \\dot{z}_{2,0}\n",
    "  \\end{align*}"
   ]
  },
  {
   "cell_type": "code",
   "execution_count": null,
   "metadata": {},
   "outputs": [],
   "source": [
    "def pt2Analytisch(T1, T2, time, zS, dzS):\n",
    "    height = np.zeros(len(time))\n",
    "    for idx, t in enumerate(time):\n",
    "        height[idx] = (T1 / (T1 - T2) * np.exp(-t / T1) - T2 / (T1 - T2) * np.exp(-t / T2)) * zS + \\\n",
    "                       T1 * T2 / (T1 - T2) * (np.exp(-t / T1) - np.exp(-t / T2)) * dzS\n",
    "    return height"
   ]
  },
  {
   "cell_type": "markdown",
   "metadata": {},
   "source": [
    "* Verwendung der Methode der kleinsten Quadrate (Least Squares) als Optimierungsmethode"
   ]
  },
  {
   "cell_type": "code",
   "execution_count": null,
   "metadata": {},
   "outputs": [],
   "source": [
    "def pt2Residual(params, time, measHeight, zS, dzS, z0):\n",
    "    T1, T2 = params[0], params[1]\n",
    "    height = pt2Analytisch(T1, T2, time, zS, dzS)\n",
    "    return height + z0 - measHeight"
   ]
  },
  {
   "cell_type": "code",
   "execution_count": null,
   "metadata": {},
   "outputs": [],
   "source": [
    "startZeit = 0\n",
    "endZeit = 400\n",
    "startIdx = int(startZeit / dt)\n",
    "endIdx = int(endZeit / dt)\n",
    "TZeit = messung['time'][startIdx:endIdx]\n",
    "THoeheT2 = messung['HeightT2'][startIdx:endIdx]\n",
    "\n",
    "pOpt = leastsq(pt2Residual, \n",
    "               x0=[1, 10], \n",
    "               args=(TZeit, \n",
    "                     THoeheT2, \n",
    "                     THoeheT2[0] - bz2Messung, \n",
    "                     THoeheT2[10] - THoeheT2[0], \n",
    "                     bz2Messung))\n",
    "T1Messung = pOpt[0][0]\n",
    "T2Messung = pOpt[0][1]\n",
    "\n",
    "display(Markdown(rf\"\"\"\n",
    "$T_1 = {T1Messung}$, &nbsp; $T_2 = {T2Messung}$\n",
    "\"\"\")) "
   ]
  },
  {
   "cell_type": "markdown",
   "metadata": {},
   "source": [
    "### 3. Bestimmung der Verstärkung $K$\n",
    "\n",
    "* Auswahl des Zeitfensters in Zehntelsekunden\n",
    "* Berechnung der Verstärkung $K$ aus stationären Verhalten $\\ddot{\\tilde{z}}_2 = \\dot{\\tilde{z}}_2 = 0$:\n",
    "  \\begin{align*}\n",
    "      K & = \\frac{\\tilde{z}_2}{\\tilde{u}_{\\text{A}}} = \\frac{\\tilde{z}_{2,0} - \\bar{z}_2}{\\tilde{u}_{\\text{A},0} - \\bar{u}_{\\text{A}}}\n",
    "  \\end{align*}"
   ]
  },
  {
   "cell_type": "code",
   "execution_count": null,
   "metadata": {},
   "outputs": [],
   "source": [
    "startZeit = 800\n",
    "endZeit = 875\n",
    "startIdx = int(startZeit / dt)\n",
    "endIdx = int(endZeit / dt)\n",
    "kZeit = messung['time'][startIdx:endIdx]\n",
    "kHoeheT2 = messung['HeightT2'][startIdx:endIdx]\n",
    "kUa = messung['Traj y'][startIdx:endIdx]"
   ]
  },
  {
   "cell_type": "code",
   "execution_count": null,
   "metadata": {},
   "outputs": [],
   "source": [
    "KMessung = (np.mean(kHoeheT2) - bz2Messung) / (np.mean(kUa) - buAMessung)\n",
    "\n",
    "display(Markdown(rf\"\"\"\n",
    "$K = {KMessung}$\n",
    "\"\"\"))"
   ]
  },
  {
   "cell_type": "markdown",
   "metadata": {},
   "source": [
    "### 4. Vergleich identifizierte Parameter mit physikalischen Parametern"
   ]
  },
  {
   "cell_type": "code",
   "execution_count": null,
   "metadata": {},
   "outputs": [],
   "source": [
    "KPhy = 0.147763421835044\n",
    "T1Phy = 34.567259359529\n",
    "T2Phy = 68.2115206317666\n",
    "bz1Phy = 0.0423458650804235\n",
    "bz2Phy = 0.137092448385557\n",
    "buAPhy = 9\n",
    "    \n",
    "display(Markdown(rf\"\"\"\n",
    "|                     | Messung     | Physikalisch  |\n",
    "| :---                |    :----:   |          ---: |\n",
    "| $K$                 | {KMessung}  | {KPhy}        |\n",
    "| $T_1$               | {T1Messung} | {T1Phy}       |\n",
    "| $T_2$               | {T2Messung} | {T2Phy}       |\n",
    "| $\\bar{{z}}_{{1}}$   | {bz1Messung}| {bz1Phy}      |\n",
    "| $\\bar{{z}}_{{2}}$   | {bz2Messung}| {bz2Phy}      |\n",
    "\"\"\"))"
   ]
  },
  {
   "cell_type": "markdown",
   "metadata": {},
   "source": [
    "#### Simulation\n",
    "Definition nichtlineares Modell"
   ]
  },
  {
   "cell_type": "code",
   "execution_count": null,
   "metadata": {},
   "outputs": [],
   "source": [
    "def nonLinSys(t, z, uA):\n",
    "    z1 = z[0]\n",
    "    z2 = z[1]\n",
    "        \n",
    "    hV1 = 0.055\n",
    "    hV2 = 0.055\n",
    "    \n",
    "    dz = np.zeros(2)\n",
    "    dz[0] = 0.00216625315586689 * (uA(t) - 6.4) - 0.0127646468529449 * np.sqrt(2) * np.sqrt(hV1 + z1)\n",
    "    dz[1] = 0.0127646468529449 * np.sqrt(2) * np.sqrt(hV1 + z1) - 0.00908683019582126 * np.sqrt(2) * np.sqrt(hV2 + z2)\n",
    "\n",
    "    return dz"
   ]
  },
  {
   "cell_type": "markdown",
   "metadata": {},
   "source": [
    "Definition linearisiertes Modell"
   ]
  },
  {
   "cell_type": "code",
   "execution_count": null,
   "metadata": {},
   "outputs": [],
   "source": [
    "def linSys(t, x, uA, A, B, buA):\n",
    "    dx = A.dot(x) + B.dot(np.array([uA(t) - buA]))\n",
    "    return dx"
   ]
  },
  {
   "cell_type": "code",
   "execution_count": null,
   "metadata": {},
   "outputs": [],
   "source": [
    "APhy = np.array([[0, 1],\n",
    "                 [-1 / (T1Phy * T2Phy), - (T1Phy + T2Phy) / (T1Phy * T2Phy)]])\n",
    "BPhy = np.array([[0],\n",
    "                 [KPhy / (T1Phy * T2Phy)]])\n",
    "\n",
    "AMessung = np.array([[0, 1],\n",
    "                     [-1 / (T1Messung * T2Messung), - (T1Messung + T2Messung) / (T1Messung * T2Messung)]])\n",
    "BMessung = np.array([[0],\n",
    "                     [KMessung / (T1Messung * T2Messung)]])"
   ]
  },
  {
   "cell_type": "code",
   "execution_count": null,
   "metadata": {},
   "outputs": [],
   "source": [
    "timeDom = np.linspace(0, len(messung['time']), len(messung['time'])) / 10\n",
    "z0 = [0, 0]\n",
    "uA = interp1d(messung['time'], messung['Traj y'], fill_value=\"extrapolate\")\n",
    "\n",
    "resPhyLin = solve_ivp(linSys, [timeDom[0], timeDom[-1]], z0 - np.array([bz2Phy, 0]), t_eval=timeDom, args=(uA, APhy, BPhy, buAPhy))\n",
    "resPhyNichtLin = solve_ivp(nonLinSys, [timeDom[0], timeDom[-1]], z0, t_eval=timeDom, args=(uA, ))\n",
    "resMessung = solve_ivp(linSys, [timeDom[0], timeDom[-1]], z0 - np.array([bz2Messung, 0]), t_eval=timeDom, args=(uA, AMessung, BMessung, buAMessung))"
   ]
  },
  {
   "cell_type": "code",
   "execution_count": null,
   "metadata": {},
   "outputs": [],
   "source": [
    "plt.close()\n",
    "\n",
    "fig1, axes10 = plt.subplots(1, 1, figsize=(12,7))\n",
    "\n",
    "axes10.plot(messung['time'], messung['HeightT2'], label=r'Messung')\n",
    "axes10.plot(timeDom, resPhyNichtLin.y[1], label='physikalisch nichtlinear')\n",
    "axes10.plot(timeDom, resPhyLin.y[0] + bz2Phy, label='physikalisch linearisiert')\n",
    "axes10.plot(timeDom, resMessung.y[0] + bz2Messung, label=r'identifiziert')\n",
    "\n",
    "axes11 = axes10.twinx() \n",
    "\n",
    "axes11.plot(messung['time'], messung['Traj y'], color='C4')\n",
    "axes11.tick_params(axis='y', labelcolor='C4')\n",
    "\n",
    "axes10.set_ylabel(r'$z_2$ in m')\n",
    "axes11.set_ylabel(r'$u_{\\mathrm{A}}$ in V', color='C4')\n",
    "axes10.set_xlabel(r'$t$ in s')\n",
    "\n",
    "handlesAx1, labelsAx1 = axes10.get_legend_handles_labels()\n",
    "axes10.legend([handle for i, handle in enumerate(handlesAx1)],\n",
    "              [label for i, label in enumerate(labelsAx1)],\n",
    "              bbox_to_anchor=(0., 1.02, 1., .102), loc=3,\n",
    "              ncol=9, mode=\"expand\", borderaxespad=0., framealpha=0.5)\n",
    "\n",
    "axes10.grid()\n",
    "plt.show()"
   ]
  },
  {
   "cell_type": "markdown",
   "metadata": {},
   "source": [
    "### 5. Bestimmung des allgemeinen Modells"
   ]
  },
  {
   "cell_type": "markdown",
   "metadata": {},
   "source": [
    "Nachdem die Parameter der Differentialgleichung\n",
    "\\begin{align*}\n",
    "    T_1T_2\\ddot{\\tilde{z}}_2(t) + (T_1 + T_2)\\dot{\\tilde{z}}_2(t) + \\tilde{z}_2(t) & = K \\tilde{u}_{\\text{A}}(t)\n",
    "\\end{align*}\n",
    "bestimmt worden, kann auch auf die lineare Ausgangsform\n",
    "\\begin{align*}\n",
    "    \\begin{pmatrix} \\dot{\\tilde{z}}_1(t) \\\\ \\dot{\\tilde{z}}_2(t)\\end{pmatrix} & = \\begin{pmatrix} a_{11} & 0 \\\\ a_{21} & a_{22} \\end{pmatrix} \\begin{pmatrix} \\tilde{z}_1(t) \\\\ \\tilde{z}_2(t)\\end{pmatrix} + \\begin{pmatrix} b_1 \\\\ 0\\end{pmatrix} \\tilde{u}_{\\text{A}}(t)\n",
    "\\end{align*}\n",
    "geschlossen werden.\n",
    "Dazu sind die Parameter durch die Zusammenhänge\n",
    "\\begin{align*}\n",
    "    a_{11} & = \\frac{1}{T_1 T_2 a_{22}}, & \n",
    "    a_{22}^2 + \\frac{T_1 + T_2}{T_1 T_2} a_{22} + \\frac{1}{T_1 T_2} & = 0, &\n",
    "\\end{align*}\n",
    "Zur Bestimmung von $a_{21}$ und $b_1$ wird auf stationäre Messungen zurückgegriffen:\n",
    "\\begin{align*}\n",
    "    0 & = a_{11} \\bar{z}_1 + b_1 \\bar{u}_{\\text{A}} & \\rightarrow && b_1 & = -a_{11} \\frac{\\bar{z}_1}{\\bar{u}_{\\text{A}}} \\\\\n",
    "    0 & = a_{21} \\bar{z}_{21} + a_{22} \\bar{z}_{22} & \\rightarrow && a_{21} & = - a_{22} \\frac{\\bar{z}_2}{\\bar{z}_1}\n",
    "\\end{align*}\n"
   ]
  },
  {
   "cell_type": "code",
   "execution_count": null,
   "metadata": {},
   "outputs": [],
   "source": [
    "a22Messung = - (T1Messung + T2Messung) / (2 * T1Messung * T2Messung) + np.sqrt((T1Messung + T2Messung) ** 2 / (2 * T1Messung * T2Messung) ** 2 - 1 / (T1Messung * T2Messung))\n",
    "a11Messung = 1 / (T1Messung * T2Messung * a22Messung)\n",
    "b1Messung = -a11Messung * bz1Messung / buAMessung\n",
    "a21Messung = -a22Messung * bz2Messung / bz1Messung\n",
    "\n",
    "a11Phy = -0.0289291085995319\n",
    "a21Phy = 0.0289291085995319\n",
    "a22Phy = -0.0146602801218639\n",
    "b1Phy = 0.00216625315586689"
   ]
  },
  {
   "cell_type": "code",
   "execution_count": null,
   "metadata": {},
   "outputs": [],
   "source": [
    "display(Markdown(rf\"\"\"\n",
    "|                     | Messung     | Physikalisch  |\n",
    "| :---                |    :----:   |          ---: |\n",
    "| $a_{{11}}$          | {a11Messung}       | {a11Phy} |\n",
    "| $a_{{21}}$          | {a21Messung}       | {a21Phy} |\n",
    "| $a_{{22}}$          | {a22Messung}       | {a22Phy} |\n",
    "| $b_1$               | {b1Messung}        | {b1Phy} |\n",
    "\"\"\"))"
   ]
  },
  {
   "cell_type": "markdown",
   "metadata": {},
   "source": [
    "### 6. Vergleich Eingangs-Ausgangs- und allgemeines Modell"
   ]
  },
  {
   "cell_type": "code",
   "execution_count": null,
   "metadata": {},
   "outputs": [],
   "source": [
    "AEAMessung = np.array([[0, 1],\n",
    "                     [-1 / (T1Messung * T2Messung), - (T1Messung + T2Messung) / (T1Messung * T2Messung)]])\n",
    "BEAMessung = np.array([[0],\n",
    "                     [KMessung / (T1Messung * T2Messung)]])\n",
    "\n",
    "AGenMessung = np.array([[a11Phy, 0],\n",
    "                        [a21Phy, a22Phy]])\n",
    "BGenMessung = np.array([[b1Phy],\n",
    "                        [0]])"
   ]
  },
  {
   "cell_type": "code",
   "execution_count": null,
   "metadata": {},
   "outputs": [],
   "source": [
    "timeDom = np.linspace(0, len(messung['time']), len(messung['time'])) / 10\n",
    "z0 = [0, 0]\n",
    "uA = interp1d(messung['time'], messung['Traj y'], fill_value=\"extrapolate\")\n",
    "\n",
    "resEAMessung = solve_ivp(linSys, [timeDom[0], timeDom[-1]], z0 - np.array([bz2Messung, 0]), t_eval=timeDom, args=(uA, AEAMessung, BEAMessung, buAMessung))\n",
    "resGenMessung = solve_ivp(linSys, [timeDom[0], timeDom[-1]], z0 - np.array([bz1Messung, bz2Messung]), t_eval=timeDom, args=(uA, AGenMessung, BGenMessung, buAMessung))"
   ]
  },
  {
   "cell_type": "code",
   "execution_count": null,
   "metadata": {},
   "outputs": [],
   "source": [
    "plt.close()\n",
    "\n",
    "fig1, axes10 = plt.subplots(1, 1, figsize=(12,7))\n",
    "\n",
    "axes10.plot(messung['time'], messung['HeightT1'], label=r'$z_1$ - Messung')\n",
    "axes10.plot(messung['time'], messung['HeightT2'], label=r'$z_2$ - Messung')\n",
    "axes10.plot(timeDom, resEAMessung.y[0] + bz2Messung, label=r'$z_2$ - identifiziert Eingangs-Ausgangsdarstellung')\n",
    "axes10.plot(timeDom, resGenMessung.y[0] + bz1Messung, label=r'$z_1$ - identifiziert allgemeine Darstellung')\n",
    "axes10.plot(timeDom, resGenMessung.y[1] + bz2Messung, label=r'$z_2$ - identifiziert allgemeine Darstellung')\n",
    "\n",
    "axes11 = axes10.twinx() \n",
    "\n",
    "axes11.plot(messung['time'], messung['Traj y'], color='C6')\n",
    "axes11.tick_params(axis='y', labelcolor='C6')\n",
    "\n",
    "axes10.set_ylabel(r'$z_i$ in m')\n",
    "axes11.set_ylabel(r'$u_{\\mathrm{A}}$ in V', color='C4')\n",
    "axes10.set_xlabel(r'$t$ in s')\n",
    "\n",
    "handlesAx1, labelsAx1 = axes10.get_legend_handles_labels()\n",
    "axes10.legend([handle for i, handle in enumerate(handlesAx1)],\n",
    "              [label for i, label in enumerate(labelsAx1)],\n",
    "              bbox_to_anchor=(0., 1.02, 1., .102), loc=3,\n",
    "              ncol=3, mode=\"expand\", borderaxespad=0., framealpha=0.5)\n",
    "\n",
    "axes10.grid()\n",
    "plt.show()"
   ]
  },
  {
   "cell_type": "code",
   "execution_count": null,
   "metadata": {},
   "outputs": [],
   "source": []
  }
 ],
 "metadata": {
  "kernelspec": {
   "display_name": "Python 3 (ipykernel)",
   "language": "python",
   "name": "python3"
  },
  "language_info": {
   "codemirror_mode": {
    "name": "ipython",
    "version": 3
   },
   "file_extension": ".py",
   "mimetype": "text/x-python",
   "name": "python",
   "nbconvert_exporter": "python",
   "pygments_lexer": "ipython3",
   "version": "3.11.6"
  },
  "latex_envs": {
   "LaTeX_envs_menu_present": true,
   "autoclose": false,
   "autocomplete": true,
   "bibliofile": "sources.bib",
   "cite_by": "apalike",
   "current_citInitial": 1,
   "eqLabelWithNumbers": true,
   "eqNumInitial": 1,
   "hotkeys": {
    "equation": "Ctrl-E",
    "itemize": "Ctrl-I"
   },
   "labels_anchors": false,
   "latex_user_defs": false,
   "report_style_numbering": false,
   "user_envs_cfg": false
  }
 },
 "nbformat": 4,
 "nbformat_minor": 4
}
