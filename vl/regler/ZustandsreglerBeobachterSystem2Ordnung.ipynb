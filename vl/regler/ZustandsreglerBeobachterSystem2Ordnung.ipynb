{
 "cells": [
  {
   "cell_type": "code",
   "execution_count": null,
   "id": "553332c3-1617-4848-b72e-a9d232e46802",
   "metadata": {},
   "outputs": [],
   "source": [
    "%matplotlib widget\n",
    "\n",
    "import ipywidgets as widgets\n",
    "from ipywidgets import HBox, VBox, jslink, Box, Layout\n",
    "import numpy as np\n",
    "import sympy as sp\n",
    "import matplotlib.pyplot as plt\n",
    "import matplotlib.dates as mdates\n",
    "from IPython.display import display, Latex, Markdown, Image, Math\n",
    "from scipy.integrate import solve_ivp\n",
    "from scipy.signal import place_poles\n",
    "import control.matlab as control"
   ]
  },
  {
   "cell_type": "code",
   "execution_count": null,
   "id": "e981141b-7bcc-4c8e-8dee-bced17d9b2f5",
   "metadata": {},
   "outputs": [],
   "source": [
    "def make_box_layout():\n",
    "     return widgets.Layout(\n",
    "        border='solid 1px black',\n",
    "        margin='0px 5px 5px 0px',\n",
    "        padding='2px 2px 2px 2px'\n",
    "     )"
   ]
  },
  {
   "cell_type": "markdown",
   "id": "a779a746-c4d1-4ee2-ab44-b9a45cf4f214",
   "metadata": {},
   "source": [
    "## Zustandsregler mit Beobachter"
   ]
  },
  {
   "cell_type": "code",
   "execution_count": null,
   "id": "54cbb5f1",
   "metadata": {},
   "outputs": [],
   "source": [
    "imag = Image(\"../../images/zweitank.png\", width=800)\n",
    "display(imag)"
   ]
  },
  {
   "cell_type": "markdown",
   "id": "7c040e84",
   "metadata": {},
   "source": [
    "## 2-Tanksystem\n",
    "\n",
    "- lineares Modell in der Form\n",
    "    \\begin{align*}\n",
    "        \\dot{\\tilde{z}}_1(t) & = a_{11} \\tilde{z}_1(t) + b \\tilde{u}_{\\text{A}}(t)\\\\\n",
    "        \\dot{\\tilde{z}}_2(t) & = a_{21} \\tilde{z}_1(t) + a_{22} \\tilde{z}_2(t) \n",
    "    \\end{align*}\n",
    "    mit Ausgang $y(t) = z_2(t)$\n",
    "- Zustandsdarstellung\n",
    "    \\begin{align*}\n",
    "        \\dot{\\mathbf{z}}(t) & = \\begin{pmatrix} a_{11} & 0 \\\\ a_{21} & a_{22} \\end{pmatrix} \\mathbf{z}(t) + \\begin{pmatrix} b\\\\0 \\end{pmatrix} u(t) \\\\\n",
    "        y(t) & = \\begin{pmatrix} 0 & 1 \\end{pmatrix} \\mathbf{z}(t)\n",
    "    \\end{align*}\n",
    "    mit Zustand $\\mathbf{z} = \\begin{pmatrix} \\tilde{z}_1 & \\tilde{z}_2 \\end{pmatrix}^{\\intercal}$ und Eingang $u = \\tilde{u}_{\\text{A}}(t)$"
   ]
  },
  {
   "cell_type": "markdown",
   "id": "fbf983c6-3563-4cfe-b849-d77b0ecf67ed",
   "metadata": {},
   "source": [
    "__Definition Parammeter__"
   ]
  },
  {
   "cell_type": "code",
   "execution_count": null,
   "id": "7b1f1754-a3ac-47ac-ade6-5a05acc460df",
   "metadata": {},
   "outputs": [],
   "source": [
    "tSim = np.linspace(0, 300, 301)"
   ]
  },
  {
   "cell_type": "code",
   "execution_count": null,
   "id": "c642b849",
   "metadata": {},
   "outputs": [],
   "source": [
    "x0 = [0.1, 0.1, 0.2, 0.15]\n",
    "A = np.array([[-0.0289, 0], [0.0289, -0.0146]])\n",
    "b = np.array([[0.0021], [0]])\n",
    "c = np.array([[0], [1]])"
   ]
  },
  {
   "cell_type": "markdown",
   "id": "d0d7247e",
   "metadata": {},
   "source": [
    "## Steuerbarkeit"
   ]
  },
  {
   "cell_type": "code",
   "execution_count": null,
   "id": "9b35eeba",
   "metadata": {},
   "outputs": [],
   "source": [
    "S = np.hstack((b, A.dot(b)))\n",
    "display(Latex(\"$\\\\mathrm{{rang}}\\\\mathcal{{S}} = \\\\mathrm{{rang}}{} = {}$\".format(sp.latex(sp.Matrix(S)), sp.latex(np.linalg.matrix_rank(S)))))"
   ]
  },
  {
   "cell_type": "markdown",
   "id": "1bc8d014",
   "metadata": {},
   "source": [
    "## Beobachtbarkeit"
   ]
  },
  {
   "cell_type": "code",
   "execution_count": null,
   "id": "970d1cc8",
   "metadata": {},
   "outputs": [],
   "source": [
    "B = np.vstack((c.T, c.T @ A))\n",
    "display(Latex(\"$\\\\mathrm{{rang}}\\\\mathcal{{B}} = \\\\mathrm{{rang}}{} = {}$\".format(sp.latex(sp.Matrix(B)), sp.latex(np.linalg.matrix_rank(B)))))"
   ]
  },
  {
   "cell_type": "markdown",
   "id": "102ff211-b65b-40f2-a3cd-66d0d5406c81",
   "metadata": {},
   "source": [
    "## Systemeigenwerte"
   ]
  },
  {
   "cell_type": "code",
   "execution_count": null,
   "id": "2102ee15-6d57-42ae-b419-71ea9aecd371",
   "metadata": {},
   "outputs": [],
   "source": [
    "eigA = np.linalg.eig(A)[0]\n",
    "Math(r's_1 = ' + str(eigA[0]) + r',~s_2 = ' + str(eigA[1]))"
   ]
  },
  {
   "cell_type": "markdown",
   "id": "8706c1df-5a09-4f66-8b62-9429f1c78d27",
   "metadata": {},
   "source": [
    "## Reglerentwurf"
   ]
  },
  {
   "cell_type": "code",
   "execution_count": null,
   "id": "56e28c14-fa8e-45ef-9694-bcd95ac602c5",
   "metadata": {},
   "outputs": [],
   "source": [
    "poles = np.array([-0.05, -0.06])\n",
    "pp = place_poles(A, b, poles)\n",
    "k = pp.gain_matrix[0].reshape((1,2))\n",
    "eigAr = np.linalg.eig(A - b @ k)[0]\n",
    "Math(r'\\mathbf{k}=' + sp.latex(sp.Matrix(k)) + r'\\\\' + 'p_1 = ' + str(eigAr[0]) + r',~p_2 = ' + str(eigAr[1]))"
   ]
  },
  {
   "cell_type": "markdown",
   "id": "922653e4",
   "metadata": {},
   "source": [
    "## Beobachterentwurf"
   ]
  },
  {
   "cell_type": "code",
   "execution_count": null,
   "id": "ac9eb825",
   "metadata": {},
   "outputs": [],
   "source": [
    "poles = np.array([-0.1, -0.12])\n",
    "pp = place_poles(A.T, c, poles)\n",
    "l = pp.gain_matrix[0].reshape((1,2))\n",
    "eigAr = np.linalg.eig(A - l.T @ c.T)[0]\n",
    "Math(r'\\mathbf{l}=' + sp.latex(sp.Matrix(l)) + r'\\\\' + 'p_1 = ' + str(eigAr[0]) + r',~p_2 = ' + str(eigAr[1]))"
   ]
  },
  {
   "cell_type": "markdown",
   "id": "7ef7c201-66dd-4214-9a94-6fa7b24d03dc",
   "metadata": {},
   "source": [
    "## Simulation"
   ]
  },
  {
   "cell_type": "code",
   "execution_count": null,
   "id": "37405a84",
   "metadata": {},
   "outputs": [],
   "source": [
    "def prozess(t, x, A, b, c, k, l):\n",
    "\n",
    "    xBeob = x[0:2]\n",
    "    xSys = x[2::]\n",
    "\n",
    "    u = -k @ xBeob\n",
    "\n",
    "    dxBeob = A @ xBeob + b @ u - l.T * c.T @ (xBeob - xSys)\n",
    "    dxSys = A @ xSys + b @ u\n",
    "\n",
    "    return np.concatenate([dxBeob, dxSys])"
   ]
  },
  {
   "cell_type": "code",
   "execution_count": null,
   "id": "07a563e9",
   "metadata": {},
   "outputs": [],
   "source": [
    "def prozessVorfilter(t, x, yRef, A, b, c, k, l):\n",
    "\n",
    "    xBeob = x[0:2]\n",
    "    xSys = x[2::]\n",
    "    V = 1 / (c.T @ np.linalg.inv(b @ k - A) @ b)\n",
    "\n",
    "    u = V[0] * yRef - k @ xBeob\n",
    "\n",
    "    dxBeob = A @ xBeob + b @ u - l.T * c.T @ (xBeob - xSys)\n",
    "    dxSys = A @ xSys + b @ u\n",
    "\n",
    "    return np.concatenate([dxBeob, dxSys])"
   ]
  },
  {
   "cell_type": "code",
   "execution_count": null,
   "id": "a7ba7aec-d05e-48b7-a1c2-fce825875e7e",
   "metadata": {},
   "outputs": [],
   "source": [
    "res = solve_ivp(prozess, [tSim[0], tSim[-1]], x0,\n",
    "                t_eval=tSim, args=(A, b, c, k, l))"
   ]
  },
  {
   "cell_type": "code",
   "execution_count": null,
   "id": "0cd1b83d",
   "metadata": {},
   "outputs": [],
   "source": [
    "plt.close()\n",
    "\n",
    "fig, axes10 = plt.subplots(1, 1, figsize=(10,6))\n",
    "fig.canvas.toolbar_visible = False\n",
    "fig.canvas.header_visible = False\n",
    "fig.canvas.footer_visible = False\n",
    "\n",
    "axes10.plot(res.t, res.y[2, :], 'C0', label=r\"Höhe $\\tilde{z}_1$\", alpha=0.5)\n",
    "axes10.plot(res.t, res.y[3, :], 'C1', label=r\"Höhe $\\tilde{z}_2$\", alpha=0.5)\n",
    "axes10.plot(res.t, res.y[0, :], 'C0--', label=r\"Höhe $\\hat{\\tilde{z}}_1$\")\n",
    "axes10.plot(res.t, res.y[1, :], 'C1--', label=r\"Höhe $\\hat{\\tilde{z}}_2$\")\n",
    "\n",
    "axes11 = axes10.twinx()\n",
    "axes11.plot(res.t, (k @ res.y[2:4, :]).T, 'C4')\n",
    "axes11.set_ylabel(r\"$\\tilde{u}_{\\mathrm{A}}$ in V\", color='C4')\n",
    "axes11.tick_params(axis='y', colors='C4')\n",
    "\n",
    "axes10.set_xlabel(r\"$t$ in s\")\n",
    "axes10.set_ylabel(r\"$\\tilde{z}_{\\bullet}$ in m\")\n",
    "\n",
    "axes10.grid() \n",
    "\n",
    "handlesAx, labelsAx = axes10.get_legend_handles_labels()\n",
    "fig.legend([handle for i, handle in enumerate(handlesAx)],\n",
    "           [label for i, label in enumerate(labelsAx)],\n",
    "           bbox_to_anchor=(0.125, 0.90, 0.775, .15), loc=3,\n",
    "           ncol=4, mode=\"expand\", borderaxespad=0., framealpha=0.5)\n",
    "plt.show()"
   ]
  },
  {
   "cell_type": "markdown",
   "id": "c34296ce-8d7f-481a-80b2-edc836f01408",
   "metadata": {},
   "source": [
    "## Simulation"
   ]
  },
  {
   "cell_type": "code",
   "execution_count": null,
   "id": "22b49d95-2f49-4c80-b91d-74d94b78c0bc",
   "metadata": {},
   "outputs": [],
   "source": [
    "def prozessVorfilter(t, x, yRef, A, b, c, k, l):\n",
    "\n",
    "    xBeob = x[0:2]\n",
    "    xSys = x[2::]\n",
    "    V = 1 / (c.T @ np.linalg.inv(b @ k - A) @ b)\n",
    "\n",
    "    u = V[0] * yRef - k @ xBeob\n",
    "\n",
    "    dxBeob = A @ xBeob + b @ u - l.T * c.T @ (xBeob - xSys)\n",
    "    dxSys = A @ xSys + b @ u\n",
    "\n",
    "    return np.concatenate([dxBeob, dxSys])"
   ]
  },
  {
   "cell_type": "code",
   "execution_count": null,
   "id": "cb418da9-0c6b-457a-a3e6-d14959290e75",
   "metadata": {},
   "outputs": [],
   "source": [
    "output = widgets.Output()\n",
    "\n",
    "with output:\n",
    "    fig, (ax1, ax2, ax3) = plt.subplots(3, 1, figsize=(10, 6), sharex=True, gridspec_kw={'height_ratios': [1, 1, 1]})\n",
    "\n",
    "plt.subplots_adjust(wspace=0.2, hspace=0.07)\n",
    "fig.canvas.toolbar_visible = False\n",
    "fig.canvas.header_visible = False\n",
    "fig.canvas.footer_visible = False\n",
    "fig.subplots_adjust(bottom=0.1, top=0.93, left=0.125, right=0.9)\n",
    "\n",
    "ax1.set_xlim([0, tSim[-1]])\n",
    "ax2.set_xlim([0, tSim[-1]])\n",
    "ax3.set_xlim([0, tSim[-1]])\n",
    "ax1.set_ylim([-0.01, 0.40]) \n",
    "ax2.set_ylim([-0.25, 0.25]) \n",
    "ax3.set_ylim([-1, 15]) \n",
    "ax1.grid()\n",
    "ax2.grid()\n",
    "ax3.grid()\n",
    "ax1.set_ylabel(r\"$\\tilde{z}_{\\bullet}$ in m\")\n",
    "ax2.set_ylabel(r\"$e$ in m\")\n",
    "ax3.set_ylabel(r\"$\\tilde{u}_{\\mathrm{A}}$ in V\")\n",
    "ax3.set_xlabel(r\"$t$ in s\")\n",
    "\n",
    "ySys, = ax1.plot([], [], 'C0', label=r'Höhe $\\tilde{z}_{1}$')\n",
    "x2Sys, = ax1.plot([], [], 'C3', label=r'Höhe $\\tilde{z}_{2}$')\n",
    "yObs, = ax1.plot([], [], 'C0', linestyle='dashed', label=r'Höhe $\\hat{\\tilde{z}}_{1}$')\n",
    "x2Obs, = ax1.plot([], [], 'C3', linestyle='dashed', label=r'Höhe $\\hat{\\tilde{z}}_{2}$')\n",
    "yRefSys, = ax1.plot([], [], 'C1', label=r'Referenz $y_\\mathrm{r}$')\n",
    "eSys, = ax2.plot([], [], 'C0', label=r'Fehler $e$')\n",
    "uFBSys, = ax3.plot([], [], 'C2', label=r'Regler $u$')\n",
    "\n",
    "handlesAx, labelsAx = ax1.get_legend_handles_labels()\n",
    "\n",
    "fig.legend([handle for i, handle in enumerate(handlesAx)],\n",
    "           [label for i, label in enumerate(labelsAx)],\n",
    "           bbox_to_anchor=(0.13, 0.94, 0.7675, .15), loc=3,\n",
    "           ncol=6, mode=\"expand\", borderaxespad=0., framealpha=0.5)\n",
    "\n",
    "sliderYr = widgets.FloatSlider(value=0.2,\n",
    "                               min=0,\n",
    "                               max=0.3,\n",
    "                               step=0.05,\n",
    "                               description=r'$\\tilde{z}_{2,\\mathrm{r}}$')\n",
    "sliderEig1 = widgets.FloatSlider(value=-0.01,\n",
    "                                 min=-0.1,\n",
    "                                 max=-0.01,\n",
    "                                 step=0.01,\n",
    "                                 description=r'$p_1$')\n",
    "sliderEig2 = widgets.FloatSlider(value=-0.02,\n",
    "                                 min=-0.3,\n",
    "                                 max=-0.02,\n",
    "                                 step=0.01,\n",
    "                                 description=r'$p_2$')\n",
    "sliderEigObs1 = widgets.FloatSlider(value=-0.01,\n",
    "                                    min=-0.2,\n",
    "                                    max=-0.01,\n",
    "                                    step=0.01,\n",
    "                                    description=r'$\\hat{p}_1$')\n",
    "sliderEigObs2 = widgets.FloatSlider(value=-0.02,\n",
    "                                    min=-0.3,\n",
    "                                    max=-0.01,\n",
    "                                    step=0.01,\n",
    "                                    description=r'$\\hat{p}_2$')\n",
    "sliderX01 = widgets.FloatSlider(value=0,\n",
    "                                min=-0,\n",
    "                                max=0.3,\n",
    "                                step=0.05,\n",
    "                                description=r'$\\tilde{z}_1(0)$')\n",
    "sliderX02 = widgets.FloatSlider(value=0,\n",
    "                                min=0,\n",
    "                                max=0.3,\n",
    "                                step=0.05,\n",
    "                                description=r'$\\tilde{z}_2(0)$')\n",
    "sliderX01Obs = widgets.FloatSlider(value=0,\n",
    "                                   min=-0,\n",
    "                                   max=0.3,\n",
    "                                   step=0.05,\n",
    "                                   description=r'$\\hat{\\tilde{z}}_1(0)$')\n",
    "sliderX02Obs = widgets.FloatSlider(value=0,\n",
    "                                   min=0,\n",
    "                                   max=0.3,\n",
    "                                   step=0.05,\n",
    "                                   description=r'$\\hat{\\tilde{z}}_2(0)$')\n",
    "\n",
    "def calcSystem(_):\n",
    "    yr = sliderYr.value\n",
    "    if sliderEig1.value != sliderEig2.value:\n",
    "        p1 = sliderEig1.value\n",
    "        p2 = sliderEig2.value\n",
    "    else:\n",
    "        p1 = sliderEig1.value\n",
    "        p2 = sliderEig2.value + 0.001\n",
    "    pp = place_poles(A, b, np.array([p1, p2]))\n",
    "    k = pp.gain_matrix[0].reshape((1,2))\n",
    "    \n",
    "    if sliderEigObs1.value != sliderEigObs2.value:\n",
    "        hp1 = sliderEigObs1.value\n",
    "        hp2 = sliderEigObs2.value\n",
    "    else:\n",
    "        hp1 = sliderEigObs1.value\n",
    "        hp2 = sliderEigObs2.value + 0.001\n",
    "    pp = place_poles(A.T, c, np.array([hp1, hp2]))\n",
    "    l = pp.gain_matrix[0].reshape((1,2))\n",
    "    \n",
    "    x0 = [sliderX01Obs.value, sliderX02Obs.value, sliderX01.value, sliderX02.value]\n",
    "    res = solve_ivp(prozessVorfilter,\n",
    "                    [tSim[0], tSim[-1]],\n",
    "                    x0,\n",
    "                    t_eval=tSim, args=(yr, A, b, c, k, l))\n",
    "    \n",
    "    V = 1 / (c.T @ np.linalg.inv(b @ k - A) @ b)\n",
    "           \n",
    "    sigFB = [V * yr - k @ res.y.T[idx + 1, 0:2] for idx, t in enumerate(tSim[1:])]\n",
    "    sigE = yr - res.y.T[:, 0]\n",
    "    uFBSys.set_data(tSim[1:], sigFB)\n",
    "    ySys.set_data(tSim, res.y.T[:, 2])\n",
    "    x2Sys.set_data(tSim, res.y.T[:, 3])\n",
    "    yObs.set_data(tSim, res.y.T[:, 0])\n",
    "    x2Obs.set_data(tSim, res.y.T[:, 1])\n",
    "    yRefSys.set_data(tSim[[0, -1]], np.array([yr, yr]))\n",
    "    eSys.set_data(tSim, sigE)\n",
    "    \n",
    "    fig.canvas.draw()\n",
    "\n",
    "sliderYr.observe(calcSystem, names='value')\n",
    "sliderEig1.observe(calcSystem, names='value')\n",
    "sliderEig2.observe(calcSystem, names='value')\n",
    "sliderEigObs1.observe(calcSystem, names='value')\n",
    "sliderEigObs2.observe(calcSystem, names='value')\n",
    "sliderX01.observe(calcSystem, names='value')\n",
    "sliderX02.observe(calcSystem, names='value')\n",
    "sliderX01Obs.observe(calcSystem, names='value')\n",
    "sliderX02Obs.observe(calcSystem, names='value')\n",
    "\n",
    "calcSystem(_)\n",
    "\n",
    "stateContControls = VBox([sliderYr, sliderEig1, sliderEig2])\n",
    "stateContControls.layout = make_box_layout()\n",
    "obsControls = VBox([sliderEigObs1, sliderEigObs2, sliderX01Obs, sliderX02Obs])\n",
    "obsControls.layout = make_box_layout()\n",
    "sysControls = VBox([sliderX01, sliderX02])\n",
    "sysControls.layout = make_box_layout()\n",
    "\n",
    "\n",
    "controls = HBox([sysControls, stateContControls, obsControls])\n",
    "VBox([controls, output], layout=Layout(display='flex', flex_flow='row', justify_content='center', align_items='center'))"
   ]
  },
  {
   "cell_type": "code",
   "execution_count": null,
   "id": "89e286dc-dccd-4053-88cb-36bcc8e0d042",
   "metadata": {},
   "outputs": [],
   "source": []
  }
 ],
 "metadata": {
  "kernelspec": {
   "display_name": "Python 3 (ipykernel)",
   "language": "python",
   "name": "python3"
  },
  "language_info": {
   "codemirror_mode": {
    "name": "ipython",
    "version": 3
   },
   "file_extension": ".py",
   "mimetype": "text/x-python",
   "name": "python",
   "nbconvert_exporter": "python",
   "pygments_lexer": "ipython3",
   "version": "3.11.5"
  },
  "latex_envs": {
   "LaTeX_envs_menu_present": true,
   "autoclose": false,
   "autocomplete": true,
   "bibliofile": "sources.bib",
   "cite_by": "apalike",
   "current_citInitial": 1,
   "eqLabelWithNumbers": true,
   "eqNumInitial": 1,
   "hotkeys": {
    "equation": "Ctrl-E",
    "itemize": "Ctrl-I"
   },
   "labels_anchors": false,
   "latex_user_defs": false,
   "report_style_numbering": false,
   "user_envs_cfg": false
  }
 },
 "nbformat": 4,
 "nbformat_minor": 5
}
