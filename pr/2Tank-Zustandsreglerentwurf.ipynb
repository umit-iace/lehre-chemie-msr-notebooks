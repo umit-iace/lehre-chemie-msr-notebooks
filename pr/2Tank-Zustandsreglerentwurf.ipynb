{
 "cells": [
  {
   "cell_type": "markdown",
   "id": "502d8062-b8e4-4584-9a54-ef81bacd20b3",
   "metadata": {},
   "source": [
    "# Zustandsreglerentwurf"
   ]
  },
  {
   "cell_type": "code",
   "execution_count": null,
   "id": "c1e66b1d-f3b0-4133-8765-3e7d4b300b89",
   "metadata": {},
   "outputs": [],
   "source": [
    "import matplotlib.pyplot as plt\n",
    "import numpy as np\n",
    "import sympy as sp\n",
    "from IPython.display import display, Image, Latex, Markdown\n",
    "from scipy.integrate import solve_ivp"
   ]
  },
  {
   "cell_type": "code",
   "execution_count": null,
   "id": "82d6051b-24be-4158-b009-3d7661939fac",
   "metadata": {},
   "outputs": [],
   "source": [
    "imag = Image(\"../images/zustandsregler_beobachter_vorsteuerung.png\", width=600)\n",
    "display(imag)"
   ]
  },
  {
   "cell_type": "code",
   "execution_count": null,
   "id": "2812cb44-63a5-4147-85f5-c92f0445dc64",
   "metadata": {},
   "outputs": [],
   "source": []
  }
 ],
 "metadata": {
  "kernelspec": {
   "display_name": "Python 3 (ipykernel)",
   "language": "python",
   "name": "python3"
  },
  "language_info": {
   "codemirror_mode": {
    "name": "ipython",
    "version": 3
   },
   "file_extension": ".py",
   "mimetype": "text/x-python",
   "name": "python",
   "nbconvert_exporter": "python",
   "pygments_lexer": "ipython3",
   "version": "3.11.6"
  }
 },
 "nbformat": 4,
 "nbformat_minor": 5
}
