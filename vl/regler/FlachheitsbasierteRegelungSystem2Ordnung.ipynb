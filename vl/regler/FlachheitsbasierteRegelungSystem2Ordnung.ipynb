{
 "cells": [
  {
   "cell_type": "code",
   "execution_count": null,
   "id": "553332c3-1617-4848-b72e-a9d232e46802",
   "metadata": {},
   "outputs": [],
   "source": [
    "import ipywidgets as widgets\n",
    "from ipywidgets import HBox, VBox, jslink, Box, Layout\n",
    "import numpy as np\n",
    "import sympy as sp\n",
    "import matplotlib.pyplot as plt\n",
    "import matplotlib.dates as mdates\n",
    "from IPython.display import display, Latex, Markdown, Image, Math\n",
    "from scipy.integrate import solve_ivp\n",
    "from scipy.signal import place_poles\n",
    "import sympy as sp"
   ]
  },
  {
   "cell_type": "code",
   "execution_count": null,
   "id": "e981141b-7bcc-4c8e-8dee-bced17d9b2f5",
   "metadata": {},
   "outputs": [],
   "source": [
    "def make_box_layout():\n",
    "     return widgets.Layout(\n",
    "        border='solid 1px black',\n",
    "        margin='0px 5px 5px 0px',\n",
    "        padding='2px 2px 2px 2px'\n",
    "     )"
   ]
  },
  {
   "cell_type": "markdown",
   "id": "45c700df",
   "metadata": {},
   "source": [
    "__System__"
   ]
  },
  {
   "cell_type": "code",
   "execution_count": null,
   "id": "34582c66",
   "metadata": {},
   "outputs": [],
   "source": [
    "KU, AT1, AT2, AS1, AS2, g, hV1, hV2, t = sp.symbols('K_U A_{T1} A_{T2} A_{S1} A_{S2} g h_{V1} h_{V2} t')\n",
    "s = sp.symbols('s')"
   ]
  },
  {
   "cell_type": "code",
   "execution_count": null,
   "id": "e9e1416c",
   "metadata": {},
   "outputs": [],
   "source": [
    "z1 = sp.Function('z_1')\n",
    "z2 = sp.Function('z_2')\n",
    "uA = sp.Function('u_A')\n",
    "y = sp.Function('y')\n",
    "z = sp.Matrix([[z1(t)], [z2(t)]])"
   ]
  },
  {
   "cell_type": "code",
   "execution_count": null,
   "id": "b3d935ee",
   "metadata": {},
   "outputs": [],
   "source": [
    "a1 = AS1 * sp.sqrt(2 * g / (AT1**2 - AS1**2))\n",
    "a2 = AS2 * sp.sqrt(2 * g / (AT2**2 - AS2**2))\n",
    "\n",
    "f1 = a1 * sp.sqrt(z1(t) + hV1)\n",
    "f2 = a2 * sp.sqrt(z2(t) + hV2)\n",
    "dz1 = - f1 + KU / AT1 * uA(t)\n",
    "dz2 = - f2 + f1 * AT1 / AT2\n",
    "\n",
    "dz = sp.Matrix([[dz1], [dz2]])\n",
    "display(Latex(\"$\\\\dot{{\\\\mathbf{{z}}}} = {}$\".format(sp.latex(dz))))"
   ]
  },
  {
   "cell_type": "markdown",
   "id": "cdfc2354",
   "metadata": {},
   "source": [
    "__Flacher Ausgang__"
   ]
  },
  {
   "cell_type": "markdown",
   "id": "f7294bd6",
   "metadata": {},
   "source": [
    "\\begin{align*}\n",
    "    y(t) & = z_2(t)\\\\\n",
    "    \\dot{y}(t) & = \\dot{z}_2(t) = f_2(x_1(t), y(t)) \\\\\n",
    "    \\ddot{y}(t) & = \n",
    "\\end{align*}"
   ]
  },
  {
   "cell_type": "code",
   "execution_count": null,
   "id": "474db696",
   "metadata": {},
   "outputs": [],
   "source": [
    "u = sp.solve(dz[1].subs({z2(t): y(t)}).diff(t).subs({z1(t).diff(t): dz[0]}).subs({z1(t): x1}) - y(t).diff(t, 2), uA(t))[0]\n",
    "u"
   ]
  },
  {
   "cell_type": "code",
   "execution_count": null,
   "id": "843b2d65",
   "metadata": {},
   "outputs": [],
   "source": [
    "x1 = sp.solve(dz[1].subs({z2(t): y(t)}) - y(t).diff(t), z1(t))[0]\n",
    "x1"
   ]
  },
  {
   "cell_type": "markdown",
   "id": "a779a746-c4d1-4ee2-ab44-b9a45cf4f214",
   "metadata": {},
   "source": [
    "## Zustandsregler"
   ]
  },
  {
   "cell_type": "code",
   "execution_count": null,
   "id": "25e0fd94",
   "metadata": {},
   "outputs": [],
   "source": [
    "imag = Image(\"../../images/zweitank.png\", width=800)\n",
    "display(imag)"
   ]
  },
  {
   "cell_type": "markdown",
   "id": "eeb512f4",
   "metadata": {},
   "source": [
    "## 2-Tanksystem\n",
    "\n",
    "- lineares Modell in der Form\n",
    "    \\begin{align*}\n",
    "        \\dot{\\tilde{z}}_1(t) & = a_{11} \\tilde{z}_1(t) + b \\tilde{u}_{\\text{A}}(t)\\\\\n",
    "        \\dot{\\tilde{z}}_2(t) & = a_{21} \\tilde{z}_1(t) + a_{22} \\tilde{z}_2(t) \n",
    "    \\end{align*}\n",
    "    mit Ausgang $y(t) = z_2(t)$\n",
    "- Zustandsdarstellung\n",
    "    \\begin{align*}\n",
    "        \\dot{\\mathbf{z}}(t) & = \\begin{pmatrix} a_{11} & 0 \\\\ a_{21} & a_{22} \\end{pmatrix} \\mathbf{z}(t) + \\begin{pmatrix} b\\\\0 \\end{pmatrix} u(t) \\\\\n",
    "        y(t) & = \\begin{pmatrix} 0 & 1 \\end{pmatrix} \\mathbf{z}(t)\n",
    "    \\end{align*}\n",
    "    mit Zustand $\\mathbf{z} = \\begin{pmatrix} \\tilde{z}_1 & \\tilde{z}_2 \\end{pmatrix}^{\\intercal}$ und Eingang $u = \\tilde{u}_{\\text{A}}(t)$"
   ]
  },
  {
   "cell_type": "code",
   "execution_count": null,
   "id": "43fa220b",
   "metadata": {},
   "outputs": [],
   "source": [
    "time = np.linspace(0, 300, 301)"
   ]
  },
  {
   "cell_type": "code",
   "execution_count": null,
   "id": "7b1f1754-a3ac-47ac-ade6-5a05acc460df",
   "metadata": {},
   "outputs": [],
   "source": [
    "x0 = [0.2, 0.15]\n",
    "A = np.array([[-0.0289, 0], [0.0289, -0.0146]])\n",
    "b = np.array([[0.0021], [0]])\n",
    "c = np.array([[0], [1]])"
   ]
  },
  {
   "cell_type": "markdown",
   "id": "bda2088a",
   "metadata": {},
   "source": [
    "## Steuerbarkeit"
   ]
  },
  {
   "cell_type": "code",
   "execution_count": null,
   "id": "0884ba84",
   "metadata": {},
   "outputs": [],
   "source": [
    "S = np.hstack((b, A.dot(b)))\n",
    "display(Latex(\"$\\\\mathrm{{rang}}\\\\mathcal{{S}} = \\\\mathrm{{rang}}{} = {}$\".format(sp.latex(sp.Matrix(S)), sp.latex(np.linalg.matrix_rank(S)))))"
   ]
  },
  {
   "cell_type": "markdown",
   "id": "2ae57d47-db9d-47ac-a93f-ee595f47613d",
   "metadata": {},
   "source": [
    "## Transformation in Regelungsnormalform\n",
    "\n",
    "- Transformation $\\mathbf{x} = \\mathbf{T}\\mathbf{z}$\n",
    "- Überführung der Zustandsdarstellung\n",
    "    \\begin{align*}\n",
    "        \\dot{\\mathbf{x}}(t) & = \\underbrace{\\begin{pmatrix} 0 & 1 \\\\ \\alpha_0 & \\alpha_1 \\end{pmatrix}}_{\\mathbf{\\tilde{A}}} \\mathbf{x}(t) + \\underbrace{\\begin{pmatrix} 0\\\\ 1 \\end{pmatrix}}_{\\mathbf{\\tilde{b}}} u(t) \\\\\n",
    "        y(t) & = \\underbrace{\\begin{pmatrix} c_0 & c_1 \\end{pmatrix}}_{\\mathbf{\\tilde{c}}^{\\intercal}} \\mathbf{x}(t)\n",
    "    \\end{align*}"
   ]
  },
  {
   "cell_type": "code",
   "execution_count": null,
   "id": "3913a966-7c45-49ac-980b-28fbb067dc99",
   "metadata": {},
   "outputs": [],
   "source": [
    "q = np.array([0, 1]) @ np.linalg.inv(S)\n",
    "T = np.vstack((q, q @ A))\n",
    "display(Latex(\"$\\\\mathbf{{T}} = {}$\".format(sp.latex(sp.Matrix(T)))))"
   ]
  },
  {
   "cell_type": "code",
   "execution_count": null,
   "id": "78cb6afb",
   "metadata": {},
   "outputs": [],
   "source": [
    "tA = T @ A @ np.linalg.inv(T)\n",
    "tb = T @ b\n",
    "tc = c.T @ np.linalg.inv(T)\n",
    "display(Latex(\"$\\\\mathbf{{\\\\tilde{{A}}}} = \\\\mathbf{{T}} \\\\mathbf{{A}} \\\\mathbf{{T}}^{{-1}} = {}$\".format(sp.latex(sp.Matrix(tA)))))\n",
    "display(Latex(\"$\\\\mathbf{{\\\\tilde{{b}}}} = \\\\mathbf{{T}} \\\\mathbf{{b}} = {}$\".format(sp.latex(sp.Matrix(tb)))))\n",
    "display(Latex(\"$\\mathbf{{\\\\tilde{{c}}}}^{{\\intercal}} = \\\\mathbf{{c}}^{{\\intercal}} \\\\mathbf{{T}}^{{-1}} = {}$\".format(sp.latex(sp.Matrix(tc)))))"
   ]
  },
  {
   "cell_type": "markdown",
   "id": "102ff211-b65b-40f2-a3cd-66d0d5406c81",
   "metadata": {},
   "source": [
    "## Systemeigenwerte"
   ]
  },
  {
   "cell_type": "code",
   "execution_count": null,
   "id": "2102ee15-6d57-42ae-b419-71ea9aecd371",
   "metadata": {},
   "outputs": [],
   "source": [
    "eigA = np.linalg.eig(A)[0]\n",
    "Math(r's_1 = ' + str(eigA[0]) + r',~s_2 = ' + str(eigA[1]))"
   ]
  },
  {
   "cell_type": "markdown",
   "id": "8706c1df-5a09-4f66-8b62-9429f1c78d27",
   "metadata": {},
   "source": [
    "## Reglerentwurf\n",
    "\n",
    "- Festlegung der Pole des geschlossenen System\n",
    "\\begin{align*}\n",
    "    \\det (s - (\\tilde{\\mathbf{A}} - \\tilde{\\mathbf{b}} \\mathbf{k}^{\\intercal})) = s^2 + (\\alpha_1 - k_1) s + (\\alpha_0 - k_0) = s^2 + p_1 s + p_0\n",
    "\\end{align*}"
   ]
  },
  {
   "cell_type": "code",
   "execution_count": null,
   "id": "56e28c14-fa8e-45ef-9694-bcd95ac602c5",
   "metadata": {},
   "outputs": [],
   "source": [
    "poles = np.array([-0.05, -0.06])\n",
    "pp = place_poles(A, b, poles)\n",
    "k = pp.gain_matrix[0].reshape((1,2))\n",
    "eigAr = np.linalg.eig(A - b @ k)[0]\n",
    "Math(r'\\mathbf{k}=' + sp.latex(sp.Matrix(k)) + r'\\\\' + 'p_1 = ' + str(eigAr[0]) + r',~p_2 = ' + str(eigAr[1]))"
   ]
  },
  {
   "cell_type": "markdown",
   "id": "7ef7c201-66dd-4214-9a94-6fa7b24d03dc",
   "metadata": {},
   "source": [
    "## Simulation"
   ]
  },
  {
   "cell_type": "code",
   "execution_count": null,
   "id": "4e76ec43",
   "metadata": {},
   "outputs": [],
   "source": [
    "def prozess(t, x, A, b, k):\n",
    "    u = -k @ x\n",
    "    dx = A @ x + b @ u\n",
    "\n",
    "    return dx"
   ]
  },
  {
   "cell_type": "code",
   "execution_count": null,
   "id": "a7ba7aec-d05e-48b7-a1c2-fce825875e7e",
   "metadata": {},
   "outputs": [],
   "source": [
    "res = solve_ivp(prozess, [time[0], time[-1]], x0,\n",
    "                t_eval=time, args=(A, b, k))"
   ]
  },
  {
   "cell_type": "code",
   "execution_count": null,
   "id": "5e054744-a53a-49e7-9f6e-1faab383b079",
   "metadata": {},
   "outputs": [],
   "source": [
    "plt.close()\n",
    "\n",
    "fig1, axes10 = plt.subplots(1, 1, figsize=(14,6))\n",
    "\n",
    "axes10.plot(res.t, res.y[0], label=r\"$\\tilde{z}_1$\")\n",
    "axes10.plot(res.t, res.y[1], label=r\"$\\tilde{z}_2$\")\n",
    "\n",
    "axes11 = axes10.twinx()\n",
    "axes11.plot(res.t, (k @ res.y).T, 'C4')\n",
    "axes11.set_ylabel(r\"$u$ in V\", color='C4')\n",
    "axes11.tick_params(axis='y', colors='C4')\n",
    "\n",
    "axes10.set_xlabel(r\"$t$ in s\")\n",
    "axes10.set_ylabel(r\"$\\tilde{z}_{\\bullet}$ in m\")\n",
    "\n",
    "axes10.grid() \n",
    "\n",
    "handlesAx, labelsAx = axes10.get_legend_handles_labels()\n",
    "fig1.legend([handle for i, handle in enumerate(handlesAx)],\n",
    "            [label for i, label in enumerate(labelsAx)],\n",
    "            bbox_to_anchor=(0.125, 0.90, 0.775, .15), loc=3,\n",
    "            ncol=4, mode=\"expand\", borderaxespad=0., framealpha=0.5)\n",
    "plt.show()"
   ]
  },
  {
   "cell_type": "markdown",
   "id": "c34296ce-8d7f-481a-80b2-edc836f01408",
   "metadata": {},
   "source": [
    "## Stabilisierung beliebiger Arbeitspunkte"
   ]
  },
  {
   "cell_type": "code",
   "execution_count": null,
   "id": "cb418da9-0c6b-457a-a3e6-d14959290e75",
   "metadata": {},
   "outputs": [],
   "source": [
    "output = widgets.Output()\n",
    "\n",
    "with output:\n",
    "    fig, (ax1, ax2, ax3) = plt.subplots(3, 1, figsize=(10, 6), sharex=True, gridspec_kw={'height_ratios': [1, 1, 1]})\n",
    "\n",
    "plt.subplots_adjust(wspace=0.2, hspace=0.07)\n",
    "fig.canvas.toolbar_visible = False\n",
    "fig.canvas.header_visible = False\n",
    "fig.canvas.footer_visible = False\n",
    "fig.subplots_adjust(bottom=0.1, top=0.93, left=0.125, right=0.9)\n",
    "\n",
    "ax1.set_xlim([0, time[-1]]) \n",
    "ax2.set_xlim([0, time[-1]])\n",
    "ax3.set_xlim([0, time[-1]]) \n",
    "ax1.set_ylim([-0.05, 3.55]) \n",
    "ax2.set_ylim([-2, 2]) \n",
    "ax3.set_ylim([-2, 2]) \n",
    "ax1.grid()\n",
    "ax2.grid()\n",
    "ax3.grid()\n",
    "ax1.set_ylabel(r\"$y$\")\n",
    "ax2.set_ylabel(r\"$e$\")\n",
    "ax3.set_ylabel(r\"$u$\")\n",
    "ax3.set_xlabel(r\"$t$\")\n",
    "\n",
    "ySys, = ax1.plot([], [], 'C0', label=r'Prozess $y = x_1$')\n",
    "x2Sys, = ax1.plot([], [], 'C3', label=r'Zustand 2 $x_2$')\n",
    "yRefSys, = ax1.plot([], [], 'C1', label=r'Referenz $y_\\mathrm{r}$')\n",
    "eSys, = ax2.plot([], [], 'C0', label=r'Fehler $e$')\n",
    "uFBSys, = ax3.plot([], [], 'C2', label=r'Regler $u$')\n",
    "\n",
    "handlesAx, labelsAx = ax1.get_legend_handles_labels()\n",
    "\n",
    "fig.legend([handle for i, handle in enumerate(handlesAx)],\n",
    "           [label for i, label in enumerate(labelsAx)],\n",
    "           bbox_to_anchor=(0.13, 0.94, 0.7675, .15), loc=3,\n",
    "           ncol=3, mode=\"expand\", borderaxespad=0., framealpha=0.5)\n",
    "\n",
    "sliderYr = widgets.FloatSlider(value=2,\n",
    "                               min=0,\n",
    "                               max=5,\n",
    "                               step=0.5,\n",
    "                               description=r'$y_{\\mathrm{r}}$')\n",
    "sliderEig1 = widgets.FloatSlider(value=-3,\n",
    "                               min=-20,\n",
    "                               max=-0.01,\n",
    "                               step=0.1,\n",
    "                               description=r'$s_1$')\n",
    "sliderEig2 = widgets.FloatSlider(value=-6,\n",
    "                               min=-20,\n",
    "                               max=-0.01,\n",
    "                               step=0.1,\n",
    "                               description=r'$s_2$')\n",
    "sliderX01 = widgets.FloatSlider(value=0,\n",
    "                               min=-10,\n",
    "                               max=10,\n",
    "                               step=0.1,\n",
    "                               description=r'$x_1(0)$')\n",
    "sliderX02 = widgets.FloatSlider(value=0,\n",
    "                               min=-10,\n",
    "                               max=10,\n",
    "                               step=0.1,\n",
    "                               description=r'$x_2(0)$')\n",
    "\n",
    "def calcSystem(_):\n",
    "    yr = sliderYr.value\n",
    "    \n",
    "    pp = place_poles(A, b, np.array([sliderEig1.value, sliderEig2.value]))\n",
    "    k = pp.gain_matrix[0].reshape((1,2))\n",
    "    \n",
    "    x0 = [sliderX01.value, sliderX02.value]\n",
    "    res = solve_ivp(linSystemStateContFactor,\n",
    "                    [time[0], time[-1]],\n",
    "                    x0,\n",
    "                    t_eval=time, args=(yr, A, b, c, k))\n",
    "    \n",
    "    V = 1 / (c.T @ np.linalg.inv(b @ k - A) @ b)\n",
    "           \n",
    "    sigFB = [V * yr - k @ res.y.T[idx + 1, :] for idx, t in enumerate(time[1:])]\n",
    "    sigE = yr - res.y.T[:, 0]\n",
    "    uFBSys.set_data(time[1:], sigFB)\n",
    "    ySys.set_data(time, res.y.T[:, 0])\n",
    "    x2Sys.set_data(time, res.y.T[:, 1])\n",
    "    yRefSys.set_data(time[[0, -1]], np.array([yr, yr]))\n",
    "    eSys.set_data(time, sigE)\n",
    "    \n",
    "    uMax = np.max(sigFB)\n",
    "    ax1.set_ylim(np.min(res.y) - 0.5, np.max(res.y) + 0.5)\n",
    "    ax2.set_ylim([(np.min(sigE) - 0.2), (np.max(sigE) + 0.2)]) \n",
    "    ax3.set_ylim([-(uMax + 1), (uMax + 1)]) \n",
    "    \n",
    "    fig.canvas.draw()\n",
    "\n",
    "sliderYr.observe(calcSystem, names='value')\n",
    "sliderEig1.observe(calcSystem, names='value')\n",
    "sliderEig2.observe(calcSystem, names='value')\n",
    "sliderX01.observe(calcSystem, names='value')\n",
    "sliderX02.observe(calcSystem, names='value')\n",
    "\n",
    "calcSystem(_)\n",
    "\n",
    "stateContControls = VBox([sliderYr, sliderEig1, sliderEig2])\n",
    "stateContControls.layout = make_box_layout()\n",
    "sysControls = VBox([sliderX01, sliderX02])\n",
    "sysControls.layout = make_box_layout()\n",
    "\n",
    "controls = HBox([sysControls, stateContControls])\n",
    "VBox([controls, output], layout=Layout(display='flex', flex_flow='row', justify_content='center', align_items='center'))"
   ]
  }
 ],
 "metadata": {
  "kernelspec": {
   "display_name": "Python 3 (ipykernel)",
   "language": "python",
   "name": "python3"
  },
  "language_info": {
   "codemirror_mode": {
    "name": "ipython",
    "version": 3
   },
   "file_extension": ".py",
   "mimetype": "text/x-python",
   "name": "python",
   "nbconvert_exporter": "python",
   "pygments_lexer": "ipython3",
   "version": "3.11.5"
  },
  "latex_envs": {
   "LaTeX_envs_menu_present": true,
   "autoclose": false,
   "autocomplete": true,
   "bibliofile": "sources.bib",
   "cite_by": "apalike",
   "current_citInitial": 1,
   "eqLabelWithNumbers": true,
   "eqNumInitial": 1,
   "hotkeys": {
    "equation": "Ctrl-E",
    "itemize": "Ctrl-I"
   },
   "labels_anchors": false,
   "latex_user_defs": false,
   "report_style_numbering": false,
   "user_envs_cfg": false
  }
 },
 "nbformat": 4,
 "nbformat_minor": 5
}
