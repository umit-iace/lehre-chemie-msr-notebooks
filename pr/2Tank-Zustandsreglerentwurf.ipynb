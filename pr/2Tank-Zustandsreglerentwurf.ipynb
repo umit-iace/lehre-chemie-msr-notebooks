{
 "cells": [
  {
   "cell_type": "markdown",
   "metadata": {
    "hideCode": false,
    "hidePrompt": false
   },
   "source": [
    "# Zustandsreglerentwurf"
   ]
  },
  {
   "cell_type": "code",
   "execution_count": null,
   "metadata": {
    "hideCode": false,
    "hidePrompt": false
   },
   "outputs": [],
   "source": [
    "import matplotlib.pyplot as plt\n",
    "import numpy as np\n",
    "import sympy as sp\n",
    "from IPython.display import display, Image, Latex, Markdown\n",
    "from scipy.integrate import solve_ivp"
   ]
  },
  {
   "cell_type": "code",
   "execution_count": null,
   "metadata": {
    "hideCode": true,
    "hidePrompt": true
   },
   "outputs": [],
   "source": [
    "imag = Image(\"../images/feedback.png\", width=600)\n",
    "display(imag)"
   ]
  },
  {
   "cell_type": "markdown",
   "metadata": {
    "hideCode": true,
    "hidePrompt": true
   },
   "source": [
    "Ziel ist der Entwurf eines Zustandsreglers auf Basis des linearisierten Modells des Zweitanksystems.\n",
    "Dazu wird eine Zustandsrückführung in der Form durchgeführt, dass\n",
    "\\begin{align*}\n",
    "    u_{\\text{R}}(t) & = -\\mathbf{k}^{\\intercal} \\mathbf{e}(t)\n",
    "\\end{align*}\n",
    "mit der Zustandsverstärkung $\\mathbf{k}$ und dem Fehler $\\mathbf{e}$ der sich aus dem entsprechenden Zustandskomponenten ergibt.\n",
    "\n",
    "Es werden im Folgenden zwei Methoden unterschieden.\n",
    "1. Eingangs-Ausgangsbeziehung mit dem Zustand\n",
    "   \\begin{align*}\n",
    "       \\mathbf{x} = \\begin{pmatrix}x_1 \\\\ x_2 \\end{pmatrix} = \\begin{pmatrix}y \\\\ \\dot{y} \\end{pmatrix}\n",
    "   \\end{align*}\n",
    "   auf Basis der gemessenen Größe $y$\n",
    "2. Regelungsnormalform mit dem Zustand\n",
    "   \\begin{align*}\n",
    "       \\mathbf{x} = \\begin{pmatrix}x_1 \\\\ x_2 \\end{pmatrix} = \\begin{pmatrix}\\eta \\\\ \\dot{\\eta} \\end{pmatrix}\n",
    "   \\end{align*}\n",
    "   auf Basis des flachen Ausgangs $\\eta$"
   ]
  },
  {
   "cell_type": "markdown",
   "metadata": {
    "hideCode": true,
    "hidePrompt": true
   },
   "source": [
    "### 1. Eintragen der notwendigen Systemparameter"
   ]
  },
  {
   "cell_type": "code",
   "execution_count": null,
   "metadata": {
    "hideCode": true,
    "hidePrompt": true
   },
   "outputs": [],
   "source": [
    "buA = 9\n",
    "# Physikalisch EA-Darstellung\n",
    "KPhy = 0.147763421835044\n",
    "T1Phy = 34.567259359529\n",
    "T2Phy = 68.2115206317666\n",
    "bz2Phy = 0.137092448385557\n",
    "# Messung EA-Darstellung\n",
    "KMessung = 0.05335540886113588\n",
    "T1Messung = 11.796537856412515\n",
    "T2Messung = 80.74097989401139\n",
    "bz2Messung = 0.13238994944989588\n",
    "# Messung allgemeine Darstellung\n",
    "a11 = -0.0847706345855032\n",
    "a21 = 0.14656849835105779\n",
    "a22 = -0.01238528441582823\n",
    "b1 = 0.00038219872357851876"
   ]
  },
  {
   "cell_type": "code",
   "execution_count": null,
   "metadata": {},
   "outputs": [],
   "source": [
    "APhyLin = np.array([[0, 1],\n",
    "                    [-1 / (T1Phy * T2Phy), -(T1Phy + T2Phy) / (T1Phy * T2Phy)]])\n",
    "BPhyLin = np.array([[0],\n",
    "                    [KPhy / (T1Phy * T2Phy)]])\n",
    "\n",
    "AEAMessung = np.array([[0, 1],\n",
    "                       [-1 / (T1Messung * T2Messung), -(T1Messung + T2Messung) / (T1Messung * T2Messung)]])\n",
    "BEAMessung = np.array([[0],\n",
    "                       [KMessung / (T1Messung * T2Messung)]])\n",
    "\n",
    "AGenMessung = np.array([[a11, 0],\n",
    "                        [a21, a22]])\n",
    "BGenMessung = np.array([[b1],\n",
    "                        [0]])"
   ]
  },
  {
   "cell_type": "markdown",
   "metadata": {
    "hideCode": true,
    "hidePrompt": true
   },
   "source": [
    "### 2. Vergleich der Regelung an den Modellen\n",
    "\n",
    "__Simulation__\n",
    "\n",
    "Definition nichtlineares Modell"
   ]
  },
  {
   "cell_type": "code",
   "execution_count": null,
   "metadata": {
    "hideCode": true,
    "hidePrompt": true
   },
   "outputs": [],
   "source": [
    "def nonLinSys(t, z, uA):\n",
    "    z1 = z[0]\n",
    "    z2 = z[1]\n",
    "        \n",
    "    hV1 = 0.055\n",
    "    hV2 = 0.055\n",
    "    \n",
    "    dz = np.zeros(2)\n",
    "    dz[0] = 0.00216625315586689 * (uA - 6.4) - 0.0127646468529449 * np.sqrt(2) * np.sqrt(hV1 + z1)\n",
    "    dz[1] = 0.0127646468529449 * np.sqrt(2) * np.sqrt(hV1 + z1) - 0.00908683019582126 * np.sqrt(2) * np.sqrt(hV2 + z2)\n",
    "\n",
    "    return dz"
   ]
  },
  {
   "cell_type": "markdown",
   "metadata": {
    "hideCode": true,
    "hidePrompt": true
   },
   "source": [
    "Definition linearisiertes Modell"
   ]
  },
  {
   "cell_type": "code",
   "execution_count": null,
   "metadata": {
    "hideCode": true,
    "hidePrompt": true
   },
   "outputs": [],
   "source": [
    "def linSys(t, x, uA, A, B, buA):\n",
    "    return A.dot(x) + B.dot(np.array([uA - buA]))"
   ]
  },
  {
   "cell_type": "markdown",
   "metadata": {
    "hideCode": true,
    "hidePrompt": true
   },
   "source": [
    "Definition Regler #TODO PI Zustandsregler"
   ]
  },
  {
   "cell_type": "code",
   "execution_count": null,
   "metadata": {
    "hideCode": true,
    "hidePrompt": true
   },
   "outputs": [],
   "source": [
    "class ZustandsRegler:\n",
    "    def __init__(self, k, T, outMin, outMax, sampleTime):\n",
    "        self.k = k\n",
    "        self.T = T\n",
    "        self.outMin = outMin\n",
    "        self.outMax = outMax\n",
    "\n",
    "    def run(self, setPoint, curValue):\n",
    "        e = setPoint - curValue\n",
    "\n",
    "        out = self.k.dot(self.T).dot(e)\n",
    "\n",
    "        if out < self.outMin:\n",
    "            out = self.outMin\n",
    "        elif out > self.outMax:\n",
    "            out = self.outMax\n",
    "\n",
    "        return out"
   ]
  },
  {
   "cell_type": "markdown",
   "metadata": {
    "hideCode": true,
    "hidePrompt": true
   },
   "source": [
    "Definition Steuerung"
   ]
  },
  {
   "cell_type": "code",
   "execution_count": null,
   "metadata": {
    "hideCode": true,
    "hidePrompt": true
   },
   "outputs": [],
   "source": [
    "class Steuerung:\n",
    "    def __init__(self, x0, x1, t0, t1, a0, a1, b):\n",
    "        self.x0 = x0\n",
    "        self.x1 = x1\n",
    "        self.t0 = t0\n",
    "        self.t1 = t1\n",
    "        self.dt = t1 - t0\n",
    "        self.a0 = a0\n",
    "        self.a1 = a1\n",
    "        self.b = b\n",
    "\n",
    "        tau = sp.symbols('\\\\tau')\n",
    "        self.phi = 6 * tau ** 5 - 15 * tau ** 4 + 10 * tau ** 3\n",
    "        self.dphi = self.phi.diff(tau)\n",
    "        self.ddphi = self.phi.diff(tau, 2)\n",
    "        \n",
    "        self.xr = lambda t: self.x0 + (self.x1 - self.x0) * self.phi.subs({tau: t / self.dt}) if 0 <= t <= self.dt else x0 if t < 0 else self.x1 \n",
    "        self.dxr = lambda t: (self.x1 - self.x0) * self.dphi.subs({tau: t / self.dt}) / self.dt if 0 < t < self.dt else 0\n",
    "        self.ddxr = lambda t: (self.x1 - self.x0) * self.ddphi.subs({tau: t / self.dt}) / self.dt ** 2 if 0 < t < self.dt else 0\n",
    "        self.ur = lambda t: 1/ self.b * (self.ddxr(t) + self.a1 * self.dxr(t) + self.a0 * self.xr(t))\n",
    "\n",
    "    def run(self, t):\n",
    "        return self.xr(t), self.dxr(t), self.ur(t)   "
   ]
  },
  {
   "cell_type": "code",
   "execution_count": null,
   "metadata": {},
   "outputs": [],
   "source": [
    "timeDom = np.linspace(0, 500, 5001)\n",
    "z0 = [0, 0]\n",
    "z2Soll = 0.15\n",
    "dt = 150"
   ]
  },
  {
   "cell_type": "markdown",
   "metadata": {
    "hideCode": true,
    "hidePrompt": true
   },
   "source": [
    "### 3. Zustandsregler über Eingangs-Ausgangsbeziehung"
   ]
  },
  {
   "cell_type": "code",
   "execution_count": null,
   "metadata": {},
   "outputs": [],
   "source": [
    "a0EA = 1 / (T1Messung * T2Messung)\n",
    "a1EA = (T1Messung + T2Messung) / (T1Messung * T2Messung)\n",
    "bEA = KMessung / (T1Messung * T2Messung)\n",
    "\n",
    "x0 = 0 - bz2Messung\n",
    "x1 = z2Soll - bz2Messung\n",
    "\n",
    "kEA = np.array([20, 40])\n",
    "TEA = np.array([[1, 0],\n",
    "                [0, 1]])"
   ]
  },
  {
   "cell_type": "code",
   "execution_count": null,
   "metadata": {},
   "outputs": [],
   "source": [
    "regler = ZustandsRegler(kEA, TEA, 0 - buA, 12 - buA, timeDom[1])\n",
    "steuerung = Steuerung(x0, x1, 0, dt, a0EA, a1EA, bEA)"
   ]
  },
  {
   "cell_type": "markdown",
   "metadata": {},
   "source": [
    "**Regler ohne Steuerung**"
   ]
  },
  {
   "cell_type": "code",
   "execution_count": null,
   "metadata": {},
   "outputs": [],
   "source": [
    "zPhyLin = np.zeros((2, len(timeDom)))\n",
    "zPhyLin[:, 0] = z0 - np.array([bz2Phy, 0])\n",
    "uPhyLin = np.zeros((len(timeDom),))\n",
    "                   \n",
    "for idx, _t in enumerate(timeDom[1:]):\n",
    "    z0PhyLin = zPhyLin[:, idx]\n",
    "    uPhyLin[idx] = regler.run(- np.array([bz2Phy, 0]), z0PhyLin) + buA\n",
    "\n",
    "    resPhyLin = solve_ivp(linSys,\n",
    "                          [timeDom[idx], timeDom[idx + 1]],\n",
    "                          z0PhyLin,\n",
    "                          args=(uPhyLin[idx], APhyLin, BPhyLin, buA))\n",
    "    zPhyLin[:, idx + 1] = resPhyLin.y.T[-1, :]"
   ]
  },
  {
   "cell_type": "code",
   "execution_count": null,
   "metadata": {},
   "outputs": [],
   "source": [
    "zPhyNichtLin = np.zeros((2, len(timeDom)))\n",
    "uPhyNichtLin = np.zeros((len(timeDom),))\n",
    "                   \n",
    "for idx, _t in enumerate(timeDom[1:]):\n",
    "    z0PhyNichtLin = zPhyNichtLin[:, idx]\n",
    "    uPhyNichtLin[idx] = regler.run(- np.array([0, 0]), z0PhyNichtLin) + buA\n",
    "\n",
    "    resPhyNichtLin = solve_ivp(nonLinSys,\n",
    "                               [timeDom[idx], timeDom[idx + 1]],\n",
    "                               z0PhyNichtLin,\n",
    "                               args=(uPhyNichtLin[idx], ))\n",
    "    zPhyNichtLin[:, idx + 1] = resPhyNichtLin.y.T[-1, :]"
   ]
  },
  {
   "cell_type": "code",
   "execution_count": null,
   "metadata": {},
   "outputs": [],
   "source": [
    "zMessung = np.zeros((2, len(timeDom)))\n",
    "zMessung[:, 0] = z0 - np.array([bz2Messung, 0])\n",
    "uMessung = np.zeros((len(timeDom),))\n",
    "                   \n",
    "for idx, _t in enumerate(timeDom[1:]):\n",
    "    z0Messung = zMessung[:, idx]\n",
    "    uMessung[idx] = regler.run(- np.array([bz2Messung, 0]), z0Messung) + buA\n",
    "\n",
    "    resMessung = solve_ivp(linSys,\n",
    "                           [timeDom[idx], timeDom[idx + 1]],\n",
    "                           z0Messung,\n",
    "                           args=(uMessung[idx], AMessung, BMessung, buA))\n",
    "    zMessung[:, idx + 1] = resMessung.y.T[-1, :]"
   ]
  },
  {
   "cell_type": "code",
   "execution_count": null,
   "metadata": {},
   "outputs": [],
   "source": [
    "plt.close()\n",
    "\n",
    "fig1, (axes10, axes20, axes30) = plt.subplots(3, 1, figsize=(12,7), sharex=True)\n",
    "\n",
    "axes10.plot(timeDom, zPhyNichtLin[0, :], label='physikalisch nichtlinear')\n",
    "axes10.plot(timeDom, np.ones(len(timeDom)) * z2Soll, color='r', linewidth=0.8)\n",
    "axes20.plot(timeDom, zPhyLin[0, :] + bz2Phy, label='physikalisch linearisiert')\n",
    "axes20.plot(timeDom, np.ones(len(timeDom)) * z2Soll, color='r', linewidth=0.8)\n",
    "axes30.plot(timeDom, zMessung[0, :] + bz2Messung, label='identifiziert')\n",
    "axes30.plot(timeDom, np.ones(len(timeDom)) * z2Soll, color='r', linewidth=0.8)\n",
    "\n",
    "axes11 = axes10.twinx()\n",
    "axes21 = axes20.twinx()\n",
    "axes31 = axes30.twinx()\n",
    "\n",
    "axes11.plot(timeDom[:-1:], uPhyNichtLin[:-1:], color='C4')\n",
    "axes11.tick_params(axis='y', labelcolor='C4')\n",
    "\n",
    "axes21.plot(timeDom[:-1:], uPhyLin[:-1:], color='C4')\n",
    "axes21.tick_params(axis='y', labelcolor='C4')\n",
    "\n",
    "axes31.plot(timeDom[:-1:], uMessung[:-1:], color='C4')\n",
    "axes31.tick_params(axis='y', labelcolor='C4')\n",
    "\n",
    "axes10.set_ylabel(r'$z_2$ / $m$')\n",
    "axes11.set_ylabel(r'$u_{\\mathrm{A}}$ / $V$', color='C4')\n",
    "axes20.set_ylabel(r'$z_2$ / $m$')\n",
    "axes21.set_ylabel(r'$u_{\\mathrm{A}}$ / $V$', color='C4')\n",
    "axes30.set_ylabel(r'$z_2$ / $m$')\n",
    "axes31.set_ylabel(r'$u_{\\mathrm{A}}$ / $V$', color='C4')\n",
    "axes30.set_xlabel(r'Zeit / $s$')\n",
    "\n",
    "axes10.title.set_text('physikalisch nichtlinear')\n",
    "axes20.title.set_text('physikalisch linearisiert')\n",
    "axes30.title.set_text('identifiziert')\n",
    "\n",
    "axes10.grid()\n",
    "axes20.grid()\n",
    "axes30.grid()\n",
    "plt.show()"
   ]
  },
  {
   "cell_type": "markdown",
   "metadata": {},
   "source": [
    "**Regler mit Steuerung**"
   ]
  },
  {
   "cell_type": "code",
   "execution_count": null,
   "metadata": {},
   "outputs": [],
   "source": [
    "zPhyLin = np.zeros((2, len(timeDom)))\n",
    "zPhyLin[:, 0] = z0 - np.array([bz2Phy, 0])\n",
    "uPhyLin = np.zeros((len(timeDom),))\n",
    "uFFPhyLin = np.zeros(len(timeDom))\n",
    "z2FFPhyLin = np.zeros(len(timeDom))\n",
    "\n",
    "for idx, _t in enumerate(timeDom[1:]):\n",
    "    z0PhyLin = zPhyLin[:, idx]\n",
    "    z2FFPhyLin[idx], dz2FFPhyLin, uFFPhyLin[idx] = steuerung.run(_t)\n",
    "    uRegler = regler.run(np.array([z2FFPhyLin[idx], dz2FFPhyLin]), \n",
    "                         z0PhyLin)\n",
    "    uPhyLin[idx] = uFFPhyLin[idx] + uRegler + buA\n",
    "    \n",
    "    resPhyLin = solve_ivp(linSys,\n",
    "                          [timeDom[idx], timeDom[idx + 1]],\n",
    "                          z0PhyLin,\n",
    "                          args=(uPhyLin[idx], APhyLin, BPhyLin, KPhy, buA))\n",
    "    zPhyLin[:, idx + 1] = resPhyLin.y.T[-1, :]"
   ]
  },
  {
   "cell_type": "code",
   "execution_count": null,
   "metadata": {},
   "outputs": [],
   "source": [
    "zPhyNichtLin = np.zeros((2, len(timeDom)))\n",
    "uPhyNichtLin = np.zeros((len(timeDom),))\n",
    "uFFPhyNichtLin = np.zeros(len(timeDom))\n",
    "z2FFPhyNichtLin = np.zeros(len(timeDom))\n",
    "\n",
    "for idx, _t in enumerate(timeDom[1:]):\n",
    "    z0PhyNichtLin = zPhyNichtLin[:, idx]\n",
    "    z2FFPhyNichtLin[idx], dz2FFPhyNichtLin, uFFPhyNichtLin[idx] = steuerung.run(_t)\n",
    "    uRegler = regler.run(np.array([z2FFPhyNichtLin[idx], dz2FFPhyNichtLin]), \n",
    "                         np.array([z0PhyNichtLin[0] - bz2Messung, z0PhyNichtLin[1]]))\n",
    "    uPhyNichtLin[idx] = uFFPhyNichtLin[idx] + uRegler + buA\n",
    "\n",
    "    resPhyNichtLin = solve_ivp(nonLinSys,\n",
    "                               [timeDom[idx], timeDom[idx + 1]],\n",
    "                               z0PhyNichtLin,\n",
    "                               args=(uPhyNichtLin[idx], ))\n",
    "    zPhyNichtLin[:, idx + 1] = resPhyNichtLin.y.T[-1, :]"
   ]
  },
  {
   "cell_type": "code",
   "execution_count": null,
   "metadata": {},
   "outputs": [],
   "source": [
    "zMessung = np.zeros((2, len(timeDom)))\n",
    "zMessung[:, 0] = z0 - np.array([bz2Messung, 0])\n",
    "uMessung = np.zeros((len(timeDom),))\n",
    "uFFMessung = np.zeros(len(timeDom))\n",
    "z2FFMessung = np.zeros(len(timeDom))                   \n",
    "    \n",
    "for idx, _t in enumerate(timeDom[1:]):\n",
    "    z0Messung = zMessung[:, idx]\n",
    "    z2FFMessung[idx], dz2FFMessung, uFFMessung[idx] = steuerung.run(_t)\n",
    "    uRegler = regler.run(np.array([z2FFMessung[idx], dz2FFMessung]), \n",
    "                         z0Messung)\n",
    "    uMessung[idx] = uFFMessung[idx] + uRegler + buA\n",
    "\n",
    "    resMessung = solve_ivp(linSys,\n",
    "                           [timeDom[idx], timeDom[idx + 1]],\n",
    "                           z0Messung,\n",
    "                           args=(uMessung[idx], AMessung, BMessung, buA))\n",
    "    zMessung[:, idx + 1] = resMessung.y.T[-1, :]"
   ]
  },
  {
   "cell_type": "code",
   "execution_count": null,
   "metadata": {},
   "outputs": [],
   "source": [
    "plt.close()\n",
    "\n",
    "fig1, (axes10, axes20, axes30) = plt.subplots(3, 1, figsize=(12,7), sharex=True)\n",
    "\n",
    "axes10.plot(timeDom, zPhyNichtLin[0, :], label='physikalisch nichtlinear')\n",
    "axes10.plot(timeDom[:-1], z2FFPhyNichtLin[:-1] + bz2Messung, label='physikalisch nichtlinear')\n",
    "axes20.plot(timeDom, zPhyLin[0, :] + bz2Phy, label='physikalisch linearisiert')\n",
    "axes20.plot(timeDom[:-1], z2FFPhyLin[:-1] + bz2Messung, label='physikalisch linearisiert')\n",
    "axes30.plot(timeDom, zMessung[0, :] + bz2Messung, label='identifiziert')\n",
    "axes30.plot(timeDom[:-1], z2FFMessung[:-1] + bz2Messung, label='identifiziert')\n",
    "\n",
    "axes11 = axes10.twinx()\n",
    "axes21 = axes20.twinx()\n",
    "axes31 = axes30.twinx()\n",
    "\n",
    "axes11.plot(timeDom[:-1:], uPhyNichtLin[:-1:], color='C4')\n",
    "axes11.tick_params(axis='y', labelcolor='C4')\n",
    "\n",
    "axes21.plot(timeDom[:-1:], uPhyLin[:-1:], color='C4')\n",
    "axes21.tick_params(axis='y', labelcolor='C4')\n",
    "\n",
    "axes31.plot(timeDom[:-1:], uMessung[:-1:], color='C4')\n",
    "axes31.tick_params(axis='y', labelcolor='C4')\n",
    "\n",
    "axes10.set_ylabel(r'$z_2$ / $m$')\n",
    "axes11.set_ylabel(r'$u_{\\mathrm{A}}$ / $V$', color='C4')\n",
    "axes20.set_ylabel(r'$z_2$ / $m$')\n",
    "axes21.set_ylabel(r'$u_{\\mathrm{A}}$ / $V$', color='C4')\n",
    "axes30.set_ylabel(r'$z_2$ / $m$')\n",
    "axes31.set_ylabel(r'$u_{\\mathrm{A}}$ / $V$', color='C4')\n",
    "axes30.set_xlabel(r'Zeit / $s$')\n",
    "\n",
    "axes10.title.set_text('physikalisch nichtlinear')\n",
    "axes20.title.set_text('physikalisch linearisiert')\n",
    "axes30.title.set_text('identifiziert')\n",
    "\n",
    "axes10.grid()\n",
    "axes20.grid()\n",
    "axes30.grid()\n",
    "plt.show()"
   ]
  },
  {
   "cell_type": "markdown",
   "metadata": {
    "hideCode": true,
    "hidePrompt": true
   },
   "source": [
    "### 4. Zustandsregler über Regelungsnormalform"
   ]
  },
  {
   "cell_type": "code",
   "execution_count": null,
   "metadata": {},
   "outputs": [],
   "source": [
    "A = AGenMessung\n",
    "B = BGenMessung\n",
    "c = np.array([0, 1])"
   ]
  },
  {
   "cell_type": "code",
   "execution_count": null,
   "metadata": {},
   "outputs": [],
   "source": [
    "# Berechnung der Steuerbarkeitsmatrix\n",
    "S = np.array([A, A.dot(b)])\n",
    "\n",
    "# Berechnung des Vektors\n",
    "qT = np.linalg.inv(S)[-1, :]\n",
    "\n",
    "# Berechnung der Transformationsmatrix Q (in die RNF)\n",
    "TRNF = np.array([[qT], [qT.dot(A)]])\n",
    "\n",
    "# Transformation des Systems in RNF\n",
    "ARNF = TRNF.dot(A).dot(np.linalg.inv(TRNF))\n",
    "bRNF = TRNF.dot(b)\n",
    "cRNF = c.dot(np.linalg.inv(TRNF))"
   ]
  },
  {
   "cell_type": "code",
   "execution_count": null,
   "metadata": {},
   "outputs": [],
   "source": [
    "x0 = (0 - bz2Messung) / cRNF[0]\n",
    "x1 = (z2Soll - bz2Messung) / cRNF[0]\n",
    "\n",
    "poles = [-0.5, -1]\n",
    "kRNF = control.acker(ARNF, bRNF, poles)"
   ]
  },
  {
   "cell_type": "code",
   "execution_count": null,
   "metadata": {},
   "outputs": [],
   "source": [
    "regler = ZustandsRegler(kRNF, TRNF, 0 - buA, 12 - buA, timeDom[1])\n",
    "steuerung = Steuerung(x0, x1, 0, dt, -ARNF[1, 0], -ARNF[1, 1], bRNF[1])"
   ]
  },
  {
   "cell_type": "markdown",
   "metadata": {},
   "source": [
    "**Regler mit Steuerung**"
   ]
  },
  {
   "cell_type": "code",
   "execution_count": null,
   "metadata": {},
   "outputs": [],
   "source": [
    "zPhyLin = np.zeros((2, len(timeDom)))\n",
    "zPhyLin[:, 0] = z0 - np.array([bz2Phy, 0])\n",
    "uPhyLin = np.zeros((len(timeDom),))\n",
    "uFFPhyLin = np.zeros(len(timeDom))\n",
    "z2FFPhyLin = np.zeros(len(timeDom))\n",
    "\n",
    "for idx, _t in enumerate(timeDom[1:]):\n",
    "    z0PhyLin = zPhyLin[:, idx]\n",
    "    z2FFPhyLin[idx], dz2FFPhyLin, uFFPhyLin[idx] = steuerung.run(_t)\n",
    "    uRegler = regler.run(np.array([z2FFPhyLin[idx], dz2FFPhyLin]), \n",
    "                         z0PhyLin)\n",
    "    uPhyLin[idx] = uFFPhyLin[idx] + uRegler + buA\n",
    "    \n",
    "    resPhyLin = solve_ivp(linSys,\n",
    "                          [timeDom[idx], timeDom[idx + 1]],\n",
    "                          z0PhyLin,\n",
    "                          args=(uPhyLin[idx], APhyLin, BPhyLin, KPhy, buA))\n",
    "    zPhyLin[:, idx + 1] = resPhyLin.y.T[-1, :]"
   ]
  },
  {
   "cell_type": "code",
   "execution_count": null,
   "metadata": {},
   "outputs": [],
   "source": [
    "zPhyNichtLin = np.zeros((2, len(timeDom)))\n",
    "uPhyNichtLin = np.zeros((len(timeDom),))\n",
    "uFFPhyNichtLin = np.zeros(len(timeDom))\n",
    "z2FFPhyNichtLin = np.zeros(len(timeDom))\n",
    "\n",
    "for idx, _t in enumerate(timeDom[1:]):\n",
    "    z0PhyNichtLin = zPhyNichtLin[:, idx]\n",
    "    z2FFPhyNichtLin[idx], dz2FFPhyNichtLin, uFFPhyNichtLin[idx] = steuerung.run(_t)\n",
    "    uRegler = regler.run(np.array([z2FFPhyNichtLin[idx], dz2FFPhyNichtLin]), \n",
    "                         np.array([z0PhyNichtLin[0] - bz2Messung, z0PhyNichtLin[1]]))\n",
    "    uPhyNichtLin[idx] = uFFPhyNichtLin[idx] + uRegler + buA\n",
    "\n",
    "    resPhyNichtLin = solve_ivp(nonLinSys,\n",
    "                               [timeDom[idx], timeDom[idx + 1]],\n",
    "                               z0PhyNichtLin,\n",
    "                               args=(uPhyNichtLin[idx], ))\n",
    "    zPhyNichtLin[:, idx + 1] = resPhyNichtLin.y.T[-1, :]"
   ]
  },
  {
   "cell_type": "code",
   "execution_count": null,
   "metadata": {},
   "outputs": [],
   "source": [
    "zMessung = np.zeros((2, len(timeDom)))\n",
    "zMessung[:, 0] = z0 - np.array([bz2Messung, 0])\n",
    "uMessung = np.zeros((len(timeDom),))\n",
    "uFFMessung = np.zeros(len(timeDom))\n",
    "z2FFMessung = np.zeros(len(timeDom))                   \n",
    "    \n",
    "for idx, _t in enumerate(timeDom[1:]):\n",
    "    z0Messung = zMessung[:, idx]\n",
    "    z2FFMessung[idx], dz2FFMessung, uFFMessung[idx] = steuerung.run(_t)\n",
    "    uRegler = regler.run(np.array([z2FFMessung[idx], dz2FFMessung]), \n",
    "                         z0Messung)\n",
    "    uMessung[idx] = uFFMessung[idx] + uRegler + buA\n",
    "\n",
    "    resMessung = solve_ivp(linSys,\n",
    "                           [timeDom[idx], timeDom[idx + 1]],\n",
    "                           z0Messung,\n",
    "                           args=(uMessung[idx], AMessung, BMessung, buA))\n",
    "    zMessung[:, idx + 1] = resMessung.y.T[-1, :]"
   ]
  },
  {
   "cell_type": "code",
   "execution_count": null,
   "metadata": {},
   "outputs": [],
   "source": [
    "plt.close()\n",
    "\n",
    "fig1, (axes10, axes20, axes30) = plt.subplots(3, 1, figsize=(12,7), sharex=True)\n",
    "\n",
    "axes10.plot(timeDom, zPhyNichtLin[0, :], label='physikalisch nichtlinear')\n",
    "axes10.plot(timeDom[:-1], z2FFPhyNichtLin[:-1] + bz2Messung, label='physikalisch nichtlinear')\n",
    "axes20.plot(timeDom, zPhyLin[0, :] + bz2Phy, label='physikalisch linearisiert')\n",
    "axes20.plot(timeDom[:-1], z2FFPhyLin[:-1] + bz2Messung, label='physikalisch linearisiert')\n",
    "axes30.plot(timeDom, zMessung[0, :] + bz2Messung, label='identifiziert')\n",
    "axes30.plot(timeDom[:-1], z2FFMessung[:-1] + bz2Messung, label='identifiziert')\n",
    "\n",
    "axes11 = axes10.twinx()\n",
    "axes21 = axes20.twinx()\n",
    "axes31 = axes30.twinx()\n",
    "\n",
    "axes11.plot(timeDom[:-1:], uPhyNichtLin[:-1:], color='C4')\n",
    "axes11.tick_params(axis='y', labelcolor='C4')\n",
    "\n",
    "axes21.plot(timeDom[:-1:], uPhyLin[:-1:], color='C4')\n",
    "axes21.tick_params(axis='y', labelcolor='C4')\n",
    "\n",
    "axes31.plot(timeDom[:-1:], uMessung[:-1:], color='C4')\n",
    "axes31.tick_params(axis='y', labelcolor='C4')\n",
    "\n",
    "axes10.set_ylabel(r'$z_2$ / $m$')\n",
    "axes11.set_ylabel(r'$u_{\\mathrm{A}}$ / $V$', color='C4')\n",
    "axes20.set_ylabel(r'$z_2$ / $m$')\n",
    "axes21.set_ylabel(r'$u_{\\mathrm{A}}$ / $V$', color='C4')\n",
    "axes30.set_ylabel(r'$z_2$ / $m$')\n",
    "axes31.set_ylabel(r'$u_{\\mathrm{A}}$ / $V$', color='C4')\n",
    "axes30.set_xlabel(r'Zeit / $s$')\n",
    "\n",
    "axes10.title.set_text('physikalisch nichtlinear')\n",
    "axes20.title.set_text('physikalisch linearisiert')\n",
    "axes30.title.set_text('identifiziert')\n",
    "\n",
    "axes10.grid()\n",
    "axes20.grid()\n",
    "axes30.grid()\n",
    "plt.show()"
   ]
  },
  {
   "cell_type": "code",
   "execution_count": null,
   "metadata": {},
   "outputs": [],
   "source": []
  },
  {
   "cell_type": "code",
   "execution_count": null,
   "metadata": {},
   "outputs": [],
   "source": []
  },
  {
   "cell_type": "code",
   "execution_count": null,
   "metadata": {},
   "outputs": [],
   "source": []
  },
  {
   "cell_type": "code",
   "execution_count": null,
   "metadata": {},
   "outputs": [],
   "source": []
  },
  {
   "cell_type": "code",
   "execution_count": null,
   "metadata": {},
   "outputs": [],
   "source": []
  },
  {
   "cell_type": "markdown",
   "metadata": {
    "hideCode": true,
    "hidePrompt": true
   },
   "source": [
    "Ziel ist der Entwurf eines Zustandsreglers auf Basis des linearisierten Modells des Zweitanksystems.\n",
    "\n",
    "Dabei wird eine Zustandsrückführung durchgeführt. Diese kann wie folgt entworfen werden:\n",
    "\n",
    "1. Berechnung der Zustandstransformation:\n",
    "    \n",
    "    a) Berechnung der Kalmanschen Steuerbarkeitsmatrix\n",
    "\n",
    "    \\begin{align*}\n",
    "        S = \\left(\\mathbf{b}, A\\mathbf{b}, \\dots, A^{n-1}\\mathbf{b} \\right)\n",
    "    \\end{align*}\n",
    "\n",
    "    b) $\\mathbf{q}_1^T$ ist die letzte Zeile der inversen von $S$\n",
    "\n",
    "    c) Berechnung der Transformationsmatrix $Q$\n",
    "\n",
    "\\begin{align*}\n",
    "\\begin{pmatrix} \n",
    "q^T\\\\\n",
    "q^T A \\\\\n",
    "\\vdots \\\\\n",
    "q^T A^{n-1}\n",
    "\\end{pmatrix}\n",
    "\\end{align*}\n",
    "\n",
    "2. Berechnung der Zustandsrückführung\n",
    "\\begin{align*}\n",
    "    u = -\\overline{\\mathbf{k}}^T \\cdot \\overline{\\mathbf{x}} = -\\overline{\\mathbf{k}}^T Q \\mathbf{x}\n",
    "\\end{align*}\n",
    "\n",
    "Die Verstärkungen $\\overline{\\mathbf{k}}^T$ kann über die Ackermannformel berechnet werden."
   ]
  },
  {
   "cell_type": "code",
   "execution_count": null,
   "metadata": {
    "hideCode": true,
    "hidePrompt": true
   },
   "outputs": [],
   "source": [
    "# symbole definieren\n",
    "alpha1, alpha2, x1, x2, Ku, AT1, AT2, AS1, AS2, uA, hV1, hV2, g = sp.symbols('alpha_1, alpha_2, x_1, x_2, K_u, A_{T1}, A_{T2}, A_{S1}, A_{S2}, u_A, h_{V1}, h_{V2}, g')"
   ]
  },
  {
   "cell_type": "markdown",
   "metadata": {
    "hideCode": true,
    "hidePrompt": true
   },
   "source": [
    "### nichtlineares System"
   ]
  },
  {
   "cell_type": "markdown",
   "metadata": {
    "hideCode": true,
    "hidePrompt": true
   },
   "source": [
    "Liegt in Form der Differentialgleichungen vor:\n",
    "\n",
    "\\begin{align*}\n",
    "    dx_1 &= - A_{S,1} \\sqrt{\\frac{2g (x_1 + h_{V,1})}{A_{T,1}^2 - A_{S,1}^2}} + \\frac{K_u}{A_{T,1}} u_A \\\\\n",
    "\n",
    "    dx_2 &= \\frac{A_{S,1} A_{T,1}}{A_{T,2}} \\sqrt{\\frac{2g (x_1 + h_{V,1})}{A_{T,1}^2 - A_{S,1}^2}} - A_{S,2} \\sqrt{\\frac{2g (x_2 + h_{V,2})}{A_{T,2}^2 - A_{S,2}^2}}\n",
    "\\end{align*}\n",
    "\n",
    "mit \n",
    "\n",
    "\\begin{align*}\n",
    "    \\dot{\\mathbf{x}}(t) = \n",
    "    \\begin{pmatrix}\n",
    "    dx_1 \\\\\n",
    "    dx_2\n",
    "    \\end{pmatrix}\n",
    "\\end{align*}"
   ]
  },
  {
   "cell_type": "code",
   "execution_count": null,
   "metadata": {
    "hideCode": true,
    "hidePrompt": true
   },
   "outputs": [],
   "source": [
    "dx1 = - AS1 * sp.sqrt(2 * g / (AT1**2 - AS1**2)) * sp.sqrt(x1 + hV1) + Ku / AT1 * uA\n",
    "dx2 = - AS2 * sp.sqrt(2 * g / (AT2**2 - AS2**2)) * sp.sqrt(x2 + hV2) + AS1 * sp.sqrt(2 * g / (AT1**2 - AS1**2)) * sp.sqrt(x1 + hV1) * AT1 / AT2\n",
    "\n",
    "dx = sp.Matrix([[dx1], [dx2]]);"
   ]
  },
  {
   "cell_type": "markdown",
   "metadata": {
    "hideCode": true,
    "hidePrompt": true
   },
   "source": [
    "### Linearisierung des Systems:"
   ]
  },
  {
   "cell_type": "markdown",
   "metadata": {
    "hideCode": true,
    "hidePrompt": true
   },
   "source": [
    "Durch Nullsetzen der Ableitung in der Form $\\dot{\\mathbf{x}}(t) \\stackrel{!}{=} 0$ werden die Ruhelagen berechnet. Um nun eine konkrete Linearisierung durchzuführen, wird ein Wert gewählt, um den linearisiert wird. Aus diesem Grund wird $\\overline{u}$ als Ruhelage vorgegeben und die anderen beiden Größen daraus berechnet, in der Form:\n",
    "\n",
    "\\begin{align*}\n",
    "    \\bar{x}_1 &= \\frac{(A_{T,1}^2 - A_{S,1}^2) K_u^2}{2 (A_{T,1} A_{S,1})^2 g} \\bar{u}^2 - h_{V,1} \\\\\n",
    "    \\bar{x}_2 &= \\left(\\frac{A_{T,1} A_{S,1}}{A_{T,2} A_{S,2}}\\right)^2 \\frac{A_{T,2}^2 - A_{S,2}^2}{A_{T,1}^2 - A_{S,1}^2} (\\bar{x}_1 + h_{V,1}) - h_{V,2}\n",
    "\\end{align*}"
   ]
  },
  {
   "cell_type": "code",
   "execution_count": null,
   "metadata": {
    "hideCode": true,
    "hidePrompt": true
   },
   "outputs": [],
   "source": [
    "u_quer = sp.symbols('u_{quer}')\n",
    "x1_quer = ((AT1**2 - AS1**2) * Ku**2) / (2 * (AT1 * AS1)**2 * g) * u_quer**2 - hV1\n",
    "x2_quer = ((AT1 * AS1) / (AT2 * AS2))**2 * (AT2**2 - AS2**2) / (AT1**2 - AS1**2) * (x1_quer + hV1) - hV2\n",
    "\n",
    "# Linearisierung um die gewählte Ruhelage u_quer\n",
    "alpha1 = AS1 * sp.sqrt(g / (2 * (x1_quer + hV1) * (AT1**2 - AS1**2)))\n",
    "alpha2 = AS2 * sp.sqrt(g / (2 * (x2_quer + hV2) * (AT2**2 - AS2**2)))\n",
    "\n",
    "\n",
    "x = sp.Matrix([[x1], [x2]]);\n",
    "A = sp.Matrix([[-alpha1, 0], [AT1/AT2 * alpha1, -alpha2]])\n",
    "b = sp.Matrix([[Ku/AT1], [0]])\n",
    "cT = sp.Matrix([[0, 1]])"
   ]
  },
  {
   "cell_type": "markdown",
   "metadata": {
    "hideCode": true,
    "hidePrompt": true
   },
   "source": [
    "Damit erhalten wir folgendes System, linearisiert um die Ruhelage $\\overline{u}$. Dafür werden die neuen Koordinaten wie folgt eingeführt: \n",
    "\\begin{align*}\n",
    "\\Delta x(t) &= x(t) - \\bar{x} \\\\\n",
    "\\Delta u(t) &= u(t) - \\bar{u}\n",
    "\\end{align*}\n",
    "\n",
    "Das linearisierte System ist damit in Zustandsraumdarstellung wie folgt gegeben:\n",
    "\\begin{align*}\n",
    "    \\Delta \\dot{x}(t) &= A \\cdot \\Delta x(t) + b \\cdot \\Delta u(t) \\\\\n",
    "    y(t) &= c^T \\Delta x(t)\n",
    "\\end{align*}\n",
    "\n",
    "Ausgeschrieben erhält man so das System:\n",
    "\n",
    "\\begin{align*}\n",
    "\n",
    "\\Delta \\dot{x}(t) = \n",
    "\\begin{bmatrix} \n",
    "-\\alpha_1 & 0 \\\\\n",
    "\\frac{A_{T,1}}{A_{T,2}} \\cdot \\alpha_1 & -\\alpha_2\n",
    "\\end{bmatrix}\n",
    "\\cdot \\Delta x(t) + \n",
    "\\begin{bmatrix} \n",
    "\\frac{K_u}{A_{T,1}} \\\\\n",
    "0\n",
    "\\end{bmatrix}\n",
    "\\cdot \\Delta u(t)\n",
    "\n",
    "\\end{align*}\n",
    "\n",
    "\\begin{align*}\n",
    "\\Delta y(t) =\n",
    "\\begin{bmatrix}\n",
    "0 & 1\n",
    "\\end{bmatrix}\n",
    "\\cdot \\Delta x(t)\n",
    "\\end{align*}\n",
    "\n",
    "mit \n",
    "\n",
    "\\begin{align*}\n",
    "\\alpha_1 = A_{ab,1} \\cdot \\sqrt{\\frac{g}{2\\left(\\overline{z}_1+\\overline{h}_{V,1}\\right)\\left(A^2_{T,1}-A^2_{ab,1}\\right)}}\n",
    "\\end{align*}\n",
    "\n",
    "\\begin{align*}\n",
    "\\alpha_2 = A_{ab,2} \\cdot \\sqrt{\\frac{g}{2\\left(\\overline{z}_2+\\overline{h}_{V,2}\\right)\\left(A^2_{T,2}-A^2_{ab,2}\\right)}}\n",
    "\\end{align*}"
   ]
  },
  {
   "cell_type": "markdown",
   "metadata": {
    "hideCode": true,
    "hidePrompt": true
   },
   "source": [
    "### Transformation des Systems in RNF"
   ]
  },
  {
   "cell_type": "markdown",
   "metadata": {
    "hideCode": true,
    "hidePrompt": true
   },
   "source": [
    "Entsprechend der oben beschriebenen Vorgehensweise wird nun das linearisierte System in die Regelungsnormalform (RNF) transformiert:"
   ]
  },
  {
   "cell_type": "code",
   "execution_count": null,
   "metadata": {
    "hideCode": true,
    "hidePrompt": true
   },
   "outputs": [],
   "source": [
    "# Berechnung der Steuerbarkeitsmatrix\n",
    "S = sp.Matrix(sp.BlockMatrix([b, A*b]))\n",
    "\n",
    "# Berechnung des Vektors\n",
    "qT = S.inv()[-1, :]\n",
    "\n",
    "# Berechnung der Transformationsmatrix Q (in die RNF)\n",
    "Q = sp.Matrix(sp.BlockMatrix([[qT], [qT * A]]))\n",
    "\n",
    "# Transformation des Systems in RNF\n",
    "A_rnf = Q * A * Q.inv()\n",
    "b_rnf = Q * b\n",
    "cT_rnf = cT * Q.inv()"
   ]
  },
  {
   "cell_type": "markdown",
   "metadata": {
    "hideCode": true,
    "hidePrompt": true
   },
   "source": [
    "### Übergang zu numerischen Werten"
   ]
  },
  {
   "cell_type": "code",
   "execution_count": null,
   "metadata": {
    "hideCode": true,
    "hidePrompt": true
   },
   "outputs": [],
   "source": [
    "# diese Werte werden nachher benötigt, um die Symbole zu ersetzen\n",
    "settings = {AS1: st.AS1, \n",
    "            AS2: st.AS2, \n",
    "            AT1: st.AT1, \n",
    "            AT2: st.AT2, \n",
    "            g: st.g, \n",
    "            Ku: st.Ku, \n",
    "            hV1: st.hV1, \n",
    "            hV2: st.hV2, \n",
    "            uA: st.uA0, \n",
    "            u_quer:2.6        # entspricht also 6.4 (=uA0) + 2.6 = 9V; um diesen Wert wird linearisiert\n",
    "            }"
   ]
  },
  {
   "cell_type": "code",
   "execution_count": null,
   "metadata": {
    "hideCode": true,
    "hidePrompt": true
   },
   "outputs": [],
   "source": [
    "# Berechnung der Matrizen\n",
    "A_num = A.subs(settings)\n",
    "b_num = b.subs(settings)\n",
    "cT_num = cT.subs(settings)\n",
    "\n",
    "# Berechnung der transformierten Matrizen\n",
    "A_rnf_num = A_rnf.subs(settings)\n",
    "b_rnf_num = b_rnf.subs(settings)\n",
    "Q_num = np.matrix(Q.subs(settings))\n",
    "\n",
    "# dementsprechend auch die Ruhelagen für x1 und x2 quer berechnen\n",
    "# Achtung: das ist der Ruhelagewert in den ursprünglichen nichtlinearen Koordinaten\n",
    "x1_quer_num = x1_quer.subs(settings)\n",
    "x2_quer_num = x2_quer.subs(settings)\n",
    "u_quer_num = u_quer.subs(settings)"
   ]
  },
  {
   "cell_type": "code",
   "execution_count": null,
   "metadata": {
    "hideCode": true,
    "hidePrompt": true
   },
   "outputs": [],
   "source": [
    "# Vorgabe von geeigneten Polen für die Ackermannformel\n",
    "poles = [-0.5, -1]\n",
    "kT = control.acker(A_rnf_num, b_rnf_num, poles)"
   ]
  },
  {
   "cell_type": "markdown",
   "metadata": {
    "hideCode": true,
    "hidePrompt": true
   },
   "source": [
    "## Simulation"
   ]
  },
  {
   "cell_type": "markdown",
   "metadata": {
    "hideCode": true,
    "hidePrompt": true
   },
   "source": [
    "### Definitionen"
   ]
  },
  {
   "cell_type": "markdown",
   "metadata": {
    "hideCode": true,
    "hidePrompt": true
   },
   "source": [
    "Definition nichtlineares Modell"
   ]
  },
  {
   "cell_type": "code",
   "execution_count": null,
   "metadata": {
    "hideCode": true,
    "hidePrompt": true
   },
   "outputs": [],
   "source": [
    "def nonLinSys(t, z, uA):\n",
    "    z1 = z[0]\n",
    "    z2 = z[1]\n",
    "\n",
    "    if z1 < 0:\n",
    "        z1 = 0\n",
    "\n",
    "    if z2 < 0:\n",
    "        z2 = 0\n",
    "        \n",
    "    hV1 = 0.055\n",
    "    hV2 = 0.055\n",
    "    \n",
    "    dz = np.zeros(2)\n",
    "    dz[0] = 0.00216625315586689 * (uA - 6.4) - 0.0127646468529449 * np.sqrt(2) * np.sqrt(hV1 + z1)\n",
    "    dz[1] = 0.0127646468529449 * np.sqrt(2) * np.sqrt(hV1 + z1) - 0.00908683019582126 * np.sqrt(2) * np.sqrt(hV2 + z2)\n",
    "\n",
    "    return dz"
   ]
  },
  {
   "cell_type": "markdown",
   "metadata": {
    "hideCode": true,
    "hidePrompt": true
   },
   "source": [
    "Definition linearisiertes Modell"
   ]
  },
  {
   "cell_type": "code",
   "execution_count": null,
   "metadata": {
    "hideCode": true,
    "hidePrompt": true
   },
   "outputs": [],
   "source": [
    "def linSys(t, x, uA):\n",
    "    if x[0] < 0:\n",
    "        x[0] = 0\n",
    "\n",
    "    if x[0] < 0:\n",
    "        x[0] = 0\n",
    "\n",
    "    # der Zustand muss in die linearisierten Koordinaten (oben mit den Delta Koordinaten bezeichnet) gebracht werden:\n",
    "    Delta_x = np.array([[x[0] -  x1_quer_num], [x[1] -  x2_quer_num]])\n",
    "\n",
    "    Delta_u = uA - u_quer_num\n",
    "\n",
    "    dx = A_num@Delta_x + b_num * (Delta_u - 6.4)\n",
    "    return np.reshape(dx, -1)"
   ]
  },
  {
   "cell_type": "markdown",
   "metadata": {
    "hideCode": true,
    "hidePrompt": true
   },
   "source": [
    "Definition Steuerung\n",
    "\n",
    "Bei dieser flachheitsbasierter Steuerung lässt sich der Systemeingang $u_{ref}(t)$ folgendermaßen berechnen:\n",
    "\n",
    "\\begin{align*}\n",
    "    u_{\\text{ref}}(t) &= a_2 \\ddot{\\eta}_{\\text{ref}}(t) + a_1 \\dot{\\eta}_{\\text{ref}}(t) + a_0 \\eta_{\\text{ref}}(t) \\\\\n",
    "    a_2 &= 1\n",
    "\\end{align*}\n",
    "\n",
    "Die $a_n$ Koeffizienten kommen aus der $A$ Matrix der Regelungsnormalform:\n",
    "\n",
    "\\begin{align*}\n",
    "    A = \\begin{pmatrix} \n",
    "    0 & 1 \\\\ \n",
    "    -a_{0} & -a_{1} \n",
    "    \\end{pmatrix}\n",
    "\\end{align*}"
   ]
  },
  {
   "cell_type": "code",
   "execution_count": null,
   "metadata": {
    "hideCode": true,
    "hidePrompt": true
   },
   "outputs": [],
   "source": [
    "class Steuerung:\n",
    "    def __init__(self, z20, z21, t0, t1, a0, a1, b):\n",
    "        self.z20 = z20\n",
    "        self.z21 = z21\n",
    "        self.t0 = t0\n",
    "        self.t1 = t1\n",
    "        self.dt = t1 - t0\n",
    "        self.a0 = a0\n",
    "        self.a1 = a1\n",
    "        self.b = b\n",
    "\n",
    "        tau = sp.symbols('\\\\tau')\n",
    "        self.phi = 6 * tau ** 5 - 15 * tau ** 4 + 10 * tau ** 3\n",
    "        self.dphi = self.phi.diff(tau)\n",
    "        self.ddphi = self.phi.diff(tau, 2)\n",
    "        \n",
    "        self.z2r = lambda t: self.z20 + (self.z21 - self.z20) * self.phi.subs({tau: t / self.dt}) if 0 <= t <= self.dt else z20 if t < 0 else self.z21 \n",
    "        self.dz2r = lambda t: (self.z21 - self.z20) * self.dphi.subs({tau: t / self.dt}) / self.dt if 0 < t < self.dt else 0\n",
    "        self.ddz2r = lambda t: (self.z21 - self.z20) * self.ddphi.subs({tau: t / self.dt}) / self.dt ** 2 if 0 < t < self.dt else 0\n",
    "        self.uAr = lambda t: 1/ self.b * (self.ddz2r(t) + self.a1 * self.dz2r(t) + self.a0 * self.z2r(t))\n",
    "\n",
    "    def run(self, t):\n",
    "        return self.z2r(t), self.dz2r(t), self.uAr(t)    "
   ]
  },
  {
   "cell_type": "markdown",
   "metadata": {
    "hideCode": true,
    "hidePrompt": true
   },
   "source": [
    "Definition Regler"
   ]
  },
  {
   "cell_type": "code",
   "execution_count": null,
   "metadata": {
    "hideCode": true,
    "hidePrompt": true
   },
   "outputs": [],
   "source": [
    "# gib mir alles nichtlinear und ich gebe nichtlinear zurück\n",
    "class ReglerZustand:\n",
    "    def __init__(self, kT):\n",
    "        self.kT = kT[0]\n",
    "\n",
    "    def run(self, x):\n",
    "\n",
    "        return -self.kT * x"
   ]
  },
  {
   "cell_type": "code",
   "execution_count": null,
   "metadata": {
    "hideCode": true,
    "hidePrompt": true
   },
   "outputs": [],
   "source": [
    "timeDom = np.linspace(0, 200, 1001)\n",
    "z0 = [0, 0]\n",
    "dt = 150\n",
    "\n",
    "regler = ReglerZustand(kT)\n",
    "steuerung = Steuerung(-x2_quer_num, 0, 0, dt, -A_rnf_num[-1, 0], -A_rnf_num[-1, 1], b_rnf_num[1])"
   ]
  },
  {
   "cell_type": "markdown",
   "metadata": {
    "hideCode": true,
    "hidePrompt": true
   },
   "source": [
    "### Regler ohne Steuerung"
   ]
  },
  {
   "cell_type": "markdown",
   "metadata": {
    "hideCode": true,
    "hidePrompt": true
   },
   "source": [
    "#### Simulation"
   ]
  },
  {
   "cell_type": "markdown",
   "metadata": {
    "hideCode": true,
    "hidePrompt": true
   },
   "source": [
    "**Model nlin (ohne Steuerung):**\n",
    "\n",
    "Der Zustandsregler kriegt den nichtlinearisierten Systemzustand. Dieser muss in die linearisierten Koordinaten gebracht werden und durch die $Q$ Matrix in die RNF transformiert werden.\n",
    "\n",
    "Dieser Fehler ist im Falle eines Zustandsreglers zweidimensional. Er wird anschließend mit dem kT multipliziert, was den Reglerausgang ergibt. Die Zustände, welche verwendet werden um den Fehler zu berechnen müssen deshalb transformiert werden, da auch die Matrizen, welche zur Berechnung der Reglerverstärkung kT herangezogen wurden, in der RNF waren.\n",
    "\n",
    "Auf den Reglerausgang muss dann noch der Anteil der Linearisierung dazuaddiert werden, um den Output in nichtlinearen Koordinaten zu erhalten."
   ]
  },
  {
   "cell_type": "code",
   "execution_count": null,
   "metadata": {
    "hideCode": true,
    "hidePrompt": true
   },
   "outputs": [],
   "source": [
    "# Simulation nichtlineares Modell\n",
    "zNichtLin = np.zeros((2, len(timeDom)))\n",
    "uNichtLin = np.zeros((len(timeDom),))\n",
    "                   \n",
    "for idx, _t in enumerate(timeDom[1:]):\n",
    "    z0NichtLin = zNichtLin[:, idx]\n",
    "\n",
    "    # der Zustand muss in die linearisierten Koordinaten (oben mit den Delta Koordinaten bezeichnet) gebracht werden:\n",
    "    Delta_x_1 = z0NichtLin[0] -  x1_quer_num\n",
    "    Delta_x_2 = z0NichtLin[1] -  x2_quer_num\n",
    "    Delta_x = [[Delta_x_1], [Delta_x_2]]\n",
    "    \n",
    "    x_rnf = Q_num * Delta_x\n",
    "    \n",
    "    uNichtLin[idx] = regler.run(x_rnf)\n",
    "\n",
    "    # die Spannung (bis jetzt in den linearen Koordinaten) in die nlin Koordinaten überführen\n",
    "    uNichtLin[idx] += u_quer_num\n",
    "\n",
    "    # die Grundspannung dazuaddieren\n",
    "    uNichtLin[idx] += st.uA0\n",
    "\n",
    "    # Stellgrößenbeschränkung\n",
    "    if uNichtLin[idx] < 0:\n",
    "        uNichtLin[idx] = 0\n",
    "    elif uNichtLin[idx] > 12:\n",
    "        uNichtLin[idx] = 12\n",
    "\n",
    "    resNichtLin = solve_ivp(nonLinSys, [timeDom[idx], timeDom[idx + 1]], z0NichtLin, args=(uNichtLin[idx],))\n",
    "    zNichtLin[:, idx + 1] = resNichtLin.y.T[-1, :]"
   ]
  },
  {
   "cell_type": "markdown",
   "metadata": {
    "hideCode": true,
    "hidePrompt": true
   },
   "source": [
    "**Model lin (ohne Steuerung):**\n",
    "\n",
    "Der implementierte Zustandsregler erwartet den übergebenen Zustand in nichtlinearen Koordinaten, da er sie intern umrechnet. Aus diesem Grund muss man sich also vergewissern, dass man ihm den richtigen Zustand übergibt."
   ]
  },
  {
   "cell_type": "code",
   "execution_count": null,
   "metadata": {
    "hideCode": true,
    "hidePrompt": true
   },
   "outputs": [],
   "source": [
    "# Simulation linearisiertes Modell\n",
    "zLin = np.zeros((2, len(timeDom)))\n",
    "uLin = np.zeros((len(timeDom),))\n",
    "                   \n",
    "for idx, _t in enumerate(timeDom[1:]):\n",
    "    z0Lin = zLin[:, idx]\n",
    "\n",
    "    # der Zustand muss in die linearisierten Koordinaten (oben mit den Delta Koordinaten bezeichnet) gebracht werden:\n",
    "    Delta_x_1 = z0Lin[0] -  x1_quer_num\n",
    "    Delta_x_2 = z0Lin[1] -  x2_quer_num\n",
    "    Delta_x = [[Delta_x_1], [Delta_x_2]]\n",
    "    \n",
    "    x_rnf = Q_num * Delta_x\n",
    "    \n",
    "    uLin[idx] = regler.run(x_rnf)\n",
    "\n",
    "    # die Spannung (bis jetzt in den linearen Koordinaten) in die nlin Koordinaten überführen\n",
    "    uLin[idx] += u_quer_num\n",
    "\n",
    "    # die Grundspannung dazuaddieren\n",
    "    uLin[idx] += st.uA0\n",
    "\n",
    "    # Stellgrößenbeschränkung\n",
    "    if uLin[idx] < 0:\n",
    "        uLin[idx] = 0\n",
    "    elif uLin[idx] > 12:\n",
    "        uLin[idx] = 12\n",
    "\n",
    "    resLin = solve_ivp(linSys, [timeDom[idx], timeDom[idx + 1]], z0Lin, args=(uLin[idx],))\n",
    "    zLin[:, idx + 1] = resLin.y.T[-1, :]"
   ]
  },
  {
   "cell_type": "markdown",
   "metadata": {
    "hideCode": true,
    "hidePrompt": true
   },
   "source": [
    "#### Ergebnisse"
   ]
  },
  {
   "cell_type": "code",
   "execution_count": null,
   "metadata": {
    "hideCode": true,
    "hidePrompt": true
   },
   "outputs": [],
   "source": [
    "plt.close()\n",
    "\n",
    "fig, (axes10, axes20) = plt.subplots(2, 1, figsize=(12,8), sharex=True)\n",
    "\n",
    "axes10.plot(timeDom, zNichtLin[0,:], label='HeightT1', color='tab:orange')\n",
    "axes10.plot(timeDom, zNichtLin[1,:], label='HeightT2', color='tab:green')\n",
    "axes20.plot(timeDom, zLin[0,:], label='HeightT1', color='tab:orange')\n",
    "axes20.plot(timeDom, zLin[1,:], label='HeightT2', color='tab:green')\n",
    "\n",
    "axes11 = axes10.twinx()\n",
    "axes21 = axes20.twinx()\n",
    "\n",
    "axes11.plot(timeDom, uNichtLin, label='Spannung', color='tab:blue')\n",
    "axes21.plot(timeDom, uLin, label='Spannung', color='tab:blue')\n",
    "\n",
    "axes11.tick_params(axis='y', labelcolor='tab:blue')\n",
    "axes21.tick_params(axis='y', labelcolor='tab:blue')\n",
    "\n",
    "axes11.set_ylabel(r'$u_{\\mathrm{A}}$ / $V$', color='tab:blue')\n",
    "axes21.set_ylabel(r'$u_{\\mathrm{A}}$ / $V$', color='tab:blue')\n",
    "\n",
    "axes10.set_xlabel(r'Zeit / $s$')\n",
    "axes10.set_ylabel(r'Füllstandhöhe / $m$')\n",
    "\n",
    "axes10.legend()\n",
    "\n",
    "axes10.title.set_text('nichtlineares Modell - Zustandsregler')\n",
    "axes20.title.set_text('linearisiertes Modell - Zustandsregler')\n",
    "\n",
    "axes10.grid()\n",
    "axes20.grid()\n",
    "\n",
    "plt.show()"
   ]
  },
  {
   "cell_type": "markdown",
   "metadata": {
    "hideCode": true,
    "hidePrompt": true
   },
   "source": [
    "### Regler mit Steuerung"
   ]
  },
  {
   "cell_type": "markdown",
   "metadata": {
    "hideCode": true,
    "hidePrompt": true
   },
   "source": [
    "#### Steuerung"
   ]
  },
  {
   "cell_type": "markdown",
   "metadata": {
    "hideCode": true,
    "hidePrompt": true
   },
   "source": [
    "Stelle sicher, dass die Steuerung auf Basis der linearisierten Koordinaten entworfen wird"
   ]
  },
  {
   "cell_type": "code",
   "execution_count": null,
   "metadata": {
    "hideCode": true,
    "hidePrompt": true
   },
   "outputs": [],
   "source": [
    "# Visualisierung der Steuerung\n",
    "eta = []\n",
    "deta = []\n",
    "eingang_steuerung = []\n",
    "for idx, _t in enumerate(timeDom):\n",
    "    z2r, dz2r, uSteuerung = steuerung.run(_t)\n",
    "    eta.append(z2r)\n",
    "    deta.append(dz2r)\n",
    "    eingang_steuerung.append(uSteuerung)\n",
    "\n",
    "plt.close()\n",
    "\n",
    "fig, (axes10, axes20) = plt.subplots(2, 1, figsize=(8,6), sharex=True)\n",
    "axes10.plot(timeDom, eta, label=r'$\\eta$', color='tab:red')\n",
    "axes11 = axes10.twinx()\n",
    "\n",
    "axes11.plot(timeDom, deta, label=r'$\\dot{\\eta}$', color='tab:orange')\n",
    "axes20.plot(timeDom, eingang_steuerung)\n",
    "\n",
    "axes11.tick_params(axis='y', labelcolor='tab:orange')\n",
    "axes20.set_ylabel(r'$u_{\\mathrm{A}}$ / $V$')\n",
    "axes10.set_ylabel(r'Height / $m$')\n",
    "axes11.set_ylabel(r'$m/s$')\n",
    "axes20.set_xlabel('time')\n",
    "\n",
    "axes10.legend()\n",
    "axes11.legend()\n",
    "axes10.title.set_text('Steuerung')\n",
    "axes20.title.set_text('Spannung')\n",
    "\n",
    "axes10.grid(True)\n",
    "axes20.grid(True)\n",
    "\n",
    "plt.show()"
   ]
  },
  {
   "cell_type": "markdown",
   "metadata": {
    "hideCode": true,
    "hidePrompt": true
   },
   "source": [
    "#### Simulation"
   ]
  },
  {
   "cell_type": "markdown",
   "metadata": {
    "hideCode": true,
    "hidePrompt": true
   },
   "source": [
    "**Model nlin (Regler und Steuerung):**\n",
    "\n",
    "Die etas, die mir die Steuerung liefert sind bereits in den korrekten Koordinaten und ich muss sie dementspechend nicht mit der Q-Matrix transformieren.\n",
    "\n",
    "Auf den Reglerausgang muss dann noch der Anteil der Steuerung und jener der Linearisierung dazuaddiert werden."
   ]
  },
  {
   "cell_type": "code",
   "execution_count": null,
   "metadata": {
    "hideCode": true,
    "hidePrompt": true
   },
   "outputs": [],
   "source": [
    "# Simulation nichtlineares Modell\n",
    "zNichtLin = np.zeros((2, len(timeDom)))\n",
    "uNichtLin = np.zeros((len(timeDom),))\n",
    "                   \n",
    "for idx, _t in enumerate(timeDom[1:]):\n",
    "\n",
    "    ########### SYSTEMZUSTAND ###########\n",
    "    z0NichtLin = zNichtLin[:, idx]\n",
    "\n",
    "    # der Zustand muss in die linearisierten Koordinaten (oben mit den Delta Koordinaten bezeichnet) gebracht werden:\n",
    "    Delta_x_1 = z0NichtLin[0] -  x1_quer_num\n",
    "    Delta_x_2 = z0NichtLin[1] -  x2_quer_num\n",
    "    Delta_x = [[Delta_x_1], [Delta_x_2]]\n",
    "    \n",
    "    # Transformation in RNF\n",
    "    x_rnf = Q_num * Delta_x\n",
    "\n",
    "    ########### STEUERUNG ###########\n",
    "    z2r, dz2r, uSteuerung = steuerung.run(_t)\n",
    "    \n",
    "    x_ref_rnf = [[z2r], [dz2r]]\n",
    "    \n",
    "    ########### BERECHNUNG REGELUNG ###########\n",
    "    uNichtLin[idx] = regler.run(x_rnf - x_ref_rnf)\n",
    "\n",
    "    # Addieren der Anteil Steuerung\n",
    "    uNichtLin[idx] += uSteuerung\n",
    "\n",
    "    # # die Spannung (bis jetzt in den linearen Koordinaten) in die nlin Koordinaten überführen\n",
    "    uNichtLin[idx] += u_quer_num\n",
    "\n",
    "    # die Grundspannung dazuaddieren\n",
    "    uNichtLin[idx] += st.uA0\n",
    "\n",
    "    # Stellgrößenbeschränkung\n",
    "    if uNichtLin[idx] < 0:\n",
    "        uNichtLin[idx] = 0\n",
    "    elif uNichtLin[idx] > 12:\n",
    "        uNichtLin[idx] = 12\n",
    "\n",
    "    resNichtLin = solve_ivp(nonLinSys, [timeDom[idx], timeDom[idx + 1]], z0NichtLin, args=(uNichtLin[idx],))\n",
    "    zNichtLin[:, idx + 1] = resNichtLin.y.T[-1, :]"
   ]
  },
  {
   "cell_type": "markdown",
   "metadata": {
    "hideCode": true,
    "hidePrompt": true
   },
   "source": [
    "**Model lin (mit Steuerung, ohne Regler):**"
   ]
  },
  {
   "cell_type": "code",
   "execution_count": null,
   "metadata": {
    "hideCode": true,
    "hidePrompt": true
   },
   "outputs": [],
   "source": [
    "# Simulation nichtlineares Modell\n",
    "zLin_no_ctrl = np.zeros((2, len(timeDom)))\n",
    "uLin_no_ctrl = np.zeros((len(timeDom),))\n",
    "                   \n",
    "for idx, _t in enumerate(timeDom[1:]):\n",
    "\n",
    "    ########### SYSTEMZUSTAND ###########\n",
    "    z0Lin_no_ctrl = zLin_no_ctrl[:, idx]\n",
    "\n",
    "    ########### STEUERUNG ###########\n",
    "    _, _, uSteuerung = steuerung.run(_t)\n",
    "\n",
    "    # Spannung der Steuerung dazuaddieren\n",
    "    uLin_no_ctrl[idx] = uSteuerung\n",
    "\n",
    "    # # die Spannung (bis jetzt in den linearen Koordinaten) in die nlin Koordinaten überführen\n",
    "    uLin_no_ctrl[idx] += u_quer_num\n",
    "\n",
    "    # die Grundspannung dazuaddieren\n",
    "    uLin_no_ctrl[idx] += st.uA0\n",
    "\n",
    "    # Stellgrößenbeschränkung\n",
    "    if uLin_no_ctrl[idx] < 0:\n",
    "        uLin_no_ctrl[idx] = 0\n",
    "    elif uLin_no_ctrl[idx] > 12:\n",
    "        uLin_no_ctrl[idx] = 12\n",
    "\n",
    "    resLin_no_ctrl = solve_ivp(linSys, [timeDom[idx], timeDom[idx + 1]], z0Lin_no_ctrl, args=(uLin_no_ctrl[idx],))\n",
    "    zLin_no_ctrl[:, idx + 1] = resLin_no_ctrl.y.T[-1, :]"
   ]
  },
  {
   "cell_type": "markdown",
   "metadata": {
    "hideCode": true,
    "hidePrompt": true
   },
   "source": [
    "**Model lin (mit Steuerung, mit Regler):**"
   ]
  },
  {
   "cell_type": "code",
   "execution_count": null,
   "metadata": {
    "hideCode": true,
    "hidePrompt": true
   },
   "outputs": [],
   "source": [
    "# Simulation nichtlineares Modell\n",
    "zLin = np.zeros((2, len(timeDom)))\n",
    "uLin = np.zeros((len(timeDom),))\n",
    "                   \n",
    "for idx, _t in enumerate(timeDom[1:]):\n",
    "\n",
    "    ########### SYSTEMZUSTAND ###########\n",
    "    z0Lin = zLin[:, idx]\n",
    "\n",
    "    # der Zustand muss in die linearisierten Koordinaten (oben mit den Delta Koordinaten bezeichnet) gebracht werden:\n",
    "    Delta_x_1 = z0Lin[0] -  x1_quer_num\n",
    "    Delta_x_2 = z0Lin[1] -  x2_quer_num\n",
    "    Delta_x = [[Delta_x_1], [Delta_x_2]]\n",
    "    \n",
    "    # Transformation in RNF\n",
    "    x_rnf = Q_num * Delta_x\n",
    "\n",
    "    ########### STEUERUNG ###########\n",
    "    z2r, dz2r, uSteuerung = steuerung.run(_t)\n",
    "    \n",
    "    x_ref_rnf = [[z2r], [dz2r]]\n",
    "    \n",
    "    ########### BERECHNUNG REGELUNG ###########\n",
    "    uLin[idx] = regler.run(x_rnf - x_ref_rnf)\n",
    "\n",
    "    # Addieren Anteil Steuerung\n",
    "    uLin[idx] += uSteuerung\n",
    "\n",
    "    # die Spannung (bis jetzt in den linearen Koordinaten) in die nlin Koordinaten überführen\n",
    "    uLin[idx] += u_quer_num\n",
    "\n",
    "    # die Grundspannung dazuaddieren\n",
    "    uLin[idx] += st.uA0\n",
    "\n",
    "    # Stellgrößenbeschränkung\n",
    "    if uLin[idx] < 0:\n",
    "        uLin[idx] = 0\n",
    "    elif uLin[idx] > 12:\n",
    "        uLin[idx] = 12\n",
    "\n",
    "    resLin = solve_ivp(linSys, [timeDom[idx], timeDom[idx + 1]], z0Lin, args=(uLin[idx],))\n",
    "    zLin[:, idx + 1] = resLin.y.T[-1, :]"
   ]
  },
  {
   "cell_type": "markdown",
   "metadata": {
    "hideCode": true,
    "hidePrompt": true
   },
   "source": [
    "#### Ergebnisse"
   ]
  },
  {
   "cell_type": "code",
   "execution_count": null,
   "metadata": {
    "hideCode": true,
    "hidePrompt": true
   },
   "outputs": [],
   "source": [
    "plt.close()\n",
    "\n",
    "fig, (axes10, axes20, axes30) = plt.subplots(3, 1, figsize=(12,12), sharex=True)\n",
    "\n",
    "axes10.plot(timeDom, zNichtLin[0,:], label='HeightT1', color='tab:orange')\n",
    "axes10.plot(timeDom, zNichtLin[1,:], label='HeightT2', color='tab:green')\n",
    "axes20.plot(timeDom, zLin_no_ctrl[0,:], label='HeightT1', color='tab:orange')\n",
    "axes20.plot(timeDom, zLin_no_ctrl[1,:], label='HeightT2', color='tab:green')\n",
    "axes30.plot(timeDom, zLin[0,:], label='HeightT1', color='tab:orange')\n",
    "axes30.plot(timeDom, zLin[1,:], label='HeightT2', color='tab:green')\n",
    "\n",
    "axes11 = axes10.twinx()\n",
    "axes21 = axes20.twinx()\n",
    "axes31 = axes30.twinx()\n",
    "\n",
    "axes11.plot(timeDom, uNichtLin, label='Spannung', color='tab:blue')\n",
    "axes21.plot(timeDom, uLin_no_ctrl, label='Spannung', color='tab:blue')\n",
    "axes31.plot(timeDom, uLin, label='Spannung', color='tab:blue')\n",
    "\n",
    "axes11.tick_params(axis='y', labelcolor='tab:blue')\n",
    "axes21.tick_params(axis='y', labelcolor='tab:blue')\n",
    "axes31.tick_params(axis='y', labelcolor='tab:blue')\n",
    "\n",
    "axes11.set_ylabel(r'$u_{\\mathrm{A}}$ / $V$', color='tab:blue')\n",
    "axes21.set_ylabel(r'$u_{\\mathrm{A}}$ / $V$', color='tab:blue')\n",
    "axes31.set_ylabel(r'$u_{\\mathrm{A}}$ / $V$', color='tab:blue')\n",
    "\n",
    "axes30.set_xlabel(r'Zeit / $s$')\n",
    "axes10.set_ylabel(r'Füllstandhöhe / $m$')\n",
    "axes20.set_ylabel(r'Füllstandhöhe / $m$')\n",
    "axes30.set_ylabel(r'Füllstandhöhe / $m$')\n",
    "\n",
    "axes10.legend()\n",
    "axes20.legend()\n",
    "axes30.legend()\n",
    "\n",
    "axes10.title.set_text('nichtlineares Modell - Zustandsregler - mit Vorsteuerung')\n",
    "axes20.title.set_text('linearisiertes Modell - mit Vorsteuerung')\n",
    "axes30.title.set_text('linearisiertes Modell - Zustandsregler - mit Vorsteuerung')\n",
    "\n",
    "axes10.grid()\n",
    "axes20.grid()\n",
    "axes30.grid()\n",
    "\n",
    "plt.show()"
   ]
  },
  {
   "cell_type": "code",
   "execution_count": null,
   "metadata": {
    "hideCode": true,
    "hidePrompt": true
   },
   "outputs": [],
   "source": []
  }
 ],
 "metadata": {
  "celltoolbar": "Hide code",
  "hide_code_all_hidden": true,
  "kernelspec": {
   "display_name": "Python 3",
   "language": "python",
   "name": "python3"
  },
  "language_info": {
   "codemirror_mode": {
    "name": "ipython",
    "version": 3
   },
   "file_extension": ".py",
   "mimetype": "text/x-python",
   "name": "python",
   "nbconvert_exporter": "python",
   "pygments_lexer": "ipython3",
   "version": "3.10.8"
  },
  "latex_envs": {
   "LaTeX_envs_menu_present": true,
   "autoclose": false,
   "autocomplete": true,
   "bibliofile": "sources.bib",
   "cite_by": "apalike",
   "current_citInitial": 1,
   "eqLabelWithNumbers": true,
   "eqNumInitial": 1,
   "hotkeys": {
    "equation": "Ctrl-E",
    "itemize": "Ctrl-I"
   },
   "labels_anchors": false,
   "latex_user_defs": false,
   "report_style_numbering": false,
   "user_envs_cfg": false
  },
  "vscode": {
   "interpreter": {
    "hash": "39e0aab28808e6e7151859c4e32aabe1c5b5c776557383a337ae81208d1db476"
   }
  }
 },
 "nbformat": 4,
 "nbformat_minor": 2
}
