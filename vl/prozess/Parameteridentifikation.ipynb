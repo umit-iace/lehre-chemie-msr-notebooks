{
 "cells": [
  {
   "cell_type": "code",
   "execution_count": null,
   "id": "2c4c7e0a",
   "metadata": {},
   "outputs": [],
   "source": [
    "import numpy as np\n",
    "import matplotlib.pyplot as plt\n",
    "from scipy.signal import TransferFunction, bode, lsim\n",
    "from IPython.display import display, Image, Markdown\n",
    "from scipy import interpolate\n",
    "from scipy.optimize import least_squares\n",
    "from scipy.integrate import solve_ivp\n",
    "import pandas as pd"
   ]
  },
  {
   "cell_type": "markdown",
   "id": "05da9c82",
   "metadata": {},
   "source": [
    "# Parameteridentifikation"
   ]
  },
  {
   "cell_type": "code",
   "execution_count": null,
   "id": "400258d7",
   "metadata": {},
   "outputs": [],
   "source": [
    "imag = Image(\"../../images/hvac.png\", width=400)\n",
    "display(imag)"
   ]
  },
  {
   "cell_type": "markdown",
   "id": "b8f5b868",
   "metadata": {},
   "source": [
    "**Nichtlineares Ausgangssystem**\n",
    "\\begin{align*}         \n",
    "    \\dot{x}(t) & = -\\underbrace{\\Big(\\frac{v_{\\mathrm{m}}}{l} + \\frac{\\alpha_{\\mathrm{m}\\infty} A_{\\mathrm{M,m}}}{c_{\\mathrm{p,m}} V_{\\mathrm{m}}} \\Big)}_{p_1} x(t) + \\underbrace{\\frac{\\beta}{c_{\\mathrm{p,m}} V_{\\mathrm{m}}}}_{p_2} u(t) + \\underbrace{\\Big(\\frac{v_{\\mathrm{m}}}{l} + \\frac{\\alpha_{\\mathrm{m}\\infty} A_{\\mathrm{M,m}}}{c_{\\mathrm{p,m}} V_{\\mathrm{m}}} \\Big)}_{p_1} T_{\\infty}\\\\\n",
    "    y(t) & = x(t)\n",
    "\\end{align*}\n",
    "mit den gesuchten unbekannten Parametern\n",
    "\\begin{align*}\n",
    "    \\mathbf{\\hat{p}} & = \\Big( p_1, p_2\\Big)\n",
    "\\end{align*}"
   ]
  },
  {
   "cell_type": "markdown",
   "id": "01da28b5",
   "metadata": {},
   "source": [
    "## Messung"
   ]
  },
  {
   "cell_type": "code",
   "execution_count": null,
   "id": "ff5bf35a",
   "metadata": {},
   "outputs": [],
   "source": [
    "dfData =  pd.read_csv('messungHVAC.csv')\n",
    "dfData['DateTime'] = pd.to_timedelta(dfData['time'], unit='s')\n",
    "dfData.set_index('DateTime', inplace=True)\n",
    "dfData = dfData.resample('1S').ffill()"
   ]
  },
  {
   "cell_type": "markdown",
   "id": "0459f6b9",
   "metadata": {},
   "source": [
    "### Ruhelage\n",
    "\n",
    "\\begin{align*}         \n",
    "    0 & = -\\Big(\\frac{v_{\\mathrm{m}}}{l} + \\frac{\\alpha_{\\mathrm{m}\\infty} A_{\\mathrm{M,m}}}{c_{\\mathrm{p,m}} V_{\\mathrm{m}}} \\Big) \\bar{x} + \\frac{\\beta}{c_{\\mathrm{p,m}} V_{\\mathrm{m}}} \\bar{u} + \\Big(\\frac{v_{\\mathrm{m}}}{l} + \\frac{\\alpha_{\\mathrm{m}\\infty} A_{\\mathrm{M,m}}}{c_{\\mathrm{p,m}} V_{\\mathrm{m}}} \\Big) T_{\\infty}\\\\\n",
    "    \\bar{x} & = T_{\\infty} \\text{ für } \\bar{u} = 0  \n",
    "\\end{align*}\n"
   ]
  },
  {
   "cell_type": "code",
   "execution_count": null,
   "id": "a075ee3b",
   "metadata": {},
   "outputs": [],
   "source": [
    "bT = dfData['Pipe-T'][0:7].mean()\n",
    "display(Markdown(rf\"\"\"\n",
    "$\\bar{{T}} = {bT}$\n",
    "\"\"\"))\n",
    "dfData['Pipe-T-Norm'] = dfData['Pipe-T'][:] - bT"
   ]
  },
  {
   "cell_type": "code",
   "execution_count": null,
   "id": "dcae0d5a",
   "metadata": {},
   "outputs": [],
   "source": [
    "fig = plt.figure(figsize=(10, 5))\n",
    "fig.canvas.toolbar_visible = False\n",
    "fig.canvas.header_visible = False\n",
    "fig.canvas.footer_visible = False\n",
    "fig.subplots_adjust(bottom=0.1, top=0.93, left=0.125, right=0.9)\n",
    "\n",
    "ax1 = plt.subplot(111)\n",
    "ax1.plot(dfData['time'], dfData['Pipe-T'])\n",
    "\n",
    "ax1.grid()\n",
    "ax1.set_xlabel(r'$t$ in s')\n",
    "ax1.set_ylabel(r'$T$ in °C')\n",
    "\n",
    "ax11 = ax1.twinx()\n",
    "ax11.plot(dfData['time'], dfData['Traj y'], 'C2')\n",
    "ax11.tick_params(axis='y', colors='C2')\n",
    "ax11.set_ylabel('$u$ in -', color='C2');"
   ]
  },
  {
   "cell_type": "markdown",
   "id": "24a8a622",
   "metadata": {},
   "source": [
    "## Identifikationsdaten"
   ]
  },
  {
   "cell_type": "code",
   "execution_count": null,
   "id": "bc0f9adb",
   "metadata": {},
   "outputs": [],
   "source": [
    "dfIdent = dfData.iloc[5:420].copy()\n",
    "dfIdent.index = dfIdent.index - dfIdent.index[0]\n",
    "dfIdent['time'] = dfIdent['time'] - dfIdent['time'][0]"
   ]
  },
  {
   "cell_type": "markdown",
   "id": "61332400",
   "metadata": {},
   "source": [
    "## Systemdefinition"
   ]
  },
  {
   "cell_type": "code",
   "execution_count": null,
   "id": "def08dab",
   "metadata": {},
   "outputs": [],
   "source": [
    "def nonlinSystem(t, y, a, b, Ta):\n",
    "    dy = a * y + b * u(t) - a * Ta\n",
    "\n",
    "    return [dy]\n",
    "\n",
    "tSim = np.linspace(dfIdent['time'][0], dfIdent['time'][-1], len(dfIdent['time'].values))\n",
    "u = interpolate.interp1d(dfIdent['time'], dfIdent['Traj y'], fill_value='extrapolate')"
   ]
  },
  {
   "cell_type": "markdown",
   "id": "31cd5950",
   "metadata": {},
   "source": [
    "## 1. Variante - grafische Methode\n",
    "\n",
    "**Linearisiertes System** um die Ruhelage $(\\bar{x}, \\bar{u})$ als lineares PT$_1$-Glied\n",
    "\\begin{align*}\n",
    "    \\dot{\\tilde{y}}(t) & = a \\tilde{y}(t) + b \\tilde{u}(t) & \\Leftrightarrow && T_1 \\dot{\\tilde{y}}(t) & = \\tilde{y}(t) + K_{\\mathrm{P}} \\tilde{u}(t) \n",
    "\\end{align*}"
   ]
  },
  {
   "cell_type": "code",
   "execution_count": null,
   "id": "d97feb46",
   "metadata": {},
   "outputs": [],
   "source": [
    "KpV1 = dfIdent['Pipe-T-Norm'][-1]\n",
    "i = dfIdent['Pipe-T-Norm'][0:420].searchsorted(KpV1 * 0.63)\n",
    "T1V1 = dfIdent['time'][i]\n",
    "aV1 = - 1 / T1V1\n",
    "bV1 = - KpV1 * aV1 * 1. / 0.25 # u = [0, 0.25] = [0, 1]"
   ]
  },
  {
   "cell_type": "code",
   "execution_count": null,
   "id": "6dabc475",
   "metadata": {},
   "outputs": [],
   "source": [
    "display(Markdown(rf\"\"\"\n",
    "$K_{{\\mathrm{{p}}}} = {KpV1}$, &nbsp; $T_1 = {T1V1}$, &nbsp; $a = {aV1}$, &nbsp; $b = {bV1}$\n",
    "\"\"\"))"
   ]
  },
  {
   "cell_type": "code",
   "execution_count": null,
   "id": "674777ac",
   "metadata": {},
   "outputs": [],
   "source": [
    "fig = plt.figure(figsize=(10, 5))\n",
    "fig.canvas.toolbar_visible = False\n",
    "fig.canvas.header_visible = False\n",
    "fig.canvas.footer_visible = False\n",
    "fig.subplots_adjust(bottom=0.1, top=0.93, left=0.125, right=0.9)\n",
    "\n",
    "ax1 = plt.subplot(111)\n",
    "ax1.axvline(T1V1, linewidth=2, color='black')\n",
    "ax1.scatter(T1V1, KpV1 * 0.63, marker='o', s=100, color='C1')\n",
    "ax1.axline((T1V1, KpV1), slope=KpV1/T1V1, color='black')\n",
    "\n",
    "ax1.plot(dfIdent['time'], dfIdent['Pipe-T-Norm'])\n",
    "\n",
    "ax1.grid()\n",
    "ax1.set_xlabel(r'$t$ in s')\n",
    "ax1.set_ylabel(r'$T-\\bar{T}$ in °C')\n",
    "\n",
    "ax11 = ax1.twinx()\n",
    "ax11.plot(dfIdent['time'], dfIdent['Traj y'], 'C2')\n",
    "ax11.tick_params(axis='y', colors='C2')\n",
    "ax11.set_ylabel('$u$ in -', color='C2');"
   ]
  },
  {
   "cell_type": "markdown",
   "id": "3927da0d",
   "metadata": {},
   "source": [
    "## 2. Variante - lineares Least-Squares\n",
    "\n",
    "**Linearisiertes System** um die Ruhelage $(\\bar{x}, \\bar{u})$ als lineares PT$_1$-Glied in Differenzenform\n",
    "\\begin{align*}\n",
    "    \\tilde{y}_{k+1} & = (1 + \\check{a}) \\tilde{y}_k + \\check{b} \\tilde{u}_k\n",
    "\\end{align*}\n",
    "mit\n",
    "\\begin{align*}\n",
    "    \\check{a} & = \\Delta t\\, a, &\n",
    "    \\check{b} & = \\Delta t\\, b\n",
    "\\end{align*}"
   ]
  },
  {
   "cell_type": "code",
   "execution_count": null,
   "id": "c2a5fca5",
   "metadata": {},
   "outputs": [],
   "source": [
    "yk1 = dfIdent['Pipe-T-Norm'][1:]\n",
    "yk = dfIdent['Pipe-T-Norm'][0:-1]\n",
    "uk = dfIdent['Traj y'][0:-1]"
   ]
  },
  {
   "cell_type": "code",
   "execution_count": null,
   "id": "6011a3fb",
   "metadata": {},
   "outputs": [],
   "source": [
    "Y = yk1.values\n",
    "S = np.ones((len(Y), 2))\n",
    "S[:, 0] = yk.values\n",
    "S[:, 1] = uk.values"
   ]
  },
  {
   "cell_type": "code",
   "execution_count": null,
   "id": "8d06e065",
   "metadata": {},
   "outputs": [],
   "source": [
    "p = np.linalg.inv(S.T.dot(S)).dot(S.T).dot(Y)\n",
    "aV2 = p[0] - 1\n",
    "bV2 = p[1]"
   ]
  },
  {
   "cell_type": "code",
   "execution_count": null,
   "id": "5762da10",
   "metadata": {},
   "outputs": [],
   "source": [
    "display(Markdown(rf\"\"\"\n",
    "$a = {aV2}$, &nbsp; $b = {bV2}$\n",
    "\"\"\"))"
   ]
  },
  {
   "cell_type": "markdown",
   "id": "4edf4da5",
   "metadata": {},
   "source": [
    "## 3. Variante - nichtlineares Least-Squares\n",
    "\n",
    "**Nichtlineares System**\n",
    "\\begin{align*}         \n",
    "    \\dot{y}(t) & = -\\Big(\\frac{v_{\\mathrm{m}}}{l} + \\frac{\\alpha_{\\mathrm{m}\\infty} A_{\\mathrm{M,m}}}{c_{\\mathrm{p,m}} V_{\\mathrm{m}}} \\Big) y(t) + \\frac{\\beta}{c_{\\mathrm{p,m}} V_{\\mathrm{m}}} u(t) + \\Big(\\frac{v_{\\mathrm{m}}}{l} + \\frac{\\alpha_{\\mathrm{m}\\infty} A_{\\mathrm{M,m}}}{c_{\\mathrm{p,m}} V_{\\mathrm{m}}} \\Big) T_{\\infty}\\\\\n",
    "    & = - a y(t) + b u(t) + a T_{\\infty}\n",
    "\\end{align*}"
   ]
  },
  {
   "cell_type": "code",
   "execution_count": null,
   "id": "dce48080",
   "metadata": {},
   "outputs": [],
   "source": [
    "def optSys(p):\n",
    "    y0 = [dfIdent['Pipe-T'][0]]\n",
    "    res = solve_ivp(nonlinSystem,\n",
    "                    [tSim[0], tSim[-1]],\n",
    "                    y0,\n",
    "                    t_eval=tSim, \n",
    "                    args=(p[0], p[1], dfIdent['Pipe-T'][0]))\n",
    "    return dfIdent['Pipe-T'].values - res.y[0]"
   ]
  },
  {
   "cell_type": "code",
   "execution_count": null,
   "id": "4419e561",
   "metadata": {},
   "outputs": [],
   "source": [
    "y0 = np.array([0.01, 0.01])\n",
    "resLq = least_squares(optSys, y0)\n",
    "aV3 = resLq.x[0]\n",
    "bV3 = resLq.x[1]"
   ]
  },
  {
   "cell_type": "markdown",
   "id": "f4b40bf1",
   "metadata": {},
   "source": [
    "## Validierung"
   ]
  },
  {
   "cell_type": "code",
   "execution_count": null,
   "id": "6acd0b53",
   "metadata": {},
   "outputs": [],
   "source": [
    "display(Markdown(rf\"\"\"\n",
    "|                     | Variante 1  | Variante 2  | Variante 3 |\n",
    "| :---                | :----:      | :----:      | ---:       |\n",
    "| $a$                 | {aV1}       | {aV2}       | {aV3}      |\n",
    "| $b$                 | {bV1}       | {bV2}       | {bV3}      |\n",
    "\"\"\"))"
   ]
  },
  {
   "cell_type": "code",
   "execution_count": null,
   "id": "f1ffa2a8",
   "metadata": {},
   "outputs": [],
   "source": [
    "y0 = [dfIdent['Pipe-T'][0]]\n",
    "resV1 = solve_ivp(nonlinSystem,\n",
    "                  [tSim[0], tSim[-1]],\n",
    "                  y0,\n",
    "                  t_eval=tSim, \n",
    "                  args=(aV1, bV1, dfIdent['Pipe-T'][0]))\n",
    "resV2 = solve_ivp(nonlinSystem,\n",
    "                  [tSim[0], tSim[-1]],\n",
    "                  y0,\n",
    "                  t_eval=tSim, \n",
    "                  args=(aV2, bV2, dfIdent['Pipe-T'][0]))\n",
    "resV3 = solve_ivp(nonlinSystem,\n",
    "                  [tSim[0], tSim[-1]],\n",
    "                  y0,\n",
    "                  t_eval=tSim, \n",
    "                  args=(aV3, bV3, dfIdent['Pipe-T'][0]))"
   ]
  },
  {
   "cell_type": "code",
   "execution_count": null,
   "id": "d5e98bf2",
   "metadata": {},
   "outputs": [],
   "source": [
    "fig = plt.figure(figsize=(10, 5))\n",
    "fig.canvas.toolbar_visible = False\n",
    "fig.canvas.header_visible = False\n",
    "fig.canvas.footer_visible = False\n",
    "fig.subplots_adjust(bottom=0.1, top=0.93, left=0.125, right=0.9)\n",
    "ax1 = plt.subplot(111)\n",
    "ax1.plot(dfIdent['time'], dfIdent['Pipe-T'])\n",
    "ax1.plot(resV1.t, resV1.y.T, label='Variante 1')\n",
    "ax1.plot(resV2.t, resV2.y.T, '-.', label='Variante 2')\n",
    "ax1.plot(resV3.t, resV3.y.T, '--', label='Variante 3')\n",
    "\n",
    "ax1.grid()\n",
    "ax1.set_xlabel(r'$t$ in s')\n",
    "ax1.set_ylabel(r'$T$ in °C')\n",
    "\n",
    "handlesAx1, labelsAx1 = ax1.get_legend_handles_labels()\n",
    "ax1.legend([handle for i, handle in enumerate(handlesAx1)],\n",
    "           [label for i, label in enumerate(labelsAx1)],\n",
    "           bbox_to_anchor=(0., 1.02, 1., .102), loc=3,\n",
    "           ncol=3, mode=\"expand\", borderaxespad=0., framealpha=0.5)\n",
    "\n",
    "ax11 = ax1.twinx()\n",
    "ax11.plot(dfIdent['time'], dfIdent['Traj y'], 'C2')\n",
    "ax11.tick_params(axis='y', colors='C2')\n",
    "ax11.set_ylabel(r'$u$ in -', color='C2')\n",
    "plt.show()"
   ]
  },
  {
   "cell_type": "code",
   "execution_count": null,
   "id": "25bacd85",
   "metadata": {},
   "outputs": [],
   "source": []
  }
 ],
 "metadata": {
  "author": "y",
  "kernelspec": {
   "display_name": "Python 3 (ipykernel)",
   "language": "python",
   "name": "python3"
  },
  "language_info": {
   "codemirror_mode": {
    "name": "ipython",
    "version": 3
   },
   "file_extension": ".py",
   "mimetype": "text/x-python",
   "name": "python",
   "nbconvert_exporter": "python",
   "pygments_lexer": "ipython3",
   "version": "3.10.9"
  },
  "latex_envs": {
   "LaTeX_envs_menu_present": true,
   "autoclose": false,
   "autocomplete": true,
   "bibliofile": "sources.bib",
   "cite_by": "apalike",
   "current_citInitial": 1,
   "eqLabelWithNumbers": true,
   "eqNumInitial": 1,
   "hotkeys": {
    "equation": "Ctrl-E",
    "itemize": "Ctrl-I"
   },
   "labels_anchors": false,
   "latex_user_defs": false,
   "report_style_numbering": false,
   "user_envs_cfg": false
  }
 },
 "nbformat": 4,
 "nbformat_minor": 5
}
