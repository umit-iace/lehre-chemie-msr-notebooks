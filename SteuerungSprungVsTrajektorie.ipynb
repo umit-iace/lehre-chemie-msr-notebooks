{
 "cells": [
  {
   "cell_type": "code",
   "execution_count": null,
   "id": "cf6344e3",
   "metadata": {},
   "outputs": [],
   "source": [
    "%matplotlib widget\n",
    "\n",
    "import ipywidgets as widgets\n",
    "from ipywidgets import HBox, VBox, jslink, Box, Layout\n",
    "import numpy as np\n",
    "import matplotlib.pyplot as plt\n",
    "import matplotlib.dates as mdates\n",
    "from IPython.display import display, Image\n",
    "from scipy.integrate import solve_ivp"
   ]
  },
  {
   "cell_type": "code",
   "execution_count": null,
   "id": "5f8c50fd",
   "metadata": {},
   "outputs": [],
   "source": [
    "def make_box_layout():\n",
    "     return widgets.Layout(\n",
    "        border='solid 1px black',\n",
    "        margin='0px 5px 5px 0px',\n",
    "        padding='2px 2px 2px 2px'\n",
    "     )"
   ]
  },
  {
   "cell_type": "markdown",
   "id": "75fefb4f",
   "metadata": {},
   "source": [
    "# Steuerung: Vergleich Sprung vs. Trajektorie"
   ]
  },
  {
   "cell_type": "code",
   "execution_count": null,
   "id": "6490dbc9",
   "metadata": {},
   "outputs": [],
   "source": [
    "imag = Image(\"images/feedforward.png\", width=600)\n",
    "display(imag)"
   ]
  },
  {
   "cell_type": "markdown",
   "id": "b1c791fc",
   "metadata": {},
   "source": [
    "## System erster Ordnung\n",
    "\n",
    "\\begin{align*}\n",
    "    \\dot{y}(t) + a y(t) & = b u(t)\n",
    "\\end{align*}\n",
    "mit Steuerung\n",
    "\\begin{align*}\n",
    "    u_{\\mathrm{r}}(t) & = \\frac{1}{b}\\left(\\dot{y}_{\\mathrm{r}}(t) + a y_{\\mathrm{r}}(t) \\right)\n",
    "\\end{align*}"
   ]
  },
  {
   "cell_type": "markdown",
   "id": "06f5df35",
   "metadata": {},
   "source": [
    "__Definition Parameter__"
   ]
  },
  {
   "cell_type": "code",
   "execution_count": null,
   "id": "18a4b319",
   "metadata": {},
   "outputs": [],
   "source": [
    "tSim = np.linspace(0, 5, 1001)\n",
    "x0 = [0]\n",
    "t0 = 1"
   ]
  },
  {
   "cell_type": "markdown",
   "id": "a76386e8",
   "metadata": {},
   "source": [
    "**Simulation**"
   ]
  },
  {
   "cell_type": "code",
   "execution_count": null,
   "id": "3b7d0ae0",
   "metadata": {},
   "outputs": [],
   "source": [
    "output = widgets.Output()\n",
    "\n",
    "with output:\n",
    "    fig = plt.figure(figsize=(10, 5))\n",
    "    ax = plt.subplot(111)\n",
    "\n",
    "plt.subplots_adjust(wspace=0.2, hspace=0.3)\n",
    "fig.canvas.toolbar_visible = False\n",
    "fig.canvas.header_visible = False\n",
    "fig.canvas.footer_visible = False\n",
    "fig.subplots_adjust(bottom=0.1, top=0.93, left=0.125, right=0.9)\n",
    "\n",
    "ax.set_xlim([0, tSim[-1]]) \n",
    "ax.set_ylim([-0.05, 3.55]) \n",
    "ax.grid() \n",
    "ax.set_xlabel(r\"$t$\")\n",
    "\n",
    "uSys, = ax.plot([], [], label=r'Steuerung $u_{\\mathrm{r}}$')\n",
    "ySys, = ax.plot([], [], label=r'Prozess $y$')\n",
    "yRefSys, = ax.plot([], [], label=r'Referebz $y_{\\mathrm{r}}$')\n",
    "\n",
    "handlesAx, labelsAx = ax.get_legend_handles_labels()\n",
    "fig.legend([handle for i, handle in enumerate(handlesAx)],\n",
    "           [label for i, label in enumerate(labelsAx)],\n",
    "           bbox_to_anchor=(0.13, 0.94, 0.7675, .15), loc=3,\n",
    "           ncol=3, mode=\"expand\", borderaxespad=0., framealpha=0.5)\n",
    "\n",
    "radioU = widgets.RadioButtons(options=['Sprung', 'Trajektorie'],\n",
    "                              description='Eingang:',\n",
    "                              disabled=False)\n",
    "sliderDt = widgets.FloatSlider(value=3,\n",
    "                               min=1,\n",
    "                               max=4,\n",
    "                               step=1,\n",
    "                               description=r'$\\Delta t$')\n",
    "sliderYd = widgets.FloatSlider(value=2,\n",
    "                              min=0.5,\n",
    "                              max=2.5,\n",
    "                              step=0.5,\n",
    "                              description=r'$y_{\\mathrm{d}}$')\n",
    "sliderA = widgets.FloatSlider(value=3,\n",
    "                              min=1,\n",
    "                              max=4,\n",
    "                              step=1,\n",
    "                              description='a')\n",
    "sliderB = widgets.FloatSlider(value=4,\n",
    "                              min=3,\n",
    "                              max=5,\n",
    "                              step=1,\n",
    "                              description='b')\n",
    "\n",
    "def calcSystem(_):\n",
    "    dt = sliderDt.value\n",
    "    yd = sliderYd.value\n",
    "\n",
    "    a = sliderA.value\n",
    "    b = sliderB.value\n",
    "\n",
    "    def prozess(t, x, u, a, b):\n",
    "        dx = -a * x[0] + b * u(t)\n",
    "        return dx\n",
    "    \n",
    "    if radioU.value == 'Sprung':\n",
    "        yr = lambda t: yd if t > t0 else 0\n",
    "        uTraj = lambda t: yd * a / b if t > t0 else 0\n",
    "    else:\n",
    "        yr = lambda t: yd * (3 * (t - t0) ** 2 / dt ** 2 - 2 * (t - t0) ** 3 / dt ** 3) if t0 <= t <= t0 + dt else 0 if t < t0 else yd \n",
    "        dyr = lambda t: yd * (6 * (t - t0) / dt ** 2 - 6 * (t - t0) ** 2 / dt ** 3) if t0 < t < t0 + dt else 0\n",
    "        uTraj = lambda t: 1 / b * (dyr(t) + a * yr(t))\n",
    "    \n",
    "    res = solve_ivp(prozess,\n",
    "                    [tSim[0], tSim[-1]],\n",
    "                    x0,\n",
    "                    t_eval=tSim, args=(uTraj, a, b))\n",
    "    \n",
    "    uSys.set_data(tSim, [uTraj(t) for t in tSim])\n",
    "    ySys.set_data(tSim, res.y.T[:, 0])\n",
    "    yRefSys.set_data(tSim, [yr(t) for t in tSim])\n",
    "    fig.canvas.draw()\n",
    "\n",
    "sliderA.observe(calcSystem, names='value')\n",
    "sliderB.observe(calcSystem, names='value')\n",
    "\n",
    "sliderDt.observe(calcSystem, names='value')\n",
    "sliderYd.observe(calcSystem, names='value')\n",
    "radioU.observe(calcSystem, names='value')\n",
    "\n",
    "calcSystem(_)\n",
    "\n",
    "ffControls = VBox([sliderYd, sliderDt])\n",
    "ffControls.layout = make_box_layout()\n",
    "sysControls = VBox([sliderA, sliderB])\n",
    "sysControls.layout = make_box_layout()\n",
    "inputControls = Box([radioU])\n",
    "inputControls.layout = make_box_layout()\n",
    "\n",
    "controls = HBox([sysControls, inputControls, ffControls])\n",
    "VBox([controls, output], layout=Layout(display='flex', flex_flow='row', justify_content='center', align_items='center'))"
   ]
  },
  {
   "cell_type": "code",
   "execution_count": null,
   "id": "3c7c877d",
   "metadata": {},
   "outputs": [],
   "source": []
  }
 ],
 "metadata": {
  "kernelspec": {
   "display_name": "Python 3",
   "language": "python",
   "name": "python3"
  },
  "language_info": {
   "codemirror_mode": {
    "name": "ipython",
    "version": 3
   },
   "file_extension": ".py",
   "mimetype": "text/x-python",
   "name": "python",
   "nbconvert_exporter": "python",
   "pygments_lexer": "ipython3",
   "version": "3.10.8"
  },
  "latex_envs": {
   "LaTeX_envs_menu_present": true,
   "autoclose": false,
   "autocomplete": true,
   "bibliofile": "sources.bib",
   "cite_by": "apalike",
   "current_citInitial": 1,
   "eqLabelWithNumbers": true,
   "eqNumInitial": 1,
   "hotkeys": {
    "equation": "Ctrl-E",
    "itemize": "Ctrl-I"
   },
   "labels_anchors": false,
   "latex_user_defs": false,
   "report_style_numbering": false,
   "user_envs_cfg": false
  }
 },
 "nbformat": 4,
 "nbformat_minor": 5
}
